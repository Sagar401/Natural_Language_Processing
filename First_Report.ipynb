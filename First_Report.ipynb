{
  "nbformat": 4,
  "nbformat_minor": 0,
  "metadata": {
    "colab": {
      "name": "First Report.ipynb",
      "provenance": [],
      "include_colab_link": true
    },
    "kernelspec": {
      "name": "python3",
      "display_name": "Python 3"
    }
  },
  "cells": [
    {
      "cell_type": "markdown",
      "metadata": {
        "id": "view-in-github",
        "colab_type": "text"
      },
      "source": [
        "<a href=\"https://colab.research.google.com/github/khaophuthaipch/Natural_Language_Processing/blob/Initial-report/First_Report.ipynb\" target=\"_parent\"><img src=\"https://colab.research.google.com/assets/colab-badge.svg\" alt=\"Open In Colab\"/></a>"
      ]
    },
    {
      "cell_type": "markdown",
      "metadata": {
        "id": "9Q-wKtTDUSol",
        "colab_type": "text"
      },
      "source": [
        "# **Team: Sagar Daswani and Pimchanok Khaoputhai**\n",
        "# **EAI6000 - Foundations of AI**\n",
        "\n",
        "# Final Project\n",
        "## Initial report"
      ]
    },
    {
      "cell_type": "markdown",
      "metadata": {
        "id": "VR28ZsuStmN9",
        "colab_type": "text"
      },
      "source": [
        "#**Real or Not? Binary Classification of Disaster Tweets**\n",
        "Kaggle Competition\n",
        "\n",
        "Nowadays, social media has become a part of our daily life. People are sharing their experience and communicate to the public through platform like Facebook and Twitter. Sometimes, these channels are used for sharing emergency matters and news. However, the problem relies on whether the message posted is real. This project is focusing on detecting if a post on Twitter about disaster is a real event.\n",
        "\n",
        "The dataset contains 10,000 tweets with hand classified."
      ]
    },
    {
      "cell_type": "code",
      "metadata": {
        "id": "SVe3Wea9W8Fe",
        "colab_type": "code",
        "colab": {
          "base_uri": "https://localhost:8080/",
          "height": 34
        },
        "outputId": "9f645983-e213-4d6c-f87b-8f2c48eaadeb"
      },
      "source": [
        "# Run this to ensure TensorFlow 2.x is used\n",
        "try:\n",
        "  # %tensorflow_version only exists in Colab.\n",
        "  %tensorflow_version 2.x\n",
        "except Exception:\n",
        "  pass"
      ],
      "execution_count": 1,
      "outputs": [
        {
          "output_type": "stream",
          "text": [
            "TensorFlow 2.x selected.\n"
          ],
          "name": "stdout"
        }
      ]
    },
    {
      "cell_type": "code",
      "metadata": {
        "id": "1HZiYg65XFh8",
        "colab_type": "code",
        "colab": {}
      },
      "source": [
        "import tensorflow as tf\n",
        "from tensorflow import keras\n",
        "from tensorflow.keras.preprocessing.text import Tokenizer\n",
        "import pandas as pd\n",
        "from tensorflow.keras.preprocessing.sequence import pad_sequences"
      ],
      "execution_count": 0,
      "outputs": []
    },
    {
      "cell_type": "code",
      "metadata": {
        "id": "LjzRX-niUNyM",
        "colab_type": "code",
        "colab": {}
      },
      "source": [
        "import pandas as pd\n",
        "import numpy as np\n",
        "from nltk.tokenize import word_tokenize\n",
        "import re\n",
        "import string\n",
        "import nltk\n",
        "from nltk.corpus import stopwords\n",
        "\n",
        "# XGBoost\n",
        "import xgboost as xgb\n",
        "from xgboost import XGBClassifier\n",
        "\n",
        "# sklearn \n",
        "from sklearn.feature_extraction.text import CountVectorizer,TfidfVectorizer\n",
        "from sklearn.linear_model import LogisticRegression\n",
        "from sklearn.metrics import f1_score\n",
        "from sklearn import preprocessing, decomposition, model_selection, metrics, pipeline\n",
        "from sklearn.model_selection import GridSearchCV, StratifiedKFold, RandomizedSearchCV, train_test_split, cross_validate\n",
        "  "
      ],
      "execution_count": 0,
      "outputs": []
    },
    {
      "cell_type": "markdown",
      "metadata": {
        "id": "VMNsPQOe3696",
        "colab_type": "text"
      },
      "source": [
        "## Get the Dataset from Kaggle API\n",
        "*   Set up the API\n",
        "*   Download data using !kaggle competitions\n",
        "*   Import data\n",
        "\n",
        "\n",
        "\n",
        "\n"
      ]
    },
    {
      "cell_type": "code",
      "metadata": {
        "id": "2c5-X7QE3U0m",
        "colab_type": "code",
        "colab": {
          "base_uri": "https://localhost:8080/",
          "height": 34
        },
        "outputId": "648c1b7f-2d53-4226-f3f0-5746c3434545"
      },
      "source": [
        "! pip install -q kaggle\n",
        "! mkdir .kaggle"
      ],
      "execution_count": 18,
      "outputs": [
        {
          "output_type": "stream",
          "text": [
            "mkdir: cannot create directory ‘.kaggle’: File exists\n"
          ],
          "name": "stdout"
        }
      ]
    },
    {
      "cell_type": "code",
      "metadata": {
        "id": "vGkCISm63rjA",
        "colab_type": "code",
        "colab": {
          "base_uri": "https://localhost:8080/",
          "height": 425
        },
        "outputId": "ac70afa7-926f-4329-8570-4596e8d9beb8"
      },
      "source": [
        "import json\n",
        "token = {\"username\":\"khaophuthaipkt\",\"key\":\"742f0323b5693f569538176eceaa4d80\"}\n",
        "with open(\"/content/.kaggle/kaggle.json\", \"w\") as file:\n",
        "    json.dump(token, file)\n",
        "\n",
        "! cp /content/.kaggle/kaggle.json ~/.kaggle/kaggle.json\n",
        "! kaggle config set -n path -v{/content}\n",
        "! chmod 600 ~/.kaggle/kaggle.json\n",
        "! kaggle datasets list"
      ],
      "execution_count": 19,
      "outputs": [
        {
          "output_type": "stream",
          "text": [
            "- path is now set to: {/content}\n",
            "Warning: Looks like you're using an outdated API Version, please consider updating (server 1.5.6 / client 1.5.4)\n",
            "ref                                                         title                                                size  lastUpdated          downloadCount  \n",
            "----------------------------------------------------------  --------------------------------------------------  -----  -------------------  -------------  \n",
            "sudalairajkumar/novel-corona-virus-2019-dataset             Novel Corona Virus 2019 Dataset                     361KB  2020-03-16 04:41:05          48539  \n",
            "kimjihoo/coronavirusdataset                                 Coronavirus-Dataset                                  32KB  2020-03-13 13:48:11          15112  \n",
            "shivamb/real-or-fake-fake-jobposting-prediction             [Real or Fake] Fake JobPosting Prediction            16MB  2020-02-29 08:23:34           1556  \n",
            "imdevskp/sars-outbreak-2003-complete-dataset                SARS 2003 Outbreak Complete Dataset                  10KB  2020-02-26 10:25:22           1376  \n",
            "imdevskp/ebola-outbreak-20142016-complete-dataset           Ebola 2014-2016 Outbreak Complete Dataset           101KB  2020-02-26 14:36:31           1299  \n",
            "brunotly/foreign-exchange-rates-per-dollar-20002019         Foreign Exchange Rates 2000-2019                      1MB  2020-03-03 17:43:07           1190  \n",
            "prakrutchauhan/indian-candidates-for-general-election-2019  Indian Candidates for General Election 2019         133KB  2020-03-03 07:01:53            805  \n",
            "gpiosenka/100-bird-species                                  150 Bird Species                                    946MB  2020-03-15 23:17:43            684  \n",
            "shank885/knife-dataset                                      Knife Dataset                                         1MB  2020-03-02 06:43:53            282  \n",
            "rupals/gpu-runtime                                          Segmentation on GPU Kernel Performance Dataset        4MB  2020-03-01 10:04:27            187  \n",
            "paultimothymooney/repository-of-coronavirus-genomes         Repository of Coronavirus Genomes                    37MB  2020-03-03 02:01:34            155  \n",
            "umangjpatel/pap-smear-datasets                              Pap Smear Datasets                                    6GB  2020-03-07 11:04:23            183  \n",
            "paultimothymooney/coronavirus-genome-sequence               Coronavirus Genome Sequence                           9MB  2020-02-29 00:25:13            268  \n",
            "jessemostipak/hotel-booking-demand                          Hotel booking demand                                  1MB  2020-02-13 01:27:20           8577  \n",
            "tunguz/big-five-personality-test                            Big Five Personality Test                           159MB  2020-02-17 15:59:37           2599  \n",
            "timoboz/data-science-cheat-sheets                           Data Science Cheat Sheets                           596MB  2020-02-04 19:42:27           4740  \n",
            "arindam235/startup-investments-crunchbase                   StartUp Investments (Crunchbase)                      3MB  2020-02-17 21:54:42           2028  \n",
            "timoboz/tesla-stock-data-from-2010-to-2020                  Tesla stock data from 2010 to 2020                   46KB  2020-02-04 17:15:32           2595  \n",
            "brendaso/2019-coronavirus-dataset-01212020-01262020         2019 Coronavirus dataset (January - February 2020)   53KB  2020-02-06 18:09:28           8559  \n",
            "timoboz/python-data-science-handbook                        Python Data Science Handbook                         15MB  2020-02-04 18:27:14           1236  \n"
          ],
          "name": "stdout"
        }
      ]
    },
    {
      "cell_type": "code",
      "metadata": {
        "id": "oRPx6cvo4Deg",
        "colab_type": "code",
        "colab": {
          "base_uri": "https://localhost:8080/",
          "height": 85
        },
        "outputId": "8b5d789c-8b02-41f5-a91a-5ba9b6f361e6"
      },
      "source": [
        "! kaggle competitions download -c nlp-getting-started"
      ],
      "execution_count": 20,
      "outputs": [
        {
          "output_type": "stream",
          "text": [
            "Warning: Looks like you're using an outdated API Version, please consider updating (server 1.5.6 / client 1.5.4)\n",
            "sample_submission.csv: Skipping, found more recently modified local copy (use --force to force download)\n",
            "test.csv: Skipping, found more recently modified local copy (use --force to force download)\n",
            "train.csv: Skipping, found more recently modified local copy (use --force to force download)\n"
          ],
          "name": "stdout"
        }
      ]
    },
    {
      "cell_type": "code",
      "metadata": {
        "id": "rilMQ9Aqt_W9",
        "colab_type": "code",
        "colab": {}
      },
      "source": [
        "# import the data\n",
        "train_df = pd.read_csv(\"train.csv\")\n",
        "test_df = pd.read_csv(\"test.csv\")"
      ],
      "execution_count": 0,
      "outputs": []
    },
    {
      "cell_type": "code",
      "metadata": {
        "id": "FmbBWFm9uBd0",
        "colab_type": "code",
        "outputId": "6e3fc7f3-7b7d-49ec-c931-35c47ce920f2",
        "colab": {
          "base_uri": "https://localhost:8080/",
          "height": 204
        }
      },
      "source": [
        "#Looking at first few rows of dataset\n",
        "train_df.head()"
      ],
      "execution_count": 22,
      "outputs": [
        {
          "output_type": "execute_result",
          "data": {
            "text/html": [
              "<div>\n",
              "<style scoped>\n",
              "    .dataframe tbody tr th:only-of-type {\n",
              "        vertical-align: middle;\n",
              "    }\n",
              "\n",
              "    .dataframe tbody tr th {\n",
              "        vertical-align: top;\n",
              "    }\n",
              "\n",
              "    .dataframe thead th {\n",
              "        text-align: right;\n",
              "    }\n",
              "</style>\n",
              "<table border=\"1\" class=\"dataframe\">\n",
              "  <thead>\n",
              "    <tr style=\"text-align: right;\">\n",
              "      <th></th>\n",
              "      <th>id</th>\n",
              "      <th>keyword</th>\n",
              "      <th>location</th>\n",
              "      <th>text</th>\n",
              "      <th>target</th>\n",
              "    </tr>\n",
              "  </thead>\n",
              "  <tbody>\n",
              "    <tr>\n",
              "      <th>0</th>\n",
              "      <td>1</td>\n",
              "      <td>NaN</td>\n",
              "      <td>NaN</td>\n",
              "      <td>Our Deeds are the Reason of this #earthquake M...</td>\n",
              "      <td>1</td>\n",
              "    </tr>\n",
              "    <tr>\n",
              "      <th>1</th>\n",
              "      <td>4</td>\n",
              "      <td>NaN</td>\n",
              "      <td>NaN</td>\n",
              "      <td>Forest fire near La Ronge Sask. Canada</td>\n",
              "      <td>1</td>\n",
              "    </tr>\n",
              "    <tr>\n",
              "      <th>2</th>\n",
              "      <td>5</td>\n",
              "      <td>NaN</td>\n",
              "      <td>NaN</td>\n",
              "      <td>All residents asked to 'shelter in place' are ...</td>\n",
              "      <td>1</td>\n",
              "    </tr>\n",
              "    <tr>\n",
              "      <th>3</th>\n",
              "      <td>6</td>\n",
              "      <td>NaN</td>\n",
              "      <td>NaN</td>\n",
              "      <td>13,000 people receive #wildfires evacuation or...</td>\n",
              "      <td>1</td>\n",
              "    </tr>\n",
              "    <tr>\n",
              "      <th>4</th>\n",
              "      <td>7</td>\n",
              "      <td>NaN</td>\n",
              "      <td>NaN</td>\n",
              "      <td>Just got sent this photo from Ruby #Alaska as ...</td>\n",
              "      <td>1</td>\n",
              "    </tr>\n",
              "  </tbody>\n",
              "</table>\n",
              "</div>"
            ],
            "text/plain": [
              "   id keyword  ...                                               text target\n",
              "0   1     NaN  ...  Our Deeds are the Reason of this #earthquake M...      1\n",
              "1   4     NaN  ...             Forest fire near La Ronge Sask. Canada      1\n",
              "2   5     NaN  ...  All residents asked to 'shelter in place' are ...      1\n",
              "3   6     NaN  ...  13,000 people receive #wildfires evacuation or...      1\n",
              "4   7     NaN  ...  Just got sent this photo from Ruby #Alaska as ...      1\n",
              "\n",
              "[5 rows x 5 columns]"
            ]
          },
          "metadata": {
            "tags": []
          },
          "execution_count": 22
        }
      ]
    },
    {
      "cell_type": "code",
      "metadata": {
        "id": "PMmLGqsDuDEU",
        "colab_type": "code",
        "outputId": "7695e8a0-5402-466a-d077-0d5692e23c86",
        "colab": {
          "base_uri": "https://localhost:8080/",
          "height": 51
        }
      },
      "source": [
        "print(\"Training Dataset Size:\",train_df.shape)\n",
        "print(\"Test Dataset Size:\",test_df.shape)"
      ],
      "execution_count": 23,
      "outputs": [
        {
          "output_type": "stream",
          "text": [
            "Training Dataset Size: (7613, 5)\n",
            "Test Dataset Size: (3263, 4)\n"
          ],
          "name": "stdout"
        }
      ]
    },
    {
      "cell_type": "code",
      "metadata": {
        "id": "_5puA8HnuFDU",
        "colab_type": "code",
        "outputId": "d96093d9-c509-4d9a-d24b-eb7bea4465ff",
        "colab": {
          "base_uri": "https://localhost:8080/",
          "height": 119
        }
      },
      "source": [
        "#missing values in training dataset\n",
        "train_df.isnull().sum()"
      ],
      "execution_count": 24,
      "outputs": [
        {
          "output_type": "execute_result",
          "data": {
            "text/plain": [
              "id             0\n",
              "keyword       61\n",
              "location    2533\n",
              "text           0\n",
              "target         0\n",
              "dtype: int64"
            ]
          },
          "metadata": {
            "tags": []
          },
          "execution_count": 24
        }
      ]
    },
    {
      "cell_type": "code",
      "metadata": {
        "id": "TzEnZKCguHLE",
        "colab_type": "code",
        "outputId": "fb94a855-7179-4ba2-d9f4-4449dbe13639",
        "colab": {
          "base_uri": "https://localhost:8080/",
          "height": 68
        }
      },
      "source": [
        "train_df['target'].value_counts()"
      ],
      "execution_count": 25,
      "outputs": [
        {
          "output_type": "execute_result",
          "data": {
            "text/plain": [
              "0    4342\n",
              "1    3271\n",
              "Name: target, dtype: int64"
            ]
          },
          "metadata": {
            "tags": []
          },
          "execution_count": 25
        }
      ]
    },
    {
      "cell_type": "code",
      "metadata": {
        "id": "lummXhqHuJKs",
        "colab_type": "code",
        "outputId": "88b5d2ed-6382-4c0d-df9d-1131fd54b90c",
        "colab": {
          "base_uri": "https://localhost:8080/",
          "height": 221
        }
      },
      "source": [
        "#exlporing location column\n",
        "train_df['location'].value_counts()"
      ],
      "execution_count": 26,
      "outputs": [
        {
          "output_type": "execute_result",
          "data": {
            "text/plain": [
              "USA                        104\n",
              "New York                    71\n",
              "United States               50\n",
              "London                      45\n",
              "Canada                      29\n",
              "                          ... \n",
              "Charlotte, N.C.              1\n",
              "EspÌ_rito Santo              1\n",
              "Azeroth                      1\n",
              "ÌÏT: 1.50225,103.742992      1\n",
              "Estados Unidos               1\n",
              "Name: location, Length: 3341, dtype: int64"
            ]
          },
          "metadata": {
            "tags": []
          },
          "execution_count": 26
        }
      ]
    },
    {
      "cell_type": "markdown",
      "metadata": {
        "id": "AJcyF8xIuOlq",
        "colab_type": "text"
      },
      "source": [
        "##**Data Cleaning**\n",
        "\n",
        "\n",
        "*   Making all uppercase to lowercase\n",
        "*   Removing noise from tweets\n",
        "\n",
        "  *   URLs\n",
        "  *   HTML tags\n",
        "  *   emogis\n",
        "  *   Punctuation\n",
        "  *   New-Line\n",
        "  *   Removing Digits\n",
        "*   Tokenization: Converting normal text string into a list of tokens/words\n",
        "*   Stopwords removal (optional)\n"
      ]
    },
    {
      "cell_type": "code",
      "metadata": {
        "id": "nqTR5FZZuKwj",
        "colab_type": "code",
        "colab": {}
      },
      "source": [
        "#function to remove noise from text\n",
        "def clean_text(text):\n",
        "    text = text.lower() #convert to lowercase to maintain standard flow between text\n",
        "    text = re.sub('\\[.*?\\]', '', text) #removing text in square brackets\n",
        "    text = re.sub('https?://\\S+|www\\.\\S+', '', text) #removing url\n",
        "    text = re.sub('<.*?>+', '', text) #removing html tags\n",
        "    text = re.sub('[%s]' % re.escape(string.punctuation), '', text) #removing puntuations\n",
        "    text = re.sub('\\n', '', text)#removing new line from the text field\n",
        "    text = re.sub('\\w*\\d\\w*', '', text) #removing digits from the string\n",
        "    return text\n",
        "\n",
        "train_df['text'] = train_df['text'].apply(lambda x : clean_text(x))\n",
        "test_df['text'] = test_df['text'].apply(lambda x : clean_text(x))"
      ],
      "execution_count": 0,
      "outputs": []
    },
    {
      "cell_type": "code",
      "metadata": {
        "id": "t7pqPAZ0uTqU",
        "colab_type": "code",
        "colab": {}
      },
      "source": [
        "#function to remove emoji's\n",
        "def remove_emoji(text):\n",
        "    emoji_pattern = re.compile(\"[\"\n",
        "                           u\"\\U0001F600-\\U0001F64F\"  # emoticons\n",
        "                           u\"\\U0001F300-\\U0001F5FF\"  # symbols & pictographs\n",
        "                           u\"\\U0001F680-\\U0001F6FF\"  # transport & map symbols\n",
        "                           u\"\\U0001F1E0-\\U0001F1FF\"  # flags (iOS)\n",
        "                           u\"\\U00002702-\\U000027B0\"\n",
        "                           u\"\\U000024C2-\\U0001F251\"\n",
        "                            \"]+\", flags=re.UNICODE)\n",
        "    return emoji_pattern.sub(r'', text)\n",
        "\n",
        "train_df['text']=train_df['text'].apply(lambda x: remove_emoji(x))\n",
        "test_df['text']=test_df['text'].apply(lambda x: remove_emoji(x))"
      ],
      "execution_count": 0,
      "outputs": []
    },
    {
      "cell_type": "code",
      "metadata": {
        "id": "anhmAEpLuUjs",
        "colab_type": "code",
        "colab": {}
      },
      "source": [
        "#adding new column with the count of words in a single row\n",
        "train_df['word_count'] = train_df['text'].str.split().map(len)\n",
        "\n",
        "#only using the rows with word count more than 0\n",
        "train_df = train_df[train_df['word_count'] > 0]\n",
        "\n",
        "#moving forward with 2 column from dataset , i.e., text and target\n",
        "train_df = train_df[[\"text\",\"target\"]]\n",
        "test_df = test_df[[\"text\"]]"
      ],
      "execution_count": 0,
      "outputs": []
    },
    {
      "cell_type": "markdown",
      "metadata": {
        "id": "P62iFHyaB8_2",
        "colab_type": "text"
      },
      "source": [
        "## **Data Preprocessing**\n",
        "\n",
        "*   One Hot coding\n",
        "*   Word Embedding\n",
        "\n"
      ]
    },
    {
      "cell_type": "code",
      "metadata": {
        "id": "IUbhPYIX8TJm",
        "colab_type": "code",
        "colab": {}
      },
      "source": [
        "# Split train dataset for cross validation and create token\n",
        "training_sentences = [ i for i in train_df.text[:6000]]\n",
        "test_sentences = [i for i in train_df.text[6000:]]\n",
        "                  \n",
        "training_labels = [ i for i in train_df.target[:6000]]\n",
        "test_labels = [i for i in train_df.target[6000:]]\n",
        "\n",
        "tokenizer = Tokenizer(num_words=10000,oov_token=\"<OOV>\")\n",
        "tokenizer.fit_on_texts(training_sentences)\n",
        "word_index = tokenizer.word_index"
      ],
      "execution_count": 0,
      "outputs": []
    },
    {
      "cell_type": "code",
      "metadata": {
        "id": "UeylUeg0M54L",
        "colab_type": "code",
        "colab": {}
      },
      "source": [
        "# Encode sentences \n",
        "training_sequences = tokenizer.texts_to_sequences(training_sentences)\n",
        "test_sequences = tokenizer.texts_to_sequences(test_sentences)\n",
        "\n",
        "# Padding\n",
        "training_padded = pad_sequences(training_sequences,padding='post')\n",
        "test_padded = pad_sequences(test_sequences,padding='post')"
      ],
      "execution_count": 0,
      "outputs": []
    },
    {
      "cell_type": "code",
      "metadata": {
        "id": "koXskAt0MrwC",
        "colab_type": "code",
        "colab": {
          "base_uri": "https://localhost:8080/",
          "height": 34
        },
        "outputId": "c45129ae-bc56-460c-f922-2ec1358a100c"
      },
      "source": [
        "# From index to sentence\n",
        "reverse_word_index = dict([(value, key) for (key, value) in word_index.items()])\n",
        "print(\"Original review: \", ' '.join([reverse_word_index.get(i, '?') for i in training_sequences[0]]))"
      ],
      "execution_count": 59,
      "outputs": [
        {
          "output_type": "stream",
          "text": [
            "Original review:  our deeds are the reason of this earthquake may allah forgive us all\n"
          ],
          "name": "stdout"
        }
      ]
    },
    {
      "cell_type": "code",
      "metadata": {
        "id": "jhaZr7oJNpAq",
        "colab_type": "code",
        "colab": {}
      },
      "source": [
        "# Custom implementation of one-hot-encoding\n",
        "def vectorize_sequences(sequences, dimension=10000):\n",
        "    results = np.zeros((len(sequences), dimension))\n",
        "    for i, sequence in enumerate(sequences):\n",
        "        results[i, sequence] = 1.  # set specific indices of results[i] to 1s\n",
        "    return results"
      ],
      "execution_count": 0,
      "outputs": []
    },
    {
      "cell_type": "code",
      "metadata": {
        "id": "MUBellMpOEkq",
        "colab_type": "code",
        "colab": {}
      },
      "source": [
        "x_train = vectorize_sequences(training_sequences, dimension=len(word_index))\n",
        "x_test = vectorize_sequences(test_sequences, dimension=len(word_index))\n",
        "y_train = np.asarray(training_labels).astype('float32')\n",
        "y_test = np.asarray(test_labels).astype('float32')"
      ],
      "execution_count": 0,
      "outputs": []
    },
    {
      "cell_type": "markdown",
      "metadata": {
        "id": "lXfWhh4-AaFR",
        "colab_type": "text"
      },
      "source": [
        "## **Linear Model**\n"
      ]
    },
    {
      "cell_type": "code",
      "metadata": {
        "id": "ONs1MeWLAi-i",
        "colab_type": "code",
        "colab": {
          "base_uri": "https://localhost:8080/",
          "height": 85
        },
        "outputId": "86f5ca00-64d7-4800-83c9-3dffd1680067"
      },
      "source": [
        "logreg = LogisticRegression()\n",
        "logreg_scores = cross_validate(logreg, x_train, y_train, cv=5, scoring=\"f1\", n_jobs=-1, return_train_score=True)\n",
        "logreg_scores"
      ],
      "execution_count": 37,
      "outputs": [
        {
          "output_type": "execute_result",
          "data": {
            "text/plain": [
              "{'fit_time': array([16.95648885, 18.67051125, 16.7506721 , 15.47155547,  9.49267507]),\n",
              " 'score_time': array([0.05412912, 0.05306911, 0.05234575, 0.0608325 , 0.02713585]),\n",
              " 'test_score': array([0.63461538, 0.52548131, 0.57266811, 0.6       , 0.63255814]),\n",
              " 'train_score': array([0.93604951, 0.93555841, 0.93666323, 0.94374518, 0.93978991])}"
            ]
          },
          "metadata": {
            "tags": []
          },
          "execution_count": 37
        }
      ]
    },
    {
      "cell_type": "markdown",
      "metadata": {
        "id": "UK7oKVHHWfwC",
        "colab_type": "text"
      },
      "source": [
        "## **Building the Neural Network with vectorized feature**"
      ]
    },
    {
      "cell_type": "code",
      "metadata": {
        "id": "rlrGUioGWrSP",
        "colab_type": "code",
        "colab": {}
      },
      "source": [
        "model = tf.keras.Sequential()\n",
        "model.add(tf.keras.layers.Dense(16, activation='relu', input_shape=(len(word_index),)))\n",
        "model.add(tf.keras.layers.Dense(16, activation='relu'))\n",
        "model.add(tf.keras.layers.Dense(1, activation='sigmoid'))\n",
        "\n",
        "model.compile(optimizer='rmsprop',\n",
        "              loss='binary_crossentropy',\n",
        "              metrics=['accuracy'])"
      ],
      "execution_count": 0,
      "outputs": []
    },
    {
      "cell_type": "code",
      "metadata": {
        "id": "5DnrSdBYX75G",
        "colab_type": "code",
        "colab": {
          "base_uri": "https://localhost:8080/",
          "height": 714
        },
        "outputId": "11d6f9db-aa12-42fa-f376-ca96e5770453"
      },
      "source": [
        "history = model.fit(x_train, y_train,\n",
        "                    epochs=20, batch_size=512, verbose=2,\n",
        "                    validation_data=(x_test, y_test))"
      ],
      "execution_count": 41,
      "outputs": [
        {
          "output_type": "stream",
          "text": [
            "Train on 6000 samples, validate on 1612 samples\n",
            "Epoch 1/20\n",
            "6000/6000 - 2s - loss: 0.6765 - accuracy: 0.6907 - val_loss: 0.6581 - val_accuracy: 0.7525\n",
            "Epoch 2/20\n",
            "6000/6000 - 1s - loss: 0.6165 - accuracy: 0.8330 - val_loss: 0.6160 - val_accuracy: 0.7506\n",
            "Epoch 3/20\n",
            "6000/6000 - 1s - loss: 0.5536 - accuracy: 0.8542 - val_loss: 0.5787 - val_accuracy: 0.7612\n",
            "Epoch 4/20\n",
            "6000/6000 - 1s - loss: 0.4949 - accuracy: 0.8725 - val_loss: 0.5462 - val_accuracy: 0.7779\n",
            "Epoch 5/20\n",
            "6000/6000 - 1s - loss: 0.4427 - accuracy: 0.8808 - val_loss: 0.5208 - val_accuracy: 0.7816\n",
            "Epoch 6/20\n",
            "6000/6000 - 1s - loss: 0.3963 - accuracy: 0.8878 - val_loss: 0.5012 - val_accuracy: 0.7816\n",
            "Epoch 7/20\n",
            "6000/6000 - 1s - loss: 0.3556 - accuracy: 0.8973 - val_loss: 0.4883 - val_accuracy: 0.7798\n",
            "Epoch 8/20\n",
            "6000/6000 - 1s - loss: 0.3208 - accuracy: 0.9068 - val_loss: 0.4793 - val_accuracy: 0.7792\n",
            "Epoch 9/20\n",
            "6000/6000 - 1s - loss: 0.2905 - accuracy: 0.9157 - val_loss: 0.4765 - val_accuracy: 0.7730\n",
            "Epoch 10/20\n",
            "6000/6000 - 1s - loss: 0.2642 - accuracy: 0.9218 - val_loss: 0.4727 - val_accuracy: 0.7785\n",
            "Epoch 11/20\n",
            "6000/6000 - 1s - loss: 0.2407 - accuracy: 0.9280 - val_loss: 0.4772 - val_accuracy: 0.7773\n",
            "Epoch 12/20\n",
            "6000/6000 - 1s - loss: 0.2199 - accuracy: 0.9345 - val_loss: 0.4811 - val_accuracy: 0.7779\n",
            "Epoch 13/20\n",
            "6000/6000 - 1s - loss: 0.2017 - accuracy: 0.9378 - val_loss: 0.4925 - val_accuracy: 0.7717\n",
            "Epoch 14/20\n",
            "6000/6000 - 1s - loss: 0.1848 - accuracy: 0.9418 - val_loss: 0.4985 - val_accuracy: 0.7736\n",
            "Epoch 15/20\n",
            "6000/6000 - 1s - loss: 0.1699 - accuracy: 0.9457 - val_loss: 0.5199 - val_accuracy: 0.7649\n",
            "Epoch 16/20\n",
            "6000/6000 - 1s - loss: 0.1562 - accuracy: 0.9507 - val_loss: 0.5314 - val_accuracy: 0.7674\n",
            "Epoch 17/20\n",
            "6000/6000 - 1s - loss: 0.1440 - accuracy: 0.9543 - val_loss: 0.5485 - val_accuracy: 0.7612\n",
            "Epoch 18/20\n",
            "6000/6000 - 1s - loss: 0.1328 - accuracy: 0.9585 - val_loss: 0.5700 - val_accuracy: 0.7562\n",
            "Epoch 19/20\n",
            "6000/6000 - 1s - loss: 0.1231 - accuracy: 0.9615 - val_loss: 0.5900 - val_accuracy: 0.7581\n",
            "Epoch 20/20\n",
            "6000/6000 - 1s - loss: 0.1137 - accuracy: 0.9645 - val_loss: 0.6236 - val_accuracy: 0.7587\n"
          ],
          "name": "stdout"
        }
      ]
    },
    {
      "cell_type": "code",
      "metadata": {
        "id": "8-UuXCtNYJc_",
        "colab_type": "code",
        "colab": {
          "base_uri": "https://localhost:8080/",
          "height": 369
        },
        "outputId": "c31509d1-2d61-44e3-e1a9-f7542e8d67fc"
      },
      "source": [
        "import matplotlib.pyplot as plt\n",
        "fig = plt.figure(figsize=(10,5))\n",
        "plt.subplot(2,1,1)\n",
        "plt.plot(history.history['accuracy'])\n",
        "plt.plot(history.history['val_accuracy'])\n",
        "plt.title('model accuracy')\n",
        "plt.ylabel('accuracy')\n",
        "plt.xlabel('epoch')\n",
        "plt.legend(['train', 'test'], loc='lower right')\n",
        "\n",
        "plt.subplot(2,1,2)\n",
        "plt.plot(history.history['loss'])\n",
        "plt.plot(history.history['val_loss'])\n",
        "plt.title('model loss')\n",
        "plt.ylabel('loss')\n",
        "plt.xlabel('epoch')\n",
        "plt.legend(['train', 'test'], loc='upper right')\n",
        "\n",
        "plt.tight_layout()"
      ],
      "execution_count": 43,
      "outputs": [
        {
          "output_type": "display_data",
          "data": {
            "image/png": "[encoded data removed]",
            "text/plain": [
              "<Figure size 720x360 with 2 Axes>"
            ]
          },
          "metadata": {
            "tags": []
          }
        }
      ]
    },
    {
      "cell_type": "markdown",
      "metadata": {
        "colab_type": "text",
        "id": "XUkjWqm7V8RO"
      },
      "source": [
        "## **Word Embedding** \n",
        "Tensorflow model\n"
      ]
    },
    {
      "cell_type": "code",
      "metadata": {
        "id": "Nd21kWvxu-Il",
        "colab_type": "code",
        "colab": {}
      },
      "source": [
        "model = tf.keras.Sequential([\n",
        "    tf.keras.layers.Embedding(len(word_index), 32),\n",
        "    tf.keras.layers.GlobalAveragePooling1D(),\n",
        "    tf.keras.layers.Dense(32, activation='relu'),\n",
        "    tf.keras.layers.Dense(16,activation='relu'),\n",
        "    tf.keras.layers.Dense(1, activation='sigmoid')\n",
        "])\n",
        "model.compile(loss='binary_crossentropy',optimizer='rmsprop',metrics=['accuracy'])"
      ],
      "execution_count": 0,
      "outputs": []
    },
    {
      "cell_type": "code",
      "metadata": {
        "id": "JzjfPCQdvAoD",
        "colab_type": "code",
        "outputId": "f7976769-8ce9-475c-d8ff-ddc491c1fa8f",
        "colab": {
          "base_uri": "https://localhost:8080/",
          "height": 323
        }
      },
      "source": [
        "model.summary()"
      ],
      "execution_count": 81,
      "outputs": [
        {
          "output_type": "stream",
          "text": [
            "Model: \"sequential_8\"\n",
            "_________________________________________________________________\n",
            "Layer (type)                 Output Shape              Param #   \n",
            "=================================================================\n",
            "embedding_6 (Embedding)      (None, None, 32)          458080    \n",
            "_________________________________________________________________\n",
            "global_average_pooling1d_6 ( (None, 32)                0         \n",
            "_________________________________________________________________\n",
            "dense_18 (Dense)             (None, 32)                1056      \n",
            "_________________________________________________________________\n",
            "dense_19 (Dense)             (None, 16)                528       \n",
            "_________________________________________________________________\n",
            "dense_20 (Dense)             (None, 1)                 17        \n",
            "=================================================================\n",
            "Total params: 459,681\n",
            "Trainable params: 459,681\n",
            "Non-trainable params: 0\n",
            "_________________________________________________________________\n"
          ],
          "name": "stdout"
        }
      ]
    },
    {
      "cell_type": "code",
      "metadata": {
        "id": "I2EgVo7GvCMz",
        "colab_type": "code",
        "outputId": "e6f56e43-ff2e-43a5-987c-8a76bbd8f0ad",
        "colab": {
          "base_uri": "https://localhost:8080/",
          "height": 714
        }
      },
      "source": [
        "num_epochs = 20\n",
        "history = model.fit(training_padded, training_labels, epochs=num_epochs, validation_data=(test_padded, test_labels), verbose=2)"
      ],
      "execution_count": 82,
      "outputs": [
        {
          "output_type": "stream",
          "text": [
            "Train on 6000 samples, validate on 1612 samples\n",
            "Epoch 1/20\n",
            "6000/6000 - 1s - loss: 0.6584 - accuracy: 0.6065 - val_loss: 0.6350 - val_accuracy: 0.5993\n",
            "Epoch 2/20\n",
            "6000/6000 - 1s - loss: 0.5214 - accuracy: 0.7758 - val_loss: 0.5276 - val_accuracy: 0.7568\n",
            "Epoch 3/20\n",
            "6000/6000 - 1s - loss: 0.4111 - accuracy: 0.8355 - val_loss: 0.4835 - val_accuracy: 0.7854\n",
            "Epoch 4/20\n",
            "6000/6000 - 1s - loss: 0.3577 - accuracy: 0.8528 - val_loss: 0.4704 - val_accuracy: 0.7909\n",
            "Epoch 5/20\n",
            "6000/6000 - 1s - loss: 0.3288 - accuracy: 0.8653 - val_loss: 0.4752 - val_accuracy: 0.7705\n",
            "Epoch 6/20\n",
            "6000/6000 - 1s - loss: 0.3081 - accuracy: 0.8760 - val_loss: 0.4784 - val_accuracy: 0.7711\n",
            "Epoch 7/20\n",
            "6000/6000 - 1s - loss: 0.2942 - accuracy: 0.8842 - val_loss: 0.4852 - val_accuracy: 0.7841\n",
            "Epoch 8/20\n",
            "6000/6000 - 1s - loss: 0.2832 - accuracy: 0.8888 - val_loss: 0.4887 - val_accuracy: 0.7612\n",
            "Epoch 9/20\n",
            "6000/6000 - 1s - loss: 0.2719 - accuracy: 0.8938 - val_loss: 0.4993 - val_accuracy: 0.7593\n",
            "Epoch 10/20\n",
            "6000/6000 - 1s - loss: 0.2620 - accuracy: 0.9002 - val_loss: 0.5023 - val_accuracy: 0.7674\n",
            "Epoch 11/20\n",
            "6000/6000 - 1s - loss: 0.2556 - accuracy: 0.9015 - val_loss: 0.5195 - val_accuracy: 0.7581\n",
            "Epoch 12/20\n",
            "6000/6000 - 1s - loss: 0.2495 - accuracy: 0.9037 - val_loss: 0.5236 - val_accuracy: 0.7723\n",
            "Epoch 13/20\n",
            "6000/6000 - 1s - loss: 0.2438 - accuracy: 0.9078 - val_loss: 0.5266 - val_accuracy: 0.7581\n",
            "Epoch 14/20\n",
            "6000/6000 - 1s - loss: 0.2376 - accuracy: 0.9105 - val_loss: 0.5443 - val_accuracy: 0.7568\n",
            "Epoch 15/20\n",
            "6000/6000 - 1s - loss: 0.2333 - accuracy: 0.9103 - val_loss: 0.5480 - val_accuracy: 0.7667\n",
            "Epoch 16/20\n",
            "6000/6000 - 1s - loss: 0.2281 - accuracy: 0.9142 - val_loss: 0.5849 - val_accuracy: 0.7407\n",
            "Epoch 17/20\n",
            "6000/6000 - 1s - loss: 0.2234 - accuracy: 0.9152 - val_loss: 0.5571 - val_accuracy: 0.7630\n",
            "Epoch 18/20\n",
            "6000/6000 - 1s - loss: 0.2197 - accuracy: 0.9207 - val_loss: 0.5676 - val_accuracy: 0.7568\n",
            "Epoch 19/20\n",
            "6000/6000 - 1s - loss: 0.2156 - accuracy: 0.9202 - val_loss: 0.5981 - val_accuracy: 0.7531\n",
            "Epoch 20/20\n",
            "6000/6000 - 1s - loss: 0.2138 - accuracy: 0.9202 - val_loss: 0.5799 - val_accuracy: 0.7574\n"
          ],
          "name": "stdout"
        }
      ]
    },
    {
      "cell_type": "code",
      "metadata": {
        "id": "qKPiDpLkvEqb",
        "colab_type": "code",
        "outputId": "dafe11a4-210d-49de-c9a3-665a14254af3",
        "colab": {
          "base_uri": "https://localhost:8080/",
          "height": 541
        }
      },
      "source": [
        "import matplotlib.pyplot as plt\n",
        "def plot_graphs(history, string):\n",
        "  plt.plot(history.history[string])\n",
        "  plt.plot(history.history['val_'+string])\n",
        "  plt.xlabel(\"Epochs\")\n",
        "  plt.ylabel(string)\n",
        "  plt.legend([string, 'val_'+string])\n",
        "  plt.show()\n",
        "  \n",
        "plot_graphs(history, \"accuracy\")\n",
        "plot_graphs(history, \"loss\")"
      ],
      "execution_count": 83,
      "outputs": [
        {
          "output_type": "display_data",
          "data": {
            "image/png": "[encoded data removed]",
            "text/plain": [
              "<Figure size 432x288 with 1 Axes>"
            ]
          },
          "metadata": {
            "tags": []
          }
        },
        {
          "output_type": "display_data",
          "data": {
            "image/png": "[encoded data removed]",
            "text/plain": [
              "<Figure size 432x288 with 1 Axes>"
            ]
          },
          "metadata": {
            "tags": []
          }
        }
      ]
    },
    {
      "cell_type": "markdown",
      "metadata": {
        "id": "aES_uKSyfJVb",
        "colab_type": "text"
      },
      "source": [
        "### Retrieve the learned embeddings"
      ]
    },
    {
      "cell_type": "code",
      "metadata": {
        "id": "J95wkQCRfOdo",
        "colab_type": "code",
        "colab": {
          "base_uri": "https://localhost:8080/",
          "height": 34
        },
        "outputId": "dbeca192-892e-4bfa-d82b-5fbfba690fc2"
      },
      "source": [
        "e = model.layers[0]\n",
        "weights = e.get_weights()[0]\n",
        "print(weights.shape) # shape: (vocab_size, embedding_dim)"
      ],
      "execution_count": 84,
      "outputs": [
        {
          "output_type": "stream",
          "text": [
            "(14315, 32)\n"
          ],
          "name": "stdout"
        }
      ]
    },
    {
      "cell_type": "code",
      "metadata": {
        "id": "g9B0KMUAfWZu",
        "colab_type": "code",
        "colab": {}
      },
      "source": [
        ""
      ],
      "execution_count": 0,
      "outputs": []
    },
    {
      "cell_type": "markdown",
      "metadata": {
        "id": "oqE1FCQEfh1k",
        "colab_type": "text"
      },
      "source": [
        "## RNN\n",
        "This part is still a work in progress. Refering to RNN from tensorflow documentation"
      ]
    },
    {
      "cell_type": "code",
      "metadata": {
        "id": "rsF5zHmcfi4G",
        "colab_type": "code",
        "colab": {}
      },
      "source": [
        ""
      ],
      "execution_count": 0,
      "outputs": []
    }
  ]
}