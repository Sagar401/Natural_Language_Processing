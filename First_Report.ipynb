{
  "nbformat": 4,
  "nbformat_minor": 0,
  "metadata": {
    "colab": {
      "name": "First Report.ipynb",
      "provenance": [],
      "authorship_tag": "ABX9TyOqNR8j8QKgVAqoKJbDUy4p",
      "include_colab_link": true
    },
    "kernelspec": {
      "name": "python3",
      "display_name": "Python 3"
    }
  },
  "cells": [
    {
      "cell_type": "markdown",
      "metadata": {
        "id": "view-in-github",
        "colab_type": "text"
      },
      "source": [
        "<a href=\"https://colab.research.google.com/github/Sagar401/Natural_Language_Processing/blob/master/First_Report.ipynb\" target=\"_parent\"><img src=\"https://colab.research.google.com/assets/colab-badge.svg\" alt=\"Open In Colab\"/></a>"
      ]
    },
    {
      "cell_type": "markdown",
      "metadata": {
        "id": "9Q-wKtTDUSol",
        "colab_type": "text"
      },
      "source": [
        "# **Team: Sagar Daswani and Pimchanok Khaoputhai**\n",
        "# **FAI - Foundations of AI**\n",
        "\n",
        "# Final Project\n",
        "## First report"
      ]
    },
    {
      "cell_type": "markdown",
      "metadata": {
        "id": "VR28ZsuStmN9",
        "colab_type": "text"
      },
      "source": [
        "#**Real or Not? Binary Classification of Disaster Tweets**\n",
        "Kaggle Competition"
      ]
    },
    {
      "cell_type": "code",
      "metadata": {
        "id": "LjzRX-niUNyM",
        "colab_type": "code",
        "colab": {}
      },
      "source": [
        "import pandas as pd\n",
        "from nltk.tokenize import word_tokenize\n",
        "import re\n",
        "import string\n",
        "import nltk\n",
        "from nltk.corpus import stopwords\n",
        "\n",
        "# XGBoost\n",
        "import xgboost as xgb\n",
        "from xgboost import XGBClassifier\n",
        "# sklearn \n",
        "from sklearn import model_selection\n",
        "from sklearn.feature_extraction.text import CountVectorizer,TfidfVectorizer\n",
        "from sklearn.linear_model import LogisticRegression\n",
        "from sklearn.naive_bayes import MultinomialNB\n",
        "from sklearn.metrics import f1_score\n",
        "from sklearn import preprocessing, decomposition, model_selection, metrics, pipeline\n",
        "from sklearn.model_selection import GridSearchCV,StratifiedKFold,RandomizedSearchCV\n",
        "  "
      ],
      "execution_count": 0,
      "outputs": []
    },
    {
      "cell_type": "code",
      "metadata": {
        "id": "rilMQ9Aqt_W9",
        "colab_type": "code",
        "colab": {}
      },
      "source": [
        "train_df = pd.read_csv(\"train.csv\")\n",
        "test_df = pd.read_csv(\"test.csv\")"
      ],
      "execution_count": 0,
      "outputs": []
    },
    {
      "cell_type": "code",
      "metadata": {
        "id": "FmbBWFm9uBd0",
        "colab_type": "code",
        "colab": {
          "base_uri": "https://localhost:8080/",
          "height": 194
        },
        "outputId": "338b933f-2049-4017-c104-3c34b1a5710e"
      },
      "source": [
        "#Looking at first few rows of dataset\n",
        "train_df.head()"
      ],
      "execution_count": 3,
      "outputs": [
        {
          "output_type": "execute_result",
          "data": {
            "text/html": [
              "<div>\n",
              "<style scoped>\n",
              "    .dataframe tbody tr th:only-of-type {\n",
              "        vertical-align: middle;\n",
              "    }\n",
              "\n",
              "    .dataframe tbody tr th {\n",
              "        vertical-align: top;\n",
              "    }\n",
              "\n",
              "    .dataframe thead th {\n",
              "        text-align: right;\n",
              "    }\n",
              "</style>\n",
              "<table border=\"1\" class=\"dataframe\">\n",
              "  <thead>\n",
              "    <tr style=\"text-align: right;\">\n",
              "      <th></th>\n",
              "      <th>id</th>\n",
              "      <th>keyword</th>\n",
              "      <th>location</th>\n",
              "      <th>text</th>\n",
              "      <th>target</th>\n",
              "    </tr>\n",
              "  </thead>\n",
              "  <tbody>\n",
              "    <tr>\n",
              "      <th>0</th>\n",
              "      <td>1</td>\n",
              "      <td>NaN</td>\n",
              "      <td>NaN</td>\n",
              "      <td>Our Deeds are the Reason of this #earthquake M...</td>\n",
              "      <td>1</td>\n",
              "    </tr>\n",
              "    <tr>\n",
              "      <th>1</th>\n",
              "      <td>4</td>\n",
              "      <td>NaN</td>\n",
              "      <td>NaN</td>\n",
              "      <td>Forest fire near La Ronge Sask. Canada</td>\n",
              "      <td>1</td>\n",
              "    </tr>\n",
              "    <tr>\n",
              "      <th>2</th>\n",
              "      <td>5</td>\n",
              "      <td>NaN</td>\n",
              "      <td>NaN</td>\n",
              "      <td>All residents asked to 'shelter in place' are ...</td>\n",
              "      <td>1</td>\n",
              "    </tr>\n",
              "    <tr>\n",
              "      <th>3</th>\n",
              "      <td>6</td>\n",
              "      <td>NaN</td>\n",
              "      <td>NaN</td>\n",
              "      <td>13,000 people receive #wildfires evacuation or...</td>\n",
              "      <td>1</td>\n",
              "    </tr>\n",
              "    <tr>\n",
              "      <th>4</th>\n",
              "      <td>7</td>\n",
              "      <td>NaN</td>\n",
              "      <td>NaN</td>\n",
              "      <td>Just got sent this photo from Ruby #Alaska as ...</td>\n",
              "      <td>1</td>\n",
              "    </tr>\n",
              "  </tbody>\n",
              "</table>\n",
              "</div>"
            ],
            "text/plain": [
              "   id keyword  ...                                               text target\n",
              "0   1     NaN  ...  Our Deeds are the Reason of this #earthquake M...      1\n",
              "1   4     NaN  ...             Forest fire near La Ronge Sask. Canada      1\n",
              "2   5     NaN  ...  All residents asked to 'shelter in place' are ...      1\n",
              "3   6     NaN  ...  13,000 people receive #wildfires evacuation or...      1\n",
              "4   7     NaN  ...  Just got sent this photo from Ruby #Alaska as ...      1\n",
              "\n",
              "[5 rows x 5 columns]"
            ]
          },
          "metadata": {
            "tags": []
          },
          "execution_count": 3
        }
      ]
    },
    {
      "cell_type": "code",
      "metadata": {
        "id": "PMmLGqsDuDEU",
        "colab_type": "code",
        "colab": {
          "base_uri": "https://localhost:8080/",
          "height": 52
        },
        "outputId": "80ce83c5-dc95-45c2-dfdb-d5d64fdc1384"
      },
      "source": [
        "print(\"Training Dataset Size:\",train_df.shape)\n",
        "print(\"Test Dataset Size:\",test_df.shape)"
      ],
      "execution_count": 4,
      "outputs": [
        {
          "output_type": "stream",
          "text": [
            "Training Dataset Size: (7613, 5)\n",
            "Test Dataset Size: (3263, 4)\n"
          ],
          "name": "stdout"
        }
      ]
    },
    {
      "cell_type": "code",
      "metadata": {
        "id": "_5puA8HnuFDU",
        "colab_type": "code",
        "colab": {
          "base_uri": "https://localhost:8080/",
          "height": 124
        },
        "outputId": "62fba395-e5bf-4f0f-98f1-eabe068c85e8"
      },
      "source": [
        "#missing values in training dataset\n",
        "train_df.isnull().sum()"
      ],
      "execution_count": 5,
      "outputs": [
        {
          "output_type": "execute_result",
          "data": {
            "text/plain": [
              "id             0\n",
              "keyword       61\n",
              "location    2533\n",
              "text           0\n",
              "target         0\n",
              "dtype: int64"
            ]
          },
          "metadata": {
            "tags": []
          },
          "execution_count": 5
        }
      ]
    },
    {
      "cell_type": "code",
      "metadata": {
        "id": "TzEnZKCguHLE",
        "colab_type": "code",
        "colab": {
          "base_uri": "https://localhost:8080/",
          "height": 70
        },
        "outputId": "096e7e87-41ce-4d28-dabd-43ed9f1cab06"
      },
      "source": [
        "train_df['target'].value_counts()"
      ],
      "execution_count": 6,
      "outputs": [
        {
          "output_type": "execute_result",
          "data": {
            "text/plain": [
              "0    4342\n",
              "1    3271\n",
              "Name: target, dtype: int64"
            ]
          },
          "metadata": {
            "tags": []
          },
          "execution_count": 6
        }
      ]
    },
    {
      "cell_type": "code",
      "metadata": {
        "id": "lummXhqHuJKs",
        "colab_type": "code",
        "colab": {
          "base_uri": "https://localhost:8080/",
          "height": 230
        },
        "outputId": "3237932b-1197-4e6a-897b-572bfdbb090f"
      },
      "source": [
        "#exlporing location column\n",
        "train_df['location'].value_counts()"
      ],
      "execution_count": 7,
      "outputs": [
        {
          "output_type": "execute_result",
          "data": {
            "text/plain": [
              "USA                             104\n",
              "New York                         71\n",
              "United States                    50\n",
              "London                           45\n",
              "Canada                           29\n",
              "                               ... \n",
              "In your head                      1\n",
              "Blogland                          1\n",
              "London/Surrey                     1\n",
              "Rheinbach / Germany               1\n",
              "Trinity, Bailiwick of Jersey      1\n",
              "Name: location, Length: 3341, dtype: int64"
            ]
          },
          "metadata": {
            "tags": []
          },
          "execution_count": 7
        }
      ]
    },
    {
      "cell_type": "markdown",
      "metadata": {
        "id": "AJcyF8xIuOlq",
        "colab_type": "text"
      },
      "source": [
        "##**Data Cleaning**\n",
        "\n",
        "\n",
        "*   Making all uppercase to lowercase\n",
        "*   Removing noise from tweets\n",
        "\n",
        "  *   URLs\n",
        "  *   HTML tags\n",
        "  *   emogis\n",
        "  *   Punctuation\n",
        "  *   New-Line\n",
        "  *   Removing Digits\n",
        "*   Tokenization: Converting normal text string into a list of tokens/words\n",
        "*   Stopwords removal(optional)\n"
      ]
    },
    {
      "cell_type": "code",
      "metadata": {
        "id": "nqTR5FZZuKwj",
        "colab_type": "code",
        "colab": {}
      },
      "source": [
        "#function to remove noise from text\n",
        "def clean_text(text):\n",
        "    text = text.lower() #convert to lowercase to maintain standard flow between text\n",
        "    text = re.sub('\\[.*?\\]', '', text) #removing text in square brackets\n",
        "    text = re.sub('https?://\\S+|www\\.\\S+', '', text) #removing url\n",
        "    text = re.sub('<.*?>+', '', text) #removing html tags\n",
        "    text = re.sub('[%s]' % re.escape(string.punctuation), '', text) #removing puntuations\n",
        "    text = re.sub('\\n', '', text)#removing new line from the text field\n",
        "    text = re.sub('\\w*\\d\\w*', '', text) #removing digits from the string\n",
        "    return text\n",
        "\n",
        "train_df['text'] = train_df['text'].apply(lambda x : clean_text(x))\n",
        "test_df['text'] = test_df['text'].apply(lambda x : clean_text(x))"
      ],
      "execution_count": 0,
      "outputs": []
    },
    {
      "cell_type": "code",
      "metadata": {
        "id": "t7pqPAZ0uTqU",
        "colab_type": "code",
        "colab": {}
      },
      "source": [
        "#function to remove emoji's\n",
        "def remove_emoji(text):\n",
        "    emoji_pattern = re.compile(\"[\"\n",
        "                           u\"\\U0001F600-\\U0001F64F\"  # emoticons\n",
        "                           u\"\\U0001F300-\\U0001F5FF\"  # symbols & pictographs\n",
        "                           u\"\\U0001F680-\\U0001F6FF\"  # transport & map symbols\n",
        "                           u\"\\U0001F1E0-\\U0001F1FF\"  # flags (iOS)\n",
        "                           u\"\\U00002702-\\U000027B0\"\n",
        "                           u\"\\U000024C2-\\U0001F251\"\n",
        "                            \"]+\", flags=re.UNICODE)\n",
        "    return emoji_pattern.sub(r'', text)\n",
        "\n",
        "train_df['text']=train_df['text'].apply(lambda x: remove_emoji(x))\n",
        "test_df['text']=test_df['text'].apply(lambda x: remove_emoji(x))"
      ],
      "execution_count": 0,
      "outputs": []
    },
    {
      "cell_type": "code",
      "metadata": {
        "id": "anhmAEpLuUjs",
        "colab_type": "code",
        "colab": {}
      },
      "source": [
        "#adding new column with the count of words in a single row\n",
        "train_df['word_count'] = train_df['text'].str.split().map(len)\n",
        "\n",
        "#only using the rows with word count more than 0\n",
        "train_df = train_df[train_df['word_count'] > 0]\n",
        "\n",
        "#moving forward with 2 column from dataset , i.e., text and target\n",
        "train_df = train_df[[\"text\",\"target\"]]\n",
        "test_df = test_df[[\"text\"]]"
      ],
      "execution_count": 0,
      "outputs": []
    },
    {
      "cell_type": "markdown",
      "metadata": {
        "id": "UAyKUTC3uiM8",
        "colab_type": "text"
      },
      "source": [
        "## **Word Embedding** \n",
        "Tensorflow model\n"
      ]
    },
    {
      "cell_type": "code",
      "metadata": {
        "id": "-8-kPaajubQc",
        "colab_type": "code",
        "colab": {
          "base_uri": "https://localhost:8080/",
          "height": 35
        },
        "outputId": "aae478be-187f-4a61-e9e1-c5cc7963dc65"
      },
      "source": [
        "# Run this to ensure TensorFlow 2.x is used\n",
        "try:\n",
        "  # %tensorflow_version only exists in Colab.\n",
        "  %tensorflow_version 2.x\n",
        "except Exception:\n",
        "  pass"
      ],
      "execution_count": 11,
      "outputs": [
        {
          "output_type": "stream",
          "text": [
            "TensorFlow 2.x selected.\n"
          ],
          "name": "stdout"
        }
      ]
    },
    {
      "cell_type": "code",
      "metadata": {
        "id": "H-SbruMGuyTk",
        "colab_type": "code",
        "colab": {}
      },
      "source": [
        "import tensorflow as tf\n",
        "from tensorflow import keras\n",
        "from tensorflow.keras.preprocessing.text import Tokenizer\n",
        "import pandas as pd\n",
        "from tensorflow.keras.preprocessing.sequence import pad_sequences"
      ],
      "execution_count": 0,
      "outputs": []
    },
    {
      "cell_type": "code",
      "metadata": {
        "id": "m6jmp7BOu0Zl",
        "colab_type": "code",
        "colab": {}
      },
      "source": [
        "training_sentences = [ i for i in train_df.text[:6000]]\n",
        "test_sentences = [i for i in train_df.text[6000:]]\n",
        "                  \n",
        "training_labels = [ i for i in train_df.target[:6000]]\n",
        "test_labels = [i for i in train_df.target[6000:]]\n"
      ],
      "execution_count": 0,
      "outputs": []
    },
    {
      "cell_type": "code",
      "metadata": {
        "id": "duXU2WWju4qs",
        "colab_type": "code",
        "colab": {}
      },
      "source": [
        "tokenizer = Tokenizer(num_words=10000,oov_token=\"<OOV>\")\n",
        "tokenizer.fit_on_texts(training_sentences)\n",
        "word_index = tokenizer.word_index"
      ],
      "execution_count": 0,
      "outputs": []
    },
    {
      "cell_type": "code",
      "metadata": {
        "id": "Jh1vQJOnu6Wj",
        "colab_type": "code",
        "colab": {}
      },
      "source": [
        "training_sequences = tokenizer.texts_to_sequences(training_sentences)\n",
        "training_padded = pad_sequences(training_sequences,padding='post')\n",
        "\n",
        "test_sequences = tokenizer.texts_to_sequences(test_sentences)\n",
        "test_padded = pad_sequences(test_sequences,padding='post')\n"
      ],
      "execution_count": 0,
      "outputs": []
    },
    {
      "cell_type": "code",
      "metadata": {
        "id": "d4mKveA-u8Ej",
        "colab_type": "code",
        "colab": {}
      },
      "source": [
        "import numpy as np\n",
        "\n",
        "training_padded = np.array(training_padded)\n",
        "training_labels = np.array(training_labels)\n",
        "\n",
        "test_padded = np.array(test_padded)\n",
        "test_labels = np.array(test_labels)"
      ],
      "execution_count": 0,
      "outputs": []
    },
    {
      "cell_type": "code",
      "metadata": {
        "id": "Nd21kWvxu-Il",
        "colab_type": "code",
        "colab": {}
      },
      "source": [
        "model = tf.keras.Sequential([\n",
        "    tf.keras.layers.Embedding(10000, 16),\n",
        "    tf.keras.layers.GlobalAveragePooling1D(),\n",
        "    tf.keras.layers.Dense(8, activation='relu'),\n",
        "    tf.keras.layers.Dense(1, activation='sigmoid')\n",
        "])\n",
        "model.compile(loss='binary_crossentropy',optimizer='RMSprop',metrics=['accuracy'])"
      ],
      "execution_count": 0,
      "outputs": []
    },
    {
      "cell_type": "code",
      "metadata": {
        "id": "JzjfPCQdvAoD",
        "colab_type": "code",
        "colab": {
          "base_uri": "https://localhost:8080/",
          "height": 301
        },
        "outputId": "0dfaadb1-019b-4b1a-de89-fffc292435be"
      },
      "source": [
        "model.summary()"
      ],
      "execution_count": 86,
      "outputs": [
        {
          "output_type": "stream",
          "text": [
            "Model: \"sequential_22\"\n",
            "_________________________________________________________________\n",
            "Layer (type)                 Output Shape              Param #   \n",
            "=================================================================\n",
            "embedding_23 (Embedding)     (None, None, 16)          160000    \n",
            "_________________________________________________________________\n",
            "global_average_pooling1d_22  (None, 16)                0         \n",
            "_________________________________________________________________\n",
            "dense_56 (Dense)             (None, 8)                 136       \n",
            "_________________________________________________________________\n",
            "dense_57 (Dense)             (None, 1)                 9         \n",
            "=================================================================\n",
            "Total params: 160,145\n",
            "Trainable params: 160,145\n",
            "Non-trainable params: 0\n",
            "_________________________________________________________________\n"
          ],
          "name": "stdout"
        }
      ]
    },
    {
      "cell_type": "code",
      "metadata": {
        "id": "I2EgVo7GvCMz",
        "colab_type": "code",
        "colab": {
          "base_uri": "https://localhost:8080/",
          "height": 746
        },
        "outputId": "c3bdf545-2615-444f-f709-775cd3ed15b0"
      },
      "source": [
        "num_epochs = 20\n",
        "history = model.fit(training_padded, training_labels, epochs=num_epochs, validation_data=(test_padded, test_labels), verbose=2)"
      ],
      "execution_count": 87,
      "outputs": [
        {
          "output_type": "stream",
          "text": [
            "Train on 6000 samples, validate on 1612 samples\n",
            "Epoch 1/20\n",
            "6000/6000 - 1s - loss: 0.6748 - accuracy: 0.5797 - val_loss: 0.6747 - val_accuracy: 0.5323\n",
            "Epoch 2/20\n",
            "6000/6000 - 0s - loss: 0.6304 - accuracy: 0.6465 - val_loss: 0.6329 - val_accuracy: 0.6284\n",
            "Epoch 3/20\n",
            "6000/6000 - 0s - loss: 0.5594 - accuracy: 0.7557 - val_loss: 0.5725 - val_accuracy: 0.7500\n",
            "Epoch 4/20\n",
            "6000/6000 - 0s - loss: 0.4897 - accuracy: 0.8072 - val_loss: 0.5340 - val_accuracy: 0.7531\n",
            "Epoch 5/20\n",
            "6000/6000 - 0s - loss: 0.4390 - accuracy: 0.8260 - val_loss: 0.5050 - val_accuracy: 0.7823\n",
            "Epoch 6/20\n",
            "6000/6000 - 0s - loss: 0.4034 - accuracy: 0.8347 - val_loss: 0.4908 - val_accuracy: 0.7854\n",
            "Epoch 7/20\n",
            "6000/6000 - 0s - loss: 0.3766 - accuracy: 0.8445 - val_loss: 0.4824 - val_accuracy: 0.7847\n",
            "Epoch 8/20\n",
            "6000/6000 - 0s - loss: 0.3568 - accuracy: 0.8535 - val_loss: 0.4753 - val_accuracy: 0.7928\n",
            "Epoch 9/20\n",
            "6000/6000 - 0s - loss: 0.3411 - accuracy: 0.8602 - val_loss: 0.4705 - val_accuracy: 0.7916\n",
            "Epoch 10/20\n",
            "6000/6000 - 0s - loss: 0.3282 - accuracy: 0.8657 - val_loss: 0.4699 - val_accuracy: 0.7909\n",
            "Epoch 11/20\n",
            "6000/6000 - 0s - loss: 0.3177 - accuracy: 0.8708 - val_loss: 0.4721 - val_accuracy: 0.7841\n",
            "Epoch 12/20\n",
            "6000/6000 - 0s - loss: 0.3081 - accuracy: 0.8747 - val_loss: 0.4734 - val_accuracy: 0.7835\n",
            "Epoch 13/20\n",
            "6000/6000 - 0s - loss: 0.3008 - accuracy: 0.8780 - val_loss: 0.4758 - val_accuracy: 0.7804\n",
            "Epoch 14/20\n",
            "6000/6000 - 0s - loss: 0.2932 - accuracy: 0.8827 - val_loss: 0.4854 - val_accuracy: 0.7649\n",
            "Epoch 15/20\n",
            "6000/6000 - 0s - loss: 0.2874 - accuracy: 0.8848 - val_loss: 0.4812 - val_accuracy: 0.7798\n",
            "Epoch 16/20\n",
            "6000/6000 - 0s - loss: 0.2820 - accuracy: 0.8878 - val_loss: 0.4856 - val_accuracy: 0.7742\n",
            "Epoch 17/20\n",
            "6000/6000 - 0s - loss: 0.2770 - accuracy: 0.8910 - val_loss: 0.4895 - val_accuracy: 0.7699\n",
            "Epoch 18/20\n",
            "6000/6000 - 0s - loss: 0.2720 - accuracy: 0.8940 - val_loss: 0.4924 - val_accuracy: 0.7711\n",
            "Epoch 19/20\n",
            "6000/6000 - 0s - loss: 0.2674 - accuracy: 0.8953 - val_loss: 0.4979 - val_accuracy: 0.7711\n",
            "Epoch 20/20\n",
            "6000/6000 - 1s - loss: 0.2642 - accuracy: 0.8985 - val_loss: 0.5008 - val_accuracy: 0.7711\n"
          ],
          "name": "stdout"
        }
      ]
    },
    {
      "cell_type": "code",
      "metadata": {
        "id": "qKPiDpLkvEqb",
        "colab_type": "code",
        "colab": {
          "base_uri": "https://localhost:8080/",
          "height": 541
        },
        "outputId": "026d0c62-2d54-4554-b081-7c444fe6a683"
      },
      "source": [
        "import matplotlib.pyplot as plt\n",
        "def plot_graphs(history, string):\n",
        "  plt.plot(history.history[string])\n",
        "  plt.plot(history.history['val_'+string])\n",
        "  plt.xlabel(\"Epochs\")\n",
        "  plt.ylabel(string)\n",
        "  plt.legend([string, 'val_'+string])\n",
        "  plt.show()\n",
        "  \n",
        "plot_graphs(history, \"accuracy\")\n",
        "plot_graphs(history, \"loss\")"
      ],
      "execution_count": 88,
      "outputs": [
        {
          "output_type": "display_data",
          "data": {
            "image/png": "[encoded data removed]",
            "text/plain": [
              "<Figure size 432x288 with 1 Axes>"
            ]
          },
          "metadata": {
            "tags": []
          }
        },
        {
          "output_type": "display_data",
          "data": {
            "image/png": "[encoded data removed]",
            "text/plain": [
              "<Figure size 432x288 with 1 Axes>"
            ]
          },
          "metadata": {
            "tags": []
          }
        }
      ]
    },
    {
      "cell_type": "code",
      "metadata": {
        "id": "hUv1OsUHvI27",
        "colab_type": "code",
        "colab": {
          "base_uri": "https://localhost:8080/",
          "height": 70
        },
        "outputId": "d59455ef-6cfc-4d31-f368-db313a4b5a18"
      },
      "source": [
        "reverse_word_index = dict([(value, key) for (key, value) in word_index.items()])\n",
        "\n",
        "def decode_sentence(text):\n",
        "    return ' '.join([reverse_word_index.get(i, '?') for i in text])\n",
        "\n",
        "print(decode_sentence(training_padded[0]))\n",
        "print(training_sentences[2])\n",
        "print(train_df.target[2])"
      ],
      "execution_count": 89,
      "outputs": [
        {
          "output_type": "stream",
          "text": [
            "our deeds are the reason of this earthquake may allah forgive us all ? ? ? ? ? ? ? ? ? ? ? ? ? ? ? ? ? ?\n",
            "all residents asked to shelter in place are being notified by officers no other evacuation or shelter in place orders are expected\n",
            "1\n"
          ],
          "name": "stdout"
        }
      ]
    },
    {
      "cell_type": "code",
      "metadata": {
        "id": "IWxi9YYdvK_t",
        "colab_type": "code",
        "colab": {
          "base_uri": "https://localhost:8080/",
          "height": 35
        },
        "outputId": "c54717d5-0eaf-447e-bbf0-83c86a356814"
      },
      "source": [
        "e = model.layers[0]\n",
        "weights = e.get_weights()[0]\n",
        "print(weights.shape) # shape: (vocab_size, embedding_dim)"
      ],
      "execution_count": 90,
      "outputs": [
        {
          "output_type": "stream",
          "text": [
            "(10000, 16)\n"
          ],
          "name": "stdout"
        }
      ]
    },
    {
      "cell_type": "code",
      "metadata": {
        "id": "24CeiYrhvO30",
        "colab_type": "code",
        "colab": {
          "base_uri": "https://localhost:8080/",
          "height": 70
        },
        "outputId": "196fe9fe-4a79-4e9e-f120-bc966cdbb1f0"
      },
      "source": [
        "sentence = [\"granny starting to fear spiders in the garden might be real\", \"coronavirus is spreading in my neighborhood\",\"Coronavirus is love\"]\n",
        "sequences = tokenizer.texts_to_sequences(sentence)\n",
        "padded = pad_sequences(sequences, padding='post')\n",
        "print(model.predict(padded))"
      ],
      "execution_count": 94,
      "outputs": [
        {
          "output_type": "stream",
          "text": [
            "[[0.0068009 ]\n",
            " [0.67498094]\n",
            " [0.02055607]]\n"
          ],
          "name": "stdout"
        }
      ]
    },
    {
      "cell_type": "code",
      "metadata": {
        "id": "l4BaoNEovQVs",
        "colab_type": "code",
        "colab": {}
      },
      "source": [
        ""
      ],
      "execution_count": 0,
      "outputs": []
    }
  ]
}