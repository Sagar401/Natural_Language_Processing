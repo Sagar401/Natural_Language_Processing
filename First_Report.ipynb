{
  "nbformat": 4,
  "nbformat_minor": 0,
  "metadata": {
    "colab": {
      "name": "First Report.ipynb",
      "provenance": [],
      "toc_visible": true,
      "include_colab_link": true
    },
    "kernelspec": {
      "name": "python3",
      "display_name": "Python 3"
    }
  },
  "cells": [
    {
      "cell_type": "markdown",
      "metadata": {
        "id": "view-in-github",
        "colab_type": "text"
      },
      "source": [
        "<a href=\"https://colab.research.google.com/github/khaophuthaipch/Natural_Language_Processing/blob/Initial-report/First_Report.ipynb\" target=\"_parent\"><img src=\"https://colab.research.google.com/assets/colab-badge.svg\" alt=\"Open In Colab\"/></a>"
      ]
    },
    {
      "cell_type": "markdown",
      "metadata": {
        "id": "9Q-wKtTDUSol",
        "colab_type": "text"
      },
      "source": [
        "# **Team: Sagar Daswani and Pimchanok Khaoputhai**\n",
        "# **EAI6000 - Foundations of AI**\n",
        "\n",
        "# Final Project\n",
        "## Initial report"
      ]
    },
    {
      "cell_type": "markdown",
      "metadata": {
        "id": "VR28ZsuStmN9",
        "colab_type": "text"
      },
      "source": [
        "#**Real or Not? Binary Classification of Disaster Tweets**\n",
        "Kaggle Competition\n",
        "\n",
        "Nowadays, social media has become a part of our daily life. People are sharing their experience and communicate to the public through platform like Facebook and Twitter. Sometimes, these channels are used for sharing emergency matters and news. However, the problem relies on whether the message is real. If yes, then monitoring these posts will help increase people awareness in time of emergency. As a result, this project is focusing on detecting if a post on Twitter about a disaster is a real event.\n",
        "\n",
        "\n",
        "The flow of the project are as follows:\n",
        "\n",
        "*   Text cleaning\n",
        "    * Remove special characters\n",
        "    * Stemming, Lemmatization\n",
        "*   Text preprocessing\n",
        "    * Transform text into proper format to use in the models :\n",
        "      * Vectorization, one hot coding\n",
        "      * Word Embedding\n",
        "*   Modeling\n",
        "    * Simple Neural Network\n",
        "    * Recurrent Neural Network\n",
        "\n",
        "Noted that for text cleaning and text preprocessing, the final model will only include the techniques that improve model accuracy. \n",
        "\n",
        "**Work to date**\n",
        "\n",
        "As of March 16, 2020, we are building the structure of the project. We have built a nueral network model and we are working on improving the accuracy by exploring differetn architecture, different text representation and different cleaning method that can potentially improve the accuracy of the model. \n",
        "\n",
        "- Logistic Regression = 0.59\n",
        "- Neural Network with vectorized feature test accuracy = 0.75\n",
        "- Neural Network with embedded feature test accuracy = 0.72\n"
      ]
    },
    {
      "cell_type": "code",
      "metadata": {
        "id": "SVe3Wea9W8Fe",
        "colab_type": "code",
        "colab": {
          "base_uri": "https://localhost:8080/",
          "height": 34
        },
        "outputId": "b375be1a-0b8d-472a-f123-d4668cd4c301"
      },
      "source": [
        "# Run this to ensure TensorFlow 2.x is used\n",
        "try:\n",
        "  # %tensorflow_version only exists in Colab.\n",
        "  %tensorflow_version 2.x\n",
        "except Exception:\n",
        "  pass"
      ],
      "execution_count": 1,
      "outputs": [
        {
          "output_type": "stream",
          "text": [
            "TensorFlow 2.x selected.\n"
          ],
          "name": "stdout"
        }
      ]
    },
    {
      "cell_type": "code",
      "metadata": {
        "id": "1HZiYg65XFh8",
        "colab_type": "code",
        "colab": {}
      },
      "source": [
        "import tensorflow as tf\n",
        "from tensorflow import keras\n",
        "from tensorflow.keras.preprocessing.text import Tokenizer\n",
        "import pandas as pd\n",
        "from tensorflow.keras.preprocessing.sequence import pad_sequences"
      ],
      "execution_count": 0,
      "outputs": []
    },
    {
      "cell_type": "code",
      "metadata": {
        "id": "LjzRX-niUNyM",
        "colab_type": "code",
        "colab": {}
      },
      "source": [
        "import pandas as pd\n",
        "import numpy as np\n",
        "from nltk.tokenize import word_tokenize\n",
        "import re\n",
        "import string\n",
        "import nltk\n",
        "from nltk.corpus import stopwords\n",
        "\n",
        "# XGBoost\n",
        "import xgboost as xgb\n",
        "from xgboost import XGBClassifier\n",
        "\n",
        "# sklearn \n",
        "from sklearn.feature_extraction.text import CountVectorizer,TfidfVectorizer\n",
        "from sklearn.linear_model import LogisticRegression\n",
        "from sklearn.metrics import f1_score\n",
        "from sklearn import preprocessing, decomposition, model_selection, metrics, pipeline\n",
        "from sklearn.model_selection import GridSearchCV, StratifiedKFold, RandomizedSearchCV, train_test_split, cross_validate\n",
        "  "
      ],
      "execution_count": 0,
      "outputs": []
    },
    {
      "cell_type": "markdown",
      "metadata": {
        "id": "VMNsPQOe3696",
        "colab_type": "text"
      },
      "source": [
        "## Get the Dataset from Kaggle API\n",
        "*   Set up the API\n",
        "*   Download data using !kaggle competitions\n",
        "*   Import data\n",
        "\n",
        "\n",
        "\n",
        "\n"
      ]
    },
    {
      "cell_type": "code",
      "metadata": {
        "id": "2c5-X7QE3U0m",
        "colab_type": "code",
        "colab": {
          "base_uri": "https://localhost:8080/",
          "height": 34
        },
        "outputId": "bafe8f48-f3a8-4a75-fa30-f868101231c2"
      },
      "source": [
        "! pip install -q kaggle\n",
        "! mkdir .kaggle"
      ],
      "execution_count": 4,
      "outputs": [
        {
          "output_type": "stream",
          "text": [
            "mkdir: cannot create directory ‘.kaggle’: File exists\n"
          ],
          "name": "stdout"
        }
      ]
    },
    {
      "cell_type": "code",
      "metadata": {
        "id": "vGkCISm63rjA",
        "colab_type": "code",
        "colab": {
          "base_uri": "https://localhost:8080/",
          "height": 34
        },
        "outputId": "70d84b28-cb42-4b0e-b3d2-42553df89550"
      },
      "source": [
        "import json\n",
        "token = {\"username\":\"khaophuthaipkt\",\"key\":\"742f0323b5693f569538176eceaa4d80\"}\n",
        "with open(\"/content/.kaggle/kaggle.json\", \"w\") as file:\n",
        "    json.dump(token, file)\n",
        "\n",
        "! cp /content/.kaggle/kaggle.json ~/.kaggle/kaggle.json\n",
        "! kaggle config set -n path -v{/content}\n",
        "! chmod 600 ~/.kaggle/kaggle.json"
      ],
      "execution_count": 5,
      "outputs": [
        {
          "output_type": "stream",
          "text": [
            "- path is now set to: {/content}\n"
          ],
          "name": "stdout"
        }
      ]
    },
    {
      "cell_type": "code",
      "metadata": {
        "id": "oRPx6cvo4Deg",
        "colab_type": "code",
        "colab": {
          "base_uri": "https://localhost:8080/",
          "height": 85
        },
        "outputId": "f0060886-bb0b-4a29-fd02-16704ce86582"
      },
      "source": [
        "! kaggle competitions download -c nlp-getting-started"
      ],
      "execution_count": 6,
      "outputs": [
        {
          "output_type": "stream",
          "text": [
            "Warning: Looks like you're using an outdated API Version, please consider updating (server 1.5.6 / client 1.5.4)\n",
            "test.csv: Skipping, found more recently modified local copy (use --force to force download)\n",
            "sample_submission.csv: Skipping, found more recently modified local copy (use --force to force download)\n",
            "train.csv: Skipping, found more recently modified local copy (use --force to force download)\n"
          ],
          "name": "stdout"
        }
      ]
    },
    {
      "cell_type": "code",
      "metadata": {
        "id": "rilMQ9Aqt_W9",
        "colab_type": "code",
        "colab": {}
      },
      "source": [
        "# import the data\n",
        "train_df = pd.read_csv(\"train.csv\")\n",
        "test_df = pd.read_csv(\"test.csv\")"
      ],
      "execution_count": 0,
      "outputs": []
    },
    {
      "cell_type": "code",
      "metadata": {
        "id": "FmbBWFm9uBd0",
        "colab_type": "code",
        "outputId": "7217cbbd-f4c1-4b63-fe8a-34ed102d686d",
        "colab": {
          "base_uri": "https://localhost:8080/",
          "height": 204
        }
      },
      "source": [
        "#Looking at first few rows of dataset\n",
        "train_df.head()"
      ],
      "execution_count": 8,
      "outputs": [
        {
          "output_type": "execute_result",
          "data": {
            "text/html": [
              "<div>\n",
              "<style scoped>\n",
              "    .dataframe tbody tr th:only-of-type {\n",
              "        vertical-align: middle;\n",
              "    }\n",
              "\n",
              "    .dataframe tbody tr th {\n",
              "        vertical-align: top;\n",
              "    }\n",
              "\n",
              "    .dataframe thead th {\n",
              "        text-align: right;\n",
              "    }\n",
              "</style>\n",
              "<table border=\"1\" class=\"dataframe\">\n",
              "  <thead>\n",
              "    <tr style=\"text-align: right;\">\n",
              "      <th></th>\n",
              "      <th>id</th>\n",
              "      <th>keyword</th>\n",
              "      <th>location</th>\n",
              "      <th>text</th>\n",
              "      <th>target</th>\n",
              "    </tr>\n",
              "  </thead>\n",
              "  <tbody>\n",
              "    <tr>\n",
              "      <th>0</th>\n",
              "      <td>1</td>\n",
              "      <td>NaN</td>\n",
              "      <td>NaN</td>\n",
              "      <td>Our Deeds are the Reason of this #earthquake M...</td>\n",
              "      <td>1</td>\n",
              "    </tr>\n",
              "    <tr>\n",
              "      <th>1</th>\n",
              "      <td>4</td>\n",
              "      <td>NaN</td>\n",
              "      <td>NaN</td>\n",
              "      <td>Forest fire near La Ronge Sask. Canada</td>\n",
              "      <td>1</td>\n",
              "    </tr>\n",
              "    <tr>\n",
              "      <th>2</th>\n",
              "      <td>5</td>\n",
              "      <td>NaN</td>\n",
              "      <td>NaN</td>\n",
              "      <td>All residents asked to 'shelter in place' are ...</td>\n",
              "      <td>1</td>\n",
              "    </tr>\n",
              "    <tr>\n",
              "      <th>3</th>\n",
              "      <td>6</td>\n",
              "      <td>NaN</td>\n",
              "      <td>NaN</td>\n",
              "      <td>13,000 people receive #wildfires evacuation or...</td>\n",
              "      <td>1</td>\n",
              "    </tr>\n",
              "    <tr>\n",
              "      <th>4</th>\n",
              "      <td>7</td>\n",
              "      <td>NaN</td>\n",
              "      <td>NaN</td>\n",
              "      <td>Just got sent this photo from Ruby #Alaska as ...</td>\n",
              "      <td>1</td>\n",
              "    </tr>\n",
              "  </tbody>\n",
              "</table>\n",
              "</div>"
            ],
            "text/plain": [
              "   id keyword  ...                                               text target\n",
              "0   1     NaN  ...  Our Deeds are the Reason of this #earthquake M...      1\n",
              "1   4     NaN  ...             Forest fire near La Ronge Sask. Canada      1\n",
              "2   5     NaN  ...  All residents asked to 'shelter in place' are ...      1\n",
              "3   6     NaN  ...  13,000 people receive #wildfires evacuation or...      1\n",
              "4   7     NaN  ...  Just got sent this photo from Ruby #Alaska as ...      1\n",
              "\n",
              "[5 rows x 5 columns]"
            ]
          },
          "metadata": {
            "tags": []
          },
          "execution_count": 8
        }
      ]
    },
    {
      "cell_type": "code",
      "metadata": {
        "id": "PMmLGqsDuDEU",
        "colab_type": "code",
        "outputId": "6fa1eafa-e327-42df-866c-16e48df526e9",
        "colab": {
          "base_uri": "https://localhost:8080/",
          "height": 51
        }
      },
      "source": [
        "print(\"Training Dataset Size:\",train_df.shape)\n",
        "print(\"Test Dataset Size:\",test_df.shape)"
      ],
      "execution_count": 9,
      "outputs": [
        {
          "output_type": "stream",
          "text": [
            "Training Dataset Size: (7613, 5)\n",
            "Test Dataset Size: (3263, 4)\n"
          ],
          "name": "stdout"
        }
      ]
    },
    {
      "cell_type": "code",
      "metadata": {
        "id": "_5puA8HnuFDU",
        "colab_type": "code",
        "outputId": "464cfaeb-1628-4f92-f3c7-562f40dbb13c",
        "colab": {
          "base_uri": "https://localhost:8080/",
          "height": 119
        }
      },
      "source": [
        "#missing values in training dataset\n",
        "train_df.isnull().sum()"
      ],
      "execution_count": 10,
      "outputs": [
        {
          "output_type": "execute_result",
          "data": {
            "text/plain": [
              "id             0\n",
              "keyword       61\n",
              "location    2533\n",
              "text           0\n",
              "target         0\n",
              "dtype: int64"
            ]
          },
          "metadata": {
            "tags": []
          },
          "execution_count": 10
        }
      ]
    },
    {
      "cell_type": "code",
      "metadata": {
        "id": "TzEnZKCguHLE",
        "colab_type": "code",
        "outputId": "f8036236-65d5-4a42-bfa6-5edd7ad2c084",
        "colab": {
          "base_uri": "https://localhost:8080/",
          "height": 68
        }
      },
      "source": [
        "train_df['target'].value_counts()"
      ],
      "execution_count": 11,
      "outputs": [
        {
          "output_type": "execute_result",
          "data": {
            "text/plain": [
              "0    4342\n",
              "1    3271\n",
              "Name: target, dtype: int64"
            ]
          },
          "metadata": {
            "tags": []
          },
          "execution_count": 11
        }
      ]
    },
    {
      "cell_type": "code",
      "metadata": {
        "id": "lummXhqHuJKs",
        "colab_type": "code",
        "outputId": "c52711e6-0ffd-47b1-cbe2-00dcd19aaed6",
        "colab": {
          "base_uri": "https://localhost:8080/",
          "height": 221
        }
      },
      "source": [
        "#exlporing location column\n",
        "train_df['location'].value_counts()"
      ],
      "execution_count": 12,
      "outputs": [
        {
          "output_type": "execute_result",
          "data": {
            "text/plain": [
              "USA                   104\n",
              "New York               71\n",
              "United States          50\n",
              "London                 45\n",
              "Canada                 29\n",
              "                     ... \n",
              "Lebanon, Tennessee      1\n",
              "DC Metro area           1\n",
              "Reality                 1\n",
              "Louavul, KY             1\n",
              "right next to you       1\n",
              "Name: location, Length: 3341, dtype: int64"
            ]
          },
          "metadata": {
            "tags": []
          },
          "execution_count": 12
        }
      ]
    },
    {
      "cell_type": "markdown",
      "metadata": {
        "id": "AJcyF8xIuOlq",
        "colab_type": "text"
      },
      "source": [
        "##**Data Cleaning**\n",
        "\n",
        "\n",
        "*   Making all uppercase to lowercase\n",
        "*   Removing noise from tweets\n",
        "\n",
        "  *   URLs\n",
        "  *   HTML tags\n",
        "  *   emogis\n",
        "  *   Punctuation\n",
        "  *   New-Line\n",
        "  *   Removing Digits\n",
        "*   Tokenization: Converting normal text string into a list of tokens/words\n",
        "*   Stopwords removal (optional)\n"
      ]
    },
    {
      "cell_type": "code",
      "metadata": {
        "id": "nqTR5FZZuKwj",
        "colab_type": "code",
        "colab": {}
      },
      "source": [
        "#function to remove noise from text\n",
        "def clean_text(text):\n",
        "    text = text.lower() #convert to lowercase to maintain standard flow between text\n",
        "    text = re.sub('\\[.*?\\]', '', text) #removing text in square brackets\n",
        "    text = re.sub('https?://\\S+|www\\.\\S+', '', text) #removing url\n",
        "    text = re.sub('<.*?>+', '', text) #removing html tags\n",
        "    text = re.sub('[%s]' % re.escape(string.punctuation), '', text) #removing puntuations\n",
        "    text = re.sub('\\n', '', text)#removing new line from the text field\n",
        "    text = re.sub('\\w*\\d\\w*', '', text) #removing digits from the string\n",
        "    return text\n",
        "\n",
        "train_df['text'] = train_df['text'].apply(lambda x : clean_text(x))\n",
        "test_df['text'] = test_df['text'].apply(lambda x : clean_text(x))"
      ],
      "execution_count": 0,
      "outputs": []
    },
    {
      "cell_type": "code",
      "metadata": {
        "id": "t7pqPAZ0uTqU",
        "colab_type": "code",
        "colab": {}
      },
      "source": [
        "#function to remove emoji's\n",
        "def remove_emoji(text):\n",
        "    emoji_pattern = re.compile(\"[\"\n",
        "                           u\"\\U0001F600-\\U0001F64F\"  # emoticons\n",
        "                           u\"\\U0001F300-\\U0001F5FF\"  # symbols & pictographs\n",
        "                           u\"\\U0001F680-\\U0001F6FF\"  # transport & map symbols\n",
        "                           u\"\\U0001F1E0-\\U0001F1FF\"  # flags (iOS)\n",
        "                           u\"\\U00002702-\\U000027B0\"\n",
        "                           u\"\\U000024C2-\\U0001F251\"\n",
        "                            \"]+\", flags=re.UNICODE)\n",
        "    return emoji_pattern.sub(r'', text)\n",
        "\n",
        "train_df['text']=train_df['text'].apply(lambda x: remove_emoji(x))\n",
        "test_df['text']=test_df['text'].apply(lambda x: remove_emoji(x))"
      ],
      "execution_count": 0,
      "outputs": []
    },
    {
      "cell_type": "code",
      "metadata": {
        "id": "anhmAEpLuUjs",
        "colab_type": "code",
        "colab": {}
      },
      "source": [
        "#adding new column with the count of words in a single row\n",
        "train_df['word_count'] = train_df['text'].str.split().map(len)\n",
        "\n",
        "#only using the rows with word count more than 0\n",
        "train_df = train_df[train_df['word_count'] > 0]\n",
        "\n",
        "#moving forward with 2 column from dataset , i.e., text and target\n",
        "train_df = train_df[[\"text\",\"target\"]]\n",
        "test_df = test_df[[\"text\"]]"
      ],
      "execution_count": 0,
      "outputs": []
    },
    {
      "cell_type": "code",
      "metadata": {
        "id": "MCg5FiV9kSG4",
        "colab_type": "code",
        "colab": {
          "base_uri": "https://localhost:8080/",
          "height": 419
        },
        "outputId": "e5dd7ebc-8ce6-434b-f8e7-01b01df95670"
      },
      "source": [
        "train_df"
      ],
      "execution_count": 16,
      "outputs": [
        {
          "output_type": "execute_result",
          "data": {
            "text/html": [
              "<div>\n",
              "<style scoped>\n",
              "    .dataframe tbody tr th:only-of-type {\n",
              "        vertical-align: middle;\n",
              "    }\n",
              "\n",
              "    .dataframe tbody tr th {\n",
              "        vertical-align: top;\n",
              "    }\n",
              "\n",
              "    .dataframe thead th {\n",
              "        text-align: right;\n",
              "    }\n",
              "</style>\n",
              "<table border=\"1\" class=\"dataframe\">\n",
              "  <thead>\n",
              "    <tr style=\"text-align: right;\">\n",
              "      <th></th>\n",
              "      <th>text</th>\n",
              "      <th>target</th>\n",
              "    </tr>\n",
              "  </thead>\n",
              "  <tbody>\n",
              "    <tr>\n",
              "      <th>0</th>\n",
              "      <td>our deeds are the reason of this earthquake ma...</td>\n",
              "      <td>1</td>\n",
              "    </tr>\n",
              "    <tr>\n",
              "      <th>1</th>\n",
              "      <td>forest fire near la ronge sask canada</td>\n",
              "      <td>1</td>\n",
              "    </tr>\n",
              "    <tr>\n",
              "      <th>2</th>\n",
              "      <td>all residents asked to shelter in place are be...</td>\n",
              "      <td>1</td>\n",
              "    </tr>\n",
              "    <tr>\n",
              "      <th>3</th>\n",
              "      <td>people receive wildfires evacuation orders in...</td>\n",
              "      <td>1</td>\n",
              "    </tr>\n",
              "    <tr>\n",
              "      <th>4</th>\n",
              "      <td>just got sent this photo from ruby alaska as s...</td>\n",
              "      <td>1</td>\n",
              "    </tr>\n",
              "    <tr>\n",
              "      <th>...</th>\n",
              "      <td>...</td>\n",
              "      <td>...</td>\n",
              "    </tr>\n",
              "    <tr>\n",
              "      <th>7608</th>\n",
              "      <td>two giant cranes holding a bridge collapse int...</td>\n",
              "      <td>1</td>\n",
              "    </tr>\n",
              "    <tr>\n",
              "      <th>7609</th>\n",
              "      <td>ariaahrary thetawniest the out of control wild...</td>\n",
              "      <td>1</td>\n",
              "    </tr>\n",
              "    <tr>\n",
              "      <th>7610</th>\n",
              "      <td>s of volcano hawaii</td>\n",
              "      <td>1</td>\n",
              "    </tr>\n",
              "    <tr>\n",
              "      <th>7611</th>\n",
              "      <td>police investigating after an ebike collided w...</td>\n",
              "      <td>1</td>\n",
              "    </tr>\n",
              "    <tr>\n",
              "      <th>7612</th>\n",
              "      <td>the latest more homes razed by northern califo...</td>\n",
              "      <td>1</td>\n",
              "    </tr>\n",
              "  </tbody>\n",
              "</table>\n",
              "<p>7612 rows × 2 columns</p>\n",
              "</div>"
            ],
            "text/plain": [
              "                                                   text  target\n",
              "0     our deeds are the reason of this earthquake ma...       1\n",
              "1                 forest fire near la ronge sask canada       1\n",
              "2     all residents asked to shelter in place are be...       1\n",
              "3      people receive wildfires evacuation orders in...       1\n",
              "4     just got sent this photo from ruby alaska as s...       1\n",
              "...                                                 ...     ...\n",
              "7608  two giant cranes holding a bridge collapse int...       1\n",
              "7609  ariaahrary thetawniest the out of control wild...       1\n",
              "7610                               s of volcano hawaii        1\n",
              "7611  police investigating after an ebike collided w...       1\n",
              "7612  the latest more homes razed by northern califo...       1\n",
              "\n",
              "[7612 rows x 2 columns]"
            ]
          },
          "metadata": {
            "tags": []
          },
          "execution_count": 16
        }
      ]
    },
    {
      "cell_type": "markdown",
      "metadata": {
        "id": "jRZMlqA-kIg_",
        "colab_type": "text"
      },
      "source": [
        "### Stemming\n",
        "\n",
        "This part is still a work in progress"
      ]
    },
    {
      "cell_type": "code",
      "metadata": {
        "id": "2nJOzBHpkIQA",
        "colab_type": "code",
        "colab": {}
      },
      "source": [
        "snowball = nltk.stem.SnowballStemmer(language='english')\n",
        "def text_stemming(text):\n",
        "  tokenizer = nltk.tokenize.TreebankWordTokenizer()\n",
        "  text_token = tokenizer.tokenize(text)\n",
        "  stem_word = [snowball.stem(x) for x in text_token]\n",
        "  return stem_word"
      ],
      "execution_count": 0,
      "outputs": []
    },
    {
      "cell_type": "code",
      "metadata": {
        "id": "8LvD29H7kXcs",
        "colab_type": "code",
        "colab": {}
      },
      "source": [
        "train_df['stemmed'] = train_df['text'].apply(text_stemming)\n",
        "train_df['stemmed'] = [\" \".join(word) for word in train_df['stemmed']]"
      ],
      "execution_count": 0,
      "outputs": []
    },
    {
      "cell_type": "markdown",
      "metadata": {
        "id": "P62iFHyaB8_2",
        "colab_type": "text"
      },
      "source": [
        "## **Data Preprocessing**\n",
        "\n",
        "*   One Hot coding\n",
        "*   Word Embedding\n",
        "\n"
      ]
    },
    {
      "cell_type": "markdown",
      "metadata": {
        "id": "NCCyc7b1ufdy",
        "colab_type": "text"
      },
      "source": [
        "### Vectorized"
      ]
    },
    {
      "cell_type": "code",
      "metadata": {
        "id": "IUbhPYIX8TJm",
        "colab_type": "code",
        "colab": {}
      },
      "source": [
        "# Split train dataset for cross validation and create token\n",
        "training_sentences = [ i for i in train_df.text[:6000]]\n",
        "test_sentences = [i for i in train_df.text[6000:]]\n",
        "                  \n",
        "training_labels = [ i for i in train_df.target[:6000]]\n",
        "test_labels = [i for i in train_df.target[6000:]]\n",
        "\n",
        "tokenizer = Tokenizer(num_words=10000,oov_token=\"<OOV>\")\n",
        "tokenizer.fit_on_texts(training_sentences)\n",
        "word_index = tokenizer.word_index"
      ],
      "execution_count": 0,
      "outputs": []
    },
    {
      "cell_type": "code",
      "metadata": {
        "id": "UeylUeg0M54L",
        "colab_type": "code",
        "colab": {}
      },
      "source": [
        "# Encode sentences \n",
        "training_sequences = tokenizer.texts_to_sequences(training_sentences)\n",
        "test_sequences = tokenizer.texts_to_sequences(test_sentences)\n",
        "\n",
        "# Padding\n",
        "training_padded = pad_sequences(training_sequences,padding='post')\n",
        "test_padded = pad_sequences(test_sequences,padding='post')"
      ],
      "execution_count": 0,
      "outputs": []
    },
    {
      "cell_type": "code",
      "metadata": {
        "id": "koXskAt0MrwC",
        "colab_type": "code",
        "colab": {
          "base_uri": "https://localhost:8080/",
          "height": 34
        },
        "outputId": "4b9bc94c-6b0c-43b2-a3db-f92499f729c6"
      },
      "source": [
        "# From index to sentence\n",
        "reverse_word_index = dict([(value, key) for (key, value) in word_index.items()])\n",
        "print(\"Original review: \", ' '.join([reverse_word_index.get(i, '?') for i in training_sequences[0]]))"
      ],
      "execution_count": 21,
      "outputs": [
        {
          "output_type": "stream",
          "text": [
            "Original review:  our deeds are the reason of this earthquake may allah forgive us all\n"
          ],
          "name": "stdout"
        }
      ]
    },
    {
      "cell_type": "code",
      "metadata": {
        "id": "jhaZr7oJNpAq",
        "colab_type": "code",
        "colab": {}
      },
      "source": [
        "# Custom implementation of one-hot-encoding\n",
        "def vectorize_sequences(sequences, dimension=10000):\n",
        "    results = np.zeros((len(sequences), dimension))\n",
        "    for i, sequence in enumerate(sequences):\n",
        "        results[i, sequence] = 1.  # set specific indices of results[i] to 1s\n",
        "    return results"
      ],
      "execution_count": 0,
      "outputs": []
    },
    {
      "cell_type": "code",
      "metadata": {
        "id": "MUBellMpOEkq",
        "colab_type": "code",
        "colab": {}
      },
      "source": [
        "x_train = vectorize_sequences(training_sequences, dimension=len(word_index))\n",
        "x_test = vectorize_sequences(test_sequences, dimension=len(word_index))\n",
        "y_train = np.asarray(training_labels).astype('float32')\n",
        "y_test = np.asarray(test_labels).astype('float32')"
      ],
      "execution_count": 0,
      "outputs": []
    },
    {
      "cell_type": "markdown",
      "metadata": {
        "id": "lXfWhh4-AaFR",
        "colab_type": "text"
      },
      "source": [
        "## **Linear Model**\n"
      ]
    },
    {
      "cell_type": "code",
      "metadata": {
        "id": "ONs1MeWLAi-i",
        "colab_type": "code",
        "colab": {
          "base_uri": "https://localhost:8080/",
          "height": 85
        },
        "outputId": "c5aab762-3f80-4cae-a3bc-d7af526e7ed5"
      },
      "source": [
        "logreg = LogisticRegression()\n",
        "logreg_scores = cross_validate(logreg, x_train, y_train, cv=5, scoring=\"f1\", n_jobs=-1, return_train_score=True)\n",
        "logreg_scores"
      ],
      "execution_count": 24,
      "outputs": [
        {
          "output_type": "execute_result",
          "data": {
            "text/plain": [
              "{'fit_time': array([15.966501  , 17.60741234, 16.18627   , 14.95000291,  9.0760448 ]),\n",
              " 'score_time': array([0.05304193, 0.06006598, 0.05713105, 0.0538795 , 0.02613282]),\n",
              " 'test_score': array([0.63461538, 0.52548131, 0.57266811, 0.6       , 0.63255814]),\n",
              " 'train_score': array([0.93604951, 0.93555841, 0.93666323, 0.94374518, 0.93978991])}"
            ]
          },
          "metadata": {
            "tags": []
          },
          "execution_count": 24
        }
      ]
    },
    {
      "cell_type": "code",
      "metadata": {
        "id": "g2GlZS_F8gC0",
        "colab_type": "code",
        "colab": {
          "base_uri": "https://localhost:8080/",
          "height": 34
        },
        "outputId": "8636ad59-2d82-42a8-92b8-36f6f220353b"
      },
      "source": [
        "logreg_scores['test_score'].mean()"
      ],
      "execution_count": 25,
      "outputs": [
        {
          "output_type": "execute_result",
          "data": {
            "text/plain": [
              "0.5930645901303635"
            ]
          },
          "metadata": {
            "tags": []
          },
          "execution_count": 25
        }
      ]
    },
    {
      "cell_type": "markdown",
      "metadata": {
        "id": "UK7oKVHHWfwC",
        "colab_type": "text"
      },
      "source": [
        "## **Building the Neural Network**"
      ]
    },
    {
      "cell_type": "markdown",
      "metadata": {
        "id": "QFHPA-sGt73H",
        "colab_type": "text"
      },
      "source": [
        "### Vectorized feature"
      ]
    },
    {
      "cell_type": "code",
      "metadata": {
        "id": "rlrGUioGWrSP",
        "colab_type": "code",
        "colab": {}
      },
      "source": [
        "model_vec = tf.keras.Sequential()\n",
        "model_vec.add(tf.keras.layers.Dense(16, activation='relu', input_shape=(len(word_index),)))\n",
        "model_vec.add(tf.keras.layers.Dense(16, activation='relu'))\n",
        "model_vec.add(tf.keras.layers.Dense(1, activation='sigmoid'))\n",
        "\n",
        "model_vec.compile(optimizer='rmsprop',\n",
        "              loss='binary_crossentropy',\n",
        "              metrics=['accuracy'])"
      ],
      "execution_count": 0,
      "outputs": []
    },
    {
      "cell_type": "code",
      "metadata": {
        "id": "5DnrSdBYX75G",
        "colab_type": "code",
        "colab": {
          "base_uri": "https://localhost:8080/",
          "height": 714
        },
        "outputId": "1dce7237-915b-4ce0-e2b5-3b7066ac19e2"
      },
      "source": [
        "history_vec = model_vec.fit(x_train, y_train,\n",
        "                    epochs=20, batch_size=512, verbose=2,\n",
        "                    validation_data=(x_test, y_test))"
      ],
      "execution_count": 27,
      "outputs": [
        {
          "output_type": "stream",
          "text": [
            "Train on 6000 samples, validate on 1612 samples\n",
            "Epoch 1/20\n",
            "6000/6000 - 1s - loss: 0.6668 - accuracy: 0.6063 - val_loss: 0.6530 - val_accuracy: 0.5713\n",
            "Epoch 2/20\n",
            "6000/6000 - 1s - loss: 0.5968 - accuracy: 0.7528 - val_loss: 0.6156 - val_accuracy: 0.7053\n",
            "Epoch 3/20\n",
            "6000/6000 - 1s - loss: 0.5348 - accuracy: 0.8172 - val_loss: 0.5873 - val_accuracy: 0.7506\n",
            "Epoch 4/20\n",
            "6000/6000 - 1s - loss: 0.4803 - accuracy: 0.8500 - val_loss: 0.5634 - val_accuracy: 0.7655\n",
            "Epoch 5/20\n",
            "6000/6000 - 1s - loss: 0.4302 - accuracy: 0.8683 - val_loss: 0.5414 - val_accuracy: 0.7885\n",
            "Epoch 6/20\n",
            "6000/6000 - 1s - loss: 0.3847 - accuracy: 0.8877 - val_loss: 0.5253 - val_accuracy: 0.7878\n",
            "Epoch 7/20\n",
            "6000/6000 - 1s - loss: 0.3425 - accuracy: 0.9017 - val_loss: 0.5145 - val_accuracy: 0.7872\n",
            "Epoch 8/20\n",
            "6000/6000 - 1s - loss: 0.3060 - accuracy: 0.9102 - val_loss: 0.5032 - val_accuracy: 0.7823\n",
            "Epoch 9/20\n",
            "6000/6000 - 1s - loss: 0.2741 - accuracy: 0.9168 - val_loss: 0.4996 - val_accuracy: 0.7748\n",
            "Epoch 10/20\n",
            "6000/6000 - 1s - loss: 0.2460 - accuracy: 0.9248 - val_loss: 0.5010 - val_accuracy: 0.7767\n",
            "Epoch 11/20\n",
            "6000/6000 - 1s - loss: 0.2226 - accuracy: 0.9312 - val_loss: 0.5059 - val_accuracy: 0.7699\n",
            "Epoch 12/20\n",
            "6000/6000 - 1s - loss: 0.2016 - accuracy: 0.9363 - val_loss: 0.5132 - val_accuracy: 0.7649\n",
            "Epoch 13/20\n",
            "6000/6000 - 1s - loss: 0.1832 - accuracy: 0.9413 - val_loss: 0.5258 - val_accuracy: 0.7581\n",
            "Epoch 14/20\n",
            "6000/6000 - 1s - loss: 0.1675 - accuracy: 0.9460 - val_loss: 0.5386 - val_accuracy: 0.7587\n",
            "Epoch 15/20\n",
            "6000/6000 - 1s - loss: 0.1527 - accuracy: 0.9512 - val_loss: 0.5548 - val_accuracy: 0.7574\n",
            "Epoch 16/20\n",
            "6000/6000 - 1s - loss: 0.1402 - accuracy: 0.9533 - val_loss: 0.5789 - val_accuracy: 0.7562\n",
            "Epoch 17/20\n",
            "6000/6000 - 1s - loss: 0.1292 - accuracy: 0.9562 - val_loss: 0.5994 - val_accuracy: 0.7556\n",
            "Epoch 18/20\n",
            "6000/6000 - 1s - loss: 0.1185 - accuracy: 0.9600 - val_loss: 0.6251 - val_accuracy: 0.7506\n",
            "Epoch 19/20\n",
            "6000/6000 - 1s - loss: 0.1103 - accuracy: 0.9627 - val_loss: 0.6501 - val_accuracy: 0.7506\n",
            "Epoch 20/20\n",
            "6000/6000 - 1s - loss: 0.1027 - accuracy: 0.9650 - val_loss: 0.6770 - val_accuracy: 0.7500\n"
          ],
          "name": "stdout"
        }
      ]
    },
    {
      "cell_type": "code",
      "metadata": {
        "id": "8-UuXCtNYJc_",
        "colab_type": "code",
        "colab": {
          "base_uri": "https://localhost:8080/",
          "height": 369
        },
        "outputId": "2e2f5190-91d9-4a33-dead-6b7b527b96ac"
      },
      "source": [
        "import matplotlib.pyplot as plt\n",
        "fig = plt.figure(figsize=(10,5))\n",
        "plt.subplot(2,1,1)\n",
        "plt.plot(history_vec.history['accuracy'])\n",
        "plt.plot(history_vec.history['val_accuracy'])\n",
        "plt.title('model accuracy')\n",
        "plt.ylabel('accuracy')\n",
        "plt.xlabel('epoch')\n",
        "plt.legend(['train', 'test'], loc='lower right')\n",
        "\n",
        "plt.subplot(2,1,2)\n",
        "plt.plot(history_vec.history['loss'])\n",
        "plt.plot(history_vec.history['val_loss'])\n",
        "plt.title('model loss')\n",
        "plt.ylabel('loss')\n",
        "plt.xlabel('epoch')\n",
        "plt.legend(['train', 'test'], loc='upper right')\n",
        "\n",
        "plt.tight_layout()"
      ],
      "execution_count": 28,
      "outputs": [
        {
          "output_type": "display_data",
          "data": {
            "image/png": "[encoded data removed]",
            "text/plain": [
              "<Figure size 720x360 with 2 Axes>"
            ]
          },
          "metadata": {
            "tags": []
          }
        }
      ]
    },
    {
      "cell_type": "code",
      "metadata": {
        "id": "S1arqe6S73vl",
        "colab_type": "code",
        "colab": {
          "base_uri": "https://localhost:8080/",
          "height": 85
        },
        "outputId": "5002d309-4dd6-4707-e60d-733502fb8622"
      },
      "source": [
        "print('\\n# Evaluate on test data')\n",
        "results = model_vec.evaluate(x_test, y_test, batch_size=128)\n",
        "print('test loss, test acc:', results)"
      ],
      "execution_count": 29,
      "outputs": [
        {
          "output_type": "stream",
          "text": [
            "\n",
            "# Evaluate on test data\n",
            "1612/1612 [==============================] - 0s 74us/sample - loss: 0.6770 - accuracy: 0.7500\n",
            "test loss, test acc: [0.6769819213054317, 0.75]\n"
          ],
          "name": "stdout"
        }
      ]
    },
    {
      "cell_type": "markdown",
      "metadata": {
        "colab_type": "text",
        "id": "XUkjWqm7V8RO"
      },
      "source": [
        "### **Word Embedding** \n",
        "Tensorflow model\n"
      ]
    },
    {
      "cell_type": "code",
      "metadata": {
        "id": "dYtFntwo9Q5i",
        "colab_type": "code",
        "colab": {}
      },
      "source": [
        "training_padded = np.array(training_padded)\n",
        "training_labels = np.array(training_labels)\n",
        "\n",
        "test_padded = np.array(test_padded)\n",
        "test_labels = np.array(test_labels)"
      ],
      "execution_count": 0,
      "outputs": []
    },
    {
      "cell_type": "code",
      "metadata": {
        "id": "Nd21kWvxu-Il",
        "colab_type": "code",
        "colab": {}
      },
      "source": [
        "model_embed = tf.keras.Sequential([\n",
        "    tf.keras.layers.Embedding(len(word_index), 32),\n",
        "    tf.keras.layers.GlobalAveragePooling1D(),\n",
        "    tf.keras.layers.Dense(32, activation='relu'),\n",
        "    tf.keras.layers.Dense(16,activation='relu'),\n",
        "    tf.keras.layers.Dense(1, activation='sigmoid')\n",
        "])\n",
        "model_embed.compile(loss='binary_crossentropy',optimizer='rmsprop',metrics=['accuracy'])"
      ],
      "execution_count": 0,
      "outputs": []
    },
    {
      "cell_type": "code",
      "metadata": {
        "id": "JzjfPCQdvAoD",
        "colab_type": "code",
        "outputId": "ebceaec9-33e8-475f-8202-2d3e5581011b",
        "colab": {
          "base_uri": "https://localhost:8080/",
          "height": 323
        }
      },
      "source": [
        "model_embed.summary()"
      ],
      "execution_count": 32,
      "outputs": [
        {
          "output_type": "stream",
          "text": [
            "Model: \"sequential_1\"\n",
            "_________________________________________________________________\n",
            "Layer (type)                 Output Shape              Param #   \n",
            "=================================================================\n",
            "embedding (Embedding)        (None, None, 32)          458080    \n",
            "_________________________________________________________________\n",
            "global_average_pooling1d (Gl (None, 32)                0         \n",
            "_________________________________________________________________\n",
            "dense_3 (Dense)              (None, 32)                1056      \n",
            "_________________________________________________________________\n",
            "dense_4 (Dense)              (None, 16)                528       \n",
            "_________________________________________________________________\n",
            "dense_5 (Dense)              (None, 1)                 17        \n",
            "=================================================================\n",
            "Total params: 459,681\n",
            "Trainable params: 459,681\n",
            "Non-trainable params: 0\n",
            "_________________________________________________________________\n"
          ],
          "name": "stdout"
        }
      ]
    },
    {
      "cell_type": "code",
      "metadata": {
        "id": "I2EgVo7GvCMz",
        "colab_type": "code",
        "outputId": "b4d6c21d-488b-4152-e745-0204884d7f64",
        "colab": {
          "base_uri": "https://localhost:8080/",
          "height": 714
        }
      },
      "source": [
        "num_epochs = 20\n",
        "history_embed = model_embed.fit(training_padded, training_labels, epochs=num_epochs, validation_data=(test_padded, test_labels), verbose=2)"
      ],
      "execution_count": 33,
      "outputs": [
        {
          "output_type": "stream",
          "text": [
            "Train on 6000 samples, validate on 1612 samples\n",
            "Epoch 1/20\n",
            "6000/6000 - 1s - loss: 0.6543 - accuracy: 0.6020 - val_loss: 0.6363 - val_accuracy: 0.5974\n",
            "Epoch 2/20\n",
            "6000/6000 - 1s - loss: 0.5038 - accuracy: 0.7890 - val_loss: 0.5156 - val_accuracy: 0.7736\n",
            "Epoch 3/20\n",
            "6000/6000 - 1s - loss: 0.4024 - accuracy: 0.8325 - val_loss: 0.4833 - val_accuracy: 0.7816\n",
            "Epoch 4/20\n",
            "6000/6000 - 1s - loss: 0.3547 - accuracy: 0.8560 - val_loss: 0.4790 - val_accuracy: 0.7816\n",
            "Epoch 5/20\n",
            "6000/6000 - 1s - loss: 0.3256 - accuracy: 0.8650 - val_loss: 0.4867 - val_accuracy: 0.7804\n",
            "Epoch 6/20\n",
            "6000/6000 - 1s - loss: 0.3066 - accuracy: 0.8780 - val_loss: 0.4806 - val_accuracy: 0.7723\n",
            "Epoch 7/20\n",
            "6000/6000 - 1s - loss: 0.2915 - accuracy: 0.8863 - val_loss: 0.4882 - val_accuracy: 0.7705\n",
            "Epoch 8/20\n",
            "6000/6000 - 1s - loss: 0.2781 - accuracy: 0.8907 - val_loss: 0.4974 - val_accuracy: 0.7674\n",
            "Epoch 9/20\n",
            "6000/6000 - 1s - loss: 0.2684 - accuracy: 0.8952 - val_loss: 0.5043 - val_accuracy: 0.7748\n",
            "Epoch 10/20\n",
            "6000/6000 - 1s - loss: 0.2586 - accuracy: 0.9000 - val_loss: 0.5157 - val_accuracy: 0.7612\n",
            "Epoch 11/20\n",
            "6000/6000 - 1s - loss: 0.2518 - accuracy: 0.9033 - val_loss: 0.5274 - val_accuracy: 0.7686\n",
            "Epoch 12/20\n",
            "6000/6000 - 1s - loss: 0.2465 - accuracy: 0.9063 - val_loss: 0.5247 - val_accuracy: 0.7717\n",
            "Epoch 13/20\n",
            "6000/6000 - 1s - loss: 0.2402 - accuracy: 0.9078 - val_loss: 0.5507 - val_accuracy: 0.7475\n",
            "Epoch 14/20\n",
            "6000/6000 - 1s - loss: 0.2337 - accuracy: 0.9132 - val_loss: 0.5797 - val_accuracy: 0.7345\n",
            "Epoch 15/20\n",
            "6000/6000 - 1s - loss: 0.2288 - accuracy: 0.9138 - val_loss: 0.5506 - val_accuracy: 0.7655\n",
            "Epoch 16/20\n",
            "6000/6000 - 1s - loss: 0.2252 - accuracy: 0.9160 - val_loss: 0.5563 - val_accuracy: 0.7692\n",
            "Epoch 17/20\n",
            "6000/6000 - 1s - loss: 0.2212 - accuracy: 0.9185 - val_loss: 0.5480 - val_accuracy: 0.7655\n",
            "Epoch 18/20\n",
            "6000/6000 - 1s - loss: 0.2174 - accuracy: 0.9175 - val_loss: 0.5704 - val_accuracy: 0.7649\n",
            "Epoch 19/20\n",
            "6000/6000 - 1s - loss: 0.2135 - accuracy: 0.9222 - val_loss: 0.5839 - val_accuracy: 0.7612\n",
            "Epoch 20/20\n",
            "6000/6000 - 1s - loss: 0.2097 - accuracy: 0.9233 - val_loss: 0.6356 - val_accuracy: 0.7239\n"
          ],
          "name": "stdout"
        }
      ]
    },
    {
      "cell_type": "code",
      "metadata": {
        "id": "U3GjspAu9bpB",
        "colab_type": "code",
        "colab": {
          "base_uri": "https://localhost:8080/",
          "height": 369
        },
        "outputId": "dfb58f96-f31d-4381-c622-22fc7792bad1"
      },
      "source": [
        "fig = plt.figure(figsize=(10,5))\n",
        "plt.subplot(2,1,1)\n",
        "plt.plot(history_embed.history['accuracy'])\n",
        "plt.plot(history_embed.history['val_accuracy'])\n",
        "plt.title('model accuracy')\n",
        "plt.ylabel('accuracy')\n",
        "plt.xlabel('epoch')\n",
        "plt.legend(['train', 'test'], loc='lower right')\n",
        "\n",
        "plt.subplot(2,1,2)\n",
        "plt.plot(history_embed.history['loss'])\n",
        "plt.plot(history_embed.history['val_loss'])\n",
        "plt.title('model loss')\n",
        "plt.ylabel('loss')\n",
        "plt.xlabel('epoch')\n",
        "plt.legend(['train', 'test'], loc='upper right')\n",
        "\n",
        "plt.tight_layout()"
      ],
      "execution_count": 34,
      "outputs": [
        {
          "output_type": "display_data",
          "data": {
            "image/png": "[encoded data removed]",
            "text/plain": [
              "<Figure size 720x360 with 2 Axes>"
            ]
          },
          "metadata": {
            "tags": []
          }
        }
      ]
    },
    {
      "cell_type": "code",
      "metadata": {
        "id": "8pNVjg7c9YaQ",
        "colab_type": "code",
        "colab": {
          "base_uri": "https://localhost:8080/",
          "height": 85
        },
        "outputId": "6fea5cdc-f8d8-4a76-a0e5-6650c0500d59"
      },
      "source": [
        "print('\\n# Evaluate on test data')\n",
        "results = model_embed.evaluate(test_padded, test_labels, batch_size=128)\n",
        "print('test loss, test acc:', results)"
      ],
      "execution_count": 35,
      "outputs": [
        {
          "output_type": "stream",
          "text": [
            "\n",
            "# Evaluate on test data\n",
            "1612/1612 [==============================] - 0s 16us/sample - loss: 0.6356 - accuracy: 0.7239\n",
            "test loss, test acc: [0.6356350357272194, 0.72394544]\n"
          ],
          "name": "stdout"
        }
      ]
    },
    {
      "cell_type": "markdown",
      "metadata": {
        "id": "aES_uKSyfJVb",
        "colab_type": "text"
      },
      "source": [
        "#### Retrieve the learned embeddings"
      ]
    },
    {
      "cell_type": "code",
      "metadata": {
        "id": "J95wkQCRfOdo",
        "colab_type": "code",
        "colab": {
          "base_uri": "https://localhost:8080/",
          "height": 34
        },
        "outputId": "677d128b-e13b-4e9e-92c6-5a39b25c4b60"
      },
      "source": [
        "e = model_embed.layers[0]\n",
        "weights = e.get_weights()[0]\n",
        "print(weights.shape) # shape: (vocab_size, embedding_dim)"
      ],
      "execution_count": 37,
      "outputs": [
        {
          "output_type": "stream",
          "text": [
            "(14315, 32)\n"
          ],
          "name": "stdout"
        }
      ]
    },
    {
      "cell_type": "markdown",
      "metadata": {
        "id": "oqE1FCQEfh1k",
        "colab_type": "text"
      },
      "source": [
        "## RNN\n",
        "This part is still a work in progress. Refering to RNN from tensorflow documentation"
      ]
    },
    {
      "cell_type": "markdown",
      "metadata": {
        "id": "69czEeC5nzbF",
        "colab_type": "text"
      },
      "source": [
        "# References\n",
        "\n",
        "* Exploration : https://www.kaggle.com/aaroha33/\n",
        "disaster-tweets-evaluation-with-nlp\n",
        "* RNN : https://www.tensorflow.org/tutorials/text/text_classification_rnn"
      ]
    }
  ]
}