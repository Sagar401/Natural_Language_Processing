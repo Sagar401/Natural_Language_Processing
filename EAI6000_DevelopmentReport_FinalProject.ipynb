{
 "cells": [
  {
   "cell_type": "markdown",
   "metadata": {
    "colab_type": "text",
    "id": "9Q-wKtTDUSol"
   },
   "source": [
    "# **Team: Sagar Daswani and Pimchanok Khaoputhai**\n",
    "# **EAI6000 - Foundations of AI**\n",
    "\n",
    "# Final Project"
   ]
  },
  {
   "cell_type": "markdown",
   "metadata": {
    "colab_type": "text",
    "id": "VR28ZsuStmN9"
   },
   "source": [
    "# **Real or Not? Binary Classification of Disaster Tweets**\n",
    "Kaggle Competition\n",
    "\n",
    "Nowadays, social media has become a part of our daily life. People are sharing their experience and communicate to the public through platform like Facebook and Twitter. Sometimes, these channels are used for sharing emergency matters and news. However, the problem relies on whether the message is real. If yes, then monitoring these posts will help increase people awareness in time of emergency. As a result, this project is focusing on detecting if a post on Twitter about a disaster is a real event.\n",
    "\n",
    "\n",
    "The flow of the project are as follows:\n",
    "\n",
    "*   Text cleaning\n",
    "    * Remove special characters\n",
    "    * Remove emoji\n",
    "    * Spelling correction. We have written a code to perform correction but it is time consuming therefore we do not run the code and leave it as an option to do in the future.\n",
    "*   Text preprocessing\n",
    "    * Transform text into proper format to use in the models :\n",
    "      * Vectorization, one hot coding\n",
    "      * Word Embedding\n",
    "*   Modeling\n",
    "    * Linear Model\n",
    "    * Simple Neural Network\n",
    "    * Recurrent Neural Network\n",
    "        * LSTM\n",
    "\n",
    "**Work to date**\n",
    "\n",
    "As of March 24, 2020, we have discovered that word embedding works better than word vectoization. We also found a pre-trained embedding, GloVe developed by Standford. We are exploring the two different word embedding model one from keras and one from Glove. We built different models focusing more on RNN with different architecture. Below is the model development progress. We tried different model architecture to see which one gives more accuracy.\n",
    "\n",
    "- Logistic Regression = 0.59\n",
    "- Neural Network with vectorized feature test accuracy = 0.72\n",
    "- Neural Network with embedded feature test accuracy = 0.75\n",
    "- RNN from scratch = 0.72\n",
    "- RNN LSTM increase dimensionality with GloVe = 0.53\n",
    "- RNN LSTM reduce dimensionality with GloVe = 0.78\n",
    "- RNN LSTM stack layer with GloVe = 0.76\n",
    "- RNN LSTM = 0.72\n",
    "\n",
    "For each model we only run 10 epochs as it is time consuming. Previously, we run 10 epochs for our baseline model which is NN with embeded features but it seems to overfit. Hence, the later model are built with some regularization to deal with overfitting. We build RNN LSTM successively with different architecture from expanding dimension to reducing and stacking to see which would work best.\n",
    "\n",
    "**Future Scope**\n",
    "- Stick to only a few models then play with hyper parameters to see if tuning help increase the accuracy more than chaning the architecture"
   ]
  },
  {
   "cell_type": "code",
   "execution_count": 1,
   "metadata": {
    "colab": {
     "base_uri": "https://localhost:8080/",
     "height": 34
    },
    "colab_type": "code",
    "id": "SVe3Wea9W8Fe",
    "outputId": "b375be1a-0b8d-472a-f123-d4668cd4c301"
   },
   "outputs": [],
   "source": [
    "# Run this to ensure TensorFlow 2.x is used\n",
    "try:\n",
    "  # %tensorflow_version only exists in Colab.\n",
    "  %tensorflow_version 2.x\n",
    "except Exception:\n",
    "  pass"
   ]
  },
  {
   "cell_type": "code",
   "execution_count": 62,
   "metadata": {
    "colab": {},
    "colab_type": "code",
    "id": "LjzRX-niUNyM"
   },
   "outputs": [],
   "source": [
    "import pandas as pd\n",
    "import numpy as np\n",
    "import seaborn as sns\n",
    "import matplotlib.pyplot as plt\n",
    "\n",
    "from nltk.tokenize import word_tokenize\n",
    "import re\n",
    "import string\n",
    "import nltk\n",
    "from nltk.corpus import stopwords\n",
    "\n",
    "# sklearn \n",
    "from sklearn.feature_extraction.text import CountVectorizer,TfidfVectorizer\n",
    "from sklearn.linear_model import LogisticRegression\n",
    "from sklearn.metrics import f1_score\n",
    "from sklearn import preprocessing, decomposition, model_selection, metrics, pipeline\n",
    "from sklearn.model_selection import GridSearchCV, StratifiedKFold, RandomizedSearchCV, train_test_split, cross_validate\n",
    "\n",
    "import tensorflow as tf\n",
    "from tensorflow import keras\n",
    "from keras.preprocessing.text import Tokenizer\n",
    "from keras.preprocessing.sequence import pad_sequences\n",
    "from tqdm import tqdm\n",
    "from keras.models import Sequential\n",
    "from keras.layers import Embedding,LSTM,Dense,SpatialDropout1D, GlobalAveragePooling1D, Bidirectional, Dropout\n",
    "from keras.initializers import Constant\n",
    "from sklearn.model_selection import train_test_split\n",
    "from keras.optimizers import Adam\n",
    "  "
   ]
  },
  {
   "cell_type": "markdown",
   "metadata": {
    "colab_type": "text",
    "id": "VMNsPQOe3696"
   },
   "source": [
    "## Import Dataset"
   ]
  },
  {
   "cell_type": "code",
   "execution_count": 3,
   "metadata": {
    "colab": {},
    "colab_type": "code",
    "id": "rilMQ9Aqt_W9"
   },
   "outputs": [],
   "source": [
    "# import the data\n",
    "train_df = pd.read_csv(\"train.csv\")\n",
    "test_df = pd.read_csv(\"test.csv\")"
   ]
  },
  {
   "cell_type": "code",
   "execution_count": 4,
   "metadata": {
    "colab": {
     "base_uri": "https://localhost:8080/",
     "height": 204
    },
    "colab_type": "code",
    "id": "FmbBWFm9uBd0",
    "outputId": "7217cbbd-f4c1-4b63-fe8a-34ed102d686d"
   },
   "outputs": [
    {
     "data": {
      "text/html": [
       "<div>\n",
       "<style scoped>\n",
       "    .dataframe tbody tr th:only-of-type {\n",
       "        vertical-align: middle;\n",
       "    }\n",
       "\n",
       "    .dataframe tbody tr th {\n",
       "        vertical-align: top;\n",
       "    }\n",
       "\n",
       "    .dataframe thead th {\n",
       "        text-align: right;\n",
       "    }\n",
       "</style>\n",
       "<table border=\"1\" class=\"dataframe\">\n",
       "  <thead>\n",
       "    <tr style=\"text-align: right;\">\n",
       "      <th></th>\n",
       "      <th>id</th>\n",
       "      <th>keyword</th>\n",
       "      <th>location</th>\n",
       "      <th>text</th>\n",
       "      <th>target</th>\n",
       "    </tr>\n",
       "  </thead>\n",
       "  <tbody>\n",
       "    <tr>\n",
       "      <th>0</th>\n",
       "      <td>1</td>\n",
       "      <td>NaN</td>\n",
       "      <td>NaN</td>\n",
       "      <td>Our Deeds are the Reason of this #earthquake M...</td>\n",
       "      <td>1</td>\n",
       "    </tr>\n",
       "    <tr>\n",
       "      <th>1</th>\n",
       "      <td>4</td>\n",
       "      <td>NaN</td>\n",
       "      <td>NaN</td>\n",
       "      <td>Forest fire near La Ronge Sask. Canada</td>\n",
       "      <td>1</td>\n",
       "    </tr>\n",
       "    <tr>\n",
       "      <th>2</th>\n",
       "      <td>5</td>\n",
       "      <td>NaN</td>\n",
       "      <td>NaN</td>\n",
       "      <td>All residents asked to 'shelter in place' are ...</td>\n",
       "      <td>1</td>\n",
       "    </tr>\n",
       "    <tr>\n",
       "      <th>3</th>\n",
       "      <td>6</td>\n",
       "      <td>NaN</td>\n",
       "      <td>NaN</td>\n",
       "      <td>13,000 people receive #wildfires evacuation or...</td>\n",
       "      <td>1</td>\n",
       "    </tr>\n",
       "    <tr>\n",
       "      <th>4</th>\n",
       "      <td>7</td>\n",
       "      <td>NaN</td>\n",
       "      <td>NaN</td>\n",
       "      <td>Just got sent this photo from Ruby #Alaska as ...</td>\n",
       "      <td>1</td>\n",
       "    </tr>\n",
       "  </tbody>\n",
       "</table>\n",
       "</div>"
      ],
      "text/plain": [
       "   id keyword location                                               text  \\\n",
       "0   1     NaN      NaN  Our Deeds are the Reason of this #earthquake M...   \n",
       "1   4     NaN      NaN             Forest fire near La Ronge Sask. Canada   \n",
       "2   5     NaN      NaN  All residents asked to 'shelter in place' are ...   \n",
       "3   6     NaN      NaN  13,000 people receive #wildfires evacuation or...   \n",
       "4   7     NaN      NaN  Just got sent this photo from Ruby #Alaska as ...   \n",
       "\n",
       "   target  \n",
       "0       1  \n",
       "1       1  \n",
       "2       1  \n",
       "3       1  \n",
       "4       1  "
      ]
     },
     "execution_count": 4,
     "metadata": {},
     "output_type": "execute_result"
    }
   ],
   "source": [
    "#Looking at first few rows of dataset\n",
    "train_df.head()"
   ]
  },
  {
   "cell_type": "markdown",
   "metadata": {},
   "source": [
    "## Data Exploration and visualization"
   ]
  },
  {
   "cell_type": "code",
   "execution_count": 5,
   "metadata": {
    "colab": {
     "base_uri": "https://localhost:8080/",
     "height": 51
    },
    "colab_type": "code",
    "id": "PMmLGqsDuDEU",
    "outputId": "6fa1eafa-e327-42df-866c-16e48df526e9"
   },
   "outputs": [
    {
     "name": "stdout",
     "output_type": "stream",
     "text": [
      "Training Dataset Size: (7613, 5)\n",
      "Test Dataset Size: (3263, 4)\n"
     ]
    }
   ],
   "source": [
    "print(\"Training Dataset Size:\",train_df.shape)\n",
    "print(\"Test Dataset Size:\",test_df.shape)"
   ]
  },
  {
   "cell_type": "code",
   "execution_count": 6,
   "metadata": {},
   "outputs": [],
   "source": [
    "#function to plot bar graph\n",
    "\n",
    "def plot_bar(x):\n",
    "  sns.barplot(x.index,x)\n",
    "  plt.gca().set_ylabel('samples')"
   ]
  },
  {
   "cell_type": "code",
   "execution_count": 7,
   "metadata": {},
   "outputs": [
    {
     "data": {
      "image/png": "[encoded data removed]",
      "text/plain": [
       "<Figure size 432x288 with 1 Axes>"
      ]
     },
     "metadata": {
      "needs_background": "light"
     },
     "output_type": "display_data"
    }
   ],
   "source": [
    "#missing values in training dataset\n",
    "x = train_df.isnull().sum()\n",
    "plot_bar(x)"
   ]
  },
  {
   "cell_type": "markdown",
   "metadata": {},
   "source": [
    "There are a lot of missing value in location column. However, as we are focusing on text, we would say there is no missing value. Text anad target has no missing value"
   ]
  },
  {
   "cell_type": "code",
   "execution_count": 8,
   "metadata": {
    "colab": {
     "base_uri": "https://localhost:8080/",
     "height": 119
    },
    "colab_type": "code",
    "id": "_5puA8HnuFDU",
    "outputId": "464cfaeb-1628-4f92-f3c7-562f40dbb13c"
   },
   "outputs": [
    {
     "data": {
      "image/png": "[encoded data removed]",
      "text/plain": [
       "<Figure size 432x288 with 1 Axes>"
      ]
     },
     "metadata": {
      "needs_background": "light"
     },
     "output_type": "display_data"
    }
   ],
   "source": [
    "##let's check the class distribution\n",
    "x = train_df['target'].value_counts()\n",
    "plot_bar(x)"
   ]
  },
  {
   "cell_type": "markdown",
   "metadata": {},
   "source": [
    "Though, the distribution between two classes are not perfectly balanced, it is still okay to use."
   ]
  },
  {
   "cell_type": "code",
   "execution_count": 9,
   "metadata": {
    "colab": {
     "base_uri": "https://localhost:8080/",
     "height": 68
    },
    "colab_type": "code",
    "id": "TzEnZKCguHLE",
    "outputId": "f8036236-65d5-4a42-bfa6-5edd7ad2c084"
   },
   "outputs": [
    {
     "data": {
      "image/png": "[encoded data removed]",
      "text/plain": [
       "<Figure size 432x288 with 1 Axes>"
      ]
     },
     "metadata": {
      "needs_background": "light"
     },
     "output_type": "display_data"
    }
   ],
   "source": [
    "#exlporing top 5 locations \n",
    "x = train_df['location'].value_counts()[:5]\n",
    "plot_bar(x)"
   ]
  },
  {
   "cell_type": "markdown",
   "metadata": {},
   "source": [
    "Most of the tweets are in the USA. The top 3 location are in the US with different name. Then a few from UK and canada"
   ]
  },
  {
   "cell_type": "markdown",
   "metadata": {},
   "source": [
    "### Hashtag Analysis"
   ]
  },
  {
   "cell_type": "code",
   "execution_count": 10,
   "metadata": {},
   "outputs": [],
   "source": [
    "# function to collect hashtags\n",
    "def hashtag_extract(x):\n",
    "    hashtags = []\n",
    "    # Loop over the words in the tweet\n",
    "    for i in x:\n",
    "        ht = re.findall(r\"#(\\w+)\", i)\n",
    "        hashtags.append(ht)\n",
    "\n",
    "    return hashtags"
   ]
  },
  {
   "cell_type": "code",
   "execution_count": 11,
   "metadata": {},
   "outputs": [],
   "source": [
    "# extracting hashtags from non Disaster tweets\n",
    "Not_Disaster = hashtag_extract(train_df['text'][train_df['target'] == 0])\n",
    "\n",
    "# extracting hashtags from Disaster tweets\n",
    "Disaster = hashtag_extract(train_df['text'][train_df['target'] == 1])\n",
    "\n",
    "# unnesting list\n",
    "Not_Disaster = sum(Not_Disaster,[])\n",
    "Disaster = sum(Disaster,[])"
   ]
  },
  {
   "cell_type": "code",
   "execution_count": 12,
   "metadata": {},
   "outputs": [
    {
     "data": {
      "image/png": "[encoded data removed]",
      "text/plain": [
       "<Figure size 1152x360 with 1 Axes>"
      ]
     },
     "metadata": {
      "needs_background": "light"
     },
     "output_type": "display_data"
    }
   ],
   "source": [
    "# Fake Disaster tweets\n",
    "a = nltk.FreqDist(Not_Disaster)\n",
    "nd = pd.DataFrame({'Hashtag': list(a.keys()),\n",
    "                  'Count': list(a.values())})\n",
    "# selecting top 10 most frequent hashtags     \n",
    "nd = nd.nlargest(columns=\"Count\", n = 10) \n",
    "plt.figure(figsize=(16,5))\n",
    "ax = sns.barplot(data=nd, x= \"Hashtag\", y = \"Count\")\n",
    "ax.set(ylabel = 'Count')\n",
    "plt.show()"
   ]
  },
  {
   "cell_type": "code",
   "execution_count": 13,
   "metadata": {},
   "outputs": [
    {
     "data": {
      "image/png": "[encoded data removed]",
      "text/plain": [
       "<Figure size 1152x360 with 1 Axes>"
      ]
     },
     "metadata": {
      "needs_background": "light"
     },
     "output_type": "display_data"
    }
   ],
   "source": [
    "# True Disaster tweets\n",
    "b = nltk.FreqDist(Disaster)\n",
    "d = pd.DataFrame({'Hashtag': list(b.keys()), 'Count': list(b.values())})\n",
    "# selecting top 10 most frequent hashtags\n",
    "d = d.nlargest(columns=\"Count\", n = 10)   \n",
    "plt.figure(figsize=(16,5))\n",
    "ax = sns.barplot(data=d, x= \"Hashtag\", y = \"Count\")\n",
    "ax.set(ylabel = 'Count')\n",
    "plt.show()"
   ]
  },
  {
   "cell_type": "markdown",
   "metadata": {},
   "source": [
    "While different words can be detected in True diaster tweents, some of the hashtag like hot, best, and news appears in both categories"
   ]
  },
  {
   "cell_type": "markdown",
   "metadata": {
    "colab_type": "text",
    "id": "AJcyF8xIuOlq"
   },
   "source": [
    "## **Data Cleaning**\n",
    "\n",
    "\n",
    "*   Making all uppercase to lowercase\n",
    "*   Removing noise from tweets\n",
    "\n",
    "  *   URLs\n",
    "  *   HTML tags\n",
    "  *   emogis\n",
    "  *   Punctuation\n",
    "  *   New-Line\n",
    "  *   Removing Digits\n",
    "*   Spell-checker(optional)\n",
    "\n"
   ]
  },
  {
   "cell_type": "code",
   "execution_count": 14,
   "metadata": {
    "colab": {},
    "colab_type": "code",
    "id": "nqTR5FZZuKwj"
   },
   "outputs": [],
   "source": [
    "#function to remove noise from text\n",
    "def clean_text(text):\n",
    "    text = text.lower() #convert to lowercase to maintain standard flow between text\n",
    "    text = re.sub('\\[.*?\\]', '', text) #removing text in square brackets\n",
    "    text = re.sub('https?://\\S+|www\\.\\S+', '', text) #removing url\n",
    "    text = re.sub('<.*?>+', '', text) #removing html tags\n",
    "    text = re.sub('[%s]' % re.escape(string.punctuation), '', text) #removing puntuations\n",
    "    text = re.sub('\\n', '', text)#removing new line from the text field\n",
    "    text = re.sub('\\w*\\d\\w*', '', text) #removing digits from the string\n",
    "    return text\n",
    "\n",
    "train_df['text'] = train_df['text'].apply(lambda x : clean_text(x))\n",
    "test_df['text'] = test_df['text'].apply(lambda x : clean_text(x))"
   ]
  },
  {
   "cell_type": "code",
   "execution_count": 15,
   "metadata": {
    "colab": {},
    "colab_type": "code",
    "id": "t7pqPAZ0uTqU"
   },
   "outputs": [],
   "source": [
    "#function to remove emoji's\n",
    "def remove_emoji(text):\n",
    "    emoji_pattern = re.compile(\"[\"\n",
    "                           u\"\\U0001F600-\\U0001F64F\"  # emoticons\n",
    "                           u\"\\U0001F300-\\U0001F5FF\"  # symbols & pictographs\n",
    "                           u\"\\U0001F680-\\U0001F6FF\"  # transport & map symbols\n",
    "                           u\"\\U0001F1E0-\\U0001F1FF\"  # flags (iOS)\n",
    "                           u\"\\U00002702-\\U000027B0\"\n",
    "                           u\"\\U000024C2-\\U0001F251\"\n",
    "                            \"]+\", flags=re.UNICODE)\n",
    "    return emoji_pattern.sub(r'', text)\n",
    "\n",
    "train_df['text']=train_df['text'].apply(lambda x: remove_emoji(x))\n",
    "test_df['text']=test_df['text'].apply(lambda x: remove_emoji(x))"
   ]
  },
  {
   "cell_type": "code",
   "execution_count": 16,
   "metadata": {
    "colab": {},
    "colab_type": "code",
    "id": "anhmAEpLuUjs"
   },
   "outputs": [],
   "source": [
    "#adding new column with the count of words in a single row\n",
    "train_df['word_count'] = train_df['text'].str.split().map(len)\n",
    "\n",
    "#only using the rows with word count more than 0\n",
    "train_df = train_df[train_df['word_count'] > 0]\n",
    "\n",
    "#moving forward with 2 column from dataset , i.e., text and target\n",
    "train_df = train_df[[\"text\",\"target\"]]\n",
    "test_df = test_df[[\"text\"]]"
   ]
  },
  {
   "cell_type": "code",
   "execution_count": 17,
   "metadata": {
    "colab": {
     "base_uri": "https://localhost:8080/",
     "height": 419
    },
    "colab_type": "code",
    "id": "MCg5FiV9kSG4",
    "outputId": "e5dd7ebc-8ce6-434b-f8e7-01b01df95670"
   },
   "outputs": [
    {
     "name": "stdout",
     "output_type": "stream",
     "text": [
      "Requirement already satisfied: pyspellchecker in /opt/anaconda3/envs/EAI6000NEU/lib/python3.7/site-packages (0.5.4)\n",
      "Note: you may need to restart the kernel to use updated packages.\n"
     ]
    }
   ],
   "source": [
    "pip install pyspellchecker"
   ]
  },
  {
   "cell_type": "code",
   "execution_count": 18,
   "metadata": {},
   "outputs": [
    {
     "data": {
      "text/plain": [
       "'\\nfrom spellchecker import SpellChecker\\nspell = SpellChecker()\\ndef correct_spellings(text):\\n    corrected_text = []\\n    misspelled_words = spell.unknown(text.split())\\n    for word in text.split():\\n        if word in misspelled_words:\\n            corrected_text.append(spell.correction(word))\\n        else:\\n            corrected_text.append(word)\\n    return \" \".join(corrected_text)\\n\\ntrain_df[\\'text\\']=train_df[\\'text\\'].apply(lambda x: correct_spellings(x))\\ntest_df[\\'text\\']=test_df[\\'text\\'].apply(lambda x: correct_spellings(x))\\n        \\n'"
      ]
     },
     "execution_count": 18,
     "metadata": {},
     "output_type": "execute_result"
    }
   ],
   "source": [
    "# optional remove ''' ''' to run spell checker\n",
    "'''\n",
    "from spellchecker import SpellChecker\n",
    "spell = SpellChecker()\n",
    "def correct_spellings(text):\n",
    "    corrected_text = []\n",
    "    misspelled_words = spell.unknown(text.split())\n",
    "    for word in text.split():\n",
    "        if word in misspelled_words:\n",
    "            corrected_text.append(spell.correction(word))\n",
    "        else:\n",
    "            corrected_text.append(word)\n",
    "    return \" \".join(corrected_text)\n",
    "\n",
    "train_df['text']=train_df['text'].apply(lambda x: correct_spellings(x))\n",
    "test_df['text']=test_df['text'].apply(lambda x: correct_spellings(x))\n",
    "        \n",
    "'''"
   ]
  },
  {
   "cell_type": "code",
   "execution_count": 19,
   "metadata": {},
   "outputs": [],
   "source": [
    "#adding new column with the count of words in a single row\n",
    "train_df['word_count'] = train_df['text'].str.split().map(len)\n",
    "\n",
    "#only using the rows with word count more than 0\n",
    "train_df = train_df[train_df['word_count'] > 0]\n",
    "\n",
    "#moving forward with 2 column from dataset , i.e., text and target\n",
    "train_df = train_df[[\"text\",\"target\"]]\n",
    "test_df = test_df[[\"text\"]]"
   ]
  },
  {
   "cell_type": "markdown",
   "metadata": {
    "colab_type": "text",
    "id": "P62iFHyaB8_2"
   },
   "source": [
    "## **Data Preprocessing**\n",
    "\n",
    "*   One Hot coding\n",
    "*   Word Embedding\n",
    "\n"
   ]
  },
  {
   "cell_type": "markdown",
   "metadata": {
    "colab_type": "text",
    "id": "NCCyc7b1ufdy"
   },
   "source": [
    "### Vectorized"
   ]
  },
  {
   "cell_type": "code",
   "execution_count": 20,
   "metadata": {},
   "outputs": [],
   "source": [
    "# Custom implementation of one-hot-encoding\n",
    "def vectorize_sequences(sequences, dimension=10000):\n",
    "    results = np.zeros((len(sequences), dimension))\n",
    "    for i, sequence in enumerate(sequences):\n",
    "        results[i, sequence] = 1.  # set specific indices of results[i] to 1s\n",
    "    return results"
   ]
  },
  {
   "cell_type": "code",
   "execution_count": 21,
   "metadata": {},
   "outputs": [
    {
     "name": "stdout",
     "output_type": "stream",
     "text": [
      "Number of unique words: 14315\n"
     ]
    }
   ],
   "source": [
    "# Split train dataset for cross validation and create token\n",
    "training_sentences = [ i for i in train_df.text[:6000]]\n",
    "test_sentences = [i for i in train_df.text[6000:]]\n",
    "\n",
    "training_labels = [ i for i in train_df.target[:6000]]\n",
    "test_labels = [i for i in train_df.target[6000:]]\n",
    "\n",
    "tokenizer = Tokenizer(num_words=10000,oov_token=\"<OOV>\")\n",
    "tokenizer.fit_on_texts(training_sentences)\n",
    "word_index = tokenizer.word_index\n",
    "print('Number of unique words:',len(word_index))\n",
    "\n",
    "# Encode sentences \n",
    "training_sequences = tokenizer.texts_to_sequences(training_sentences)\n",
    "test_sequences = tokenizer.texts_to_sequences(test_sentences)\n",
    "\n",
    "# Padding\n",
    "training_padded = pad_sequences(training_sequences,padding='post', maxlen = 100, truncating='post')\n",
    "test_padded = pad_sequences(test_sequences,padding='post', maxlen = 100, truncating='post')\n",
    "\n",
    "X_train = np.array(training_padded)\n",
    "y_train = np.array(training_labels)\n",
    "\n",
    "X_test = np.array(test_padded)\n",
    "y_test = np.array(test_labels)"
   ]
  },
  {
   "cell_type": "code",
   "execution_count": 22,
   "metadata": {},
   "outputs": [
    {
     "name": "stdout",
     "output_type": "stream",
     "text": [
      "Xtrain size: (6000, 100)\n",
      "ytrain size: (6000,)\n",
      "Xtest size: (1612, 100)\n",
      "ytest size: (1612,)\n"
     ]
    }
   ],
   "source": [
    "print('Xtrain size:', X_train.shape)\n",
    "print('ytrain size:', y_train.shape)\n",
    "print('Xtest size:', X_test.shape)\n",
    "print('ytest size:', y_test.shape)"
   ]
  },
  {
   "cell_type": "markdown",
   "metadata": {
    "colab_type": "text",
    "id": "lXfWhh4-AaFR"
   },
   "source": [
    "## **Linear Model**\n"
   ]
  },
  {
   "cell_type": "code",
   "execution_count": 23,
   "metadata": {
    "colab": {
     "base_uri": "https://localhost:8080/",
     "height": 85
    },
    "colab_type": "code",
    "id": "ONs1MeWLAi-i",
    "outputId": "c5aab762-3f80-4cae-a3bc-d7af526e7ed5",
    "scrolled": true
   },
   "outputs": [
    {
     "data": {
      "text/plain": [
       "{'fit_time': array([31.73632216, 32.86568403, 32.19059491, 30.1329751 , 31.82003975]),\n",
       " 'score_time': array([0.10867095, 0.03448319, 0.05559206, 0.14014006, 0.08963323]),\n",
       " 'test_score': array([0.63461538, 0.52548131, 0.57266811, 0.6       , 0.63255814]),\n",
       " 'train_score': array([0.93604951, 0.93555841, 0.93666323, 0.94374518, 0.93978991])}"
      ]
     },
     "execution_count": 23,
     "metadata": {},
     "output_type": "execute_result"
    }
   ],
   "source": [
    "log_X = vectorize_sequences(training_sequences,dimension=len(word_index))\n",
    "log_y = np.asarray(training_labels).astype('float32')\n",
    "logreg = LogisticRegression()\n",
    "logreg_scores = cross_validate(logreg, log_X, log_y, cv=5, scoring=\"f1\", n_jobs=-1, return_train_score=True)\n",
    "logreg_scores"
   ]
  },
  {
   "cell_type": "code",
   "execution_count": 24,
   "metadata": {
    "colab": {
     "base_uri": "https://localhost:8080/",
     "height": 34
    },
    "colab_type": "code",
    "id": "g2GlZS_F8gC0",
    "outputId": "8636ad59-2d82-42a8-92b8-36f6f220353b"
   },
   "outputs": [
    {
     "data": {
      "text/plain": [
       "0.5930645901303635"
      ]
     },
     "execution_count": 24,
     "metadata": {},
     "output_type": "execute_result"
    }
   ],
   "source": [
    "logreg_scores['test_score'].mean()"
   ]
  },
  {
   "cell_type": "markdown",
   "metadata": {
    "colab_type": "text",
    "id": "UK7oKVHHWfwC"
   },
   "source": [
    "## **Neural Network with Word Embedding**"
   ]
  },
  {
   "cell_type": "code",
   "execution_count": 95,
   "metadata": {
    "colab": {},
    "colab_type": "code",
    "id": "Nd21kWvxu-Il"
   },
   "outputs": [],
   "source": [
    "model_embed = Sequential([\n",
    "    Embedding(len(word_index), 16),\n",
    "    GlobalAveragePooling1D(),\n",
    "    Dense(32, activation='relu'),\n",
    "    Dense(16,activation='relu'),\n",
    "    Dense(1, activation='sigmoid')\n",
    "])\n",
    "model_embed.compile(loss='binary_crossentropy',optimizer='rmsprop',metrics=['accuracy'])"
   ]
  },
  {
   "cell_type": "code",
   "execution_count": 96,
   "metadata": {
    "colab": {
     "base_uri": "https://localhost:8080/",
     "height": 323
    },
    "colab_type": "code",
    "id": "JzjfPCQdvAoD",
    "outputId": "ebceaec9-33e8-475f-8202-2d3e5581011b",
    "scrolled": true
   },
   "outputs": [
    {
     "name": "stdout",
     "output_type": "stream",
     "text": [
      "Model: \"sequential_12\"\n",
      "_________________________________________________________________\n",
      "Layer (type)                 Output Shape              Param #   \n",
      "=================================================================\n",
      "embedding_5 (Embedding)      (None, None, 16)          229040    \n",
      "_________________________________________________________________\n",
      "global_average_pooling1d_2 ( (None, 16)                0         \n",
      "_________________________________________________________________\n",
      "dense_14 (Dense)             (None, 32)                544       \n",
      "_________________________________________________________________\n",
      "dense_15 (Dense)             (None, 16)                528       \n",
      "_________________________________________________________________\n",
      "dense_16 (Dense)             (None, 1)                 17        \n",
      "=================================================================\n",
      "Total params: 230,129\n",
      "Trainable params: 230,129\n",
      "Non-trainable params: 0\n",
      "_________________________________________________________________\n"
     ]
    }
   ],
   "source": [
    "model_embed.summary()"
   ]
  },
  {
   "cell_type": "code",
   "execution_count": 97,
   "metadata": {
    "colab": {
     "base_uri": "https://localhost:8080/",
     "height": 714
    },
    "colab_type": "code",
    "id": "I2EgVo7GvCMz",
    "outputId": "b4d6c21d-488b-4152-e745-0204884d7f64"
   },
   "outputs": [
    {
     "name": "stderr",
     "output_type": "stream",
     "text": [
      "/opt/anaconda3/envs/EAI6000NEU/lib/python3.7/site-packages/tensorflow_core/python/framework/indexed_slices.py:433: UserWarning: Converting sparse IndexedSlices to a dense Tensor of unknown shape. This may consume a large amount of memory.\n",
      "  \"Converting sparse IndexedSlices to a dense Tensor of unknown shape. \"\n"
     ]
    },
    {
     "name": "stdout",
     "output_type": "stream",
     "text": [
      "Train on 6000 samples, validate on 1612 samples\n",
      "Epoch 1/10\n",
      " - 1s - loss: 0.6796 - accuracy: 0.5805 - val_loss: 0.6918 - val_accuracy: 0.5323\n",
      "Epoch 2/10\n",
      " - 1s - loss: 0.6575 - accuracy: 0.5838 - val_loss: 0.6713 - val_accuracy: 0.5323\n",
      "Epoch 3/10\n",
      " - 1s - loss: 0.5799 - accuracy: 0.7177 - val_loss: 0.5845 - val_accuracy: 0.7562\n",
      "Epoch 4/10\n",
      " - 1s - loss: 0.4977 - accuracy: 0.8052 - val_loss: 0.5364 - val_accuracy: 0.7618\n",
      "Epoch 5/10\n",
      " - 1s - loss: 0.4355 - accuracy: 0.8282 - val_loss: 0.5539 - val_accuracy: 0.7388\n",
      "Epoch 6/10\n",
      " - 1s - loss: 0.3982 - accuracy: 0.8427 - val_loss: 0.4959 - val_accuracy: 0.7779\n",
      "Epoch 7/10\n",
      " - 1s - loss: 0.3701 - accuracy: 0.8487 - val_loss: 0.4906 - val_accuracy: 0.7885\n",
      "Epoch 8/10\n",
      " - 1s - loss: 0.3518 - accuracy: 0.8618 - val_loss: 0.5204 - val_accuracy: 0.7295\n",
      "Epoch 9/10\n",
      " - 1s - loss: 0.3360 - accuracy: 0.8627 - val_loss: 0.5496 - val_accuracy: 0.7022\n",
      "Epoch 10/10\n",
      " - 1s - loss: 0.3250 - accuracy: 0.8688 - val_loss: 0.5031 - val_accuracy: 0.7500\n"
     ]
    }
   ],
   "source": [
    "num_epochs = 10\n",
    "history_embed = model_embed.fit(X_train, y_train, epochs=num_epochs, validation_data=(X_test, y_test), verbose=2)"
   ]
  },
  {
   "cell_type": "code",
   "execution_count": 28,
   "metadata": {},
   "outputs": [],
   "source": [
    "def plot_graphs(history, string):\n",
    "  plt.plot(history.history[string])\n",
    "  plt.plot(history.history['val_'+string])\n",
    "  plt.xlabel(\"Epochs\")\n",
    "  plt.ylabel(string)\n",
    "  plt.legend([string , 'val_'+string])\n",
    "  plt.show()"
   ]
  },
  {
   "cell_type": "code",
   "execution_count": 98,
   "metadata": {},
   "outputs": [
    {
     "data": {
      "image/png": "[encoded data removed]",
      "text/plain": [
       "<Figure size 432x288 with 1 Axes>"
      ]
     },
     "metadata": {
      "needs_background": "light"
     },
     "output_type": "display_data"
    },
    {
     "data": {
      "image/png": "[encoded data removed]",
      "text/plain": [
       "<Figure size 432x288 with 1 Axes>"
      ]
     },
     "metadata": {
      "needs_background": "light"
     },
     "output_type": "display_data"
    }
   ],
   "source": [
    "plot_graphs(history_embed, \"accuracy\")\n",
    "plot_graphs(history_embed, \"loss\")"
   ]
  },
  {
   "cell_type": "code",
   "execution_count": 99,
   "metadata": {
    "colab": {
     "base_uri": "https://localhost:8080/",
     "height": 85
    },
    "colab_type": "code",
    "id": "8pNVjg7c9YaQ",
    "outputId": "6fea5cdc-f8d8-4a76-a0e5-6650c0500d59"
   },
   "outputs": [
    {
     "name": "stdout",
     "output_type": "stream",
     "text": [
      "\n",
      "# Evaluate on test data\n",
      "1612/1612 [==============================] - 0s 6us/step\n",
      "test loss, test acc: [0.503055681735647, 0.75]\n"
     ]
    }
   ],
   "source": [
    "print('\\n# Evaluate on test data')\n",
    "results = model_embed.evaluate(X_test, y_test, batch_size=128)\n",
    "print('test loss, test acc:', results)"
   ]
  },
  {
   "cell_type": "markdown",
   "metadata": {
    "colab_type": "text",
    "id": "aES_uKSyfJVb"
   },
   "source": [
    "#### Retrieve the learned embeddings"
   ]
  },
  {
   "cell_type": "code",
   "execution_count": 100,
   "metadata": {
    "colab": {
     "base_uri": "https://localhost:8080/",
     "height": 34
    },
    "colab_type": "code",
    "id": "J95wkQCRfOdo",
    "outputId": "677d128b-e13b-4e9e-92c6-5a39b25c4b60"
   },
   "outputs": [
    {
     "name": "stdout",
     "output_type": "stream",
     "text": [
      "(14315, 16)\n"
     ]
    }
   ],
   "source": [
    "e = model_embed.layers[0]\n",
    "weights = e.get_weights()[0]\n",
    "print(weights.shape) # shape: (vocab_size, embedding_dim)"
   ]
  },
  {
   "cell_type": "markdown",
   "metadata": {},
   "source": [
    "## Recurrent Neural Network\n",
    "\n",
    "** Why RNN? **\n",
    "Why does not a simple neural network fit for this data?\n",
    "\n",
    "Inputs, outputs can be of different lengths in different examples\n",
    "Doesn't share features learned across different position of text\n",
    "To overcome this we use Recurrent Neural Network,\n",
    "\n",
    "as it scans words from left to right, one drawback is that it only knows features from its left\n",
    "\n",
    "**Word Level - Vanilla RNN (RNN from Scratch) (Recurrent Neural Network)**\n",
    "\n",
    "The idea is to create a word level RNN in python/numpy that will provide a baseline model for more complex Neural Networks architecture, and also to gain low level understanding of the working of RNN (Sequence model)\n",
    "\n",
    "*Credits:*\n",
    "\n",
    "Andrej Karpathy https://gist.github.com/karpathy/d4dee566867f8291f086: Minimal character-level language model with a Vanilla Recurrent Neural Network, in Python/numpy. And the blog http://karpathy.github.io/2015/05/21/rnn-effectiveness/.\n",
    "\n",
    "The deep learning book by Michael Nielsen particularly http://neuralnetworksanddeeplearning.com/chap6.html\n",
    "\n",
    "Andrew ng Deep learning course (Course 5) on Coursera\n",
    "\n",
    "**Steps Taken:**\n",
    "\n",
    "1. Creating a vocabulary list of unique words from data to be later used in encoding each words into a one-hot vector using 1-k encoding. (k = len(vocab_list)\n",
    "2. Initialize the RNN model parameters\n",
    "3. Feedforward the training data(tweets) vectorized form into the network and calculate loss for that training example\n",
    "4. Backpropagate through time and obtain the gradient parameters.\n",
    "5. Gradient clipping to avoid exploding gradient problem\n",
    "6. Select/iterating over different learning rate and calculating new model paramters\n",
    "7. Repeating steps from 3-6 for some number of iterations that covers all training examples atleast 3 times"
   ]
  },
  {
   "cell_type": "code",
   "execution_count": 32,
   "metadata": {},
   "outputs": [
    {
     "name": "stdout",
     "output_type": "stream",
     "text": [
      "Vocab size :  16834\n",
      "Total words in data :  113521\n"
     ]
    }
   ],
   "source": [
    "#creating vocabulary list which will have uniqe word list from training data\n",
    "vocab_list = list(train_df['text'].str.split(' ',expand=True).stack().unique())\n",
    "total_words = list(train_df['text'].str.split(' ',expand=True).stack())\n",
    "\n",
    "vocab_list_size = len(vocab_list)\n",
    "total_words_len = len(total_words)\n",
    "\n",
    "print(\"Vocab size : \",vocab_list_size)\n",
    "print(\"Total words in data : \", total_words_len)\n",
    "\n",
    "#creating a dictionary that has an index for each of the unique words\n",
    "words_idx = { word:i for i, word in enumerate(vocab_list) }"
   ]
  },
  {
   "cell_type": "code",
   "execution_count": 33,
   "metadata": {},
   "outputs": [
    {
     "name": "stdout",
     "output_type": "stream",
     "text": [
      "original text: ['forest', 'fire', 'near', 'la', 'ronge', 'sask', 'canada']\n",
      "Wordlist index: [13, 14, 15, 16, 17, 18, 19]\n",
      "Target label: 1\n"
     ]
    }
   ],
   "source": [
    "#converting a single training sample to retreive from dictionary\n",
    "temp = train_df['text'].str.split().values[1]\n",
    "inputs = [words_idx[i] for i in temp]\n",
    "output = train_df['target'].values[1]\n",
    "print(\"original text:\",temp)\n",
    "print(\"Wordlist index:\",inputs)\n",
    "print(\"Target label:\",output)"
   ]
  },
  {
   "cell_type": "code",
   "execution_count": 34,
   "metadata": {},
   "outputs": [
    {
     "name": "stdout",
     "output_type": "stream",
     "text": [
      "The training set examples: 7000\n",
      "The validation set examples: 612\n"
     ]
    }
   ],
   "source": [
    "#hyperparameters\n",
    "learning_rate = 0.005\n",
    "n_a = hidden_size = 100\n",
    "n_x = vocab_list_size \n",
    "n_y = 2\n",
    "\n",
    "#model_parameters\n",
    "Waa = np.random.randn(hidden_size,hidden_size)*0.1\n",
    "Wax = np.random.randn(hidden_size,vocab_list_size)*0.1\n",
    "Wya = np.random.randn(2,hidden_size)*0.1\n",
    "ba = np.zeros((n_a,1))\n",
    "by = np.zeros((n_y,1))\n",
    "\n",
    "#spliting into training and validation\n",
    "temp_df = train_df\n",
    "train = train_df.iloc[:7000]\n",
    "validation = temp_df.iloc[7000:]\n",
    "\n",
    "print('The training set examples: %d' %(len(train)))\n",
    "print('The validation set examples: %d' %(len(validation)))\n"
   ]
  },
  {
   "cell_type": "code",
   "execution_count": 35,
   "metadata": {},
   "outputs": [],
   "source": [
    "#activation function\n",
    "def softmax(x):\n",
    "    e_x = np.exp(x - np.max(x))\n",
    "    return e_x / e_x.sum(axis=0)"
   ]
  },
  {
   "cell_type": "code",
   "execution_count": 36,
   "metadata": {},
   "outputs": [],
   "source": [
    "#feed-forward -- takes in the index of words in a example tweet and return the prediction\n",
    "def rnn_feedforward(input_data):\n",
    "  #initializing\n",
    "  xt,at = [], np.zeros((n_a,1))\n",
    "  for t in range(len(input_data)):\n",
    "    xt.append(np.zeros((n_x,1)))#encode in 1-k one hot-representation\n",
    "    xt[t][input_data[t]] = 1\n",
    "    at = np.tanh(np.dot(Waa,at)+np.dot(Wax,xt[t])+ba) #hidden state activation function\n",
    "    \n",
    "  yt = np.dot(Wya,at) + by \n",
    "  pred = softmax(yt) #softmax function for getting probability for binary classification\n",
    "  prediction = np.argmax(pred)\n",
    "  return prediction"
   ]
  },
  {
   "cell_type": "code",
   "execution_count": 37,
   "metadata": {},
   "outputs": [
    {
     "name": "stdout",
     "output_type": "stream",
     "text": [
      "[0, 1, 2, 3, 4, 5, 6, 7, 8, 9, 10, 11, 12]\n",
      "[13, 14, 15, 16, 17, 18, 19]\n",
      "[12, 20, 21, 22, 23, 24, 25, 2, 26, 27, 28, 29, 30, 31, 32, 33, 23, 24, 25, 34, 2, 35]\n",
      "[37, 38, 39, 32, 34, 24, 40]\n",
      "[41, 42, 43, 6, 44, 45, 46, 47, 48, 49, 45, 39, 50, 51, 52, 53]\n"
     ]
    }
   ],
   "source": [
    "num_iterations = 5\n",
    "\n",
    "#memory variables for Adagrad\n",
    "mWaa, mWya, mWax = np.zeros_like(Waa), np.zeros_like(Wya), np.zeros_like(Wax)\n",
    "mby, mba = np.zeros_like(by), np.zeros_like(ba)\n",
    "\n",
    "for i in range(num_iterations):\n",
    "  \n",
    "  idx = i%len(train)\n",
    "  example = train['text'].str.split().values[idx]\n",
    "  inputs = [words_idx[i] for i in example]\n",
    "  print(inputs)\n",
    "  targets = int(train['target'].values[idx])\n",
    "  \n",
    "  prediction = rnn_feedforward(inputs)"
   ]
  },
  {
   "cell_type": "markdown",
   "metadata": {},
   "source": [
    "Function that takes input as one row with text and target value, feedforward the network, calculates the cost which is loss of predicted vs actual Y/target.\n",
    "\n",
    "Then performs backpropagation and updates the gradient of all the parameters and returns it."
   ]
  },
  {
   "cell_type": "code",
   "execution_count": 38,
   "metadata": {},
   "outputs": [],
   "source": [
    "#feedforward and backpropagation\n",
    "def rnn_model(input_data,targets):\n",
    "  \n",
    "  xt,at = [],[]\n",
    "  at.append(np.zeros((n_a,1)))\n",
    "  loss = 0\n",
    "  \n",
    "  #feed forward\n",
    "  for t in range(len(input_data)):\n",
    "    xt.append(np.zeros((n_x,1)))\n",
    "    xt[t][input_data[t]] = 1\n",
    "    \n",
    "    at.append(np.tanh(np.dot(Waa,at[t])+np.dot(Wax,xt[t])+ba))\n",
    "    \n",
    "  yt = np.dot(Wya,at[-1]) + by\n",
    "  pred = np.exp(yt) / np.sum(np.exp(yt),axis=0)\n",
    "  \n",
    "  prediction = np.argmax(pred)\n",
    "  \n",
    "  #loss-cost\n",
    "  \n",
    "  y = np.zeros((2,1))\n",
    "  y[targets] = 1\n",
    "  loss = -np.log(np.sum(pred*y,axis = 0)) #cross-entropy loss\n",
    "  \n",
    "  #backpropagation through time\n",
    "  dWaa, dWya, dWax = np.zeros_like(Waa), np.zeros_like(Wya), np.zeros_like(Wax)\n",
    "  dby, dba = np.zeros_like(by), np.zeros_like(ba)\n",
    "  \n",
    "  dy = pred - y\n",
    "  dWya = np.dot(dy,at[-1].transpose())\n",
    "  dby = np.copy(dy)\n",
    "  \n",
    "  dat = np.dot(Wya.transpose(),dy)\n",
    "  dtanh = (1-at[-1]*at[-1]) * dat\n",
    "  \n",
    "  dWax = np.dot(dtanh, xt[-1].transpose())\n",
    "  dWaa = np.dot(dtanh, at[-2].transpose())\n",
    "  dba = np.copy(dtanh)\n",
    "  da_next = np.dot(Waa.transpose(),dtanh)\n",
    "  for t in reversed(range(len(input_data)-2)):\n",
    "    \n",
    "    dat = np.copy(da_next)\n",
    "    dtanh = (1- at[t+1] * at[t+1]) * dat\n",
    "    \n",
    "    dWax += np.dot(dtanh, xt[t].transpose())\n",
    "    dWaa += np.dot(dtanh, at[t].transpose())\n",
    "    dba += np.copy(dtanh)\n",
    "    da_next = np.dot(Waa.transpose(),dtanh)\n",
    "    \n",
    "  for dparams in [dWaa,dWax,dba,dby,dWya]:\n",
    "    np.clip(dparams,-5,5,out=dparams)\n",
    "    \n",
    "  return loss, dWaa, dWax, dba, dby, dWya"
   ]
  },
  {
   "cell_type": "markdown",
   "metadata": {},
   "source": [
    "Feeding training data into the network to retrieve the gradient and using Adagrad optimizer to perform the gradient descent. \n",
    "\n",
    "And we repeat this process for all the training examples and for n epochs\n",
    "\n",
    "**Adagrad Optimizer** : Adaptively scales the learning rate with respect to the accumulated square gradient at each iteration in each dimention"
   ]
  },
  {
   "cell_type": "code",
   "execution_count": 39,
   "metadata": {},
   "outputs": [
    {
     "name": "stdout",
     "output_type": "stream",
     "text": [
      "The validation_accuracy after iterations:0 is 54\n",
      "The validation_accuracy after iterations:700 is 47\n",
      "The validation_accuracy after iterations:1400 is 55\n",
      "The validation_accuracy after iterations:2100 is 47\n",
      "The validation_accuracy after iterations:2800 is 54\n",
      "The validation_accuracy after iterations:3500 is 59\n",
      "The validation_accuracy after iterations:4200 is 59\n",
      "The validation_accuracy after iterations:4900 is 64\n",
      "The validation_accuracy after iterations:5600 is 66\n",
      "The validation_accuracy after iterations:6300 is 63\n",
      "The validation_accuracy after iterations:7000 is 65\n",
      "The validation_accuracy after iterations:7700 is 62\n",
      "The validation_accuracy after iterations:8400 is 67\n",
      "The validation_accuracy after iterations:9100 is 69\n",
      "The validation_accuracy after iterations:9800 is 71\n",
      "The validation_accuracy after iterations:10500 is 71\n",
      "The validation_accuracy after iterations:11200 is 72\n",
      "The validation_accuracy after iterations:11900 is 70\n",
      "The validation_accuracy after iterations:12600 is 71\n",
      "The validation_accuracy after iterations:13300 is 72\n",
      "The validation_accuracy after iterations:14000 is 73\n",
      "The validation_accuracy after iterations:14700 is 72\n"
     ]
    }
   ],
   "source": [
    "#select any number of iteration for start\n",
    "num_iterations = 15000\n",
    "test_scores = []\n",
    "#memory variables for Adagrad optimizer - backprop\n",
    "mWaa, mWya, mWax = np.zeros_like(Waa), np.zeros_like(Wya), np.zeros_like(Wax)\n",
    "mby, mba = np.zeros_like(by), np.zeros_like(ba)\n",
    "\n",
    "for i in range(num_iterations):\n",
    "  idx = i%len(train)\n",
    "  example = train['text'].str.split().values[idx]\n",
    "  inputs = [words_idx[i] for i in example]\n",
    "  targets = int(train['target'].values[idx])\n",
    "  \n",
    "  #prediction = rnn_feedforward(inputs,targets)\n",
    "  loss,dWaa, dWax, dba, dby, dWya = rnn_model(inputs,targets)\n",
    "  \n",
    "  #Adagrad optimizer\n",
    "  #performing paramete update with Adagrad\n",
    "  for param, dparam, mem in zip([Waa, Wax, Wya, ba, by],\n",
    "                                [dWaa, dWax, dWya, dba, dby],\n",
    "                                [mWaa, mWax, mWya, mba, mby]):\n",
    "    mem += dparam * dparam\n",
    "    param += -learning_rate * dparam / np.sqrt(mem+1e-8) #adagrad update\n",
    "  \n",
    "  # validation accuracy\n",
    "  # using for loop instead of vectorization\n",
    "  if i % 700 == 0:\n",
    "    predictions = []\n",
    "    count=0\n",
    "    actual_targets= validation['target'].tolist()\n",
    "    for j in range(len(validation)):\n",
    "        example = validation['text'].str.split().values[j]\n",
    "        inputs = [words_idx[l] for l in example]\n",
    "        predictions.append(rnn_feedforward(inputs))\n",
    "          \n",
    "    for y, y_hat in zip(actual_targets, predictions):\n",
    "        if y==y_hat:\n",
    "            count+=1\n",
    "    print('The validation_accuracy after iterations:%d is %d'%(i,(count/len(validation))*100))\n",
    "    test_scores.append((count/len(validation))*100)"
   ]
  },
  {
   "cell_type": "code",
   "execution_count": 40,
   "metadata": {},
   "outputs": [
    {
     "data": {
      "image/png": "[encoded data removed]",
      "text/plain": [
       "<Figure size 432x288 with 1 Axes>"
      ]
     },
     "metadata": {
      "needs_background": "light"
     },
     "output_type": "display_data"
    }
   ],
   "source": [
    "plt.plot(test_scores)\n",
    "plt.xlabel(\"epochs\")\n",
    "plt.ylabel(\"score in %\")\n",
    "plt.title(\"Validation Score\")\n",
    "plt.show()"
   ]
  },
  {
   "cell_type": "markdown",
   "metadata": {},
   "source": [
    "**Results Summary:**\n",
    "\n",
    "The validation accuracy arrives closely to 72% (better than randomly guessing). Tried 2 sets of learning rate values with 0.001 accuracy was 70% whereas with learning rate 0.005 accuracy boosted to 72%. \n",
    "\n",
    "We have not experimented with other hyperparameters or tried any high level/complex data cleaning. Still, it seems that my RNN is learning association between words that helps to classify the tweets.\n",
    "\n",
    "**Future scope:**\n",
    "we can try different network architectures \n",
    "training model for longer iterations"
   ]
  },
  {
   "cell_type": "code",
   "execution_count": 41,
   "metadata": {},
   "outputs": [],
   "source": [
    "#saving matrix values for parameters which includes weights and biases for later use to predict test data\n",
    "# saving the model\n",
    "import pickle\n",
    "filename = 'rnn_model_v1.pkl'\n",
    "with open(filename, \"wb\") as f:\n",
    "    pickle.dump((Waa, Wax, ba, by, Wya ), f)"
   ]
  },
  {
   "cell_type": "code",
   "execution_count": 42,
   "metadata": {},
   "outputs": [],
   "source": [
    "#loading the saved model\n",
    "import pickle\n",
    "filename = 'rnn_model_v1.pkl'\n",
    "with open(filename, \"rb\") as f:\n",
    "    Waa, Wax, ba, by, Wya  = pickle.load(f)"
   ]
  },
  {
   "cell_type": "code",
   "execution_count": 43,
   "metadata": {},
   "outputs": [
    {
     "name": "stdout",
     "output_type": "stream",
     "text": [
      "Correctly Predicted: 445\n",
      "Total Data in validation set: 612\n",
      "The validation_accuracy is 72.7124183006536\n"
     ]
    }
   ],
   "source": [
    "#checking if parameters loaded in correctly\n",
    "#using loaded model\n",
    "count = 0\n",
    "for j in range(len(validation)):\n",
    "  \n",
    "  example = validation['text'].str.split().values[j]\n",
    "  inputs = [words_idx[l] for l in example]\n",
    "  predictions.append(rnn_feedforward(inputs))\n",
    "          \n",
    "for y, y_hat in zip(actual_targets, predictions):\n",
    "  if y==y_hat:\n",
    "    count+=1\n",
    "print(\"Correctly Predicted:\",count)\n",
    "print(\"Total Data in validation set:\",len(validation))\n",
    "print('The validation_accuracy is',(count/len(validation))*100)"
   ]
  },
  {
   "cell_type": "markdown",
   "metadata": {
    "colab_type": "text",
    "id": "oqE1FCQEfh1k"
   },
   "source": [
    "## RNN Tensorflow/Keras \n",
    "Multiple RNN models with different architecture are built in section to compare and see what architecture help improving the accuracy.\n",
    "\n",
    "Additionally, we have decided to use GloVe embbeding instead as it helps with the accuracy. The pretained GloVe can be downloaded from https://nlp.stanford.edu/projects/glove/"
   ]
  },
  {
   "cell_type": "markdown",
   "metadata": {},
   "source": [
    "### Load Pre-trained word embedding GloVe in\n",
    "For this assignment, we use twittwe GloVe"
   ]
  },
  {
   "cell_type": "code",
   "execution_count": 44,
   "metadata": {},
   "outputs": [
    {
     "name": "stdout",
     "output_type": "stream",
     "text": [
      "Loaded 1193514 word vectors.\n"
     ]
    }
   ],
   "source": [
    "# load the whole embedding into memory\n",
    "# https://machinelearningmastery.com/use-word-embedding-layers-deep-learning-keras/\n",
    "# 100 dimensional version (embedding dimension)\n",
    "embeddings_index = dict()\n",
    "f = open('glove.twitter.27B/glove.twitter.27B.100d.txt')\n",
    "for line in f:\n",
    "    values = line.split()\n",
    "    word = values[0]\n",
    "    coefs = np.asarray(values[1:], dtype='float32')\n",
    "    embeddings_index[word] = coefs\n",
    "f.close()\n",
    "print('Loaded %s word vectors.' % len(embeddings_index))"
   ]
  },
  {
   "cell_type": "markdown",
   "metadata": {},
   "source": [
    "### Embedding Matrix"
   ]
  },
  {
   "cell_type": "code",
   "execution_count": 45,
   "metadata": {},
   "outputs": [],
   "source": [
    "embedding_matrix = np.zeros((len(word_index)+1, 100))\n",
    "\n",
    "# Fill the weight in\n",
    "for word, i in tokenizer.word_index.items():\n",
    "    embedding_vec = embeddings_index.get(word)\n",
    "    if embedding_vec is not None:\n",
    "        #add to the matrix\n",
    "        embedding_matrix[i] = embedding_vec"
   ]
  },
  {
   "cell_type": "markdown",
   "metadata": {},
   "source": [
    "### Embedding Layer"
   ]
  },
  {
   "cell_type": "code",
   "execution_count": 46,
   "metadata": {},
   "outputs": [],
   "source": [
    "embedded = Embedding(input_dim= len(word_index)+1, output_dim=100,\n",
    "                                    weights = [embedding_matrix], input_length=X_train.shape[1], trainable = False)"
   ]
  },
  {
   "cell_type": "markdown",
   "metadata": {},
   "source": [
    "### Model1: LSTM model with regularization, increase dimensionality"
   ]
  },
  {
   "cell_type": "code",
   "execution_count": 47,
   "metadata": {},
   "outputs": [
    {
     "name": "stdout",
     "output_type": "stream",
     "text": [
      "Model: \"sequential_2\"\n",
      "_________________________________________________________________\n",
      "Layer (type)                 Output Shape              Param #   \n",
      "=================================================================\n",
      "embedding_2 (Embedding)      (None, 100, 100)          1431600   \n",
      "_________________________________________________________________\n",
      "lstm_1 (LSTM)                (None, 256)               365568    \n",
      "_________________________________________________________________\n",
      "dense_4 (Dense)              (None, 1)                 257       \n",
      "=================================================================\n",
      "Total params: 1,797,425\n",
      "Trainable params: 365,825\n",
      "Non-trainable params: 1,431,600\n",
      "_________________________________________________________________\n"
     ]
    }
   ],
   "source": [
    "lstm_m1 = Sequential([\n",
    "    embedded,\n",
    "    LSTM(256, dropout=0.2, recurrent_dropout=0.5),\n",
    "    Dense(1, activation='sigmoid')\n",
    "])\n",
    "\n",
    "lstm_m1.compile(optimizer = 'rmsprop', loss='binary_crossentropy', metrics = ['accuracy'])\n",
    "lstm_m1.summary()"
   ]
  },
  {
   "cell_type": "code",
   "execution_count": 48,
   "metadata": {},
   "outputs": [
    {
     "name": "stdout",
     "output_type": "stream",
     "text": [
      "Train on 6000 samples, validate on 1612 samples\n",
      "Epoch 1/10\n",
      "6000/6000 [==============================] - 12s 2ms/step - loss: 0.6483 - accuracy: 0.6325 - val_loss: 0.6019 - val_accuracy: 0.7649\n",
      "Epoch 2/10\n",
      "6000/6000 [==============================] - 11s 2ms/step - loss: 0.6089 - accuracy: 0.6942 - val_loss: 0.5912 - val_accuracy: 0.7419\n",
      "Epoch 3/10\n",
      "6000/6000 [==============================] - 10s 2ms/step - loss: 0.6001 - accuracy: 0.7213 - val_loss: 0.5471 - val_accuracy: 0.7587\n",
      "Epoch 4/10\n",
      "6000/6000 [==============================] - 11s 2ms/step - loss: 0.6090 - accuracy: 0.6577 - val_loss: 0.6314 - val_accuracy: 0.5323\n",
      "Epoch 5/10\n",
      "6000/6000 [==============================] - 11s 2ms/step - loss: 0.6341 - accuracy: 0.5837 - val_loss: 0.5791 - val_accuracy: 0.7333\n",
      "Epoch 6/10\n",
      "6000/6000 [==============================] - 12s 2ms/step - loss: 0.6014 - accuracy: 0.6915 - val_loss: 0.5694 - val_accuracy: 0.7667\n",
      "Epoch 7/10\n",
      "6000/6000 [==============================] - 11s 2ms/step - loss: 0.5887 - accuracy: 0.7263 - val_loss: 0.5601 - val_accuracy: 0.7636\n",
      "Epoch 8/10\n",
      "6000/6000 [==============================] - 10s 2ms/step - loss: 0.5863 - accuracy: 0.7313 - val_loss: 0.5732 - val_accuracy: 0.7382\n",
      "Epoch 9/10\n",
      "6000/6000 [==============================] - 10s 2ms/step - loss: 0.5936 - accuracy: 0.7270 - val_loss: 0.5567 - val_accuracy: 0.7562\n",
      "Epoch 10/10\n",
      "6000/6000 [==============================] - 10s 2ms/step - loss: 0.6040 - accuracy: 0.6755 - val_loss: 0.6256 - val_accuracy: 0.5323\n"
     ]
    }
   ],
   "source": [
    "hist_m1 = lstm_m1.fit(X_train, y_train, epochs = 10, batch_size = 256, validation_data= (X_test, y_test))"
   ]
  },
  {
   "cell_type": "code",
   "execution_count": 49,
   "metadata": {},
   "outputs": [
    {
     "data": {
      "image/png": "[encoded data removed]",
      "text/plain": [
       "<Figure size 432x288 with 1 Axes>"
      ]
     },
     "metadata": {
      "needs_background": "light"
     },
     "output_type": "display_data"
    },
    {
     "data": {
      "image/png": "[encoded data removed]",
      "text/plain": [
       "<Figure size 432x288 with 1 Axes>"
      ]
     },
     "metadata": {
      "needs_background": "light"
     },
     "output_type": "display_data"
    }
   ],
   "source": [
    "plot_graphs(hist_m1, \"accuracy\")\n",
    "plot_graphs(hist_m1, \"loss\")"
   ]
  },
  {
   "cell_type": "code",
   "execution_count": 50,
   "metadata": {},
   "outputs": [
    {
     "name": "stdout",
     "output_type": "stream",
     "text": [
      "Training Accuracy: 0.5805\n",
      "Testing Accuracy:  0.5323\n"
     ]
    }
   ],
   "source": [
    "# Find train and test accuracy\n",
    "loss, accuracy = lstm_m1.evaluate(X_train, y_train, verbose=False)\n",
    "print(\"Training Accuracy: {:.4f}\".format(accuracy))\n",
    "loss, accuracy = lstm_m1.evaluate(X_test, y_test, verbose=False)\n",
    "print(\"Testing Accuracy:  {:.4f}\".format(accuracy))"
   ]
  },
  {
   "cell_type": "markdown",
   "metadata": {},
   "source": [
    "### Model2: LSTM with regularization, reduce dimensionality"
   ]
  },
  {
   "cell_type": "code",
   "execution_count": 51,
   "metadata": {},
   "outputs": [
    {
     "name": "stdout",
     "output_type": "stream",
     "text": [
      "Model: \"sequential_3\"\n",
      "_________________________________________________________________\n",
      "Layer (type)                 Output Shape              Param #   \n",
      "=================================================================\n",
      "embedding_2 (Embedding)      (None, 100, 100)          1431600   \n",
      "_________________________________________________________________\n",
      "lstm_2 (LSTM)                (None, 64)                42240     \n",
      "_________________________________________________________________\n",
      "dense_5 (Dense)              (None, 1)                 65        \n",
      "=================================================================\n",
      "Total params: 1,473,905\n",
      "Trainable params: 42,305\n",
      "Non-trainable params: 1,431,600\n",
      "_________________________________________________________________\n"
     ]
    }
   ],
   "source": [
    "lstm_m2 = Sequential([\n",
    "    embedded,\n",
    "    LSTM(64, dropout=0.2, recurrent_dropout=0.5),\n",
    "    Dense(1, activation='sigmoid')\n",
    "])\n",
    "\n",
    "lstm_m2.compile(optimizer = 'rmsprop', loss='binary_crossentropy', metrics = ['accuracy'])\n",
    "lstm_m2.summary()"
   ]
  },
  {
   "cell_type": "code",
   "execution_count": 52,
   "metadata": {},
   "outputs": [
    {
     "name": "stdout",
     "output_type": "stream",
     "text": [
      "Train on 6000 samples, validate on 1612 samples\n",
      "Epoch 1/10\n",
      "6000/6000 [==============================] - 4s 604us/step - loss: 0.6829 - accuracy: 0.5782 - val_loss: 0.6930 - val_accuracy: 0.5323\n",
      "Epoch 2/10\n",
      "6000/6000 [==============================] - 3s 534us/step - loss: 0.6763 - accuracy: 0.5847 - val_loss: 0.6872 - val_accuracy: 0.5323\n",
      "Epoch 3/10\n",
      "6000/6000 [==============================] - 3s 471us/step - loss: 0.6363 - accuracy: 0.6462 - val_loss: 0.5469 - val_accuracy: 0.7847\n",
      "Epoch 4/10\n",
      "6000/6000 [==============================] - 3s 467us/step - loss: 0.6125 - accuracy: 0.6880 - val_loss: 0.5451 - val_accuracy: 0.7680\n",
      "Epoch 5/10\n",
      "6000/6000 [==============================] - 3s 467us/step - loss: 0.5887 - accuracy: 0.7192 - val_loss: 0.5424 - val_accuracy: 0.7723\n",
      "Epoch 6/10\n",
      "6000/6000 [==============================] - 3s 472us/step - loss: 0.5857 - accuracy: 0.7252 - val_loss: 0.5387 - val_accuracy: 0.7692\n",
      "Epoch 7/10\n",
      "6000/6000 [==============================] - 3s 486us/step - loss: 0.5828 - accuracy: 0.7315 - val_loss: 0.5448 - val_accuracy: 0.7730\n",
      "Epoch 8/10\n",
      "6000/6000 [==============================] - 3s 476us/step - loss: 0.5839 - accuracy: 0.7285 - val_loss: 0.5447 - val_accuracy: 0.7736\n",
      "Epoch 9/10\n",
      "6000/6000 [==============================] - 3s 464us/step - loss: 0.5775 - accuracy: 0.7333 - val_loss: 0.5486 - val_accuracy: 0.7667\n",
      "Epoch 10/10\n",
      "6000/6000 [==============================] - 3s 467us/step - loss: 0.5734 - accuracy: 0.7387 - val_loss: 0.5389 - val_accuracy: 0.7754\n"
     ]
    }
   ],
   "source": [
    "hist_m2 = lstm_m2.fit(X_train, y_train, epochs = 10, batch_size = 256, validation_data= (X_test, y_test))"
   ]
  },
  {
   "cell_type": "code",
   "execution_count": 53,
   "metadata": {},
   "outputs": [
    {
     "data": {
      "image/png": "[encoded data removed]",
      "text/plain": [
       "<Figure size 432x288 with 1 Axes>"
      ]
     },
     "metadata": {
      "needs_background": "light"
     },
     "output_type": "display_data"
    },
    {
     "data": {
      "image/png": "[encoded data removed]",
      "text/plain": [
       "<Figure size 432x288 with 1 Axes>"
      ]
     },
     "metadata": {
      "needs_background": "light"
     },
     "output_type": "display_data"
    }
   ],
   "source": [
    "plot_graphs(hist_m2, \"accuracy\")\n",
    "plot_graphs(hist_m2, \"loss\")"
   ]
  },
  {
   "cell_type": "code",
   "execution_count": 54,
   "metadata": {},
   "outputs": [
    {
     "name": "stdout",
     "output_type": "stream",
     "text": [
      "Training Accuracy: 0.7575\n",
      "Testing Accuracy:  0.7754\n"
     ]
    }
   ],
   "source": [
    "# Find train and test accuracy\n",
    "loss, accuracy = lstm_m2.evaluate(X_train, y_train, verbose=False)\n",
    "print(\"Training Accuracy: {:.4f}\".format(accuracy))\n",
    "loss, accuracy = lstm_m2.evaluate(X_test, y_test, verbose=False)\n",
    "print(\"Testing Accuracy:  {:.4f}\".format(accuracy))"
   ]
  },
  {
   "cell_type": "markdown",
   "metadata": {},
   "source": [
    "### Model 3: LSTM Layer Stacking "
   ]
  },
  {
   "cell_type": "code",
   "execution_count": 55,
   "metadata": {},
   "outputs": [
    {
     "name": "stdout",
     "output_type": "stream",
     "text": [
      "Model: \"sequential_4\"\n",
      "_________________________________________________________________\n",
      "Layer (type)                 Output Shape              Param #   \n",
      "=================================================================\n",
      "embedding_2 (Embedding)      (None, 100, 100)          1431600   \n",
      "_________________________________________________________________\n",
      "lstm_3 (LSTM)                (None, 100, 128)          117248    \n",
      "_________________________________________________________________\n",
      "lstm_4 (LSTM)                (None, 64)                49408     \n",
      "_________________________________________________________________\n",
      "dense_6 (Dense)              (None, 1)                 65        \n",
      "=================================================================\n",
      "Total params: 1,598,321\n",
      "Trainable params: 166,721\n",
      "Non-trainable params: 1,431,600\n",
      "_________________________________________________________________\n"
     ]
    }
   ],
   "source": [
    "lstm_m3 = Sequential([\n",
    "    embedded,\n",
    "    LSTM(128, dropout=0.2, recurrent_dropout=0.5, return_sequences = True),\n",
    "    LSTM(64, dropout=0.2, recurrent_dropout=0.5),\n",
    "    Dense(1, activation='sigmoid')\n",
    "])\n",
    "\n",
    "lstm_m3.compile(optimizer = 'rmsprop', loss='binary_crossentropy', metrics = ['accuracy'])\n",
    "lstm_m3.summary()"
   ]
  },
  {
   "cell_type": "code",
   "execution_count": 56,
   "metadata": {},
   "outputs": [
    {
     "name": "stdout",
     "output_type": "stream",
     "text": [
      "Train on 6000 samples, validate on 1612 samples\n",
      "Epoch 1/10\n",
      "6000/6000 [==============================] - 9s 2ms/step - loss: 0.6833 - accuracy: 0.5782 - val_loss: 0.6925 - val_accuracy: 0.5323\n",
      "Epoch 2/10\n",
      "6000/6000 [==============================] - 8s 1ms/step - loss: 0.6193 - accuracy: 0.6752 - val_loss: 0.5872 - val_accuracy: 0.7661\n",
      "Epoch 3/10\n",
      "6000/6000 [==============================] - 9s 2ms/step - loss: 0.5980 - accuracy: 0.7178 - val_loss: 0.5471 - val_accuracy: 0.7605\n",
      "Epoch 4/10\n",
      "6000/6000 [==============================] - 8s 1ms/step - loss: 0.5885 - accuracy: 0.7270 - val_loss: 0.5529 - val_accuracy: 0.7630\n",
      "Epoch 5/10\n",
      "6000/6000 [==============================] - 8s 1ms/step - loss: 0.5860 - accuracy: 0.7277 - val_loss: 0.5511 - val_accuracy: 0.7661\n",
      "Epoch 6/10\n",
      "6000/6000 [==============================] - 9s 1ms/step - loss: 0.5876 - accuracy: 0.7202 - val_loss: 0.5722 - val_accuracy: 0.7736\n",
      "Epoch 7/10\n",
      "6000/6000 [==============================] - 8s 1ms/step - loss: 0.5873 - accuracy: 0.7112 - val_loss: 0.5795 - val_accuracy: 0.7562\n",
      "Epoch 8/10\n",
      "6000/6000 [==============================] - 8s 1ms/step - loss: 0.5799 - accuracy: 0.7208 - val_loss: 0.5475 - val_accuracy: 0.7730\n",
      "Epoch 9/10\n",
      "6000/6000 [==============================] - 8s 1ms/step - loss: 0.5693 - accuracy: 0.7420 - val_loss: 0.5495 - val_accuracy: 0.7798\n",
      "Epoch 10/10\n",
      "6000/6000 [==============================] - 8s 1ms/step - loss: 0.5845 - accuracy: 0.7045 - val_loss: 0.5663 - val_accuracy: 0.7630\n"
     ]
    }
   ],
   "source": [
    "hist_m3 = lstm_m3.fit(X_train, y_train, epochs = 10, batch_size = 256, validation_data= (X_test, y_test))"
   ]
  },
  {
   "cell_type": "code",
   "execution_count": 57,
   "metadata": {},
   "outputs": [
    {
     "data": {
      "image/png": "[encoded data removed]",
      "text/plain": [
       "<Figure size 432x288 with 1 Axes>"
      ]
     },
     "metadata": {
      "needs_background": "light"
     },
     "output_type": "display_data"
    },
    {
     "data": {
      "image/png": "[encoded data removed]",
      "text/plain": [
       "<Figure size 432x288 with 1 Axes>"
      ]
     },
     "metadata": {
      "needs_background": "light"
     },
     "output_type": "display_data"
    }
   ],
   "source": [
    "plot_graphs(hist_m3, \"accuracy\")\n",
    "plot_graphs(hist_m3, \"loss\")"
   ]
  },
  {
   "cell_type": "code",
   "execution_count": 58,
   "metadata": {},
   "outputs": [
    {
     "name": "stdout",
     "output_type": "stream",
     "text": [
      "Training Accuracy: 0.7342\n",
      "Testing Accuracy:  0.7630\n"
     ]
    }
   ],
   "source": [
    "# Find train and test accuracy\n",
    "loss, accuracy = lstm_m3.evaluate(X_train, y_train, verbose=False)\n",
    "print(\"Training Accuracy: {:.4f}\".format(accuracy))\n",
    "loss, accuracy = lstm_m3.evaluate(X_test, y_test, verbose=False)\n",
    "print(\"Testing Accuracy:  {:.4f}\".format(accuracy))"
   ]
  },
  {
   "cell_type": "markdown",
   "metadata": {},
   "source": [
    "### Model 5 "
   ]
  },
  {
   "cell_type": "code",
   "execution_count": 73,
   "metadata": {},
   "outputs": [],
   "source": [
    "m5 = Sequential([\n",
    "    embedded,\n",
    "    SpatialDropout1D(0.2),\n",
    "    LSTM(64, dropout=0.2, recurrent_dropout=0.2),\n",
    "    Dense(1, activation='sigmoid')\n",
    "])\n",
    "\n",
    "m5.compile(loss=tf.keras.losses.BinaryCrossentropy(from_logits=True),\n",
    "              optimizer=tf.keras.optimizers.Adam(1e-5),\n",
    "              metrics=['accuracy'])"
   ]
  },
  {
   "cell_type": "code",
   "execution_count": 74,
   "metadata": {},
   "outputs": [
    {
     "name": "stdout",
     "output_type": "stream",
     "text": [
      "Model: \"sequential_9\"\n",
      "_________________________________________________________________\n",
      "Layer (type)                 Output Shape              Param #   \n",
      "=================================================================\n",
      "embedding_2 (Embedding)      (None, 100, 100)          1431600   \n",
      "_________________________________________________________________\n",
      "spatial_dropout1d_5 (Spatial (None, 100, 100)          0         \n",
      "_________________________________________________________________\n",
      "lstm_9 (LSTM)                (None, 64)                42240     \n",
      "_________________________________________________________________\n",
      "dense_11 (Dense)             (None, 1)                 65        \n",
      "=================================================================\n",
      "Total params: 1,473,905\n",
      "Trainable params: 42,305\n",
      "Non-trainable params: 1,431,600\n",
      "_________________________________________________________________\n"
     ]
    }
   ],
   "source": [
    "m5.summary()"
   ]
  },
  {
   "cell_type": "code",
   "execution_count": 75,
   "metadata": {},
   "outputs": [
    {
     "name": "stdout",
     "output_type": "stream",
     "text": [
      "Train on 6000 samples, validate on 1612 samples\n",
      "Epoch 1/10\n",
      " - 61s - loss: 0.7436 - accuracy: 0.5803 - val_loss: 0.6927 - val_accuracy: 0.5323\n",
      "Epoch 2/10\n",
      " - 59s - loss: 0.6956 - accuracy: 0.5838 - val_loss: 0.6867 - val_accuracy: 0.5323\n",
      "Epoch 3/10\n",
      " - 58s - loss: 0.6844 - accuracy: 0.6180 - val_loss: 0.6653 - val_accuracy: 0.6154\n",
      "Epoch 4/10\n",
      " - 58s - loss: 0.6773 - accuracy: 0.6475 - val_loss: 0.6508 - val_accuracy: 0.6873\n",
      "Epoch 5/10\n",
      " - 59s - loss: 0.6756 - accuracy: 0.6590 - val_loss: 0.6471 - val_accuracy: 0.7016\n",
      "Epoch 6/10\n",
      " - 57s - loss: 0.6757 - accuracy: 0.6585 - val_loss: 0.6425 - val_accuracy: 0.7165\n",
      "Epoch 7/10\n",
      " - 57s - loss: 0.6736 - accuracy: 0.6695 - val_loss: 0.6395 - val_accuracy: 0.7215\n",
      "Epoch 8/10\n",
      " - 57s - loss: 0.6724 - accuracy: 0.6740 - val_loss: 0.6417 - val_accuracy: 0.7140\n",
      "Epoch 9/10\n",
      " - 57s - loss: 0.6695 - accuracy: 0.6823 - val_loss: 0.6348 - val_accuracy: 0.7333\n",
      "Epoch 10/10\n",
      " - 58s - loss: 0.6686 - accuracy: 0.6850 - val_loss: 0.6360 - val_accuracy: 0.7264\n"
     ]
    }
   ],
   "source": [
    "hist_m5 = m5.fit(X_train, y_train , batch_size=4, epochs=10,validation_data=(X_test, y_test),verbose=2)"
   ]
  },
  {
   "cell_type": "code",
   "execution_count": 76,
   "metadata": {},
   "outputs": [
    {
     "name": "stdout",
     "output_type": "stream",
     "text": [
      "Training Accuracy: 0.7332\n",
      "Testing Accuracy:  0.7264\n"
     ]
    }
   ],
   "source": [
    "# Find train and test accuracy\n",
    "loss, accuracy = m5.evaluate(X_train, y_train, verbose=False)\n",
    "print(\"Training Accuracy: {:.4f}\".format(accuracy))\n",
    "loss, accuracy = m5.evaluate(X_test, y_test, verbose=False)\n",
    "print(\"Testing Accuracy:  {:.4f}\".format(accuracy))"
   ]
  },
  {
   "cell_type": "code",
   "execution_count": 77,
   "metadata": {},
   "outputs": [
    {
     "data": {
      "image/png": "[encoded data removed]",
      "text/plain": [
       "<Figure size 432x288 with 1 Axes>"
      ]
     },
     "metadata": {
      "needs_background": "light"
     },
     "output_type": "display_data"
    },
    {
     "data": {
      "image/png": "[encoded data removed]",
      "text/plain": [
       "<Figure size 432x288 with 1 Axes>"
      ]
     },
     "metadata": {
      "needs_background": "light"
     },
     "output_type": "display_data"
    }
   ],
   "source": [
    "plot_graphs(hist_m5, \"accuracy\")\n",
    "plot_graphs(hist_m5, \"loss\")"
   ]
  },
  {
   "cell_type": "markdown",
   "metadata": {},
   "source": [
    "## Accuracy Comparison"
   ]
  },
  {
   "cell_type": "code",
   "execution_count": 101,
   "metadata": {},
   "outputs": [
    {
     "name": "stdout",
     "output_type": "stream",
     "text": [
      "Testing Accuracy:  0.5931\n",
      "Testing Accuracy:  0.7500\n",
      "Testing Accuracy:  0.5323\n",
      "Testing Accuracy:  0.7754\n",
      "Testing Accuracy:  0.7630\n",
      "Testing Accuracy:  0.7264\n"
     ]
    }
   ],
   "source": [
    "accuracylog = logreg_scores['test_score'].mean()\n",
    "print(\"Testing Accuracy:  {:.4f}\".format(accuracylog))\n",
    "\n",
    "loss, accuracym0 = model_embed.evaluate(X_test, y_test, verbose=False)\n",
    "print(\"Testing Accuracy:  {:.4f}\".format(accuracym0))\n",
    "\n",
    "loss, accuracym1 = lstm_m1.evaluate(X_test, y_test, verbose=False)\n",
    "print(\"Testing Accuracy:  {:.4f}\".format(accuracym1))\n",
    "\n",
    "loss, accuracym2 = lstm_m2.evaluate(X_test, y_test, verbose=False)\n",
    "print(\"Testing Accuracy:  {:.4f}\".format(accuracym2))\n",
    "\n",
    "loss, accuracym3 = lstm_m3.evaluate(X_test, y_test, verbose=False)\n",
    "print(\"Testing Accuracy:  {:.4f}\".format(accuracym3))\n",
    "\n",
    "loss, accuracym4 = m5.evaluate(X_test, y_test, verbose=False)\n",
    "print(\"Testing Accuracy:  {:.4f}\".format(accuracym4))"
   ]
  },
  {
   "cell_type": "code",
   "execution_count": 102,
   "metadata": {},
   "outputs": [],
   "source": [
    "acc = [accuracylog,accuracym0,accuracym1,accuracym2,accuracym3,accuracym4]\n",
    "Methods = ['Logistic', 'NN', 'LSTM1','LSTM2','LSTM3','LSTM4']\n",
    "Accuracy_pos = np.arange(len(Methods))"
   ]
  },
  {
   "cell_type": "code",
   "execution_count": 103,
   "metadata": {},
   "outputs": [
    {
     "data": {
      "image/png": "[encoded data removed]",
      "text/plain": [
       "<Figure size 432x288 with 1 Axes>"
      ]
     },
     "metadata": {
      "needs_background": "light"
     },
     "output_type": "display_data"
    }
   ],
   "source": [
    "plt.bar(Accuracy_pos, acc)\n",
    "plt.xticks(Accuracy_pos, Methods)\n",
    "plt.title('comparing the accuracy of each model')\n",
    "plt.show()"
   ]
  },
  {
   "cell_type": "markdown",
   "metadata": {},
   "source": [
    "LSTM2 (reduce dimensionality) seems to work better than the rest, therefore we will keep working on LSTM model."
   ]
  }
 ],
 "metadata": {
  "colab": {
   "name": "PimKhaophuthai_EAI6000_InitialReport_FinalProject.ipynb",
   "provenance": [],
   "toc_visible": true
  },
  "kernelspec": {
   "display_name": "Python 3",
   "language": "python",
   "name": "python3"
  },
  "language_info": {
   "codemirror_mode": {
    "name": "ipython",
    "version": 3
   },
   "file_extension": ".py",
   "mimetype": "text/x-python",
   "name": "python",
   "nbconvert_exporter": "python",
   "pygments_lexer": "ipython3",
   "version": "3.7.6"
  }
 },
 "nbformat": 4,
 "nbformat_minor": 1
}
