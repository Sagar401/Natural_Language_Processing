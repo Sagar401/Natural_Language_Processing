{
  "nbformat": 4,
  "nbformat_minor": 0,
  "metadata": {
    "colab": {
      "name": "Second Report.ipynb",
      "provenance": [],
      "authorship_tag": "ABX9TyNnBSEDA+nJxqeDeoPk52nX",
      "include_colab_link": true
    },
    "kernelspec": {
      "name": "python3",
      "display_name": "Python 3"
    }
  },
  "cells": [
    {
      "cell_type": "markdown",
      "metadata": {
        "id": "view-in-github",
        "colab_type": "text"
      },
      "source": [
        "<a href=\"https://colab.research.google.com/github/Sagar401/Natural_Language_Processing/blob/master/Second_Report.ipynb\" target=\"_parent\"><img src=\"https://colab.research.google.com/assets/colab-badge.svg\" alt=\"Open In Colab\"/></a>"
      ]
    },
    {
      "cell_type": "markdown",
      "metadata": {
        "id": "9Q-wKtTDUSol",
        "colab_type": "text"
      },
      "source": [
        "# **Team: Sagar Daswani and Pimchanok Khaoputhai**\n",
        "# **FAI - Foundations of AI**\n",
        "\n",
        "# Final Project\n",
        "## First report"
      ]
    },
    {
      "cell_type": "markdown",
      "metadata": {
        "id": "VR28ZsuStmN9",
        "colab_type": "text"
      },
      "source": [
        "#**Real or Not? Binary Classification of Disaster Tweets**\n",
        "Kaggle Competition"
      ]
    },
    {
      "cell_type": "code",
      "metadata": {
        "id": "LjzRX-niUNyM",
        "colab_type": "code",
        "colab": {}
      },
      "source": [
        "import pandas as pd\n",
        "import numpy as np\n",
        "from nltk.tokenize import word_tokenize\n",
        "import re\n",
        "import string\n",
        "import nltk\n",
        "from nltk.corpus import stopwords\n",
        "\n",
        "from keras.preprocessing.text import Tokenizer\n",
        "from keras.preprocessing.sequence import pad_sequences\n",
        "from tqdm import tqdm\n",
        "from keras.models import Sequential\n",
        "from keras.layers import Embedding,LSTM,Dense,SpatialDropout1D\n",
        "from keras.initializers import Constant\n",
        "from sklearn.model_selection import train_test_split\n",
        "from keras.optimizers import Adam"
      ],
      "execution_count": 0,
      "outputs": []
    },
    {
      "cell_type": "code",
      "metadata": {
        "id": "rilMQ9Aqt_W9",
        "colab_type": "code",
        "colab": {}
      },
      "source": [
        "train_df = pd.read_csv(\"train.csv\")\n",
        "test_df = pd.read_csv(\"test.csv\")"
      ],
      "execution_count": 0,
      "outputs": []
    },
    {
      "cell_type": "code",
      "metadata": {
        "id": "FmbBWFm9uBd0",
        "colab_type": "code",
        "outputId": "76492da8-63eb-4858-d356-65787590aa6f",
        "colab": {
          "base_uri": "https://localhost:8080/",
          "height": 198
        }
      },
      "source": [
        "#Looking at first few rows of dataset\n",
        "train_df.head()"
      ],
      "execution_count": 3,
      "outputs": [
        {
          "output_type": "execute_result",
          "data": {
            "text/html": [
              "<div>\n",
              "<style scoped>\n",
              "    .dataframe tbody tr th:only-of-type {\n",
              "        vertical-align: middle;\n",
              "    }\n",
              "\n",
              "    .dataframe tbody tr th {\n",
              "        vertical-align: top;\n",
              "    }\n",
              "\n",
              "    .dataframe thead th {\n",
              "        text-align: right;\n",
              "    }\n",
              "</style>\n",
              "<table border=\"1\" class=\"dataframe\">\n",
              "  <thead>\n",
              "    <tr style=\"text-align: right;\">\n",
              "      <th></th>\n",
              "      <th>id</th>\n",
              "      <th>keyword</th>\n",
              "      <th>location</th>\n",
              "      <th>text</th>\n",
              "      <th>target</th>\n",
              "    </tr>\n",
              "  </thead>\n",
              "  <tbody>\n",
              "    <tr>\n",
              "      <th>0</th>\n",
              "      <td>1</td>\n",
              "      <td>NaN</td>\n",
              "      <td>NaN</td>\n",
              "      <td>Our Deeds are the Reason of this #earthquake M...</td>\n",
              "      <td>1</td>\n",
              "    </tr>\n",
              "    <tr>\n",
              "      <th>1</th>\n",
              "      <td>4</td>\n",
              "      <td>NaN</td>\n",
              "      <td>NaN</td>\n",
              "      <td>Forest fire near La Ronge Sask. Canada</td>\n",
              "      <td>1</td>\n",
              "    </tr>\n",
              "    <tr>\n",
              "      <th>2</th>\n",
              "      <td>5</td>\n",
              "      <td>NaN</td>\n",
              "      <td>NaN</td>\n",
              "      <td>All residents asked to 'shelter in place' are ...</td>\n",
              "      <td>1</td>\n",
              "    </tr>\n",
              "    <tr>\n",
              "      <th>3</th>\n",
              "      <td>6</td>\n",
              "      <td>NaN</td>\n",
              "      <td>NaN</td>\n",
              "      <td>13,000 people receive #wildfires evacuation or...</td>\n",
              "      <td>1</td>\n",
              "    </tr>\n",
              "    <tr>\n",
              "      <th>4</th>\n",
              "      <td>7</td>\n",
              "      <td>NaN</td>\n",
              "      <td>NaN</td>\n",
              "      <td>Just got sent this photo from Ruby #Alaska as ...</td>\n",
              "      <td>1</td>\n",
              "    </tr>\n",
              "  </tbody>\n",
              "</table>\n",
              "</div>"
            ],
            "text/plain": [
              "   id keyword  ...                                               text target\n",
              "0   1     NaN  ...  Our Deeds are the Reason of this #earthquake M...      1\n",
              "1   4     NaN  ...             Forest fire near La Ronge Sask. Canada      1\n",
              "2   5     NaN  ...  All residents asked to 'shelter in place' are ...      1\n",
              "3   6     NaN  ...  13,000 people receive #wildfires evacuation or...      1\n",
              "4   7     NaN  ...  Just got sent this photo from Ruby #Alaska as ...      1\n",
              "\n",
              "[5 rows x 5 columns]"
            ]
          },
          "metadata": {
            "tags": []
          },
          "execution_count": 3
        }
      ]
    },
    {
      "cell_type": "code",
      "metadata": {
        "id": "PMmLGqsDuDEU",
        "colab_type": "code",
        "outputId": "07853f6f-7410-455d-e599-a840dda490c2",
        "colab": {
          "base_uri": "https://localhost:8080/",
          "height": 54
        }
      },
      "source": [
        "print(\"Training Dataset Size:\",train_df.shape)\n",
        "print(\"Test Dataset Size:\",test_df.shape)"
      ],
      "execution_count": 4,
      "outputs": [
        {
          "output_type": "stream",
          "text": [
            "Training Dataset Size: (7613, 5)\n",
            "Test Dataset Size: (3263, 4)\n"
          ],
          "name": "stdout"
        }
      ]
    },
    {
      "cell_type": "code",
      "metadata": {
        "id": "_5puA8HnuFDU",
        "colab_type": "code",
        "outputId": "7d787c23-836a-4a4e-ac77-9697058af6cc",
        "colab": {
          "base_uri": "https://localhost:8080/",
          "height": 126
        }
      },
      "source": [
        "#missing values in training dataset\n",
        "train_df.isnull().sum()"
      ],
      "execution_count": 5,
      "outputs": [
        {
          "output_type": "execute_result",
          "data": {
            "text/plain": [
              "id             0\n",
              "keyword       61\n",
              "location    2533\n",
              "text           0\n",
              "target         0\n",
              "dtype: int64"
            ]
          },
          "metadata": {
            "tags": []
          },
          "execution_count": 5
        }
      ]
    },
    {
      "cell_type": "code",
      "metadata": {
        "id": "TzEnZKCguHLE",
        "colab_type": "code",
        "outputId": "26511251-b87c-42c8-f1b4-d11c78eadac7",
        "colab": {
          "base_uri": "https://localhost:8080/",
          "height": 72
        }
      },
      "source": [
        "train_df['target'].value_counts()"
      ],
      "execution_count": 6,
      "outputs": [
        {
          "output_type": "execute_result",
          "data": {
            "text/plain": [
              "0    4342\n",
              "1    3271\n",
              "Name: target, dtype: int64"
            ]
          },
          "metadata": {
            "tags": []
          },
          "execution_count": 6
        }
      ]
    },
    {
      "cell_type": "code",
      "metadata": {
        "id": "lummXhqHuJKs",
        "colab_type": "code",
        "outputId": "a9fd41f5-9504-4521-b9d6-bb47d68b102a",
        "colab": {
          "base_uri": "https://localhost:8080/",
          "height": 235
        }
      },
      "source": [
        "#exlporing location column\n",
        "train_df['location'].value_counts()"
      ],
      "execution_count": 7,
      "outputs": [
        {
          "output_type": "execute_result",
          "data": {
            "text/plain": [
              "USA                           104\n",
              "New York                       71\n",
              "United States                  50\n",
              "London                         45\n",
              "Canada                         29\n",
              "                             ... \n",
              "Santa Monica, CA                1\n",
              "Scottsdale, AZ                  1\n",
              "buffalo / madrid / granada      1\n",
              "Atmosphere                      1\n",
              "Tripsburg, ms.                  1\n",
              "Name: location, Length: 3341, dtype: int64"
            ]
          },
          "metadata": {
            "tags": []
          },
          "execution_count": 7
        }
      ]
    },
    {
      "cell_type": "markdown",
      "metadata": {
        "id": "AJcyF8xIuOlq",
        "colab_type": "text"
      },
      "source": [
        "##**Data Cleaning**\n",
        "\n",
        "\n",
        "*   Making all uppercase to lowercase\n",
        "*   Removing noise from tweets\n",
        "\n",
        "  *   URLs\n",
        "  *   HTML tags\n",
        "  *   emogis\n",
        "  *   Punctuation\n",
        "  *   New-Line\n",
        "  *   Removing Digits\n",
        "*   Tokenization: Converting normal text string into a list of tokens/words\n",
        "*   Stopwords removal(optional)\n"
      ]
    },
    {
      "cell_type": "code",
      "metadata": {
        "id": "nqTR5FZZuKwj",
        "colab_type": "code",
        "colab": {}
      },
      "source": [
        "#function to remove noise from text\n",
        "def clean_text(text):\n",
        "    text = text.lower() #convert to lowercase to maintain standard flow between text\n",
        "    text = re.sub('\\[.*?\\]', '', text) #removing text in square brackets\n",
        "    text = re.sub('https?://\\S+|www\\.\\S+', '', text) #removing url\n",
        "    text = re.sub('<.*?>+', '', text) #removing html tags\n",
        "    text = re.sub('[%s]' % re.escape(string.punctuation), '', text) #removing puntuations\n",
        "    text = re.sub('\\n', '', text)#removing new line from the text field\n",
        "    text = re.sub('\\w*\\d\\w*', '', text) #removing digits from the string\n",
        "    return text\n",
        "\n",
        "train_df['text'] = train_df['text'].apply(lambda x : clean_text(x))\n",
        "test_df['text'] = test_df['text'].apply(lambda x : clean_text(x))"
      ],
      "execution_count": 0,
      "outputs": []
    },
    {
      "cell_type": "code",
      "metadata": {
        "id": "t7pqPAZ0uTqU",
        "colab_type": "code",
        "colab": {}
      },
      "source": [
        "#function to remove emoji's\n",
        "def remove_emoji(text):\n",
        "    emoji_pattern = re.compile(\"[\"\n",
        "                           u\"\\U0001F600-\\U0001F64F\"  # emoticons\n",
        "                           u\"\\U0001F300-\\U0001F5FF\"  # symbols & pictographs\n",
        "                           u\"\\U0001F680-\\U0001F6FF\"  # transport & map symbols\n",
        "                           u\"\\U0001F1E0-\\U0001F1FF\"  # flags (iOS)\n",
        "                           u\"\\U00002702-\\U000027B0\"\n",
        "                           u\"\\U000024C2-\\U0001F251\"\n",
        "                            \"]+\", flags=re.UNICODE)\n",
        "    return emoji_pattern.sub(r'', text)\n",
        "\n",
        "train_df['text']=train_df['text'].apply(lambda x: remove_emoji(x))\n",
        "test_df['text']=test_df['text'].apply(lambda x: remove_emoji(x))"
      ],
      "execution_count": 0,
      "outputs": []
    },
    {
      "cell_type": "code",
      "metadata": {
        "id": "Ai1dEXuS2o_a",
        "colab_type": "code",
        "colab": {
          "base_uri": "https://localhost:8080/",
          "height": 108
        },
        "outputId": "d4b1aaff-b7dc-47f3-ad3b-4108b77ad5a4"
      },
      "source": [
        "#run code to install spell checker package\n",
        "!pip install pyspellchecker"
      ],
      "execution_count": 11,
      "outputs": [
        {
          "output_type": "stream",
          "text": [
            "Collecting pyspellchecker\n",
            "\u001b[?25l  Downloading https://files.pythonhosted.org/packages/04/d1/ec4e830e9f9c1fd788e1459dd09279fdf807bc7a475579fd7192450b879c/pyspellchecker-0.5.4-py2.py3-none-any.whl (1.9MB)\n",
            "\u001b[K     |████████████████████████████████| 1.9MB 2.8MB/s \n",
            "\u001b[?25hInstalling collected packages: pyspellchecker\n",
            "Successfully installed pyspellchecker-0.5.4\n"
          ],
          "name": "stdout"
        }
      ]
    },
    {
      "cell_type": "code",
      "metadata": {
        "id": "GwiIxn572hiO",
        "colab_type": "code",
        "colab": {}
      },
      "source": [
        "from spellchecker import SpellChecker\n",
        "\n",
        "spell = SpellChecker()\n",
        "def correct_spellings(text):\n",
        "    corrected_text = []\n",
        "    misspelled_words = spell.unknown(text.split())\n",
        "    for word in text.split():\n",
        "        if word in misspelled_words:\n",
        "            corrected_text.append(spell.correction(word))\n",
        "        else:\n",
        "            corrected_text.append(word)\n",
        "    return \" \".join(corrected_text)\n",
        "\n",
        "train_df['text']=train_df['text'].apply(lambda x: correct_spellings(x))\n",
        "test_df['text']=test_df['text'].apply(lambda x: correct_spellings(x))\n",
        "        "
      ],
      "execution_count": 0,
      "outputs": []
    },
    {
      "cell_type": "code",
      "metadata": {
        "id": "anhmAEpLuUjs",
        "colab_type": "code",
        "colab": {}
      },
      "source": [
        "#adding new column with the count of words in a single row\n",
        "train_df['word_count'] = train_df['text'].str.split().map(len)\n",
        "\n",
        "#only using the rows with word count more than 0\n",
        "train_df = train_df[train_df['word_count'] > 0]\n",
        "\n",
        "#moving forward with 2 column from dataset , i.e., text and target\n",
        "train_df = train_df[[\"text\",\"target\"]]\n",
        "test_df = test_df[[\"text\"]]"
      ],
      "execution_count": 0,
      "outputs": []
    },
    {
      "cell_type": "code",
      "metadata": {
        "id": "8qG9Ygqllqyr",
        "colab_type": "code",
        "colab": {}
      },
      "source": [
        "train_complete = [ i for i in train_df.text]\n",
        "\n",
        "training_sentences = [ i for i in train_df.text[:6000]]\n",
        "test_sentences = [i for i in train_df.text[6000:]]\n",
        "                  \n",
        "training_labels = [ i for i in train_df.target[:6000]]\n",
        "test_labels = [i for i in train_df.target[6000:]]"
      ],
      "execution_count": 0,
      "outputs": []
    },
    {
      "cell_type": "code",
      "metadata": {
        "id": "FrUFA8lHlq9N",
        "colab_type": "code",
        "colab": {}
      },
      "source": [
        "embedding_dict={}\n",
        "with open('glove.6B.100d.txt','r') as f:\n",
        "    for line in f:\n",
        "        values=line.split()\n",
        "        word=values[0]\n",
        "        vectors=np.asarray(values[1:],'float32')\n",
        "        embedding_dict[word]=vectors\n",
        "f.close()"
      ],
      "execution_count": 0,
      "outputs": []
    },
    {
      "cell_type": "code",
      "metadata": {
        "id": "q3G1IT71lrHb",
        "colab_type": "code",
        "colab": {}
      },
      "source": [
        "MAX_LEN=50\n",
        "tokenizer_obj=Tokenizer()\n",
        "tokenizer_obj.fit_on_texts(train_complete)\n",
        "\n",
        "training_sequences=tokenizer_obj.texts_to_sequences(training_sentences)\n",
        "training_padded=pad_sequences(training_sequences,maxlen=MAX_LEN,truncating='post',padding='post')\n",
        "\n",
        "test_sequences=tokenizer_obj.texts_to_sequences(test_sentences)\n",
        "test_padded=pad_sequences(test_sequences,maxlen=MAX_LEN,truncating='post',padding='post')"
      ],
      "execution_count": 0,
      "outputs": []
    },
    {
      "cell_type": "code",
      "metadata": {
        "id": "8vUlS4u0nvxJ",
        "colab_type": "code",
        "colab": {
          "base_uri": "https://localhost:8080/",
          "height": 35
        },
        "outputId": "03d93db6-4682-4033-b34b-1df3f1df13c3"
      },
      "source": [
        "word_index=tokenizer_obj.word_index\n",
        "print('Number of unique words:',len(word_index))"
      ],
      "execution_count": 29,
      "outputs": [
        {
          "output_type": "stream",
          "text": [
            "Number of unique words: 16833\n"
          ],
          "name": "stdout"
        }
      ]
    },
    {
      "cell_type": "code",
      "metadata": {
        "id": "evWVjLXpnMaN",
        "colab_type": "code",
        "colab": {
          "base_uri": "https://localhost:8080/",
          "height": 35
        },
        "outputId": "3cf8cc0f-4941-4c65-fa86-0b409edae7b0"
      },
      "source": [
        "num_words=len(word_index)+1\n",
        "embedding_matrix=np.zeros((num_words,100))\n",
        "\n",
        "for word,i in tqdm(word_index.items()):\n",
        "    if i > num_words:\n",
        "        continue\n",
        "    \n",
        "    emb_vec=embedding_dict.get(word)\n",
        "    if emb_vec is not None:\n",
        "        embedding_matrix[i]=emb_vec"
      ],
      "execution_count": 31,
      "outputs": [
        {
          "output_type": "stream",
          "text": [
            "100%|██████████| 16833/16833 [00:00<00:00, 492214.25it/s]\n"
          ],
          "name": "stderr"
        }
      ]
    },
    {
      "cell_type": "markdown",
      "metadata": {
        "id": "_iLIP6LCohCo",
        "colab_type": "text"
      },
      "source": [
        "## Baseline model"
      ]
    },
    {
      "cell_type": "code",
      "metadata": {
        "id": "gqPcOyJFoYVJ",
        "colab_type": "code",
        "colab": {}
      },
      "source": [
        "model=Sequential()\n",
        "\n",
        "embedding=Embedding(num_words,100,embeddings_initializer=Constant(embedding_matrix),\n",
        "                   input_length=MAX_LEN,trainable=False)\n",
        "\n",
        "model.add(embedding)\n",
        "model.add(SpatialDropout1D(0.2))\n",
        "model.add(LSTM(64, dropout=0.2, recurrent_dropout=0.2))\n",
        "model.add(Dense(1, activation='sigmoid'))\n",
        "\n",
        "\n",
        "optimzer=Adam(lr=1e-5)\n",
        "\n",
        "model.compile(loss='binary_crossentropy',optimizer=optimzer,metrics=['accuracy'])"
      ],
      "execution_count": 0,
      "outputs": []
    },
    {
      "cell_type": "code",
      "metadata": {
        "id": "rGOFvoGToYSr",
        "colab_type": "code",
        "colab": {
          "base_uri": "https://localhost:8080/",
          "height": 308
        },
        "outputId": "bd39dc7e-943d-4d1d-beb6-464774c91975"
      },
      "source": [
        "model.summary()"
      ],
      "execution_count": 36,
      "outputs": [
        {
          "output_type": "stream",
          "text": [
            "Model: \"sequential_3\"\n",
            "_________________________________________________________________\n",
            "Layer (type)                 Output Shape              Param #   \n",
            "=================================================================\n",
            "embedding_3 (Embedding)      (None, 50, 100)           1683400   \n",
            "_________________________________________________________________\n",
            "spatial_dropout1d_3 (Spatial (None, 50, 100)           0         \n",
            "_________________________________________________________________\n",
            "lstm_3 (LSTM)                (None, 64)                42240     \n",
            "_________________________________________________________________\n",
            "dense_3 (Dense)              (None, 1)                 65        \n",
            "=================================================================\n",
            "Total params: 1,725,705\n",
            "Trainable params: 42,305\n",
            "Non-trainable params: 1,683,400\n",
            "_________________________________________________________________\n"
          ],
          "name": "stdout"
        }
      ]
    },
    {
      "cell_type": "code",
      "metadata": {
        "id": "nn5Mu1evpaOX",
        "colab_type": "code",
        "colab": {}
      },
      "source": [
        "import numpy as np\n",
        "\n",
        "training_padded = np.array(training_padded)\n",
        "training_labels = np.array(training_labels)\n",
        "\n",
        "test_padded = np.array(test_padded)\n",
        "test_labels = np.array(test_labels)"
      ],
      "execution_count": 0,
      "outputs": []
    },
    {
      "cell_type": "code",
      "metadata": {
        "id": "NZU0ne4moYQG",
        "colab_type": "code",
        "colab": {
          "base_uri": "https://localhost:8080/",
          "height": 892
        },
        "outputId": "ebbc6978-9cc8-4bce-801e-2f7fc2b7a26d"
      },
      "source": [
        "history=model.fit(training_padded,training_labels,batch_size=4,epochs=15,validation_data=(test_padded,test_labels),verbose=2)"
      ],
      "execution_count": 38,
      "outputs": [
        {
          "output_type": "stream",
          "text": [
            "WARNING:tensorflow:From /usr/local/lib/python3.6/dist-packages/keras/backend/tensorflow_backend.py:1033: The name tf.assign_add is deprecated. Please use tf.compat.v1.assign_add instead.\n",
            "\n",
            "WARNING:tensorflow:From /usr/local/lib/python3.6/dist-packages/keras/backend/tensorflow_backend.py:1020: The name tf.assign is deprecated. Please use tf.compat.v1.assign instead.\n",
            "\n",
            "WARNING:tensorflow:From /usr/local/lib/python3.6/dist-packages/keras/backend/tensorflow_backend.py:3005: The name tf.Session is deprecated. Please use tf.compat.v1.Session instead.\n",
            "\n",
            "Train on 6000 samples, validate on 1612 samples\n",
            "Epoch 1/15\n",
            "WARNING:tensorflow:From /usr/local/lib/python3.6/dist-packages/keras/backend/tensorflow_backend.py:190: The name tf.get_default_session is deprecated. Please use tf.compat.v1.get_default_session instead.\n",
            "\n",
            "WARNING:tensorflow:From /usr/local/lib/python3.6/dist-packages/keras/backend/tensorflow_backend.py:197: The name tf.ConfigProto is deprecated. Please use tf.compat.v1.ConfigProto instead.\n",
            "\n",
            "WARNING:tensorflow:From /usr/local/lib/python3.6/dist-packages/keras/backend/tensorflow_backend.py:207: The name tf.global_variables is deprecated. Please use tf.compat.v1.global_variables instead.\n",
            "\n",
            "WARNING:tensorflow:From /usr/local/lib/python3.6/dist-packages/keras/backend/tensorflow_backend.py:216: The name tf.is_variable_initialized is deprecated. Please use tf.compat.v1.is_variable_initialized instead.\n",
            "\n",
            "WARNING:tensorflow:From /usr/local/lib/python3.6/dist-packages/keras/backend/tensorflow_backend.py:223: The name tf.variables_initializer is deprecated. Please use tf.compat.v1.variables_initializer instead.\n",
            "\n",
            " - 55s - loss: 0.6910 - acc: 0.5795 - val_loss: 0.6913 - val_acc: 0.5323\n",
            "Epoch 2/15\n",
            " - 52s - loss: 0.6821 - acc: 0.5805 - val_loss: 0.6828 - val_acc: 0.5323\n",
            "Epoch 3/15\n",
            " - 50s - loss: 0.6636 - acc: 0.5808 - val_loss: 0.6508 - val_acc: 0.5323\n",
            "Epoch 4/15\n",
            " - 50s - loss: 0.6329 - acc: 0.6247 - val_loss: 0.6019 - val_acc: 0.7301\n",
            "Epoch 5/15\n",
            " - 50s - loss: 0.6079 - acc: 0.7028 - val_loss: 0.5713 - val_acc: 0.7730\n",
            "Epoch 6/15\n",
            " - 51s - loss: 0.5897 - acc: 0.7190 - val_loss: 0.5549 - val_acc: 0.7754\n",
            "Epoch 7/15\n",
            " - 52s - loss: 0.5785 - acc: 0.7255 - val_loss: 0.5418 - val_acc: 0.7785\n",
            "Epoch 8/15\n",
            " - 52s - loss: 0.5750 - acc: 0.7357 - val_loss: 0.5281 - val_acc: 0.7767\n",
            "Epoch 9/15\n",
            " - 53s - loss: 0.5712 - acc: 0.7343 - val_loss: 0.5215 - val_acc: 0.7748\n",
            "Epoch 10/15\n",
            " - 53s - loss: 0.5654 - acc: 0.7448 - val_loss: 0.5156 - val_acc: 0.7866\n",
            "Epoch 11/15\n",
            " - 53s - loss: 0.5665 - acc: 0.7317 - val_loss: 0.5121 - val_acc: 0.7847\n",
            "Epoch 12/15\n",
            " - 52s - loss: 0.5574 - acc: 0.7398 - val_loss: 0.5086 - val_acc: 0.7903\n",
            "Epoch 13/15\n",
            " - 52s - loss: 0.5589 - acc: 0.7403 - val_loss: 0.5030 - val_acc: 0.7878\n",
            "Epoch 14/15\n",
            " - 52s - loss: 0.5488 - acc: 0.7555 - val_loss: 0.4994 - val_acc: 0.7922\n",
            "Epoch 15/15\n",
            " - 51s - loss: 0.5469 - acc: 0.7513 - val_loss: 0.4956 - val_acc: 0.7928\n"
          ],
          "name": "stdout"
        }
      ]
    },
    {
      "cell_type": "code",
      "metadata": {
        "id": "HtRw9eZQnoyc",
        "colab_type": "code",
        "colab": {}
      },
      "source": [
        ""
      ],
      "execution_count": 0,
      "outputs": []
    },
    {
      "cell_type": "code",
      "metadata": {
        "id": "WeEUUg8Nno5o",
        "colab_type": "code",
        "colab": {}
      },
      "source": [
        ""
      ],
      "execution_count": 0,
      "outputs": []
    },
    {
      "cell_type": "markdown",
      "metadata": {
        "id": "UAyKUTC3uiM8",
        "colab_type": "text"
      },
      "source": [
        "## **Word Embedding** \n",
        "Tensorflow model\n"
      ]
    },
    {
      "cell_type": "code",
      "metadata": {
        "id": "-8-kPaajubQc",
        "colab_type": "code",
        "outputId": "67b0ae92-32be-40dc-e3b5-5abb6808dceb",
        "colab": {
          "base_uri": "https://localhost:8080/",
          "height": 35
        }
      },
      "source": [
        "# Run this to ensure TensorFlow 2.x is used\n",
        "try:\n",
        "  # %tensorflow_version only exists in Colab.\n",
        "  %tensorflow_version 2.x\n",
        "except Exception:\n",
        "  pass"
      ],
      "execution_count": 0,
      "outputs": [
        {
          "output_type": "stream",
          "text": [
            "TensorFlow 2.x selected.\n"
          ],
          "name": "stdout"
        }
      ]
    },
    {
      "cell_type": "code",
      "metadata": {
        "id": "H-SbruMGuyTk",
        "colab_type": "code",
        "colab": {}
      },
      "source": [
        "import tensorflow as tf\n",
        "from tensorflow import keras\n",
        "from tensorflow.keras.preprocessing.text import Tokenizer\n",
        "import pandas as pd\n",
        "from tensorflow.keras.preprocessing.sequence import pad_sequences"
      ],
      "execution_count": 0,
      "outputs": []
    },
    {
      "cell_type": "code",
      "metadata": {
        "id": "m6jmp7BOu0Zl",
        "colab_type": "code",
        "colab": {}
      },
      "source": [
        "training_sentences = [ i for i in train_df.text[:6000]]\n",
        "test_sentences = [i for i in train_df.text[6000:]]\n",
        "                  \n",
        "training_labels = [ i for i in train_df.target[:6000]]\n",
        "test_labels = [i for i in train_df.target[6000:]]\n"
      ],
      "execution_count": 0,
      "outputs": []
    },
    {
      "cell_type": "code",
      "metadata": {
        "id": "duXU2WWju4qs",
        "colab_type": "code",
        "colab": {}
      },
      "source": [
        "tokenizer = Tokenizer(num_words=10000,oov_token=\"<OOV>\")\n",
        "tokenizer.fit_on_texts(training_sentences)\n",
        "word_index = tokenizer.word_index"
      ],
      "execution_count": 0,
      "outputs": []
    },
    {
      "cell_type": "code",
      "metadata": {
        "id": "Jh1vQJOnu6Wj",
        "colab_type": "code",
        "colab": {}
      },
      "source": [
        "training_sequences = tokenizer.texts_to_sequences(training_sentences)\n",
        "training_padded = pad_sequences(training_sequences,padding='post')\n",
        "\n",
        "test_sequences = tokenizer.texts_to_sequences(test_sentences)\n",
        "test_padded = pad_sequences(test_sequences,padding='post')\n"
      ],
      "execution_count": 0,
      "outputs": []
    },
    {
      "cell_type": "code",
      "metadata": {
        "id": "d4mKveA-u8Ej",
        "colab_type": "code",
        "colab": {}
      },
      "source": [
        "import numpy as np\n",
        "\n",
        "training_padded = np.array(training_padded)\n",
        "training_labels = np.array(training_labels)\n",
        "\n",
        "test_padded = np.array(test_padded)\n",
        "test_labels = np.array(test_labels)"
      ],
      "execution_count": 0,
      "outputs": []
    },
    {
      "cell_type": "code",
      "metadata": {
        "id": "Nd21kWvxu-Il",
        "colab_type": "code",
        "colab": {}
      },
      "source": [
        "model = tf.keras.Sequential([\n",
        "    tf.keras.layers.Embedding(10000, 64),\n",
        "    tf.keras.layers.Bidirectional(tf.keras.layers.LSTM(64,return_sequences=True)),\n",
        "    tf.keras.layers.Bidirectional(tf.keras.layers.LSTM(128)),\n",
        "    tf.keras.layers.Dense(50, activation='relu'),\n",
        "    tf.keras.layers.Dropout(0.5),\n",
        "    tf.keras.layers.Dense(1)\n",
        "])\n",
        "model.compile(loss=tf.keras.losses.BinaryCrossentropy(from_logits=True),\n",
        "              optimizer=tf.keras.optimizers.Adam(1e-4),\n",
        "              metrics=['accuracy'])"
      ],
      "execution_count": 0,
      "outputs": []
    },
    {
      "cell_type": "code",
      "metadata": {
        "id": "JzjfPCQdvAoD",
        "colab_type": "code",
        "outputId": "e3383a02-bed1-44ae-ede1-0cb22ad15799",
        "colab": {
          "base_uri": "https://localhost:8080/",
          "height": 381
        }
      },
      "source": [
        "model.summary()"
      ],
      "execution_count": 0,
      "outputs": [
        {
          "output_type": "stream",
          "text": [
            "Model: \"sequential_13\"\n",
            "_________________________________________________________________\n",
            "Layer (type)                 Output Shape              Param #   \n",
            "=================================================================\n",
            "embedding_13 (Embedding)     (None, None, 64)          640000    \n",
            "_________________________________________________________________\n",
            "bidirectional_16 (Bidirectio (None, None, 128)         66048     \n",
            "_________________________________________________________________\n",
            "bidirectional_17 (Bidirectio (None, 256)               263168    \n",
            "_________________________________________________________________\n",
            "dense_26 (Dense)             (None, 50)                12850     \n",
            "_________________________________________________________________\n",
            "dropout_6 (Dropout)          (None, 50)                0         \n",
            "_________________________________________________________________\n",
            "dense_27 (Dense)             (None, 1)                 51        \n",
            "=================================================================\n",
            "Total params: 982,117\n",
            "Trainable params: 982,117\n",
            "Non-trainable params: 0\n",
            "_________________________________________________________________\n"
          ],
          "name": "stdout"
        }
      ]
    },
    {
      "cell_type": "code",
      "metadata": {
        "id": "I2EgVo7GvCMz",
        "colab_type": "code",
        "outputId": "1e4d10aa-6721-4fbf-8079-c11e6195eadb",
        "colab": {
          "base_uri": "https://localhost:8080/",
          "height": 763
        }
      },
      "source": [
        "num_epochs = 20\n",
        "history = model.fit(training_padded, training_labels, epochs=num_epochs, validation_data=(test_padded, test_labels), verbose=2)"
      ],
      "execution_count": 0,
      "outputs": [
        {
          "output_type": "stream",
          "text": [
            "Train on 6000 samples, validate on 1612 samples\n",
            "Epoch 1/20\n",
            "6000/6000 - 30s - loss: 0.6809 - accuracy: 0.5805 - val_loss: 0.6903 - val_accuracy: 0.5323\n",
            "Epoch 2/20\n",
            "6000/6000 - 24s - loss: 0.5449 - accuracy: 0.6922 - val_loss: 0.5028 - val_accuracy: 0.7407\n",
            "Epoch 3/20\n",
            "6000/6000 - 24s - loss: 0.3697 - accuracy: 0.8460 - val_loss: 0.5089 - val_accuracy: 0.7568\n",
            "Epoch 4/20\n",
            "6000/6000 - 24s - loss: 0.2956 - accuracy: 0.8842 - val_loss: 0.5019 - val_accuracy: 0.7661\n",
            "Epoch 5/20\n",
            "6000/6000 - 24s - loss: 0.2360 - accuracy: 0.9137 - val_loss: 0.5775 - val_accuracy: 0.7215\n",
            "Epoch 6/20\n",
            "6000/6000 - 24s - loss: 0.1876 - accuracy: 0.9288 - val_loss: 0.6298 - val_accuracy: 0.7426\n",
            "Epoch 7/20\n",
            "6000/6000 - 24s - loss: 0.1529 - accuracy: 0.9468 - val_loss: 0.7191 - val_accuracy: 0.7301\n",
            "Epoch 8/20\n",
            "6000/6000 - 24s - loss: 0.1298 - accuracy: 0.9550 - val_loss: 0.7412 - val_accuracy: 0.7196\n",
            "Epoch 9/20\n",
            "6000/6000 - 24s - loss: 0.1189 - accuracy: 0.9575 - val_loss: 0.7660 - val_accuracy: 0.7233\n",
            "Epoch 10/20\n",
            "6000/6000 - 24s - loss: 0.1044 - accuracy: 0.9647 - val_loss: 0.9822 - val_accuracy: 0.7128\n",
            "Epoch 11/20\n",
            "6000/6000 - 24s - loss: 0.0890 - accuracy: 0.9685 - val_loss: 1.0756 - val_accuracy: 0.7084\n",
            "Epoch 12/20\n",
            "6000/6000 - 24s - loss: 0.0860 - accuracy: 0.9705 - val_loss: 1.0057 - val_accuracy: 0.7097\n",
            "Epoch 13/20\n",
            "6000/6000 - 24s - loss: 0.0854 - accuracy: 0.9720 - val_loss: 1.1460 - val_accuracy: 0.7041\n",
            "Epoch 14/20\n",
            "6000/6000 - 24s - loss: 0.0761 - accuracy: 0.9715 - val_loss: 1.4192 - val_accuracy: 0.6967\n",
            "Epoch 15/20\n",
            "6000/6000 - 24s - loss: 0.0705 - accuracy: 0.9718 - val_loss: 1.5688 - val_accuracy: 0.6867\n",
            "Epoch 16/20\n",
            "6000/6000 - 24s - loss: 0.0667 - accuracy: 0.9735 - val_loss: 1.2287 - val_accuracy: 0.6917\n",
            "Epoch 17/20\n",
            "6000/6000 - 24s - loss: 0.0638 - accuracy: 0.9728 - val_loss: 1.8339 - val_accuracy: 0.6892\n",
            "Epoch 18/20\n",
            "6000/6000 - 24s - loss: 0.0628 - accuracy: 0.9732 - val_loss: 1.5460 - val_accuracy: 0.6799\n",
            "Epoch 19/20\n",
            "6000/6000 - 24s - loss: 0.0576 - accuracy: 0.9752 - val_loss: 2.0004 - val_accuracy: 0.6793\n",
            "Epoch 20/20\n",
            "6000/6000 - 24s - loss: 0.0681 - accuracy: 0.9718 - val_loss: 2.1569 - val_accuracy: 0.6793\n"
          ],
          "name": "stdout"
        }
      ]
    },
    {
      "cell_type": "code",
      "metadata": {
        "id": "qKPiDpLkvEqb",
        "colab_type": "code",
        "outputId": "a4deb713-cf7f-46fc-8b0f-b9cd6265625f",
        "colab": {
          "base_uri": "https://localhost:8080/",
          "height": 541
        }
      },
      "source": [
        "import matplotlib.pyplot as plt\n",
        "def plot_graphs(history, string):\n",
        "  plt.plot(history.history[string])\n",
        "  plt.plot(history.history['val_'+string])\n",
        "  plt.xlabel(\"Epochs\")\n",
        "  plt.ylabel(string)\n",
        "  plt.legend([string, 'val_'+string])\n",
        "  plt.show()\n",
        "  \n",
        "plot_graphs(history, \"accuracy\")\n",
        "plot_graphs(history, \"loss\")"
      ],
      "execution_count": 0,
      "outputs": [
        {
          "output_type": "display_data",
          "data": {
            "image/png": "[encoded data removed]",
            "text/plain": [
              "<Figure size 432x288 with 1 Axes>"
            ]
          },
          "metadata": {
            "tags": []
          }
        },
        {
          "output_type": "display_data",
          "data": {
            "image/png": "[encoded data removed]",
            "text/plain": [
              "<Figure size 432x288 with 1 Axes>"
            ]
          },
          "metadata": {
            "tags": []
          }
        }
      ]
    },
    {
      "cell_type": "code",
      "metadata": {
        "id": "hUv1OsUHvI27",
        "colab_type": "code",
        "outputId": "d59455ef-6cfc-4d31-f368-db313a4b5a18",
        "colab": {
          "base_uri": "https://localhost:8080/",
          "height": 70
        }
      },
      "source": [
        "reverse_word_index = dict([(value, key) for (key, value) in word_index.items()])\n",
        "\n",
        "def decode_sentence(text):\n",
        "    return ' '.join([reverse_word_index.get(i, '?') for i in text])\n",
        "\n",
        "print(decode_sentence(training_padded[0]))\n",
        "print(training_sentences[2])\n",
        "print(train_df.target[2])"
      ],
      "execution_count": 0,
      "outputs": [
        {
          "output_type": "stream",
          "text": [
            "our deeds are the reason of this earthquake may allah forgive us all ? ? ? ? ? ? ? ? ? ? ? ? ? ? ? ? ? ?\n",
            "all residents asked to shelter in place are being notified by officers no other evacuation or shelter in place orders are expected\n",
            "1\n"
          ],
          "name": "stdout"
        }
      ]
    },
    {
      "cell_type": "code",
      "metadata": {
        "id": "IWxi9YYdvK_t",
        "colab_type": "code",
        "outputId": "c54717d5-0eaf-447e-bbf0-83c86a356814",
        "colab": {
          "base_uri": "https://localhost:8080/",
          "height": 35
        }
      },
      "source": [
        "e = model.layers[0]\n",
        "weights = e.get_weights()[0]\n",
        "print(weights.shape) # shape: (vocab_size, embedding_dim)"
      ],
      "execution_count": 0,
      "outputs": [
        {
          "output_type": "stream",
          "text": [
            "(10000, 16)\n"
          ],
          "name": "stdout"
        }
      ]
    },
    {
      "cell_type": "code",
      "metadata": {
        "id": "24CeiYrhvO30",
        "colab_type": "code",
        "outputId": "196fe9fe-4a79-4e9e-f120-bc966cdbb1f0",
        "colab": {
          "base_uri": "https://localhost:8080/",
          "height": 70
        }
      },
      "source": [
        "sentence = [\"granny starting to fear spiders in the garden might be real\", \"coronavirus is spreading in my neighborhood\",\"Coronavirus is love\"]\n",
        "sequences = tokenizer.texts_to_sequences(sentence)\n",
        "padded = pad_sequences(sequences, padding='post')\n",
        "print(model.predict(padded))"
      ],
      "execution_count": 0,
      "outputs": [
        {
          "output_type": "stream",
          "text": [
            "[[0.0068009 ]\n",
            " [0.67498094]\n",
            " [0.02055607]]\n"
          ],
          "name": "stdout"
        }
      ]
    },
    {
      "cell_type": "code",
      "metadata": {
        "id": "l4BaoNEovQVs",
        "colab_type": "code",
        "outputId": "3b8d8fcc-9e39-40a6-c8ad-c55512fc320e",
        "colab": {
          "base_uri": "https://localhost:8080/",
          "height": 108
        }
      },
      "source": [
        ""
      ],
      "execution_count": 0,
      "outputs": [
        {
          "output_type": "stream",
          "text": [
            "Collecting pyspellchecker\n",
            "\u001b[?25l  Downloading https://files.pythonhosted.org/packages/04/d1/ec4e830e9f9c1fd788e1459dd09279fdf807bc7a475579fd7192450b879c/pyspellchecker-0.5.4-py2.py3-none-any.whl (1.9MB)\n",
            "\u001b[K     |████████████████████████████████| 1.9MB 2.9MB/s \n",
            "\u001b[?25hInstalling collected packages: pyspellchecker\n",
            "Successfully installed pyspellchecker-0.5.4\n"
          ],
          "name": "stdout"
        }
      ]
    },
    {
      "cell_type": "code",
      "metadata": {
        "id": "dCPQm15H1nZ0",
        "colab_type": "code",
        "outputId": "a6daf75d-00fe-48e3-d20b-a8a8852ce172",
        "colab": {
          "base_uri": "https://localhost:8080/",
          "height": 35
        }
      },
      "source": [
        "\n",
        "\n",
        "correct_spellings(text)"
      ],
      "execution_count": 0,
      "outputs": [
        {
          "output_type": "execute_result",
          "data": {
            "text/plain": [
              "'i love u'"
            ]
          },
          "metadata": {
            "tags": []
          },
          "execution_count": 74
        }
      ]
    },
    {
      "cell_type": "code",
      "metadata": {
        "id": "IiOzmqwN1nXj",
        "colab_type": "code",
        "outputId": "f9902613-f83c-4148-a034-41e66d6b0e74",
        "colab": {
          "base_uri": "https://localhost:8080/",
          "height": 468
        }
      },
      "source": [
        "train_df[:14]"
      ],
      "execution_count": 0,
      "outputs": [
        {
          "output_type": "execute_result",
          "data": {
            "text/html": [
              "<div>\n",
              "<style scoped>\n",
              "    .dataframe tbody tr th:only-of-type {\n",
              "        vertical-align: middle;\n",
              "    }\n",
              "\n",
              "    .dataframe tbody tr th {\n",
              "        vertical-align: top;\n",
              "    }\n",
              "\n",
              "    .dataframe thead th {\n",
              "        text-align: right;\n",
              "    }\n",
              "</style>\n",
              "<table border=\"1\" class=\"dataframe\">\n",
              "  <thead>\n",
              "    <tr style=\"text-align: right;\">\n",
              "      <th></th>\n",
              "      <th>text</th>\n",
              "      <th>target</th>\n",
              "    </tr>\n",
              "  </thead>\n",
              "  <tbody>\n",
              "    <tr>\n",
              "      <th>0</th>\n",
              "      <td>our deeds are the reason of this earthquake ma...</td>\n",
              "      <td>1</td>\n",
              "    </tr>\n",
              "    <tr>\n",
              "      <th>1</th>\n",
              "      <td>forest fire near la ronge sask canada</td>\n",
              "      <td>1</td>\n",
              "    </tr>\n",
              "    <tr>\n",
              "      <th>2</th>\n",
              "      <td>all residents asked to shelter in place are be...</td>\n",
              "      <td>1</td>\n",
              "    </tr>\n",
              "    <tr>\n",
              "      <th>3</th>\n",
              "      <td>people receive wildfires evacuation orders in...</td>\n",
              "      <td>1</td>\n",
              "    </tr>\n",
              "    <tr>\n",
              "      <th>4</th>\n",
              "      <td>just got sent this photo from ruby alaska as s...</td>\n",
              "      <td>1</td>\n",
              "    </tr>\n",
              "    <tr>\n",
              "      <th>5</th>\n",
              "      <td>rockyfire update  california hwy  closed in bo...</td>\n",
              "      <td>1</td>\n",
              "    </tr>\n",
              "    <tr>\n",
              "      <th>6</th>\n",
              "      <td>flood disaster heavy rain causes flash floodin...</td>\n",
              "      <td>1</td>\n",
              "    </tr>\n",
              "    <tr>\n",
              "      <th>7</th>\n",
              "      <td>im on top of the hill and i can see a fire in ...</td>\n",
              "      <td>1</td>\n",
              "    </tr>\n",
              "    <tr>\n",
              "      <th>8</th>\n",
              "      <td>theres an emergency evacuation happening now i...</td>\n",
              "      <td>1</td>\n",
              "    </tr>\n",
              "    <tr>\n",
              "      <th>9</th>\n",
              "      <td>im afraid that the tornado is coming to our area</td>\n",
              "      <td>1</td>\n",
              "    </tr>\n",
              "    <tr>\n",
              "      <th>10</th>\n",
              "      <td>three people died from the heat wave so far</td>\n",
              "      <td>1</td>\n",
              "    </tr>\n",
              "    <tr>\n",
              "      <th>11</th>\n",
              "      <td>haha south tampa is getting flooded hah wait a...</td>\n",
              "      <td>1</td>\n",
              "    </tr>\n",
              "    <tr>\n",
              "      <th>12</th>\n",
              "      <td>raining flooding florida tampabay tampa  or  d...</td>\n",
              "      <td>1</td>\n",
              "    </tr>\n",
              "    <tr>\n",
              "      <th>13</th>\n",
              "      <td>flood in bago myanmar we arrived bago</td>\n",
              "      <td>1</td>\n",
              "    </tr>\n",
              "  </tbody>\n",
              "</table>\n",
              "</div>"
            ],
            "text/plain": [
              "                                                 text  target\n",
              "0   our deeds are the reason of this earthquake ma...       1\n",
              "1               forest fire near la ronge sask canada       1\n",
              "2   all residents asked to shelter in place are be...       1\n",
              "3    people receive wildfires evacuation orders in...       1\n",
              "4   just got sent this photo from ruby alaska as s...       1\n",
              "5   rockyfire update  california hwy  closed in bo...       1\n",
              "6   flood disaster heavy rain causes flash floodin...       1\n",
              "7   im on top of the hill and i can see a fire in ...       1\n",
              "8   theres an emergency evacuation happening now i...       1\n",
              "9    im afraid that the tornado is coming to our area       1\n",
              "10        three people died from the heat wave so far       1\n",
              "11  haha south tampa is getting flooded hah wait a...       1\n",
              "12  raining flooding florida tampabay tampa  or  d...       1\n",
              "13              flood in bago myanmar we arrived bago       1"
            ]
          },
          "metadata": {
            "tags": []
          },
          "execution_count": 68
        }
      ]
    },
    {
      "cell_type": "code",
      "metadata": {
        "id": "jyxuDEoc1nVs",
        "colab_type": "code",
        "colab": {}
      },
      "source": [
        ""
      ],
      "execution_count": 0,
      "outputs": []
    },
    {
      "cell_type": "code",
      "metadata": {
        "id": "T6dUVBEy1nTI",
        "colab_type": "code",
        "colab": {}
      },
      "source": [
        ""
      ],
      "execution_count": 0,
      "outputs": []
    },
    {
      "cell_type": "code",
      "metadata": {
        "id": "IxD-wtr81nQ6",
        "colab_type": "code",
        "colab": {}
      },
      "source": [
        ""
      ],
      "execution_count": 0,
      "outputs": []
    },
    {
      "cell_type": "code",
      "metadata": {
        "id": "KzIuwbKa1nN6",
        "colab_type": "code",
        "colab": {}
      },
      "source": [
        ""
      ],
      "execution_count": 0,
      "outputs": []
    }
  ]
}