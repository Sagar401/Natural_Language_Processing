{
  "nbformat": 4,
  "nbformat_minor": 0,
  "metadata": {
    "colab": {
      "name": "Second Report.ipynb",
      "provenance": [],
      "toc_visible": true,
      "authorship_tag": "ABX9TyMjTkeNNs38653KIrK9vfHJ",
      "include_colab_link": true
    },
    "kernelspec": {
      "name": "python3",
      "display_name": "Python 3"
    }
  },
  "cells": [
    {
      "cell_type": "markdown",
      "metadata": {
        "id": "view-in-github",
        "colab_type": "text"
      },
      "source": [
        "<a href=\"https://colab.research.google.com/github/Sagar401/Natural_Language_Processing/blob/master/Second_Report.ipynb\" target=\"_parent\"><img src=\"https://colab.research.google.com/assets/colab-badge.svg\" alt=\"Open In Colab\"/></a>"
      ]
    },
    {
      "cell_type": "markdown",
      "metadata": {
        "id": "9Q-wKtTDUSol",
        "colab_type": "text"
      },
      "source": [
        "# **Team: Sagar Daswani and Pimchanok Khaoputhai**\n",
        "# **FAI - Foundations of AI**\n",
        "\n",
        "# Final Project\n",
        "## First report"
      ]
    },
    {
      "cell_type": "markdown",
      "metadata": {
        "id": "VR28ZsuStmN9",
        "colab_type": "text"
      },
      "source": [
        "#**Real or Not? Binary Classification of Disaster Tweets**\n",
        "Kaggle Competition"
      ]
    },
    {
      "cell_type": "markdown",
      "metadata": {
        "id": "JxlvUyzLIPDp",
        "colab_type": "text"
      },
      "source": [
        "### **Load Libraries**"
      ]
    },
    {
      "cell_type": "code",
      "metadata": {
        "id": "LjzRX-niUNyM",
        "colab_type": "code",
        "colab": {}
      },
      "source": [
        "import pandas as pd\n",
        "import numpy as np\n",
        "import seaborn as sns\n",
        "import matplotlib.pyplot as plt\n",
        "\n",
        "from nltk.tokenize import word_tokenize\n",
        "import re\n",
        "import string\n",
        "import nltk\n",
        "from nltk.corpus import stopwords\n",
        "\n",
        "from keras.preprocessing.text import Tokenizer\n",
        "from keras.preprocessing.sequence import pad_sequences\n",
        "from tqdm import tqdm\n",
        "from keras.models import Sequential\n",
        "from keras.layers import Embedding,LSTM,Dense,SpatialDropout1D\n",
        "from keras.initializers import Constant\n",
        "from sklearn.model_selection import train_test_split\n",
        "from keras.optimizers import Adam"
      ],
      "execution_count": 0,
      "outputs": []
    },
    {
      "cell_type": "markdown",
      "metadata": {
        "id": "Wpnle9cM1pRv",
        "colab_type": "text"
      },
      "source": [
        "## **Data Loading**"
      ]
    },
    {
      "cell_type": "code",
      "metadata": {
        "id": "rilMQ9Aqt_W9",
        "colab_type": "code",
        "colab": {}
      },
      "source": [
        "train_df = pd.read_csv(\"train.csv\")\n",
        "test_df = pd.read_csv(\"test.csv\")"
      ],
      "execution_count": 0,
      "outputs": []
    },
    {
      "cell_type": "code",
      "metadata": {
        "id": "FmbBWFm9uBd0",
        "colab_type": "code",
        "outputId": "a600db4e-321e-49a0-8e20-ae72cccdde38",
        "colab": {
          "base_uri": "https://localhost:8080/",
          "height": 198
        }
      },
      "source": [
        "#Looking at first few rows of dataset\n",
        "train_df.head()"
      ],
      "execution_count": 3,
      "outputs": [
        {
          "output_type": "execute_result",
          "data": {
            "text/html": [
              "<div>\n",
              "<style scoped>\n",
              "    .dataframe tbody tr th:only-of-type {\n",
              "        vertical-align: middle;\n",
              "    }\n",
              "\n",
              "    .dataframe tbody tr th {\n",
              "        vertical-align: top;\n",
              "    }\n",
              "\n",
              "    .dataframe thead th {\n",
              "        text-align: right;\n",
              "    }\n",
              "</style>\n",
              "<table border=\"1\" class=\"dataframe\">\n",
              "  <thead>\n",
              "    <tr style=\"text-align: right;\">\n",
              "      <th></th>\n",
              "      <th>id</th>\n",
              "      <th>keyword</th>\n",
              "      <th>location</th>\n",
              "      <th>text</th>\n",
              "      <th>target</th>\n",
              "    </tr>\n",
              "  </thead>\n",
              "  <tbody>\n",
              "    <tr>\n",
              "      <th>0</th>\n",
              "      <td>1</td>\n",
              "      <td>NaN</td>\n",
              "      <td>NaN</td>\n",
              "      <td>Our Deeds are the Reason of this #earthquake M...</td>\n",
              "      <td>1</td>\n",
              "    </tr>\n",
              "    <tr>\n",
              "      <th>1</th>\n",
              "      <td>4</td>\n",
              "      <td>NaN</td>\n",
              "      <td>NaN</td>\n",
              "      <td>Forest fire near La Ronge Sask. Canada</td>\n",
              "      <td>1</td>\n",
              "    </tr>\n",
              "    <tr>\n",
              "      <th>2</th>\n",
              "      <td>5</td>\n",
              "      <td>NaN</td>\n",
              "      <td>NaN</td>\n",
              "      <td>All residents asked to 'shelter in place' are ...</td>\n",
              "      <td>1</td>\n",
              "    </tr>\n",
              "    <tr>\n",
              "      <th>3</th>\n",
              "      <td>6</td>\n",
              "      <td>NaN</td>\n",
              "      <td>NaN</td>\n",
              "      <td>13,000 people receive #wildfires evacuation or...</td>\n",
              "      <td>1</td>\n",
              "    </tr>\n",
              "    <tr>\n",
              "      <th>4</th>\n",
              "      <td>7</td>\n",
              "      <td>NaN</td>\n",
              "      <td>NaN</td>\n",
              "      <td>Just got sent this photo from Ruby #Alaska as ...</td>\n",
              "      <td>1</td>\n",
              "    </tr>\n",
              "  </tbody>\n",
              "</table>\n",
              "</div>"
            ],
            "text/plain": [
              "   id keyword  ...                                               text target\n",
              "0   1     NaN  ...  Our Deeds are the Reason of this #earthquake M...      1\n",
              "1   4     NaN  ...             Forest fire near La Ronge Sask. Canada      1\n",
              "2   5     NaN  ...  All residents asked to 'shelter in place' are ...      1\n",
              "3   6     NaN  ...  13,000 people receive #wildfires evacuation or...      1\n",
              "4   7     NaN  ...  Just got sent this photo from Ruby #Alaska as ...      1\n",
              "\n",
              "[5 rows x 5 columns]"
            ]
          },
          "metadata": {
            "tags": []
          },
          "execution_count": 3
        }
      ]
    },
    {
      "cell_type": "markdown",
      "metadata": {
        "id": "3uQbTDDc2K0M",
        "colab_type": "text"
      },
      "source": [
        "## **Data Visualization**"
      ]
    },
    {
      "cell_type": "markdown",
      "metadata": {
        "id": "8B13Vv5j2P6N",
        "colab_type": "text"
      },
      "source": [
        "### **Basic Exploration**"
      ]
    },
    {
      "cell_type": "code",
      "metadata": {
        "id": "PMmLGqsDuDEU",
        "colab_type": "code",
        "outputId": "8825018e-3424-490f-c08c-1804edde4202",
        "colab": {
          "base_uri": "https://localhost:8080/",
          "height": 54
        }
      },
      "source": [
        "print(\"Training Dataset Size:\",train_df.shape)\n",
        "print(\"Test Dataset Size:\",test_df.shape)"
      ],
      "execution_count": 4,
      "outputs": [
        {
          "output_type": "stream",
          "text": [
            "Training Dataset Size: (7613, 5)\n",
            "Test Dataset Size: (3263, 4)\n"
          ],
          "name": "stdout"
        }
      ]
    },
    {
      "cell_type": "code",
      "metadata": {
        "id": "mNVeF-OS3pnX",
        "colab_type": "code",
        "colab": {}
      },
      "source": [
        "#function to plot bar graph\n",
        "def plot_bar(x):\n",
        "  sns.barplot(x.index,x)\n",
        "  plt.gca().set_ylabel('samples')"
      ],
      "execution_count": 0,
      "outputs": []
    },
    {
      "cell_type": "code",
      "metadata": {
        "id": "_5puA8HnuFDU",
        "colab_type": "code",
        "outputId": "dd96a9ed-ccb4-4cf9-906d-6faf4aa433d5",
        "colab": {
          "base_uri": "https://localhost:8080/",
          "height": 265
        }
      },
      "source": [
        "#missing values in training dataset\n",
        "x = train_df.isnull().sum()\n",
        "plot_bar(x)"
      ],
      "execution_count": 13,
      "outputs": [
        {
          "output_type": "display_data",
          "data": {
            "image/png": "[encoded data removed]",
            "text/plain": [
              "<Figure size 432x288 with 1 Axes>"
            ]
          },
          "metadata": {
            "tags": []
          }
        }
      ]
    },
    {
      "cell_type": "code",
      "metadata": {
        "id": "TzEnZKCguHLE",
        "colab_type": "code",
        "outputId": "a4b55a7d-c53f-465a-fe8a-d72ac69f44ff",
        "colab": {
          "base_uri": "https://localhost:8080/",
          "height": 265
        }
      },
      "source": [
        "##let's check the class distribution\n",
        "x = train_df['target'].value_counts()\n",
        "plot_bar(x)"
      ],
      "execution_count": 14,
      "outputs": [
        {
          "output_type": "display_data",
          "data": {
            "image/png": "[encoded data removed]",
            "text/plain": [
              "<Figure size 432x288 with 1 Axes>"
            ]
          },
          "metadata": {
            "tags": []
          }
        }
      ]
    },
    {
      "cell_type": "code",
      "metadata": {
        "id": "lummXhqHuJKs",
        "colab_type": "code",
        "outputId": "f57fc087-cf8f-4135-a1c0-725b7b5f5279",
        "colab": {
          "base_uri": "https://localhost:8080/",
          "height": 265
        }
      },
      "source": [
        "#exlporing top 5 locations \n",
        "x = train_df['location'].value_counts()[:5]\n",
        "plot_bar(x)"
      ],
      "execution_count": 18,
      "outputs": [
        {
          "output_type": "display_data",
          "data": {
            "image/png": "[encoded data removed]",
            "text/plain": [
              "<Figure size 432x288 with 1 Axes>"
            ]
          },
          "metadata": {
            "tags": []
          }
        }
      ]
    },
    {
      "cell_type": "markdown",
      "metadata": {
        "id": "B2crwdmi2eEe",
        "colab_type": "text"
      },
      "source": [
        "### **Hashtag Analysis**\n",
        "Let's see the impact of Hashtags on tweet sentiments"
      ]
    },
    {
      "cell_type": "code",
      "metadata": {
        "id": "4y3oXTWW4kUw",
        "colab_type": "code",
        "colab": {}
      },
      "source": [
        "# function to collect hashtags\n",
        "def hashtag_extract(x):\n",
        "    hashtags = []\n",
        "    # Loop over the words in the tweet\n",
        "    for i in x:\n",
        "        ht = re.findall(r\"#(\\w+)\", i)\n",
        "        hashtags.append(ht)\n",
        "\n",
        "    return hashtags"
      ],
      "execution_count": 0,
      "outputs": []
    },
    {
      "cell_type": "code",
      "metadata": {
        "id": "JAFUzQYC4kS1",
        "colab_type": "code",
        "colab": {}
      },
      "source": [
        "# extracting hashtags from non Disaster tweets\n",
        "Not_Disaster = hashtag_extract(train_df['text'][train_df['target'] == 0])\n",
        "\n",
        "# extracting hashtags from Disaster tweets\n",
        "Disaster = hashtag_extract(train_df['text'][train_df['target'] == 1])\n",
        "\n",
        "# unnesting list\n",
        "Not_Disaster = sum(Not_Disaster,[])\n",
        "Disaster = sum(Disaster,[])"
      ],
      "execution_count": 0,
      "outputs": []
    },
    {
      "cell_type": "code",
      "metadata": {
        "id": "_okFOCGM4kQK",
        "colab_type": "code",
        "colab": {
          "base_uri": "https://localhost:8080/",
          "height": 334
        },
        "outputId": "0ce99dac-35d2-43b8-f638-343bb30d9020"
      },
      "source": [
        "# Fake Disaster tweets\n",
        " a = nltk.FreqDist(Not_Disaster)\n",
        "nd = pd.DataFrame({'Hashtag': list(a.keys()),\n",
        "                  'Count': list(a.values())})\n",
        "# selecting top 10 most frequent hashtags     \n",
        "nd = nd.nlargest(columns=\"Count\", n = 10) \n",
        "plt.figure(figsize=(16,5))\n",
        "ax = sns.barplot(data=nd, x= \"Hashtag\", y = \"Count\")\n",
        "ax.set(ylabel = 'Count')\n",
        "plt.show()"
      ],
      "execution_count": 31,
      "outputs": [
        {
          "output_type": "display_data",
          "data": {
            "image/png": "[encoded data removed]",
            "text/plain": [
              "<Figure size 1152x360 with 1 Axes>"
            ]
          },
          "metadata": {
            "tags": []
          }
        }
      ]
    },
    {
      "cell_type": "code",
      "metadata": {
        "id": "TObHOhR88CF_",
        "colab_type": "code",
        "colab": {
          "base_uri": "https://localhost:8080/",
          "height": 334
        },
        "outputId": "1f45f001-0eb5-4c52-f6bc-716f2ff73c09"
      },
      "source": [
        "# True Disaster tweets\n",
        "b = nltk.FreqDist(Disaster)\n",
        "d = pd.DataFrame({'Hashtag': list(b.keys()), 'Count': list(b.values())})\n",
        "# selecting top 10 most frequent hashtags\n",
        "d = d.nlargest(columns=\"Count\", n = 10)   \n",
        "plt.figure(figsize=(16,5))\n",
        "ax = sns.barplot(data=d, x= \"Hashtag\", y = \"Count\")\n",
        "ax.set(ylabel = 'Count')\n",
        "plt.show()"
      ],
      "execution_count": 33,
      "outputs": [
        {
          "output_type": "display_data",
          "data": {
            "image/png": "[encoded data removed]",
            "text/plain": [
              "<Figure size 1152x360 with 1 Axes>"
            ]
          },
          "metadata": {
            "tags": []
          }
        }
      ]
    },
    {
      "cell_type": "markdown",
      "metadata": {
        "id": "AJcyF8xIuOlq",
        "colab_type": "text"
      },
      "source": [
        "##**Data Cleaning and Processing**\n",
        "\n",
        "\n",
        "*   Making all uppercase to lowercase\n",
        "*   Removing noise from tweets\n",
        "\n",
        "  *   URLs\n",
        "  *   HTML tags\n",
        "  *   emogis\n",
        "  *   Punctuation\n",
        "  *   New-Line\n",
        "  *   Removing Digits\n",
        "*   Spell-checker(optional)\n"
      ]
    },
    {
      "cell_type": "code",
      "metadata": {
        "id": "nqTR5FZZuKwj",
        "colab_type": "code",
        "colab": {}
      },
      "source": [
        "#function to remove noise from text\n",
        "def clean_text(text):\n",
        "    text = text.lower() #convert to lowercase to maintain standard flow between text\n",
        "    text = re.sub('\\[.*?\\]', '', text) #removing text in square brackets\n",
        "    text = re.sub('https?://\\S+|www\\.\\S+', '', text) #removing url\n",
        "    text = re.sub('<.*?>+', '', text) #removing html tags\n",
        "    text = re.sub('[%s]' % re.escape(string.punctuation), '', text) #removing puntuations\n",
        "    text = re.sub('\\n', '', text)#removing new line from the text field\n",
        "    text = re.sub('\\w*\\d\\w*', '', text) #removing digits from the string\n",
        "    return text\n",
        "\n",
        "train_df['text'] = train_df['text'].apply(lambda x : clean_text(x))\n",
        "test_df['text'] = test_df['text'].apply(lambda x : clean_text(x))"
      ],
      "execution_count": 0,
      "outputs": []
    },
    {
      "cell_type": "code",
      "metadata": {
        "id": "t7pqPAZ0uTqU",
        "colab_type": "code",
        "colab": {}
      },
      "source": [
        "#function to remove emoji's\n",
        "def remove_emoji(text):\n",
        "    emoji_pattern = re.compile(\"[\"\n",
        "                           u\"\\U0001F600-\\U0001F64F\"  # emoticons\n",
        "                           u\"\\U0001F300-\\U0001F5FF\"  # symbols & pictographs\n",
        "                           u\"\\U0001F680-\\U0001F6FF\"  # transport & map symbols\n",
        "                           u\"\\U0001F1E0-\\U0001F1FF\"  # flags (iOS)\n",
        "                           u\"\\U00002702-\\U000027B0\"\n",
        "                           u\"\\U000024C2-\\U0001F251\"\n",
        "                            \"]+\", flags=re.UNICODE)\n",
        "    return emoji_pattern.sub(r'', text)\n",
        "\n",
        "train_df['text']=train_df['text'].apply(lambda x: remove_emoji(x))\n",
        "test_df['text']=test_df['text'].apply(lambda x: remove_emoji(x))"
      ],
      "execution_count": 0,
      "outputs": []
    },
    {
      "cell_type": "code",
      "metadata": {
        "id": "Ai1dEXuS2o_a",
        "colab_type": "code",
        "colab": {}
      },
      "source": [
        "#run code to install spell checker package\n",
        "!pip install pyspellchecker"
      ],
      "execution_count": 0,
      "outputs": []
    },
    {
      "cell_type": "code",
      "metadata": {
        "id": "GwiIxn572hiO",
        "colab_type": "code",
        "colab": {}
      },
      "source": [
        "from spellchecker import SpellChecker\n",
        "\n",
        "spell = SpellChecker()\n",
        "def correct_spellings(text):\n",
        "    corrected_text = []\n",
        "    misspelled_words = spell.unknown(text.split())\n",
        "    for word in text.split():\n",
        "        if word in misspelled_words:\n",
        "            corrected_text.append(spell.correction(word))\n",
        "        else:\n",
        "            corrected_text.append(word)\n",
        "    return \" \".join(corrected_text)\n",
        "\n",
        "train_df['text']=train_df['text'].apply(lambda x: correct_spellings(x))\n",
        "test_df['text']=test_df['text'].apply(lambda x: correct_spellings(x))\n",
        "        "
      ],
      "execution_count": 0,
      "outputs": []
    },
    {
      "cell_type": "code",
      "metadata": {
        "id": "anhmAEpLuUjs",
        "colab_type": "code",
        "colab": {}
      },
      "source": [
        "#adding new column with the count of words in a single row\n",
        "train_df['word_count'] = train_df['text'].str.split().map(len)\n",
        "\n",
        "#only using the rows with word count more than 0\n",
        "train_df = train_df[train_df['word_count'] > 0]\n",
        "\n",
        "#moving forward with 2 column from dataset , i.e., text and target\n",
        "train_df = train_df[[\"text\",\"target\"]]\n",
        "test_df = test_df[[\"text\"]]"
      ],
      "execution_count": 0,
      "outputs": []
    },
    {
      "cell_type": "markdown",
      "metadata": {
        "id": "c-0tfwWn-5qP",
        "colab_type": "text"
      },
      "source": [
        "## **Data Modeling**"
      ]
    },
    {
      "cell_type": "markdown",
      "metadata": {
        "id": "G23aEJSA_9oG",
        "colab_type": "text"
      },
      "source": [
        "### **RNN - From Scratch**\n",
        "\n",
        "word embedding based on training data"
      ]
    },
    {
      "cell_type": "markdown",
      "metadata": {
        "id": "_TjDnib01ZA6",
        "colab_type": "text"
      },
      "source": [
        "**Neural Network - Deep Learning**\n",
        "\n",
        "Why not a standard network fit for this data challenge?\n",
        "\n",
        "\n",
        "*   Inputs, outputs can be of different lengths in different examples\n",
        "*   Doesn't share features learned across different position of text\n",
        "\n",
        "To overcome this we use Recurrent Neural Network, \n",
        "\n",
        "as it scans words from left to right, one drawback is that it only knows features from its left\n",
        "\n"
      ]
    },
    {
      "cell_type": "markdown",
      "metadata": {
        "id": "5bVoU3twyBWc",
        "colab_type": "text"
      },
      "source": [
        "**Word Level - Vanilla RNN (RNN from Scratch) (Recurrent Neural Network)**\n",
        "\n",
        "The idea is to create a word level RNN in python/numpy that will provide a baseline model for more complex Neural Networks architecture, and also to gain low level understanding of the working of RNN (Sequence model)\n",
        "\n",
        "Credits: \n",
        "\n",
        "Andrej Karpathy https://gist.github.com/karpathy/d4dee566867f8291f086: Minimal character-level language model with a Vanilla Recurrent Neural Network, in Python/numpy. And the blog http://karpathy.github.io/2015/05/21/rnn-effectiveness/.\n",
        "\n",
        "The deep learning book by Michael Nielsen particularly http://neuralnetworksanddeeplearning.com/chap6.html\n",
        "\n",
        "Andrew ng Deep learning course (Course 5) on Coursera"
      ]
    },
    {
      "cell_type": "markdown",
      "metadata": {
        "id": "vfARaugsy1x7",
        "colab_type": "text"
      },
      "source": [
        "**Steps Taken:**\n",
        "\n",
        "\n",
        "\n",
        "1.   Creating a vocabulary list of unique words from data to be later used in encoding each words into a one-hot vector using 1-k encoding. (k = len(vocab_list)\n",
        "2.   Initialize the RNN model parameters\n",
        "3.   Feedforward the training data(tweets) vectorized form into the network and calculate loss for that training example\n",
        "4.   Backpropagate through time and obtain the gradient parameters.\n",
        "5.   Gradient clipping to avoid exploding gradient problem\n",
        "6.   Select/iterating over different learning rate and calculating new model paramters\n",
        "7.   Repeating steps from 3-6 for some number of iterations that covers all training examples atleast 3 times\n",
        "\n"
      ]
    },
    {
      "cell_type": "code",
      "metadata": {
        "id": "1ZiAXic3yXYT",
        "colab_type": "code",
        "outputId": "b1060536-0ed7-4dfa-f043-5ac901c4d945",
        "colab": {
          "base_uri": "https://localhost:8080/",
          "height": 54
        }
      },
      "source": [
        "#creating vocabulary list which will have uniqe word list from training data\n",
        "vocab_list = list(train_df['text'].str.split(' ',expand=True).stack().unique())\n",
        "total_words = list(train_df['text'].str.split(' ',expand=True).stack())\n",
        "\n",
        "vocab_list_size = len(vocab_list)\n",
        "total_words_len = len(total_words)\n",
        "\n",
        "print(\"Vocab size : \",vocab_list_size)\n",
        "print(\"Total words in data : \", total_words_len)\n",
        "\n",
        "#creating a dictionary that has an index for each of the unique words\n",
        "words_idx = { word:i for i, word in enumerate(vocab_list) }\n"
      ],
      "execution_count": 38,
      "outputs": [
        {
          "output_type": "stream",
          "text": [
            "Vocab size :  16834\n",
            "Total words in data :  113521\n"
          ],
          "name": "stdout"
        }
      ]
    },
    {
      "cell_type": "code",
      "metadata": {
        "id": "kQ7zQJhT26wO",
        "colab_type": "code",
        "outputId": "65bbc82c-b845-480d-a058-174f7dd768ec",
        "colab": {
          "base_uri": "https://localhost:8080/",
          "height": 72
        }
      },
      "source": [
        "#converting a single training sample to retreive from dictionary\n",
        "temp = train_df['text'].str.split().values[1]\n",
        "inputs = [words_idx[i] for i in temp]\n",
        "output = train_df['target'].values[1]\n",
        "print(\"original text:\",temp)\n",
        "print(\"Wordlist index:\",inputs)\n",
        "print(\"Target label:\",output)"
      ],
      "execution_count": 0,
      "outputs": [
        {
          "output_type": "stream",
          "text": [
            "original text: ['forest', 'fire', 'near', 'la', 'ronge', 'sask', 'canada']\n",
            "Wordlist index: [13, 14, 15, 16, 17, 18, 19]\n",
            "Target label: 1\n"
          ],
          "name": "stdout"
        }
      ]
    },
    {
      "cell_type": "code",
      "metadata": {
        "id": "tYh8fLTje50u",
        "colab_type": "code",
        "outputId": "e432bc06-9dad-43e7-aa23-156589e25395",
        "colab": {
          "base_uri": "https://localhost:8080/",
          "height": 54
        }
      },
      "source": [
        "#hyperparameters\n",
        "learning_rate = 0.005\n",
        "n_a = hidden_size = 100\n",
        "n_x = vocab_list_size \n",
        "n_y = 2\n",
        "\n",
        "#model_parameters\n",
        "Waa = np.random.randn(hidden_size,hidden_size)*0.1\n",
        "Wax = np.random.randn(hidden_size,vocab_list_size)*0.1\n",
        "Wya = np.random.randn(2,hidden_size)*0.1\n",
        "ba = np.zeros((n_a,1))\n",
        "by = np.zeros((n_y,1))\n",
        "\n",
        "#spliting into training and validation\n",
        "temp_df = train_df\n",
        "train_df = train_df.iloc[:7000]\n",
        "validation_df = temp_df.iloc[7000:]\n",
        "\n",
        "print('The training set examples: %d' %(len(train_df)))\n",
        "print('The validation set examples: %d' %(len(validation_df)))\n"
      ],
      "execution_count": 0,
      "outputs": [
        {
          "output_type": "stream",
          "text": [
            "The training set examples: 7000\n",
            "The validation set examples: 612\n"
          ],
          "name": "stdout"
        }
      ]
    },
    {
      "cell_type": "code",
      "metadata": {
        "id": "7iu9NV_W6W7E",
        "colab_type": "code",
        "colab": {}
      },
      "source": [
        "#activation function\n",
        "def softmax(x):\n",
        "    e_x = np.exp(x - np.max(x))\n",
        "    return e_x / e_x.sum(axis=0)\n"
      ],
      "execution_count": 0,
      "outputs": []
    },
    {
      "cell_type": "code",
      "metadata": {
        "id": "aynFog1thdO5",
        "colab_type": "code",
        "colab": {}
      },
      "source": [
        "#feed-forward -- takes in the index of words in a example tweet and return the prediction\n",
        "def rnn_feedforward(input_data):\n",
        "  #initializing\n",
        "  xt,at = [], np.zeros((n_a,1))\n",
        "  for t in range(len(input_data)):\n",
        "    xt.append(np.zeros((n_x,1)))#encode in 1-k one hot-representation\n",
        "    xt[t][input_data[t]] = 1\n",
        "    at = np.tanh(np.dot(Waa,at)+np.dot(Wax,xt[t])+ba) #hidden state activation function\n",
        "    \n",
        "  yt = np.dot(Wya,at) + by \n",
        "  pred = softmax(yt) #softmax function for getting probability for binary classification\n",
        "  prediction = np.argmax(pred)\n",
        "  return prediction\n",
        "  "
      ],
      "execution_count": 0,
      "outputs": []
    },
    {
      "cell_type": "code",
      "metadata": {
        "id": "9e14EmCeuNrp",
        "colab_type": "code",
        "outputId": "e2dfbf4f-e69b-423b-db4f-65a73b71c705",
        "colab": {
          "base_uri": "https://localhost:8080/",
          "height": 108
        }
      },
      "source": [
        "\n",
        "num_iterations = 5\n",
        "\n",
        "#memory variables for Adagrad\n",
        "mWaa, mWya, mWax = np.zeros_like(Waa), np.zeros_like(Wya), np.zeros_like(Wax)\n",
        "mby, mba = np.zeros_like(by), np.zeros_like(ba)\n",
        "\n",
        "for i in range(num_iterations):\n",
        "  \n",
        "  idx = i%len(train_df)\n",
        "  example = train_df['text'].str.split().values[idx]\n",
        "  inputs = [words_idx[i] for i in example]\n",
        "  print(inputs)\n",
        "  targets = int(train_df['target'].values[idx])\n",
        "  \n",
        "  prediction = rnn_feedforward(inputs)"
      ],
      "execution_count": 0,
      "outputs": [
        {
          "output_type": "stream",
          "text": [
            "[0, 1, 2, 3, 4, 5, 6, 7, 8, 9, 10, 11, 12]\n",
            "[13, 14, 15, 16, 17, 18, 19]\n",
            "[12, 20, 21, 22, 23, 24, 25, 2, 26, 27, 28, 29, 30, 31, 32, 33, 23, 24, 25, 34, 2, 35]\n",
            "[37, 38, 39, 32, 34, 24, 40]\n",
            "[41, 42, 43, 6, 44, 45, 46, 47, 48, 49, 45, 39, 50, 51, 52, 53]\n"
          ],
          "name": "stdout"
        }
      ]
    },
    {
      "cell_type": "markdown",
      "metadata": {
        "id": "aJN5SyxA7NMU",
        "colab_type": "text"
      },
      "source": [
        "Function that takes input as one row with text and target value, feedforward the network, calculates the cost which is loss of predicted vs actual Y/target.\n",
        "\n",
        "Then performs backpropagation and updates the gradient of all the parameters and returns it."
      ]
    },
    {
      "cell_type": "code",
      "metadata": {
        "id": "i5WvmR4uJ2NS",
        "colab_type": "code",
        "colab": {}
      },
      "source": [
        "#feedforward and backpropagation\n",
        "def rnn_model(input_data,targets):\n",
        "  \n",
        "  xt,at = [],[]\n",
        "  at.append(np.zeros((n_a,1)))\n",
        "  loss = 0\n",
        "  \n",
        "  #feed forward\n",
        "  for t in range(len(input_data)):\n",
        "    xt.append(np.zeros((n_x,1)))\n",
        "    xt[t][input_data[t]] = 1\n",
        "    \n",
        "    at.append(np.tanh(np.dot(Waa,at[t])+np.dot(Wax,xt[t])+ba))\n",
        "    \n",
        "  yt = np.dot(Wya,at[-1]) + by\n",
        "  pred = np.exp(yt) / np.sum(np.exp(yt),axis=0)\n",
        "  \n",
        "  prediction = np.argmax(pred)\n",
        "  \n",
        "  #loss-cost\n",
        "  \n",
        "  y = np.zeros((2,1))\n",
        "  y[targets] = 1\n",
        "  loss = -np.log(np.sum(pred*y,axis = 0)) #cross-entropy loss\n",
        "  \n",
        "  #backpropagation through time\n",
        "  dWaa, dWya, dWax = np.zeros_like(Waa), np.zeros_like(Wya), np.zeros_like(Wax)\n",
        "  dby, dba = np.zeros_like(by), np.zeros_like(ba)\n",
        "  \n",
        "  dy = pred - y\n",
        "  dWya = np.dot(dy,at[-1].transpose())\n",
        "  dby = np.copy(dy)\n",
        "  \n",
        "  dat = np.dot(Wya.transpose(),dy)\n",
        "  dtanh = (1-at[-1]*at[-1]) * dat\n",
        "  \n",
        "  dWax = np.dot(dtanh, xt[-1].transpose())\n",
        "  dWaa = np.dot(dtanh, at[-2].transpose())\n",
        "  dba = np.copy(dtanh)\n",
        "  da_next = np.dot(Waa.transpose(),dtanh)\n",
        "  for t in reversed(range(len(input_data)-2)):\n",
        "    \n",
        "    dat = np.copy(da_next)\n",
        "    dtanh = (1- at[t+1] * at[t+1]) * dat\n",
        "    \n",
        "    dWax += np.dot(dtanh, xt[t].transpose())\n",
        "    dWaa += np.dot(dtanh, at[t].transpose())\n",
        "    dba += np.copy(dtanh)\n",
        "    da_next = np.dot(Waa.transpose(),dtanh)\n",
        "    \n",
        "  for dparams in [dWaa,dWax,dba,dby,dWya]:\n",
        "    np.clip(dparams,-5,5,out=dparams)\n",
        "    \n",
        "  return loss, dWaa, dWax, dba, dby, dWya\n",
        "\n",
        " "
      ],
      "execution_count": 0,
      "outputs": []
    },
    {
      "cell_type": "markdown",
      "metadata": {
        "id": "v3N0BoPp702x",
        "colab_type": "text"
      },
      "source": [
        "Feeding training data into the network to retrieve the gradient and using Adagrad optimizer to perform the gradient descent. \n",
        "\n",
        "And we repeat this process for all the training examples and for n epochs\n",
        "\n",
        "**Adagrad Optimizer** : Adaptively scales the learning rate with respect to the accumulated square gradient at each iteration in each dimention"
      ]
    },
    {
      "cell_type": "code",
      "metadata": {
        "id": "5JvLXdlxeHfM",
        "colab_type": "code",
        "outputId": "05aa6b48-f39e-47d1-da9b-bd98f741565d",
        "colab": {
          "base_uri": "https://localhost:8080/",
          "height": 563
        }
      },
      "source": [
        "\n",
        "#select any number of iteration for start\n",
        "num_iterations = 21000\n",
        "\n",
        "#memory variables for Adagrad optimizer - backprop\n",
        "mWaa, mWya, mWax = np.zeros_like(Waa), np.zeros_like(Wya), np.zeros_like(Wax)\n",
        "mby, mba = np.zeros_like(by), np.zeros_like(ba)\n",
        "\n",
        "for i in range(num_iterations):\n",
        "  idx = i%len(train_df)\n",
        "  example = train_df['text'].str.split().values[idx]\n",
        "  inputs = [words_idx[i] for i in example]\n",
        "  targets = int(train_df['target'].values[idx])\n",
        "  \n",
        "  #prediction = rnn_feedforward(inputs,targets)\n",
        "  loss,dWaa, dWax, dba, dby, dWya = rnn_model(inputs,targets)\n",
        "  \n",
        "  #Adagrad optimizer\n",
        "  #performing paramete update with Adagrad\n",
        "  for param, dparam, mem in zip([Waa, Wax, Wya, ba, by],\n",
        "                                [dWaa, dWax, dWya, dba, dby],\n",
        "                                [mWaa, mWax, mWya, mba, mby]):\n",
        "    mem += dparam * dparam\n",
        "    param += -learning_rate * dparam / np.sqrt(mem+1e-8) #adagrad update\n",
        "  \n",
        "  # validation accuracy\n",
        "  # using for loop instead of vectorization\n",
        "  if i % 700 == 0:\n",
        "    predictions = []\n",
        "    count=0\n",
        "    actual_targets= validation_df['target'].tolist()\n",
        "    for j in range(len(validation_df)):\n",
        "        example = validation_df['text'].str.split().values[j]\n",
        "        inputs = [words_idx[l] for l in example]\n",
        "        predictions.append(rnn_feedforward(inputs))\n",
        "          \n",
        "    for y, y_hat in zip(actual_targets, predictions):\n",
        "        if y==y_hat:\n",
        "            count+=1\n",
        "    print('The validation_accuracy after iterations:%d is %d'%(i,(count/len(validation_df))*100))\n",
        "    "
      ],
      "execution_count": 0,
      "outputs": [
        {
          "output_type": "stream",
          "text": [
            "The validation_accuracy after iterations:0 is 47\n",
            "The validation_accuracy after iterations:700 is 48\n",
            "The validation_accuracy after iterations:1400 is 51\n",
            "The validation_accuracy after iterations:2100 is 52\n",
            "The validation_accuracy after iterations:2800 is 52\n",
            "The validation_accuracy after iterations:3500 is 55\n",
            "The validation_accuracy after iterations:4200 is 64\n",
            "The validation_accuracy after iterations:4900 is 64\n",
            "The validation_accuracy after iterations:5600 is 70\n",
            "The validation_accuracy after iterations:6300 is 64\n",
            "The validation_accuracy after iterations:7000 is 67\n",
            "The validation_accuracy after iterations:7700 is 66\n",
            "The validation_accuracy after iterations:8400 is 68\n",
            "The validation_accuracy after iterations:9100 is 68\n",
            "The validation_accuracy after iterations:9800 is 72\n",
            "The validation_accuracy after iterations:10500 is 72\n",
            "The validation_accuracy after iterations:11200 is 73\n",
            "The validation_accuracy after iterations:11900 is 69\n",
            "The validation_accuracy after iterations:12600 is 74\n",
            "The validation_accuracy after iterations:13300 is 73\n",
            "The validation_accuracy after iterations:14000 is 75\n",
            "The validation_accuracy after iterations:14700 is 75\n",
            "The validation_accuracy after iterations:15400 is 73\n",
            "The validation_accuracy after iterations:16100 is 76\n",
            "The validation_accuracy after iterations:16800 is 73\n",
            "The validation_accuracy after iterations:17500 is 74\n",
            "The validation_accuracy after iterations:18200 is 75\n",
            "The validation_accuracy after iterations:18900 is 71\n",
            "The validation_accuracy after iterations:19600 is 75\n",
            "The validation_accuracy after iterations:20300 is 70\n"
          ],
          "name": "stdout"
        }
      ]
    },
    {
      "cell_type": "markdown",
      "metadata": {
        "id": "LIfcCuNk9DWf",
        "colab_type": "text"
      },
      "source": [
        "**Results Summary:**\n",
        "The validation accuracy arrives closely to 76% (better than randomly guessing). Tried 2 sets of learning rate values with 0.001 accuracy was 70% whereas with learning rate 0.005 accuracy boosted to 76%. \n",
        "\n",
        "I have not experimented with other hyperparameters or tried any high level/complex data cleaning. Still, it seems that my RNN is learning association between words that helps to classify the tweets.\n",
        "\n",
        "Future scope:\n",
        "we can try different network architectures \n",
        "training model for longer iterations"
      ]
    },
    {
      "cell_type": "code",
      "metadata": {
        "id": "qfhu-vsj1W2-",
        "colab_type": "code",
        "colab": {}
      },
      "source": [
        "#saving matrix values for parameters which includes weights and biases for later use to predict test data\n",
        "# saving the model\n",
        "import pickle\n",
        "filename = 'rnn_model_v1.pkl'\n",
        "with open(filename, \"wb\") as f:\n",
        "    pickle.dump((Waa, Wax, ba, by, Wya ), f)"
      ],
      "execution_count": 0,
      "outputs": []
    },
    {
      "cell_type": "code",
      "metadata": {
        "id": "WjG3m6EBJxcB",
        "colab_type": "code",
        "colab": {}
      },
      "source": [
        "#loading the saved model\n",
        "import pickle\n",
        "filename = 'rnn_model_v1.pkl'\n",
        "with open(filename, \"rb\") as f:\n",
        "    Waa, Wax, ba, by, Wya  = pickle.load(f)"
      ],
      "execution_count": 0,
      "outputs": []
    },
    {
      "cell_type": "code",
      "metadata": {
        "id": "D8QnItPSaLq4",
        "colab_type": "code",
        "outputId": "782ce70f-5d52-4b23-a5fe-fc9f67b6b135",
        "colab": {
          "base_uri": "https://localhost:8080/",
          "height": 72
        }
      },
      "source": [
        "#checking if parameters loaded in correctly\n",
        "#using loaded model\n",
        "count = 0\n",
        "for j in range(len(validation_df)):\n",
        "  \n",
        "  example = validation_df['text'].str.split().values[j]\n",
        "  inputs = [words_idx[l] for l in example]\n",
        "  predictions.append(rnn_feedforward(inputs))\n",
        "          \n",
        "for y, y_hat in zip(actual_targets, predictions):\n",
        "  if y==y_hat:\n",
        "    count+=1\n",
        "print(\"Correctly Predicted:\",count)\n",
        "print(\"Total Data in validation set:\",len(validation_df))\n",
        "print('The validation_accuracy is',(count/len(validation_df))*100)"
      ],
      "execution_count": 0,
      "outputs": [
        {
          "output_type": "stream",
          "text": [
            "Correctly Predicted: 434\n",
            "Total Data in validation set: 612\n",
            "The validation_accuracy is 70.91503267973856\n"
          ],
          "name": "stdout"
        }
      ]
    },
    {
      "cell_type": "markdown",
      "metadata": {
        "id": "yNwmoWdrASYr",
        "colab_type": "text"
      },
      "source": [
        "### **RNN - Tensorflow/Keras** (Part - 1)\n",
        "\n",
        "Word Embedding based on training data"
      ]
    },
    {
      "cell_type": "code",
      "metadata": {
        "id": "m6jmp7BOu0Zl",
        "colab_type": "code",
        "colab": {}
      },
      "source": [
        "training_sentences = [ i for i in train_df.text[:6000]]\n",
        "test_sentences = [i for i in train_df.text[6000:]]\n",
        "                  \n",
        "training_labels = [ i for i in train_df.target[:6000]]\n",
        "test_labels = [i for i in train_df.target[6000:]]\n"
      ],
      "execution_count": 0,
      "outputs": []
    },
    {
      "cell_type": "code",
      "metadata": {
        "id": "duXU2WWju4qs",
        "colab_type": "code",
        "colab": {}
      },
      "source": [
        "tokenizer = Tokenizer(num_words=10000,oov_token=\"<OOV>\")\n",
        "tokenizer.fit_on_texts(training_sentences)\n",
        "word_index = tokenizer.word_index"
      ],
      "execution_count": 0,
      "outputs": []
    },
    {
      "cell_type": "code",
      "metadata": {
        "id": "Jh1vQJOnu6Wj",
        "colab_type": "code",
        "colab": {}
      },
      "source": [
        "training_sequences = tokenizer.texts_to_sequences(training_sentences)\n",
        "training_padded = pad_sequences(training_sequences,padding='post')\n",
        "\n",
        "test_sequences = tokenizer.texts_to_sequences(test_sentences)\n",
        "test_padded = pad_sequences(test_sequences,padding='post')\n"
      ],
      "execution_count": 0,
      "outputs": []
    },
    {
      "cell_type": "code",
      "metadata": {
        "id": "d4mKveA-u8Ej",
        "colab_type": "code",
        "colab": {}
      },
      "source": [
        "training_padded = np.array(training_padded)\n",
        "training_labels = np.array(training_labels)\n",
        "\n",
        "test_padded = np.array(test_padded)\n",
        "test_labels = np.array(test_labels)"
      ],
      "execution_count": 0,
      "outputs": []
    },
    {
      "cell_type": "code",
      "metadata": {
        "id": "Nd21kWvxu-Il",
        "colab_type": "code",
        "colab": {}
      },
      "source": [
        "model_embed = tf.keras.Sequential([\n",
        "    tf.keras.layers.Embedding(len(word_index), 32),\n",
        "    tf.keras.layers.GlobalAveragePooling1D(),\n",
        "    tf.keras.layers.Dense(32, activation='relu'),\n",
        "    tf.keras.layers.Dense(16,activation='relu'),\n",
        "    tf.keras.layers.Dense(1, activation='sigmoid')\n",
        "])\n",
        "model_embed.compile(loss='binary_crossentropy',optimizer='rmsprop',metrics=['accuracy'])"
      ],
      "execution_count": 0,
      "outputs": []
    },
    {
      "cell_type": "code",
      "metadata": {
        "id": "JzjfPCQdvAoD",
        "colab_type": "code",
        "outputId": "e3383a02-bed1-44ae-ede1-0cb22ad15799",
        "colab": {
          "base_uri": "https://localhost:8080/",
          "height": 381
        }
      },
      "source": [
        "model.summary()"
      ],
      "execution_count": 0,
      "outputs": [
        {
          "output_type": "stream",
          "text": [
            "Model: \"sequential_13\"\n",
            "_________________________________________________________________\n",
            "Layer (type)                 Output Shape              Param #   \n",
            "=================================================================\n",
            "embedding_13 (Embedding)     (None, None, 64)          640000    \n",
            "_________________________________________________________________\n",
            "bidirectional_16 (Bidirectio (None, None, 128)         66048     \n",
            "_________________________________________________________________\n",
            "bidirectional_17 (Bidirectio (None, 256)               263168    \n",
            "_________________________________________________________________\n",
            "dense_26 (Dense)             (None, 50)                12850     \n",
            "_________________________________________________________________\n",
            "dropout_6 (Dropout)          (None, 50)                0         \n",
            "_________________________________________________________________\n",
            "dense_27 (Dense)             (None, 1)                 51        \n",
            "=================================================================\n",
            "Total params: 982,117\n",
            "Trainable params: 982,117\n",
            "Non-trainable params: 0\n",
            "_________________________________________________________________\n"
          ],
          "name": "stdout"
        }
      ]
    },
    {
      "cell_type": "code",
      "metadata": {
        "id": "I2EgVo7GvCMz",
        "colab_type": "code",
        "outputId": "1e4d10aa-6721-4fbf-8079-c11e6195eadb",
        "colab": {
          "base_uri": "https://localhost:8080/",
          "height": 763
        }
      },
      "source": [
        "num_epochs = 20\n",
        "history = model.fit(training_padded, training_labels, epochs=num_epochs, validation_data=(test_padded, test_labels), verbose=2)"
      ],
      "execution_count": 0,
      "outputs": [
        {
          "output_type": "stream",
          "text": [
            "Train on 6000 samples, validate on 1612 samples\n",
            "Epoch 1/20\n",
            "6000/6000 - 30s - loss: 0.6809 - accuracy: 0.5805 - val_loss: 0.6903 - val_accuracy: 0.5323\n",
            "Epoch 2/20\n",
            "6000/6000 - 24s - loss: 0.5449 - accuracy: 0.6922 - val_loss: 0.5028 - val_accuracy: 0.7407\n",
            "Epoch 3/20\n",
            "6000/6000 - 24s - loss: 0.3697 - accuracy: 0.8460 - val_loss: 0.5089 - val_accuracy: 0.7568\n",
            "Epoch 4/20\n",
            "6000/6000 - 24s - loss: 0.2956 - accuracy: 0.8842 - val_loss: 0.5019 - val_accuracy: 0.7661\n",
            "Epoch 5/20\n",
            "6000/6000 - 24s - loss: 0.2360 - accuracy: 0.9137 - val_loss: 0.5775 - val_accuracy: 0.7215\n",
            "Epoch 6/20\n",
            "6000/6000 - 24s - loss: 0.1876 - accuracy: 0.9288 - val_loss: 0.6298 - val_accuracy: 0.7426\n",
            "Epoch 7/20\n",
            "6000/6000 - 24s - loss: 0.1529 - accuracy: 0.9468 - val_loss: 0.7191 - val_accuracy: 0.7301\n",
            "Epoch 8/20\n",
            "6000/6000 - 24s - loss: 0.1298 - accuracy: 0.9550 - val_loss: 0.7412 - val_accuracy: 0.7196\n",
            "Epoch 9/20\n",
            "6000/6000 - 24s - loss: 0.1189 - accuracy: 0.9575 - val_loss: 0.7660 - val_accuracy: 0.7233\n",
            "Epoch 10/20\n",
            "6000/6000 - 24s - loss: 0.1044 - accuracy: 0.9647 - val_loss: 0.9822 - val_accuracy: 0.7128\n",
            "Epoch 11/20\n",
            "6000/6000 - 24s - loss: 0.0890 - accuracy: 0.9685 - val_loss: 1.0756 - val_accuracy: 0.7084\n",
            "Epoch 12/20\n",
            "6000/6000 - 24s - loss: 0.0860 - accuracy: 0.9705 - val_loss: 1.0057 - val_accuracy: 0.7097\n",
            "Epoch 13/20\n",
            "6000/6000 - 24s - loss: 0.0854 - accuracy: 0.9720 - val_loss: 1.1460 - val_accuracy: 0.7041\n",
            "Epoch 14/20\n",
            "6000/6000 - 24s - loss: 0.0761 - accuracy: 0.9715 - val_loss: 1.4192 - val_accuracy: 0.6967\n",
            "Epoch 15/20\n",
            "6000/6000 - 24s - loss: 0.0705 - accuracy: 0.9718 - val_loss: 1.5688 - val_accuracy: 0.6867\n",
            "Epoch 16/20\n",
            "6000/6000 - 24s - loss: 0.0667 - accuracy: 0.9735 - val_loss: 1.2287 - val_accuracy: 0.6917\n",
            "Epoch 17/20\n",
            "6000/6000 - 24s - loss: 0.0638 - accuracy: 0.9728 - val_loss: 1.8339 - val_accuracy: 0.6892\n",
            "Epoch 18/20\n",
            "6000/6000 - 24s - loss: 0.0628 - accuracy: 0.9732 - val_loss: 1.5460 - val_accuracy: 0.6799\n",
            "Epoch 19/20\n",
            "6000/6000 - 24s - loss: 0.0576 - accuracy: 0.9752 - val_loss: 2.0004 - val_accuracy: 0.6793\n",
            "Epoch 20/20\n",
            "6000/6000 - 24s - loss: 0.0681 - accuracy: 0.9718 - val_loss: 2.1569 - val_accuracy: 0.6793\n"
          ],
          "name": "stdout"
        }
      ]
    },
    {
      "cell_type": "code",
      "metadata": {
        "id": "qKPiDpLkvEqb",
        "colab_type": "code",
        "outputId": "a4deb713-cf7f-46fc-8b0f-b9cd6265625f",
        "colab": {
          "base_uri": "https://localhost:8080/",
          "height": 541
        }
      },
      "source": [
        "def plot_graphs(history, string):\n",
        "  plt.plot(history.history[string])\n",
        "  plt.plot(history.history['val_'+string])\n",
        "  plt.xlabel(\"Epochs\")\n",
        "  plt.ylabel(string)\n",
        "  plt.legend([string, 'val_'+string])\n",
        "  plt.show()\n",
        "  \n",
        "plot_graphs(history, \"accuracy\")\n",
        "plot_graphs(history, \"loss\")"
      ],
      "execution_count": 0,
      "outputs": [
        {
          "output_type": "display_data",
          "data": {
            "image/png": "[encoded data removed]",
            "text/plain": [
              "<Figure size 432x288 with 1 Axes>"
            ]
          },
          "metadata": {
            "tags": []
          }
        },
        {
          "output_type": "display_data",
          "data": {
            "image/png": "[encoded data removed]",
            "text/plain": [
              "<Figure size 432x288 with 1 Axes>"
            ]
          },
          "metadata": {
            "tags": []
          }
        }
      ]
    },
    {
      "cell_type": "code",
      "metadata": {
        "id": "hUv1OsUHvI27",
        "colab_type": "code",
        "outputId": "d59455ef-6cfc-4d31-f368-db313a4b5a18",
        "colab": {
          "base_uri": "https://localhost:8080/",
          "height": 70
        }
      },
      "source": [
        "reverse_word_index = dict([(value, key) for (key, value) in word_index.items()])\n",
        "\n",
        "def decode_sentence(text):\n",
        "    return ' '.join([reverse_word_index.get(i, '?') for i in text])\n",
        "\n",
        "print(decode_sentence(training_padded[0]))\n",
        "print(training_sentences[2])\n",
        "print(train_df.target[2])"
      ],
      "execution_count": 0,
      "outputs": [
        {
          "output_type": "stream",
          "text": [
            "our deeds are the reason of this earthquake may allah forgive us all ? ? ? ? ? ? ? ? ? ? ? ? ? ? ? ? ? ?\n",
            "all residents asked to shelter in place are being notified by officers no other evacuation or shelter in place orders are expected\n",
            "1\n"
          ],
          "name": "stdout"
        }
      ]
    },
    {
      "cell_type": "code",
      "metadata": {
        "id": "24CeiYrhvO30",
        "colab_type": "code",
        "outputId": "196fe9fe-4a79-4e9e-f120-bc966cdbb1f0",
        "colab": {
          "base_uri": "https://localhost:8080/",
          "height": 70
        }
      },
      "source": [
        "sentence = [\"granny starting to fear spiders in the garden might be real\", \"coronavirus is spreading in my neighborhood\",\"Coronavirus is love\"]\n",
        "sequences = tokenizer.texts_to_sequences(sentence)\n",
        "padded = pad_sequences(sequences, padding='post')\n",
        "print(model.predict(padded))"
      ],
      "execution_count": 0,
      "outputs": [
        {
          "output_type": "stream",
          "text": [
            "[[0.0068009 ]\n",
            " [0.67498094]\n",
            " [0.02055607]]\n"
          ],
          "name": "stdout"
        }
      ]
    },
    {
      "cell_type": "markdown",
      "metadata": {
        "id": "V_tGKAkfCsRL",
        "colab_type": "text"
      },
      "source": [
        "### **RNN - Tensorflow/Keras** (Part - 2)\n",
        "\n",
        "GloVe for Embedding - Global vectors for word representation. It is a unsupervised learning algorithm developed by standford for generating word embedding by aggregating global word-word co-occurance matrix"
      ]
    },
    {
      "cell_type": "code",
      "metadata": {
        "id": "8qG9Ygqllqyr",
        "colab_type": "code",
        "colab": {}
      },
      "source": [
        "train_complete = [ i for i in train_df.text]\n",
        "\n",
        "training_sentences = [ i for i in train_df.text[:6000]]\n",
        "test_sentences = [i for i in train_df.text[6000:]]\n",
        "                  \n",
        "training_labels = [ i for i in train_df.target[:6000]]\n",
        "test_labels = [i for i in train_df.target[6000:]]"
      ],
      "execution_count": 0,
      "outputs": []
    },
    {
      "cell_type": "code",
      "metadata": {
        "id": "FrUFA8lHlq9N",
        "colab_type": "code",
        "colab": {}
      },
      "source": [
        "embedding_dict={}\n",
        "with open('glove.6B.100d.txt','r') as f:\n",
        "    for line in f:\n",
        "        values=line.split()\n",
        "        word=values[0]\n",
        "        vectors=np.asarray(values[1:],'float32')\n",
        "        embedding_dict[word]=vectors\n",
        "f.close()"
      ],
      "execution_count": 0,
      "outputs": []
    },
    {
      "cell_type": "code",
      "metadata": {
        "id": "q3G1IT71lrHb",
        "colab_type": "code",
        "colab": {}
      },
      "source": [
        "MAX_LEN=50\n",
        "tokenizer_obj=Tokenizer()\n",
        "tokenizer_obj.fit_on_texts(train_complete)\n",
        "\n",
        "training_sequences=tokenizer_obj.texts_to_sequences(training_sentences)\n",
        "training_padded=pad_sequences(training_sequences,maxlen=MAX_LEN,truncating='post',padding='post')\n",
        "\n",
        "test_sequences=tokenizer_obj.texts_to_sequences(test_sentences)\n",
        "test_padded=pad_sequences(test_sequences,maxlen=MAX_LEN,truncating='post',padding='post')"
      ],
      "execution_count": 0,
      "outputs": []
    },
    {
      "cell_type": "code",
      "metadata": {
        "id": "8vUlS4u0nvxJ",
        "colab_type": "code",
        "outputId": "03d93db6-4682-4033-b34b-1df3f1df13c3",
        "colab": {
          "base_uri": "https://localhost:8080/",
          "height": 35
        }
      },
      "source": [
        "word_index=tokenizer_obj.word_index\n",
        "print('Number of unique words:',len(word_index))"
      ],
      "execution_count": 0,
      "outputs": [
        {
          "output_type": "stream",
          "text": [
            "Number of unique words: 16833\n"
          ],
          "name": "stdout"
        }
      ]
    },
    {
      "cell_type": "code",
      "metadata": {
        "id": "evWVjLXpnMaN",
        "colab_type": "code",
        "outputId": "3cf8cc0f-4941-4c65-fa86-0b409edae7b0",
        "colab": {
          "base_uri": "https://localhost:8080/",
          "height": 35
        }
      },
      "source": [
        "num_words=len(word_index)+1\n",
        "embedding_matrix=np.zeros((num_words,100))\n",
        "\n",
        "for word,i in tqdm(word_index.items()):\n",
        "    if i > num_words:\n",
        "        continue\n",
        "    \n",
        "    emb_vec=embedding_dict.get(word)\n",
        "    if emb_vec is not None:\n",
        "        embedding_matrix[i]=emb_vec"
      ],
      "execution_count": 0,
      "outputs": [
        {
          "output_type": "stream",
          "text": [
            "100%|██████████| 16833/16833 [00:00<00:00, 492214.25it/s]\n"
          ],
          "name": "stderr"
        }
      ]
    },
    {
      "cell_type": "code",
      "metadata": {
        "id": "nn5Mu1evpaOX",
        "colab_type": "code",
        "colab": {}
      },
      "source": [
        "training_padded = np.array(training_padded)\n",
        "training_labels = np.array(training_labels)\n",
        "\n",
        "test_padded = np.array(test_padded)\n",
        "test_labels = np.array(test_labels)"
      ],
      "execution_count": 0,
      "outputs": []
    },
    {
      "cell_type": "code",
      "metadata": {
        "id": "gqPcOyJFoYVJ",
        "colab_type": "code",
        "colab": {}
      },
      "source": [
        "model=Sequential()\n",
        "\n",
        "embedding=Embedding(num_words,100,embeddings_initializer=Constant(embedding_matrix),\n",
        "                   input_length=MAX_LEN,trainable=False)\n",
        "\n",
        "model.add(embedding)\n",
        "model.add(SpatialDropout1D(0.2))\n",
        "model.add(LSTM(64, dropout=0.2, recurrent_dropout=0.2))\n",
        "model.add(Dense(1, activation='sigmoid'))\n",
        "\n",
        "\n",
        "optimzer=Adam(lr=1e-5)\n",
        "\n",
        "model.compile(loss='binary_crossentropy',optimizer=optimzer,metrics=['accuracy'])"
      ],
      "execution_count": 0,
      "outputs": []
    },
    {
      "cell_type": "code",
      "metadata": {
        "id": "rGOFvoGToYSr",
        "colab_type": "code",
        "outputId": "bd39dc7e-943d-4d1d-beb6-464774c91975",
        "colab": {
          "base_uri": "https://localhost:8080/",
          "height": 308
        }
      },
      "source": [
        "model.summary()"
      ],
      "execution_count": 0,
      "outputs": [
        {
          "output_type": "stream",
          "text": [
            "Model: \"sequential_3\"\n",
            "_________________________________________________________________\n",
            "Layer (type)                 Output Shape              Param #   \n",
            "=================================================================\n",
            "embedding_3 (Embedding)      (None, 50, 100)           1683400   \n",
            "_________________________________________________________________\n",
            "spatial_dropout1d_3 (Spatial (None, 50, 100)           0         \n",
            "_________________________________________________________________\n",
            "lstm_3 (LSTM)                (None, 64)                42240     \n",
            "_________________________________________________________________\n",
            "dense_3 (Dense)              (None, 1)                 65        \n",
            "=================================================================\n",
            "Total params: 1,725,705\n",
            "Trainable params: 42,305\n",
            "Non-trainable params: 1,683,400\n",
            "_________________________________________________________________\n"
          ],
          "name": "stdout"
        }
      ]
    },
    {
      "cell_type": "code",
      "metadata": {
        "id": "NZU0ne4moYQG",
        "colab_type": "code",
        "outputId": "ebbc6978-9cc8-4bce-801e-2f7fc2b7a26d",
        "colab": {
          "base_uri": "https://localhost:8080/",
          "height": 892
        }
      },
      "source": [
        "history=model.fit(training_padded,training_labels,batch_size=4,epochs=15,validation_data=(test_padded,test_labels),verbose=2)"
      ],
      "execution_count": 0,
      "outputs": [
        {
          "output_type": "stream",
          "text": [
            "WARNING:tensorflow:From /usr/local/lib/python3.6/dist-packages/keras/backend/tensorflow_backend.py:1033: The name tf.assign_add is deprecated. Please use tf.compat.v1.assign_add instead.\n",
            "\n",
            "WARNING:tensorflow:From /usr/local/lib/python3.6/dist-packages/keras/backend/tensorflow_backend.py:1020: The name tf.assign is deprecated. Please use tf.compat.v1.assign instead.\n",
            "\n",
            "WARNING:tensorflow:From /usr/local/lib/python3.6/dist-packages/keras/backend/tensorflow_backend.py:3005: The name tf.Session is deprecated. Please use tf.compat.v1.Session instead.\n",
            "\n",
            "Train on 6000 samples, validate on 1612 samples\n",
            "Epoch 1/15\n",
            "WARNING:tensorflow:From /usr/local/lib/python3.6/dist-packages/keras/backend/tensorflow_backend.py:190: The name tf.get_default_session is deprecated. Please use tf.compat.v1.get_default_session instead.\n",
            "\n",
            "WARNING:tensorflow:From /usr/local/lib/python3.6/dist-packages/keras/backend/tensorflow_backend.py:197: The name tf.ConfigProto is deprecated. Please use tf.compat.v1.ConfigProto instead.\n",
            "\n",
            "WARNING:tensorflow:From /usr/local/lib/python3.6/dist-packages/keras/backend/tensorflow_backend.py:207: The name tf.global_variables is deprecated. Please use tf.compat.v1.global_variables instead.\n",
            "\n",
            "WARNING:tensorflow:From /usr/local/lib/python3.6/dist-packages/keras/backend/tensorflow_backend.py:216: The name tf.is_variable_initialized is deprecated. Please use tf.compat.v1.is_variable_initialized instead.\n",
            "\n",
            "WARNING:tensorflow:From /usr/local/lib/python3.6/dist-packages/keras/backend/tensorflow_backend.py:223: The name tf.variables_initializer is deprecated. Please use tf.compat.v1.variables_initializer instead.\n",
            "\n",
            " - 55s - loss: 0.6910 - acc: 0.5795 - val_loss: 0.6913 - val_acc: 0.5323\n",
            "Epoch 2/15\n",
            " - 52s - loss: 0.6821 - acc: 0.5805 - val_loss: 0.6828 - val_acc: 0.5323\n",
            "Epoch 3/15\n",
            " - 50s - loss: 0.6636 - acc: 0.5808 - val_loss: 0.6508 - val_acc: 0.5323\n",
            "Epoch 4/15\n",
            " - 50s - loss: 0.6329 - acc: 0.6247 - val_loss: 0.6019 - val_acc: 0.7301\n",
            "Epoch 5/15\n",
            " - 50s - loss: 0.6079 - acc: 0.7028 - val_loss: 0.5713 - val_acc: 0.7730\n",
            "Epoch 6/15\n",
            " - 51s - loss: 0.5897 - acc: 0.7190 - val_loss: 0.5549 - val_acc: 0.7754\n",
            "Epoch 7/15\n",
            " - 52s - loss: 0.5785 - acc: 0.7255 - val_loss: 0.5418 - val_acc: 0.7785\n",
            "Epoch 8/15\n",
            " - 52s - loss: 0.5750 - acc: 0.7357 - val_loss: 0.5281 - val_acc: 0.7767\n",
            "Epoch 9/15\n",
            " - 53s - loss: 0.5712 - acc: 0.7343 - val_loss: 0.5215 - val_acc: 0.7748\n",
            "Epoch 10/15\n",
            " - 53s - loss: 0.5654 - acc: 0.7448 - val_loss: 0.5156 - val_acc: 0.7866\n",
            "Epoch 11/15\n",
            " - 53s - loss: 0.5665 - acc: 0.7317 - val_loss: 0.5121 - val_acc: 0.7847\n",
            "Epoch 12/15\n",
            " - 52s - loss: 0.5574 - acc: 0.7398 - val_loss: 0.5086 - val_acc: 0.7903\n",
            "Epoch 13/15\n",
            " - 52s - loss: 0.5589 - acc: 0.7403 - val_loss: 0.5030 - val_acc: 0.7878\n",
            "Epoch 14/15\n",
            " - 52s - loss: 0.5488 - acc: 0.7555 - val_loss: 0.4994 - val_acc: 0.7922\n",
            "Epoch 15/15\n",
            " - 51s - loss: 0.5469 - acc: 0.7513 - val_loss: 0.4956 - val_acc: 0.7928\n"
          ],
          "name": "stdout"
        }
      ]
    },
    {
      "cell_type": "code",
      "metadata": {
        "id": "HtRw9eZQnoyc",
        "colab_type": "code",
        "colab": {}
      },
      "source": [
        "plot_graphs(history, \"accuracy\")\n",
        "plot_graphs(history, \"loss\")"
      ],
      "execution_count": 0,
      "outputs": []
    },
    {
      "cell_type": "code",
      "metadata": {
        "id": "WeEUUg8Nno5o",
        "colab_type": "code",
        "colab": {}
      },
      "source": [
        ""
      ],
      "execution_count": 0,
      "outputs": []
    }
  ]
}