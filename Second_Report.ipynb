{
  "nbformat": 4,
  "nbformat_minor": 0,
  "metadata": {
    "colab": {
      "name": "Second Report.ipynb",
      "provenance": [],
      "collapsed_sections": [],
      "toc_visible": true,
      "authorship_tag": "ABX9TyNcGKsEPRXz+Rd4JH3hZdLo",
      "include_colab_link": true
    },
    "kernelspec": {
      "name": "python3",
      "display_name": "Python 3"
    },
    "accelerator": "GPU"
  },
  "cells": [
    {
      "cell_type": "markdown",
      "metadata": {
        "id": "view-in-github",
        "colab_type": "text"
      },
      "source": [
        "<a href=\"https://colab.research.google.com/github/Sagar401/Natural_Language_Processing/blob/master/Second_Report.ipynb\" target=\"_parent\"><img src=\"https://colab.research.google.com/assets/colab-badge.svg\" alt=\"Open In Colab\"/></a>"
      ]
    },
    {
      "cell_type": "markdown",
      "metadata": {
        "id": "9Q-wKtTDUSol",
        "colab_type": "text"
      },
      "source": [
        "# **Team: Sagar Daswani and Pimchanok Khaoputhai**\n",
        "# **FAI - Foundations of AI**\n",
        "\n",
        "# Final Project\n",
        "## First report"
      ]
    },
    {
      "cell_type": "markdown",
      "metadata": {
        "id": "VR28ZsuStmN9",
        "colab_type": "text"
      },
      "source": [
        "#**Real or Not? Binary Classification of Disaster Tweets**\n",
        "Kaggle Competition"
      ]
    },
    {
      "cell_type": "markdown",
      "metadata": {
        "id": "JxlvUyzLIPDp",
        "colab_type": "text"
      },
      "source": [
        "### **Load Libraries**"
      ]
    },
    {
      "cell_type": "code",
      "metadata": {
        "id": "sFMEE7N3y5Bq",
        "colab_type": "code",
        "colab": {
          "base_uri": "https://localhost:8080/",
          "height": 35
        },
        "outputId": "94036251-6d45-4fa8-8c77-3a7b252cd39e"
      },
      "source": [
        "# Run this to ensure TensorFlow 2.x is used\n",
        "try:\n",
        "  # %tensorflow_version only exists in Colab.\n",
        "  %tensorflow_version 2.x\n",
        "except Exception:\n",
        "  pass"
      ],
      "execution_count": 1,
      "outputs": [
        {
          "output_type": "stream",
          "text": [
            "TensorFlow 2.x selected.\n"
          ],
          "name": "stdout"
        }
      ]
    },
    {
      "cell_type": "code",
      "metadata": {
        "id": "LjzRX-niUNyM",
        "colab_type": "code",
        "colab": {
          "base_uri": "https://localhost:8080/",
          "height": 35
        },
        "outputId": "c102e230-8d96-452d-af4d-2b3300e94bca"
      },
      "source": [
        "import pandas as pd\n",
        "import numpy as np\n",
        "import seaborn as sns\n",
        "import matplotlib.pyplot as plt\n",
        "import tensorflow as tf\n",
        "from nltk.tokenize import word_tokenize\n",
        "import re\n",
        "import string\n",
        "import nltk\n",
        "from nltk.corpus import stopwords\n",
        "\n",
        "from keras.preprocessing.text import Tokenizer\n",
        "from keras.preprocessing.sequence import pad_sequences\n",
        "from tqdm import tqdm\n",
        "from keras.models import Sequential\n",
        "from keras.layers import Embedding,LSTM,Dense,SpatialDropout1D\n",
        "from keras.initializers import Constant\n",
        "from sklearn.model_selection import train_test_split\n",
        "from keras.optimizers import Adam"
      ],
      "execution_count": 2,
      "outputs": [
        {
          "output_type": "stream",
          "text": [
            "Using TensorFlow backend.\n"
          ],
          "name": "stderr"
        }
      ]
    },
    {
      "cell_type": "markdown",
      "metadata": {
        "id": "Wpnle9cM1pRv",
        "colab_type": "text"
      },
      "source": [
        "## **Data Loading**"
      ]
    },
    {
      "cell_type": "code",
      "metadata": {
        "id": "rilMQ9Aqt_W9",
        "colab_type": "code",
        "colab": {}
      },
      "source": [
        "train_df = pd.read_csv(\"train.csv\")\n",
        "test_df = pd.read_csv(\"test.csv\")"
      ],
      "execution_count": 0,
      "outputs": []
    },
    {
      "cell_type": "code",
      "metadata": {
        "id": "FmbBWFm9uBd0",
        "colab_type": "code",
        "outputId": "0eb303b8-4252-442e-89bc-f2f37e5eddfb",
        "colab": {
          "base_uri": "https://localhost:8080/",
          "height": 198
        }
      },
      "source": [
        "#Looking at first few rows of dataset\n",
        "train_df.head()"
      ],
      "execution_count": 4,
      "outputs": [
        {
          "output_type": "execute_result",
          "data": {
            "text/html": [
              "<div>\n",
              "<style scoped>\n",
              "    .dataframe tbody tr th:only-of-type {\n",
              "        vertical-align: middle;\n",
              "    }\n",
              "\n",
              "    .dataframe tbody tr th {\n",
              "        vertical-align: top;\n",
              "    }\n",
              "\n",
              "    .dataframe thead th {\n",
              "        text-align: right;\n",
              "    }\n",
              "</style>\n",
              "<table border=\"1\" class=\"dataframe\">\n",
              "  <thead>\n",
              "    <tr style=\"text-align: right;\">\n",
              "      <th></th>\n",
              "      <th>id</th>\n",
              "      <th>keyword</th>\n",
              "      <th>location</th>\n",
              "      <th>text</th>\n",
              "      <th>target</th>\n",
              "    </tr>\n",
              "  </thead>\n",
              "  <tbody>\n",
              "    <tr>\n",
              "      <th>0</th>\n",
              "      <td>1</td>\n",
              "      <td>NaN</td>\n",
              "      <td>NaN</td>\n",
              "      <td>Our Deeds are the Reason of this #earthquake M...</td>\n",
              "      <td>1</td>\n",
              "    </tr>\n",
              "    <tr>\n",
              "      <th>1</th>\n",
              "      <td>4</td>\n",
              "      <td>NaN</td>\n",
              "      <td>NaN</td>\n",
              "      <td>Forest fire near La Ronge Sask. Canada</td>\n",
              "      <td>1</td>\n",
              "    </tr>\n",
              "    <tr>\n",
              "      <th>2</th>\n",
              "      <td>5</td>\n",
              "      <td>NaN</td>\n",
              "      <td>NaN</td>\n",
              "      <td>All residents asked to 'shelter in place' are ...</td>\n",
              "      <td>1</td>\n",
              "    </tr>\n",
              "    <tr>\n",
              "      <th>3</th>\n",
              "      <td>6</td>\n",
              "      <td>NaN</td>\n",
              "      <td>NaN</td>\n",
              "      <td>13,000 people receive #wildfires evacuation or...</td>\n",
              "      <td>1</td>\n",
              "    </tr>\n",
              "    <tr>\n",
              "      <th>4</th>\n",
              "      <td>7</td>\n",
              "      <td>NaN</td>\n",
              "      <td>NaN</td>\n",
              "      <td>Just got sent this photo from Ruby #Alaska as ...</td>\n",
              "      <td>1</td>\n",
              "    </tr>\n",
              "  </tbody>\n",
              "</table>\n",
              "</div>"
            ],
            "text/plain": [
              "   id keyword  ...                                               text target\n",
              "0   1     NaN  ...  Our Deeds are the Reason of this #earthquake M...      1\n",
              "1   4     NaN  ...             Forest fire near La Ronge Sask. Canada      1\n",
              "2   5     NaN  ...  All residents asked to 'shelter in place' are ...      1\n",
              "3   6     NaN  ...  13,000 people receive #wildfires evacuation or...      1\n",
              "4   7     NaN  ...  Just got sent this photo from Ruby #Alaska as ...      1\n",
              "\n",
              "[5 rows x 5 columns]"
            ]
          },
          "metadata": {
            "tags": []
          },
          "execution_count": 4
        }
      ]
    },
    {
      "cell_type": "markdown",
      "metadata": {
        "id": "3uQbTDDc2K0M",
        "colab_type": "text"
      },
      "source": [
        "## **Data Visualization**"
      ]
    },
    {
      "cell_type": "markdown",
      "metadata": {
        "id": "8B13Vv5j2P6N",
        "colab_type": "text"
      },
      "source": [
        "### **Basic Exploration**"
      ]
    },
    {
      "cell_type": "code",
      "metadata": {
        "id": "PMmLGqsDuDEU",
        "colab_type": "code",
        "outputId": "a65dbbd3-9fcb-47df-8f4d-171768c6de1a",
        "colab": {
          "base_uri": "https://localhost:8080/",
          "height": 54
        }
      },
      "source": [
        "print(\"Training Dataset Size:\",train_df.shape)\n",
        "print(\"Test Dataset Size:\",test_df.shape)"
      ],
      "execution_count": 5,
      "outputs": [
        {
          "output_type": "stream",
          "text": [
            "Training Dataset Size: (7613, 5)\n",
            "Test Dataset Size: (3263, 4)\n"
          ],
          "name": "stdout"
        }
      ]
    },
    {
      "cell_type": "code",
      "metadata": {
        "id": "mNVeF-OS3pnX",
        "colab_type": "code",
        "colab": {}
      },
      "source": [
        "#function to plot bar graph\n",
        "def plot_bar(x):\n",
        "  sns.barplot(x.index,x)\n",
        "  plt.gca().set_ylabel('samples')"
      ],
      "execution_count": 0,
      "outputs": []
    },
    {
      "cell_type": "code",
      "metadata": {
        "id": "_5puA8HnuFDU",
        "colab_type": "code",
        "outputId": "01af5cc5-6fad-4071-e8d4-84ac97f68ad6",
        "colab": {
          "base_uri": "https://localhost:8080/",
          "height": 265
        }
      },
      "source": [
        "#missing values in training dataset\n",
        "x = train_df.isnull().sum()\n",
        "plot_bar(x)"
      ],
      "execution_count": 7,
      "outputs": [
        {
          "output_type": "display_data",
          "data": {
            "image/png": "[encoded data removed]",
            "text/plain": [
              "<Figure size 432x288 with 1 Axes>"
            ]
          },
          "metadata": {
            "tags": []
          }
        }
      ]
    },
    {
      "cell_type": "code",
      "metadata": {
        "id": "TzEnZKCguHLE",
        "colab_type": "code",
        "outputId": "7c647259-521a-4f64-de18-46b9718e2900",
        "colab": {
          "base_uri": "https://localhost:8080/",
          "height": 265
        }
      },
      "source": [
        "##let's check the class distribution\n",
        "x = train_df['target'].value_counts()\n",
        "plot_bar(x)"
      ],
      "execution_count": 8,
      "outputs": [
        {
          "output_type": "display_data",
          "data": {
            "image/png": "[encoded data removed]",
            "text/plain": [
              "<Figure size 432x288 with 1 Axes>"
            ]
          },
          "metadata": {
            "tags": []
          }
        }
      ]
    },
    {
      "cell_type": "code",
      "metadata": {
        "id": "lummXhqHuJKs",
        "colab_type": "code",
        "outputId": "4189dbe6-c785-428e-99c6-f2454da04aa3",
        "colab": {
          "base_uri": "https://localhost:8080/",
          "height": 265
        }
      },
      "source": [
        "#exlporing top 5 locations \n",
        "x = train_df['location'].value_counts()[:5]\n",
        "plot_bar(x)"
      ],
      "execution_count": 9,
      "outputs": [
        {
          "output_type": "display_data",
          "data": {
            "image/png": "[encoded data removed]",
            "text/plain": [
              "<Figure size 432x288 with 1 Axes>"
            ]
          },
          "metadata": {
            "tags": []
          }
        }
      ]
    },
    {
      "cell_type": "markdown",
      "metadata": {
        "id": "B2crwdmi2eEe",
        "colab_type": "text"
      },
      "source": [
        "### **Hashtag Analysis**\n",
        "Let's see the impact of Hashtags on tweet sentiments"
      ]
    },
    {
      "cell_type": "code",
      "metadata": {
        "id": "4y3oXTWW4kUw",
        "colab_type": "code",
        "colab": {}
      },
      "source": [
        "# function to collect hashtags\n",
        "def hashtag_extract(x):\n",
        "    hashtags = []\n",
        "    # Loop over the words in the tweet\n",
        "    for i in x:\n",
        "        ht = re.findall(r\"#(\\w+)\", i)\n",
        "        hashtags.append(ht)\n",
        "\n",
        "    return hashtags"
      ],
      "execution_count": 0,
      "outputs": []
    },
    {
      "cell_type": "code",
      "metadata": {
        "id": "JAFUzQYC4kS1",
        "colab_type": "code",
        "colab": {}
      },
      "source": [
        "# extracting hashtags from non Disaster tweets\n",
        "Not_Disaster = hashtag_extract(train_df['text'][train_df['target'] == 0])\n",
        "\n",
        "# extracting hashtags from Disaster tweets\n",
        "Disaster = hashtag_extract(train_df['text'][train_df['target'] == 1])\n",
        "\n",
        "# unnesting list\n",
        "Not_Disaster = sum(Not_Disaster,[])\n",
        "Disaster = sum(Disaster,[])"
      ],
      "execution_count": 0,
      "outputs": []
    },
    {
      "cell_type": "code",
      "metadata": {
        "id": "_okFOCGM4kQK",
        "colab_type": "code",
        "outputId": "2ad6e831-7810-4d0e-95eb-81f509c9e1ae",
        "colab": {
          "base_uri": "https://localhost:8080/",
          "height": 334
        }
      },
      "source": [
        "# Fake Disaster tweets\n",
        " a = nltk.FreqDist(Not_Disaster)\n",
        "nd = pd.DataFrame({'Hashtag': list(a.keys()),\n",
        "                  'Count': list(a.values())})\n",
        "# selecting top 10 most frequent hashtags     \n",
        "nd = nd.nlargest(columns=\"Count\", n = 10) \n",
        "plt.figure(figsize=(16,5))\n",
        "ax = sns.barplot(data=nd, x= \"Hashtag\", y = \"Count\")\n",
        "ax.set(ylabel = 'Count')\n",
        "plt.show()"
      ],
      "execution_count": 12,
      "outputs": [
        {
          "output_type": "display_data",
          "data": {
            "image/png": "[encoded data removed]",
            "text/plain": [
              "<Figure size 1152x360 with 1 Axes>"
            ]
          },
          "metadata": {
            "tags": []
          }
        }
      ]
    },
    {
      "cell_type": "code",
      "metadata": {
        "id": "TObHOhR88CF_",
        "colab_type": "code",
        "outputId": "0b039874-6cab-477a-cb21-1e61bd7a2a1c",
        "colab": {
          "base_uri": "https://localhost:8080/",
          "height": 334
        }
      },
      "source": [
        "# True Disaster tweets\n",
        "b = nltk.FreqDist(Disaster)\n",
        "d = pd.DataFrame({'Hashtag': list(b.keys()), 'Count': list(b.values())})\n",
        "# selecting top 10 most frequent hashtags\n",
        "d = d.nlargest(columns=\"Count\", n = 10)   \n",
        "plt.figure(figsize=(16,5))\n",
        "ax = sns.barplot(data=d, x= \"Hashtag\", y = \"Count\")\n",
        "ax.set(ylabel = 'Count')\n",
        "plt.show()"
      ],
      "execution_count": 13,
      "outputs": [
        {
          "output_type": "display_data",
          "data": {
            "image/png": "[encoded data removed]",
            "text/plain": [
              "<Figure size 1152x360 with 1 Axes>"
            ]
          },
          "metadata": {
            "tags": []
          }
        }
      ]
    },
    {
      "cell_type": "markdown",
      "metadata": {
        "id": "AJcyF8xIuOlq",
        "colab_type": "text"
      },
      "source": [
        "##**Data Cleaning and Processing**\n",
        "\n",
        "\n",
        "*   Making all uppercase to lowercase\n",
        "*   Removing noise from tweets\n",
        "\n",
        "  *   URLs\n",
        "  *   HTML tags\n",
        "  *   emogis\n",
        "  *   Punctuation\n",
        "  *   New-Line\n",
        "  *   Removing Digits\n",
        "*   Spell-checker(optional)\n"
      ]
    },
    {
      "cell_type": "code",
      "metadata": {
        "id": "nqTR5FZZuKwj",
        "colab_type": "code",
        "colab": {}
      },
      "source": [
        "#function to remove noise from text\n",
        "def clean_text(text):\n",
        "    text = text.lower() #convert to lowercase to maintain standard flow between text\n",
        "    text = re.sub('\\[.*?\\]', '', text) #removing text in square brackets\n",
        "    text = re.sub('https?://\\S+|www\\.\\S+', '', text) #removing url\n",
        "    text = re.sub('<.*?>+', '', text) #removing html tags\n",
        "    text = re.sub('[%s]' % re.escape(string.punctuation), '', text) #removing puntuations\n",
        "    text = re.sub('\\n', '', text)#removing new line from the text field\n",
        "    text = re.sub('\\w*\\d\\w*', '', text) #removing digits from the string\n",
        "    return text\n",
        "\n",
        "train_df['text'] = train_df['text'].apply(lambda x : clean_text(x))\n",
        "test_df['text'] = test_df['text'].apply(lambda x : clean_text(x))"
      ],
      "execution_count": 0,
      "outputs": []
    },
    {
      "cell_type": "code",
      "metadata": {
        "id": "t7pqPAZ0uTqU",
        "colab_type": "code",
        "colab": {}
      },
      "source": [
        "#function to remove emoji's\n",
        "def remove_emoji(text):\n",
        "    emoji_pattern = re.compile(\"[\"\n",
        "                           u\"\\U0001F600-\\U0001F64F\"  # emoticons\n",
        "                           u\"\\U0001F300-\\U0001F5FF\"  # symbols & pictographs\n",
        "                           u\"\\U0001F680-\\U0001F6FF\"  # transport & map symbols\n",
        "                           u\"\\U0001F1E0-\\U0001F1FF\"  # flags (iOS)\n",
        "                           u\"\\U00002702-\\U000027B0\"\n",
        "                           u\"\\U000024C2-\\U0001F251\"\n",
        "                            \"]+\", flags=re.UNICODE)\n",
        "    return emoji_pattern.sub(r'', text)\n",
        "\n",
        "train_df['text']=train_df['text'].apply(lambda x: remove_emoji(x))\n",
        "test_df['text']=test_df['text'].apply(lambda x: remove_emoji(x))"
      ],
      "execution_count": 0,
      "outputs": []
    },
    {
      "cell_type": "code",
      "metadata": {
        "id": "Ai1dEXuS2o_a",
        "colab_type": "code",
        "colab": {
          "base_uri": "https://localhost:8080/",
          "height": 108
        },
        "outputId": "c2414f3a-2e5e-4cc5-9a41-1605c1d0a348"
      },
      "source": [
        "#run code to install spell checker package\n",
        "!pip install pyspellchecker"
      ],
      "execution_count": 16,
      "outputs": [
        {
          "output_type": "stream",
          "text": [
            "Collecting pyspellchecker\n",
            "\u001b[?25l  Downloading https://files.pythonhosted.org/packages/04/d1/ec4e830e9f9c1fd788e1459dd09279fdf807bc7a475579fd7192450b879c/pyspellchecker-0.5.4-py2.py3-none-any.whl (1.9MB)\n",
            "\r\u001b[K     |▏                               | 10kB 19.5MB/s eta 0:00:01\r\u001b[K     |▍                               | 20kB 3.1MB/s eta 0:00:01\r\u001b[K     |▌                               | 30kB 4.5MB/s eta 0:00:01\r\u001b[K     |▊                               | 40kB 3.0MB/s eta 0:00:01\r\u001b[K     |▉                               | 51kB 3.7MB/s eta 0:00:01\r\u001b[K     |█                               | 61kB 4.4MB/s eta 0:00:01\r\u001b[K     |█▏                              | 71kB 5.0MB/s eta 0:00:01\r\u001b[K     |█▍                              | 81kB 5.7MB/s eta 0:00:01\r\u001b[K     |█▌                              | 92kB 6.3MB/s eta 0:00:01\r\u001b[K     |█▊                              | 102kB 4.9MB/s eta 0:00:01\r\u001b[K     |█▉                              | 112kB 4.9MB/s eta 0:00:01\r\u001b[K     |██                              | 122kB 4.9MB/s eta 0:00:01\r\u001b[K     |██▎                             | 133kB 4.9MB/s eta 0:00:01\r\u001b[K     |██▍                             | 143kB 4.9MB/s eta 0:00:01\r\u001b[K     |██▋                             | 153kB 4.9MB/s eta 0:00:01\r\u001b[K     |██▊                             | 163kB 4.9MB/s eta 0:00:01\r\u001b[K     |███                             | 174kB 4.9MB/s eta 0:00:01\r\u001b[K     |███                             | 184kB 4.9MB/s eta 0:00:01\r\u001b[K     |███▎                            | 194kB 4.9MB/s eta 0:00:01\r\u001b[K     |███▍                            | 204kB 4.9MB/s eta 0:00:01\r\u001b[K     |███▋                            | 215kB 4.9MB/s eta 0:00:01\r\u001b[K     |███▊                            | 225kB 4.9MB/s eta 0:00:01\r\u001b[K     |████                            | 235kB 4.9MB/s eta 0:00:01\r\u001b[K     |████▏                           | 245kB 4.9MB/s eta 0:00:01\r\u001b[K     |████▎                           | 256kB 4.9MB/s eta 0:00:01\r\u001b[K     |████▌                           | 266kB 4.9MB/s eta 0:00:01\r\u001b[K     |████▋                           | 276kB 4.9MB/s eta 0:00:01\r\u001b[K     |████▉                           | 286kB 4.9MB/s eta 0:00:01\r\u001b[K     |█████                           | 296kB 4.9MB/s eta 0:00:01\r\u001b[K     |█████▏                          | 307kB 4.9MB/s eta 0:00:01\r\u001b[K     |█████▎                          | 317kB 4.9MB/s eta 0:00:01\r\u001b[K     |█████▌                          | 327kB 4.9MB/s eta 0:00:01\r\u001b[K     |█████▋                          | 337kB 4.9MB/s eta 0:00:01\r\u001b[K     |█████▉                          | 348kB 4.9MB/s eta 0:00:01\r\u001b[K     |██████                          | 358kB 4.9MB/s eta 0:00:01\r\u001b[K     |██████▏                         | 368kB 4.9MB/s eta 0:00:01\r\u001b[K     |██████▍                         | 378kB 4.9MB/s eta 0:00:01\r\u001b[K     |██████▌                         | 389kB 4.9MB/s eta 0:00:01\r\u001b[K     |██████▊                         | 399kB 4.9MB/s eta 0:00:01\r\u001b[K     |██████▉                         | 409kB 4.9MB/s eta 0:00:01\r\u001b[K     |███████                         | 419kB 4.9MB/s eta 0:00:01\r\u001b[K     |███████▏                        | 430kB 4.9MB/s eta 0:00:01\r\u001b[K     |███████▍                        | 440kB 4.9MB/s eta 0:00:01\r\u001b[K     |███████▌                        | 450kB 4.9MB/s eta 0:00:01\r\u001b[K     |███████▊                        | 460kB 4.9MB/s eta 0:00:01\r\u001b[K     |████████                        | 471kB 4.9MB/s eta 0:00:01\r\u001b[K     |████████                        | 481kB 4.9MB/s eta 0:00:01\r\u001b[K     |████████▎                       | 491kB 4.9MB/s eta 0:00:01\r\u001b[K     |████████▍                       | 501kB 4.9MB/s eta 0:00:01\r\u001b[K     |████████▋                       | 512kB 4.9MB/s eta 0:00:01\r\u001b[K     |████████▊                       | 522kB 4.9MB/s eta 0:00:01\r\u001b[K     |█████████                       | 532kB 4.9MB/s eta 0:00:01\r\u001b[K     |█████████                       | 542kB 4.9MB/s eta 0:00:01\r\u001b[K     |█████████▎                      | 552kB 4.9MB/s eta 0:00:01\r\u001b[K     |█████████▍                      | 563kB 4.9MB/s eta 0:00:01\r\u001b[K     |█████████▋                      | 573kB 4.9MB/s eta 0:00:01\r\u001b[K     |█████████▉                      | 583kB 4.9MB/s eta 0:00:01\r\u001b[K     |██████████                      | 593kB 4.9MB/s eta 0:00:01\r\u001b[K     |██████████▏                     | 604kB 4.9MB/s eta 0:00:01\r\u001b[K     |██████████▎                     | 614kB 4.9MB/s eta 0:00:01\r\u001b[K     |██████████▌                     | 624kB 4.9MB/s eta 0:00:01\r\u001b[K     |██████████▋                     | 634kB 4.9MB/s eta 0:00:01\r\u001b[K     |██████████▉                     | 645kB 4.9MB/s eta 0:00:01\r\u001b[K     |███████████                     | 655kB 4.9MB/s eta 0:00:01\r\u001b[K     |███████████▏                    | 665kB 4.9MB/s eta 0:00:01\r\u001b[K     |███████████▎                    | 675kB 4.9MB/s eta 0:00:01\r\u001b[K     |███████████▌                    | 686kB 4.9MB/s eta 0:00:01\r\u001b[K     |███████████▊                    | 696kB 4.9MB/s eta 0:00:01\r\u001b[K     |███████████▉                    | 706kB 4.9MB/s eta 0:00:01\r\u001b[K     |████████████                    | 716kB 4.9MB/s eta 0:00:01\r\u001b[K     |████████████▏                   | 727kB 4.9MB/s eta 0:00:01\r\u001b[K     |████████████▍                   | 737kB 4.9MB/s eta 0:00:01\r\u001b[K     |████████████▌                   | 747kB 4.9MB/s eta 0:00:01\r\u001b[K     |████████████▊                   | 757kB 4.9MB/s eta 0:00:01\r\u001b[K     |████████████▉                   | 768kB 4.9MB/s eta 0:00:01\r\u001b[K     |█████████████                   | 778kB 4.9MB/s eta 0:00:01\r\u001b[K     |█████████████▏                  | 788kB 4.9MB/s eta 0:00:01\r\u001b[K     |█████████████▍                  | 798kB 4.9MB/s eta 0:00:01\r\u001b[K     |█████████████▋                  | 808kB 4.9MB/s eta 0:00:01\r\u001b[K     |█████████████▊                  | 819kB 4.9MB/s eta 0:00:01\r\u001b[K     |██████████████                  | 829kB 4.9MB/s eta 0:00:01\r\u001b[K     |██████████████                  | 839kB 4.9MB/s eta 0:00:01\r\u001b[K     |██████████████▎                 | 849kB 4.9MB/s eta 0:00:01\r\u001b[K     |██████████████▍                 | 860kB 4.9MB/s eta 0:00:01\r\u001b[K     |██████████████▋                 | 870kB 4.9MB/s eta 0:00:01\r\u001b[K     |██████████████▊                 | 880kB 4.9MB/s eta 0:00:01\r\u001b[K     |███████████████                 | 890kB 4.9MB/s eta 0:00:01\r\u001b[K     |███████████████                 | 901kB 4.9MB/s eta 0:00:01\r\u001b[K     |███████████████▎                | 911kB 4.9MB/s eta 0:00:01\r\u001b[K     |███████████████▌                | 921kB 4.9MB/s eta 0:00:01\r\u001b[K     |███████████████▋                | 931kB 4.9MB/s eta 0:00:01\r\u001b[K     |███████████████▉                | 942kB 4.9MB/s eta 0:00:01\r\u001b[K     |████████████████                | 952kB 4.9MB/s eta 0:00:01\r\u001b[K     |████████████████▏               | 962kB 4.9MB/s eta 0:00:01\r\u001b[K     |████████████████▎               | 972kB 4.9MB/s eta 0:00:01\r\u001b[K     |████████████████▌               | 983kB 4.9MB/s eta 0:00:01\r\u001b[K     |████████████████▋               | 993kB 4.9MB/s eta 0:00:01\r\u001b[K     |████████████████▉               | 1.0MB 4.9MB/s eta 0:00:01\r\u001b[K     |█████████████████               | 1.0MB 4.9MB/s eta 0:00:01\r\u001b[K     |█████████████████▏              | 1.0MB 4.9MB/s eta 0:00:01\r\u001b[K     |█████████████████▍              | 1.0MB 4.9MB/s eta 0:00:01\r\u001b[K     |█████████████████▌              | 1.0MB 4.9MB/s eta 0:00:01\r\u001b[K     |█████████████████▊              | 1.1MB 4.9MB/s eta 0:00:01\r\u001b[K     |█████████████████▉              | 1.1MB 4.9MB/s eta 0:00:01\r\u001b[K     |██████████████████              | 1.1MB 4.9MB/s eta 0:00:01\r\u001b[K     |██████████████████▏             | 1.1MB 4.9MB/s eta 0:00:01\r\u001b[K     |██████████████████▍             | 1.1MB 4.9MB/s eta 0:00:01\r\u001b[K     |██████████████████▌             | 1.1MB 4.9MB/s eta 0:00:01\r\u001b[K     |██████████████████▊             | 1.1MB 4.9MB/s eta 0:00:01\r\u001b[K     |██████████████████▉             | 1.1MB 4.9MB/s eta 0:00:01\r\u001b[K     |███████████████████             | 1.1MB 4.9MB/s eta 0:00:01\r\u001b[K     |███████████████████▎            | 1.1MB 4.9MB/s eta 0:00:01\r\u001b[K     |███████████████████▍            | 1.2MB 4.9MB/s eta 0:00:01\r\u001b[K     |███████████████████▋            | 1.2MB 4.9MB/s eta 0:00:01\r\u001b[K     |███████████████████▊            | 1.2MB 4.9MB/s eta 0:00:01\r\u001b[K     |████████████████████            | 1.2MB 4.9MB/s eta 0:00:01\r\u001b[K     |████████████████████            | 1.2MB 4.9MB/s eta 0:00:01\r\u001b[K     |████████████████████▎           | 1.2MB 4.9MB/s eta 0:00:01\r\u001b[K     |████████████████████▍           | 1.2MB 4.9MB/s eta 0:00:01\r\u001b[K     |████████████████████▋           | 1.2MB 4.9MB/s eta 0:00:01\r\u001b[K     |████████████████████▊           | 1.2MB 4.9MB/s eta 0:00:01\r\u001b[K     |█████████████████████           | 1.2MB 4.9MB/s eta 0:00:01\r\u001b[K     |█████████████████████▏          | 1.3MB 4.9MB/s eta 0:00:01\r\u001b[K     |█████████████████████▎          | 1.3MB 4.9MB/s eta 0:00:01\r\u001b[K     |█████████████████████▌          | 1.3MB 4.9MB/s eta 0:00:01\r\u001b[K     |█████████████████████▋          | 1.3MB 4.9MB/s eta 0:00:01\r\u001b[K     |█████████████████████▉          | 1.3MB 4.9MB/s eta 0:00:01\r\u001b[K     |██████████████████████          | 1.3MB 4.9MB/s eta 0:00:01\r\u001b[K     |██████████████████████▏         | 1.3MB 4.9MB/s eta 0:00:01\r\u001b[K     |██████████████████████▎         | 1.3MB 4.9MB/s eta 0:00:01\r\u001b[K     |██████████████████████▌         | 1.3MB 4.9MB/s eta 0:00:01\r\u001b[K     |██████████████████████▋         | 1.4MB 4.9MB/s eta 0:00:01\r\u001b[K     |██████████████████████▉         | 1.4MB 4.9MB/s eta 0:00:01\r\u001b[K     |███████████████████████         | 1.4MB 4.9MB/s eta 0:00:01\r\u001b[K     |███████████████████████▏        | 1.4MB 4.9MB/s eta 0:00:01\r\u001b[K     |███████████████████████▍        | 1.4MB 4.9MB/s eta 0:00:01\r\u001b[K     |███████████████████████▌        | 1.4MB 4.9MB/s eta 0:00:01\r\u001b[K     |███████████████████████▊        | 1.4MB 4.9MB/s eta 0:00:01\r\u001b[K     |███████████████████████▉        | 1.4MB 4.9MB/s eta 0:00:01\r\u001b[K     |████████████████████████        | 1.4MB 4.9MB/s eta 0:00:01\r\u001b[K     |████████████████████████▏       | 1.4MB 4.9MB/s eta 0:00:01\r\u001b[K     |████████████████████████▍       | 1.5MB 4.9MB/s eta 0:00:01\r\u001b[K     |████████████████████████▌       | 1.5MB 4.9MB/s eta 0:00:01\r\u001b[K     |████████████████████████▊       | 1.5MB 4.9MB/s eta 0:00:01\r\u001b[K     |█████████████████████████       | 1.5MB 4.9MB/s eta 0:00:01\r\u001b[K     |█████████████████████████       | 1.5MB 4.9MB/s eta 0:00:01\r\u001b[K     |█████████████████████████▎      | 1.5MB 4.9MB/s eta 0:00:01\r\u001b[K     |█████████████████████████▍      | 1.5MB 4.9MB/s eta 0:00:01\r\u001b[K     |█████████████████████████▋      | 1.5MB 4.9MB/s eta 0:00:01\r\u001b[K     |█████████████████████████▊      | 1.5MB 4.9MB/s eta 0:00:01\r\u001b[K     |██████████████████████████      | 1.5MB 4.9MB/s eta 0:00:01\r\u001b[K     |██████████████████████████      | 1.6MB 4.9MB/s eta 0:00:01\r\u001b[K     |██████████████████████████▎     | 1.6MB 4.9MB/s eta 0:00:01\r\u001b[K     |██████████████████████████▍     | 1.6MB 4.9MB/s eta 0:00:01\r\u001b[K     |██████████████████████████▋     | 1.6MB 4.9MB/s eta 0:00:01\r\u001b[K     |██████████████████████████▉     | 1.6MB 4.9MB/s eta 0:00:01\r\u001b[K     |███████████████████████████     | 1.6MB 4.9MB/s eta 0:00:01\r\u001b[K     |███████████████████████████▏    | 1.6MB 4.9MB/s eta 0:00:01\r\u001b[K     |███████████████████████████▎    | 1.6MB 4.9MB/s eta 0:00:01\r\u001b[K     |███████████████████████████▌    | 1.6MB 4.9MB/s eta 0:00:01\r\u001b[K     |███████████████████████████▋    | 1.6MB 4.9MB/s eta 0:00:01\r\u001b[K     |███████████████████████████▉    | 1.7MB 4.9MB/s eta 0:00:01\r\u001b[K     |████████████████████████████    | 1.7MB 4.9MB/s eta 0:00:01\r\u001b[K     |████████████████████████████▏   | 1.7MB 4.9MB/s eta 0:00:01\r\u001b[K     |████████████████████████████▎   | 1.7MB 4.9MB/s eta 0:00:01\r\u001b[K     |████████████████████████████▌   | 1.7MB 4.9MB/s eta 0:00:01\r\u001b[K     |████████████████████████████▊   | 1.7MB 4.9MB/s eta 0:00:01\r\u001b[K     |████████████████████████████▉   | 1.7MB 4.9MB/s eta 0:00:01\r\u001b[K     |█████████████████████████████   | 1.7MB 4.9MB/s eta 0:00:01\r\u001b[K     |█████████████████████████████▏  | 1.7MB 4.9MB/s eta 0:00:01\r\u001b[K     |█████████████████████████████▍  | 1.8MB 4.9MB/s eta 0:00:01\r\u001b[K     |█████████████████████████████▌  | 1.8MB 4.9MB/s eta 0:00:01\r\u001b[K     |█████████████████████████████▊  | 1.8MB 4.9MB/s eta 0:00:01\r\u001b[K     |█████████████████████████████▉  | 1.8MB 4.9MB/s eta 0:00:01\r\u001b[K     |██████████████████████████████  | 1.8MB 4.9MB/s eta 0:00:01\r\u001b[K     |██████████████████████████████▏ | 1.8MB 4.9MB/s eta 0:00:01\r\u001b[K     |██████████████████████████████▍ | 1.8MB 4.9MB/s eta 0:00:01\r\u001b[K     |██████████████████████████████▋ | 1.8MB 4.9MB/s eta 0:00:01\r\u001b[K     |██████████████████████████████▊ | 1.8MB 4.9MB/s eta 0:00:01\r\u001b[K     |███████████████████████████████ | 1.8MB 4.9MB/s eta 0:00:01\r\u001b[K     |███████████████████████████████ | 1.9MB 4.9MB/s eta 0:00:01\r\u001b[K     |███████████████████████████████▎| 1.9MB 89kB/s eta 0:00:01\r\u001b[K     |███████████████████████████████▍| 1.9MB 89kB/s eta 0:00:01\r\u001b[K     |███████████████████████████████▋| 1.9MB 89kB/s eta 0:00:01\r\u001b[K     |███████████████████████████████▊| 1.9MB 89kB/s eta 0:00:01\r\u001b[K     |████████████████████████████████| 1.9MB 89kB/s eta 0:00:01\r\u001b[K     |████████████████████████████████| 1.9MB 89kB/s \n",
            "\u001b[?25hInstalling collected packages: pyspellchecker\n",
            "Successfully installed pyspellchecker-0.5.4\n"
          ],
          "name": "stdout"
        }
      ]
    },
    {
      "cell_type": "code",
      "metadata": {
        "id": "GwiIxn572hiO",
        "colab_type": "code",
        "colab": {}
      },
      "source": [
        "from spellchecker import SpellChecker\n",
        "\n",
        "spell = SpellChecker()\n",
        "def correct_spellings(text):\n",
        "    corrected_text = []\n",
        "    misspelled_words = spell.unknown(text.split())\n",
        "    for word in text.split():\n",
        "        if word in misspelled_words:\n",
        "            corrected_text.append(spell.correction(word))\n",
        "        else:\n",
        "            corrected_text.append(word)\n",
        "    return \" \".join(corrected_text)\n",
        "\n",
        "train_df['text']=train_df['text'].apply(lambda x: correct_spellings(x))\n",
        "test_df['text']=test_df['text'].apply(lambda x: correct_spellings(x))\n",
        "        "
      ],
      "execution_count": 0,
      "outputs": []
    },
    {
      "cell_type": "code",
      "metadata": {
        "id": "anhmAEpLuUjs",
        "colab_type": "code",
        "colab": {}
      },
      "source": [
        "#adding new column with the count of words in a single row\n",
        "train_df['word_count'] = train_df['text'].str.split().map(len)\n",
        "\n",
        "#only using the rows with word count more than 0\n",
        "train_df = train_df[train_df['word_count'] > 0]\n",
        "\n",
        "#moving forward with 2 column from dataset , i.e., text and target\n",
        "train_df = train_df[[\"text\",\"target\"]]\n",
        "test_df = test_df[[\"text\"]]"
      ],
      "execution_count": 0,
      "outputs": []
    },
    {
      "cell_type": "markdown",
      "metadata": {
        "id": "c-0tfwWn-5qP",
        "colab_type": "text"
      },
      "source": [
        "## **Data Modeling**"
      ]
    },
    {
      "cell_type": "markdown",
      "metadata": {
        "id": "G23aEJSA_9oG",
        "colab_type": "text"
      },
      "source": [
        "### **RNN - From Scratch**\n",
        "\n",
        "word embedding based on training data"
      ]
    },
    {
      "cell_type": "markdown",
      "metadata": {
        "id": "_TjDnib01ZA6",
        "colab_type": "text"
      },
      "source": [
        "**Neural Network - Deep Learning**\n",
        "\n",
        "Why not a standard network fit for this data challenge?\n",
        "\n",
        "\n",
        "*   Inputs, outputs can be of different lengths in different examples\n",
        "*   Doesn't share features learned across different position of text\n",
        "\n",
        "To overcome this we use Recurrent Neural Network, \n",
        "\n",
        "as it scans words from left to right, one drawback is that it only knows features from its left\n",
        "\n"
      ]
    },
    {
      "cell_type": "markdown",
      "metadata": {
        "id": "5bVoU3twyBWc",
        "colab_type": "text"
      },
      "source": [
        "**Word Level - Vanilla RNN (RNN from Scratch) (Recurrent Neural Network)**\n",
        "\n",
        "The idea is to create a word level RNN in python/numpy that will provide a baseline model for more complex Neural Networks architecture, and also to gain low level understanding of the working of RNN (Sequence model)\n",
        "\n",
        "Credits: \n",
        "\n",
        "Andrej Karpathy https://gist.github.com/karpathy/d4dee566867f8291f086: Minimal character-level language model with a Vanilla Recurrent Neural Network, in Python/numpy. And the blog http://karpathy.github.io/2015/05/21/rnn-effectiveness/.\n",
        "\n",
        "The deep learning book by Michael Nielsen particularly http://neuralnetworksanddeeplearning.com/chap6.html\n",
        "\n",
        "Andrew ng Deep learning course (Course 5) on Coursera"
      ]
    },
    {
      "cell_type": "markdown",
      "metadata": {
        "id": "vfARaugsy1x7",
        "colab_type": "text"
      },
      "source": [
        "**Steps Taken:**\n",
        "\n",
        "\n",
        "\n",
        "1.   Creating a vocabulary list of unique words from data to be later used in encoding each words into a one-hot vector using 1-k encoding. (k = len(vocab_list)\n",
        "2.   Initialize the RNN model parameters\n",
        "3.   Feedforward the training data(tweets) vectorized form into the network and calculate loss for that training example\n",
        "4.   Backpropagate through time and obtain the gradient parameters.\n",
        "5.   Gradient clipping to avoid exploding gradient problem\n",
        "6.   Select/iterating over different learning rate and calculating new model paramters\n",
        "7.   Repeating steps from 3-6 for some number of iterations that covers all training examples atleast 3 times\n",
        "\n"
      ]
    },
    {
      "cell_type": "code",
      "metadata": {
        "id": "1ZiAXic3yXYT",
        "colab_type": "code",
        "outputId": "c15b6930-ca2d-4b13-e117-03cd4b4f1d05",
        "colab": {
          "base_uri": "https://localhost:8080/",
          "height": 54
        }
      },
      "source": [
        "#creating vocabulary list which will have uniqe word list from training data\n",
        "vocab_list = list(train_df['text'].str.split(' ',expand=True).stack().unique())\n",
        "total_words = list(train_df['text'].str.split(' ',expand=True).stack())\n",
        "\n",
        "vocab_list_size = len(vocab_list)\n",
        "total_words_len = len(total_words)\n",
        "\n",
        "print(\"Vocab size : \",vocab_list_size)\n",
        "print(\"Total words in data : \", total_words_len)\n",
        "\n",
        "#creating a dictionary that has an index for each of the unique words\n",
        "words_idx = { word:i for i, word in enumerate(vocab_list) }\n"
      ],
      "execution_count": 63,
      "outputs": [
        {
          "output_type": "stream",
          "text": [
            "Vocab size :  16834\n",
            "Total words in data :  113521\n"
          ],
          "name": "stdout"
        }
      ]
    },
    {
      "cell_type": "code",
      "metadata": {
        "id": "kQ7zQJhT26wO",
        "colab_type": "code",
        "outputId": "89b233e5-09dd-4807-96f8-4d91ff0ab061",
        "colab": {
          "base_uri": "https://localhost:8080/",
          "height": 72
        }
      },
      "source": [
        "#converting a single training sample to retreive from dictionary\n",
        "temp = train_df['text'].str.split().values[1]\n",
        "inputs = [words_idx[i] for i in temp]\n",
        "output = train_df['target'].values[1]\n",
        "print(\"original text:\",temp)\n",
        "print(\"Wordlist index:\",inputs)\n",
        "print(\"Target label:\",output)"
      ],
      "execution_count": 64,
      "outputs": [
        {
          "output_type": "stream",
          "text": [
            "original text: ['forest', 'fire', 'near', 'la', 'ronge', 'sask', 'canada']\n",
            "Wordlist index: [13, 14, 15, 16, 17, 18, 19]\n",
            "Target label: 1\n"
          ],
          "name": "stdout"
        }
      ]
    },
    {
      "cell_type": "code",
      "metadata": {
        "id": "tYh8fLTje50u",
        "colab_type": "code",
        "outputId": "4c91ec7d-eadd-4ba5-e8c5-d950ced6e1a4",
        "colab": {
          "base_uri": "https://localhost:8080/",
          "height": 54
        }
      },
      "source": [
        "#hyperparameters\n",
        "learning_rate = 0.005\n",
        "n_a = hidden_size = 100\n",
        "n_x = vocab_list_size \n",
        "n_y = 2\n",
        "\n",
        "#model_parameters\n",
        "Waa = np.random.randn(hidden_size,hidden_size)*0.1\n",
        "Wax = np.random.randn(hidden_size,vocab_list_size)*0.1\n",
        "Wya = np.random.randn(2,hidden_size)*0.1\n",
        "ba = np.zeros((n_a,1))\n",
        "by = np.zeros((n_y,1))\n",
        "\n",
        "#spliting into training and validation\n",
        "temp_df = train_df\n",
        "train = train_df.iloc[:7000]\n",
        "validation = temp_df.iloc[7000:]\n",
        "\n",
        "print('The training set examples: %d' %(len(train)))\n",
        "print('The validation set examples: %d' %(len(validation)))\n"
      ],
      "execution_count": 65,
      "outputs": [
        {
          "output_type": "stream",
          "text": [
            "The training set examples: 7000\n",
            "The validation set examples: 612\n"
          ],
          "name": "stdout"
        }
      ]
    },
    {
      "cell_type": "code",
      "metadata": {
        "id": "7iu9NV_W6W7E",
        "colab_type": "code",
        "colab": {}
      },
      "source": [
        "#activation function\n",
        "def softmax(x):\n",
        "    e_x = np.exp(x - np.max(x))\n",
        "    return e_x / e_x.sum(axis=0)\n"
      ],
      "execution_count": 0,
      "outputs": []
    },
    {
      "cell_type": "code",
      "metadata": {
        "id": "aynFog1thdO5",
        "colab_type": "code",
        "colab": {}
      },
      "source": [
        "#feed-forward -- takes in the index of words in a example tweet and return the prediction\n",
        "def rnn_feedforward(input_data):\n",
        "  #initializing\n",
        "  xt,at = [], np.zeros((n_a,1))\n",
        "  for t in range(len(input_data)):\n",
        "    xt.append(np.zeros((n_x,1)))#encode in 1-k one hot-representation\n",
        "    xt[t][input_data[t]] = 1\n",
        "    at = np.tanh(np.dot(Waa,at)+np.dot(Wax,xt[t])+ba) #hidden state activation function\n",
        "    \n",
        "  yt = np.dot(Wya,at) + by \n",
        "  pred = softmax(yt) #softmax function for getting probability for binary classification\n",
        "  prediction = np.argmax(pred)\n",
        "  return prediction\n",
        "  "
      ],
      "execution_count": 0,
      "outputs": []
    },
    {
      "cell_type": "code",
      "metadata": {
        "id": "9e14EmCeuNrp",
        "colab_type": "code",
        "outputId": "246297a4-f00c-4f5b-bfe8-e76ff8de8ed0",
        "colab": {
          "base_uri": "https://localhost:8080/",
          "height": 108
        }
      },
      "source": [
        "\n",
        "num_iterations = 5\n",
        "\n",
        "#memory variables for Adagrad\n",
        "mWaa, mWya, mWax = np.zeros_like(Waa), np.zeros_like(Wya), np.zeros_like(Wax)\n",
        "mby, mba = np.zeros_like(by), np.zeros_like(ba)\n",
        "\n",
        "for i in range(num_iterations):\n",
        "  \n",
        "  idx = i%len(train)\n",
        "  example = train['text'].str.split().values[idx]\n",
        "  inputs = [words_idx[i] for i in example]\n",
        "  print(inputs)\n",
        "  targets = int(train['target'].values[idx])\n",
        "  \n",
        "  prediction = rnn_feedforward(inputs)"
      ],
      "execution_count": 68,
      "outputs": [
        {
          "output_type": "stream",
          "text": [
            "[0, 1, 2, 3, 4, 5, 6, 7, 8, 9, 10, 11, 12]\n",
            "[13, 14, 15, 16, 17, 18, 19]\n",
            "[12, 20, 21, 22, 23, 24, 25, 2, 26, 27, 28, 29, 30, 31, 32, 33, 23, 24, 25, 34, 2, 35]\n",
            "[37, 38, 39, 32, 34, 24, 40]\n",
            "[41, 42, 43, 6, 44, 45, 46, 47, 48, 49, 45, 39, 50, 51, 52, 53]\n"
          ],
          "name": "stdout"
        }
      ]
    },
    {
      "cell_type": "markdown",
      "metadata": {
        "id": "aJN5SyxA7NMU",
        "colab_type": "text"
      },
      "source": [
        "Function that takes input as one row with text and target value, feedforward the network, calculates the cost which is loss of predicted vs actual Y/target.\n",
        "\n",
        "Then performs backpropagation and updates the gradient of all the parameters and returns it."
      ]
    },
    {
      "cell_type": "code",
      "metadata": {
        "id": "i5WvmR4uJ2NS",
        "colab_type": "code",
        "colab": {}
      },
      "source": [
        "#feedforward and backpropagation\n",
        "def rnn_model(input_data,targets):\n",
        "  \n",
        "  xt,at = [],[]\n",
        "  at.append(np.zeros((n_a,1)))\n",
        "  loss = 0\n",
        "  \n",
        "  #feed forward\n",
        "  for t in range(len(input_data)):\n",
        "    xt.append(np.zeros((n_x,1)))\n",
        "    xt[t][input_data[t]] = 1\n",
        "    \n",
        "    at.append(np.tanh(np.dot(Waa,at[t])+np.dot(Wax,xt[t])+ba))\n",
        "    \n",
        "  yt = np.dot(Wya,at[-1]) + by\n",
        "  pred = np.exp(yt) / np.sum(np.exp(yt),axis=0)\n",
        "  \n",
        "  prediction = np.argmax(pred)\n",
        "  \n",
        "  #loss-cost\n",
        "  \n",
        "  y = np.zeros((2,1))\n",
        "  y[targets] = 1\n",
        "  loss = -np.log(np.sum(pred*y,axis = 0)) #cross-entropy loss\n",
        "  \n",
        "  #backpropagation through time\n",
        "  dWaa, dWya, dWax = np.zeros_like(Waa), np.zeros_like(Wya), np.zeros_like(Wax)\n",
        "  dby, dba = np.zeros_like(by), np.zeros_like(ba)\n",
        "  \n",
        "  dy = pred - y\n",
        "  dWya = np.dot(dy,at[-1].transpose())\n",
        "  dby = np.copy(dy)\n",
        "  \n",
        "  dat = np.dot(Wya.transpose(),dy)\n",
        "  dtanh = (1-at[-1]*at[-1]) * dat\n",
        "  \n",
        "  dWax = np.dot(dtanh, xt[-1].transpose())\n",
        "  dWaa = np.dot(dtanh, at[-2].transpose())\n",
        "  dba = np.copy(dtanh)\n",
        "  da_next = np.dot(Waa.transpose(),dtanh)\n",
        "  for t in reversed(range(len(input_data)-2)):\n",
        "    \n",
        "    dat = np.copy(da_next)\n",
        "    dtanh = (1- at[t+1] * at[t+1]) * dat\n",
        "    \n",
        "    dWax += np.dot(dtanh, xt[t].transpose())\n",
        "    dWaa += np.dot(dtanh, at[t].transpose())\n",
        "    dba += np.copy(dtanh)\n",
        "    da_next = np.dot(Waa.transpose(),dtanh)\n",
        "    \n",
        "  for dparams in [dWaa,dWax,dba,dby,dWya]:\n",
        "    np.clip(dparams,-5,5,out=dparams)\n",
        "    \n",
        "  return loss, dWaa, dWax, dba, dby, dWya\n",
        "\n",
        " "
      ],
      "execution_count": 0,
      "outputs": []
    },
    {
      "cell_type": "markdown",
      "metadata": {
        "id": "v3N0BoPp702x",
        "colab_type": "text"
      },
      "source": [
        "Feeding training data into the network to retrieve the gradient and using Adagrad optimizer to perform the gradient descent. \n",
        "\n",
        "And we repeat this process for all the training examples and for n epochs\n",
        "\n",
        "**Adagrad Optimizer** : Adaptively scales the learning rate with respect to the accumulated square gradient at each iteration in each dimention"
      ]
    },
    {
      "cell_type": "code",
      "metadata": {
        "id": "5JvLXdlxeHfM",
        "colab_type": "code",
        "outputId": "e6a2eb81-518e-4af3-e75e-ef7c47b01688",
        "colab": {
          "base_uri": "https://localhost:8080/",
          "height": 417
        }
      },
      "source": [
        "\n",
        "#select any number of iteration for start\n",
        "num_iterations = 15000\n",
        "test_scores = []\n",
        "#memory variables for Adagrad optimizer - backprop\n",
        "mWaa, mWya, mWax = np.zeros_like(Waa), np.zeros_like(Wya), np.zeros_like(Wax)\n",
        "mby, mba = np.zeros_like(by), np.zeros_like(ba)\n",
        "\n",
        "for i in range(num_iterations):\n",
        "  idx = i%len(train)\n",
        "  example = train['text'].str.split().values[idx]\n",
        "  inputs = [words_idx[i] for i in example]\n",
        "  targets = int(train['target'].values[idx])\n",
        "  \n",
        "  #prediction = rnn_feedforward(inputs,targets)\n",
        "  loss,dWaa, dWax, dba, dby, dWya = rnn_model(inputs,targets)\n",
        "  \n",
        "  #Adagrad optimizer\n",
        "  #performing paramete update with Adagrad\n",
        "  for param, dparam, mem in zip([Waa, Wax, Wya, ba, by],\n",
        "                                [dWaa, dWax, dWya, dba, dby],\n",
        "                                [mWaa, mWax, mWya, mba, mby]):\n",
        "    mem += dparam * dparam\n",
        "    param += -learning_rate * dparam / np.sqrt(mem+1e-8) #adagrad update\n",
        "  \n",
        "  # validation accuracy\n",
        "  # using for loop instead of vectorization\n",
        "  if i % 700 == 0:\n",
        "    predictions = []\n",
        "    count=0\n",
        "    actual_targets= validation['target'].tolist()\n",
        "    for j in range(len(validation)):\n",
        "        example = validation['text'].str.split().values[j]\n",
        "        inputs = [words_idx[l] for l in example]\n",
        "        predictions.append(rnn_feedforward(inputs))\n",
        "          \n",
        "    for y, y_hat in zip(actual_targets, predictions):\n",
        "        if y==y_hat:\n",
        "            count+=1\n",
        "    print('The validation_accuracy after iterations:%d is %d'%(i,(count/len(validation))*100))\n",
        "    test_scores.append((count/len(validation))*100)"
      ],
      "execution_count": 73,
      "outputs": [
        {
          "output_type": "stream",
          "text": [
            "The validation_accuracy after iterations:0 is 50\n",
            "The validation_accuracy after iterations:700 is 46\n",
            "The validation_accuracy after iterations:1400 is 53\n",
            "The validation_accuracy after iterations:2100 is 47\n",
            "The validation_accuracy after iterations:2800 is 54\n",
            "The validation_accuracy after iterations:3500 is 47\n",
            "The validation_accuracy after iterations:4200 is 47\n",
            "The validation_accuracy after iterations:4900 is 55\n",
            "The validation_accuracy after iterations:5600 is 56\n",
            "The validation_accuracy after iterations:6300 is 56\n",
            "The validation_accuracy after iterations:7000 is 57\n",
            "The validation_accuracy after iterations:7700 is 56\n",
            "The validation_accuracy after iterations:8400 is 68\n",
            "The validation_accuracy after iterations:9100 is 61\n",
            "The validation_accuracy after iterations:9800 is 68\n",
            "The validation_accuracy after iterations:10500 is 68\n",
            "The validation_accuracy after iterations:11200 is 70\n",
            "The validation_accuracy after iterations:11900 is 65\n",
            "The validation_accuracy after iterations:12600 is 72\n",
            "The validation_accuracy after iterations:13300 is 70\n",
            "The validation_accuracy after iterations:14000 is 72\n",
            "The validation_accuracy after iterations:14700 is 72\n"
          ],
          "name": "stdout"
        }
      ]
    },
    {
      "cell_type": "code",
      "metadata": {
        "id": "ZOr0u9sTFTgZ",
        "colab_type": "code",
        "colab": {
          "base_uri": "https://localhost:8080/",
          "height": 295
        },
        "outputId": "3ae99162-49d6-444c-de1d-e3dba8743436"
      },
      "source": [
        "plt.plot(test_scores)\n",
        "plt.xlabel(\"epochs\")\n",
        "plt.ylabel(\"score in %\")\n",
        "plt.title(\"Validation Score\")\n",
        "plt.show()"
      ],
      "execution_count": 75,
      "outputs": [
        {
          "output_type": "display_data",
          "data": {
            "image/png": "[encoded data removed]",
            "text/plain": [
              "<Figure size 432x288 with 1 Axes>"
            ]
          },
          "metadata": {
            "tags": []
          }
        }
      ]
    },
    {
      "cell_type": "markdown",
      "metadata": {
        "id": "LIfcCuNk9DWf",
        "colab_type": "text"
      },
      "source": [
        "**Results Summary:**\n",
        "The validation accuracy arrives closely to 72% (better than randomly guessing). Tried 2 sets of learning rate values with 0.001 accuracy was 70% whereas with learning rate 0.005 accuracy boosted to 72%. \n",
        "\n",
        "I have not experimented with other hyperparameters or tried any high level/complex data cleaning. Still, it seems that my RNN is learning association between words that helps to classify the tweets.\n",
        "\n",
        "Future scope:\n",
        "we can try different network architectures \n",
        "training model for longer iterations"
      ]
    },
    {
      "cell_type": "code",
      "metadata": {
        "id": "qfhu-vsj1W2-",
        "colab_type": "code",
        "colab": {}
      },
      "source": [
        "#saving matrix values for parameters which includes weights and biases for later use to predict test data\n",
        "# saving the model\n",
        "import pickle\n",
        "filename = 'rnn_model_v1.pkl'\n",
        "with open(filename, \"wb\") as f:\n",
        "    pickle.dump((Waa, Wax, ba, by, Wya ), f)"
      ],
      "execution_count": 0,
      "outputs": []
    },
    {
      "cell_type": "code",
      "metadata": {
        "id": "WjG3m6EBJxcB",
        "colab_type": "code",
        "colab": {}
      },
      "source": [
        "#loading the saved model\n",
        "import pickle\n",
        "filename = 'rnn_model_v1.pkl'\n",
        "with open(filename, \"rb\") as f:\n",
        "    Waa, Wax, ba, by, Wya  = pickle.load(f)"
      ],
      "execution_count": 0,
      "outputs": []
    },
    {
      "cell_type": "code",
      "metadata": {
        "id": "D8QnItPSaLq4",
        "colab_type": "code",
        "outputId": "fa640bdd-24af-4260-cd8e-84eea6a06b8b",
        "colab": {
          "base_uri": "https://localhost:8080/",
          "height": 72
        }
      },
      "source": [
        "#checking if parameters loaded in correctly\n",
        "#using loaded model\n",
        "count = 0\n",
        "for j in range(len(validation_df)):\n",
        "  \n",
        "  example = validation_df['text'].str.split().values[j]\n",
        "  inputs = [words_idx[l] for l in example]\n",
        "  predictions.append(rnn_feedforward(inputs))\n",
        "          \n",
        "for y, y_hat in zip(actual_targets, predictions):\n",
        "  if y==y_hat:\n",
        "    count+=1\n",
        "print(\"Correctly Predicted:\",count)\n",
        "print(\"Total Data in validation set:\",len(validation_df))\n",
        "print('The validation_accuracy is',(count/len(validation_df))*100)"
      ],
      "execution_count": 78,
      "outputs": [
        {
          "output_type": "stream",
          "text": [
            "Correctly Predicted: 442\n",
            "Total Data in validation set: 612\n",
            "The validation_accuracy is 72.22222222222221\n"
          ],
          "name": "stdout"
        }
      ]
    },
    {
      "cell_type": "markdown",
      "metadata": {
        "id": "yNwmoWdrASYr",
        "colab_type": "text"
      },
      "source": [
        "### **RNN - Tensorflow/Keras** (Part - 1)\n",
        "\n",
        "Word Embedding based on training data"
      ]
    },
    {
      "cell_type": "code",
      "metadata": {
        "id": "m6jmp7BOu0Zl",
        "colab_type": "code",
        "colab": {}
      },
      "source": [
        "train_complete = [ i for i in train_df.text]\n",
        "\n",
        "training_sentences = [ i for i in train_df.text[:6000]]\n",
        "test_sentences = [i for i in train_df.text[6000:]]\n",
        "                  \n",
        "training_labels = [ i for i in train_df.target[:6000]]\n",
        "test_labels = [i for i in train_df.target[6000:]]\n"
      ],
      "execution_count": 0,
      "outputs": []
    },
    {
      "cell_type": "code",
      "metadata": {
        "id": "duXU2WWju4qs",
        "colab_type": "code",
        "colab": {}
      },
      "source": [
        "tokenizer = Tokenizer(num_words=10000,oov_token=\"<OOV>\")\n",
        "tokenizer.fit_on_texts(train_complete)\n",
        "word_index = tokenizer.word_index"
      ],
      "execution_count": 0,
      "outputs": []
    },
    {
      "cell_type": "code",
      "metadata": {
        "id": "Jh1vQJOnu6Wj",
        "colab_type": "code",
        "colab": {}
      },
      "source": [
        "training_sequences = tokenizer.texts_to_sequences(training_sentences)\n",
        "training_padded = pad_sequences(training_sequences,padding='post')\n",
        "\n",
        "test_sequences = tokenizer.texts_to_sequences(test_sentences)\n",
        "test_padded = pad_sequences(test_sequences,padding='post')\n"
      ],
      "execution_count": 0,
      "outputs": []
    },
    {
      "cell_type": "code",
      "metadata": {
        "id": "d4mKveA-u8Ej",
        "colab_type": "code",
        "colab": {}
      },
      "source": [
        "training_padded = np.array(training_padded)\n",
        "training_labels = np.array(training_labels)\n",
        "\n",
        "test_padded = np.array(test_padded)\n",
        "test_labels = np.array(test_labels)"
      ],
      "execution_count": 0,
      "outputs": []
    },
    {
      "cell_type": "code",
      "metadata": {
        "id": "Nd21kWvxu-Il",
        "colab_type": "code",
        "colab": {}
      },
      "source": [
        "model_embed = tf.keras.Sequential([\n",
        "    tf.keras.layers.Embedding(len(word_index), 32),\n",
        "    tf.keras.layers.GlobalAveragePooling1D(),\n",
        "    tf.keras.layers.Dense(32, activation='relu'),\n",
        "    tf.keras.layers.Dense(16,activation='relu'),\n",
        "    tf.keras.layers.Dense(1, activation='sigmoid')\n",
        "])\n",
        "model_embed.compile(loss='binary_crossentropy',optimizer='rmsprop',metrics=['accuracy'])"
      ],
      "execution_count": 0,
      "outputs": []
    },
    {
      "cell_type": "code",
      "metadata": {
        "id": "JzjfPCQdvAoD",
        "colab_type": "code",
        "outputId": "f985c403-69a7-4e02-fd53-f2f7ebed6aa6",
        "colab": {
          "base_uri": "https://localhost:8080/",
          "height": 345
        }
      },
      "source": [
        "model_embed.summary()"
      ],
      "execution_count": 24,
      "outputs": [
        {
          "output_type": "stream",
          "text": [
            "Model: \"sequential\"\n",
            "_________________________________________________________________\n",
            "Layer (type)                 Output Shape              Param #   \n",
            "=================================================================\n",
            "embedding (Embedding)        (None, None, 32)          538688    \n",
            "_________________________________________________________________\n",
            "global_average_pooling1d (Gl (None, 32)                0         \n",
            "_________________________________________________________________\n",
            "dense (Dense)                (None, 32)                1056      \n",
            "_________________________________________________________________\n",
            "dense_1 (Dense)              (None, 16)                528       \n",
            "_________________________________________________________________\n",
            "dense_2 (Dense)              (None, 1)                 17        \n",
            "=================================================================\n",
            "Total params: 540,289\n",
            "Trainable params: 540,289\n",
            "Non-trainable params: 0\n",
            "_________________________________________________________________\n"
          ],
          "name": "stdout"
        }
      ]
    },
    {
      "cell_type": "code",
      "metadata": {
        "id": "I2EgVo7GvCMz",
        "colab_type": "code",
        "outputId": "14f96478-5d7b-4865-ec2d-7a5d5efa9af5",
        "colab": {
          "base_uri": "https://localhost:8080/",
          "height": 581
        }
      },
      "source": [
        "num_epochs = 15\n",
        "history = model_embed.fit(training_padded, training_labels, epochs=num_epochs, validation_data=(test_padded, test_labels), verbose=2)"
      ],
      "execution_count": 26,
      "outputs": [
        {
          "output_type": "stream",
          "text": [
            "Train on 6000 samples, validate on 1612 samples\n",
            "Epoch 1/15\n",
            "6000/6000 - 1s - loss: 0.6713 - accuracy: 0.5877 - val_loss: 0.6518 - val_accuracy: 0.5862\n",
            "Epoch 2/15\n",
            "6000/6000 - 1s - loss: 0.5330 - accuracy: 0.7713 - val_loss: 0.5086 - val_accuracy: 0.7556\n",
            "Epoch 3/15\n",
            "6000/6000 - 1s - loss: 0.4083 - accuracy: 0.8312 - val_loss: 0.4739 - val_accuracy: 0.7785\n",
            "Epoch 4/15\n",
            "6000/6000 - 1s - loss: 0.3635 - accuracy: 0.8498 - val_loss: 0.4686 - val_accuracy: 0.7860\n",
            "Epoch 5/15\n",
            "6000/6000 - 1s - loss: 0.3330 - accuracy: 0.8612 - val_loss: 0.4723 - val_accuracy: 0.7736\n",
            "Epoch 6/15\n",
            "6000/6000 - 1s - loss: 0.3120 - accuracy: 0.8737 - val_loss: 0.4950 - val_accuracy: 0.7562\n",
            "Epoch 7/15\n",
            "6000/6000 - 1s - loss: 0.2959 - accuracy: 0.8847 - val_loss: 0.4818 - val_accuracy: 0.7723\n",
            "Epoch 8/15\n",
            "6000/6000 - 1s - loss: 0.2839 - accuracy: 0.8862 - val_loss: 0.4781 - val_accuracy: 0.7810\n",
            "Epoch 9/15\n",
            "6000/6000 - 1s - loss: 0.2737 - accuracy: 0.8930 - val_loss: 0.5033 - val_accuracy: 0.7624\n",
            "Epoch 10/15\n",
            "6000/6000 - 1s - loss: 0.2654 - accuracy: 0.8965 - val_loss: 0.5042 - val_accuracy: 0.7705\n",
            "Epoch 11/15\n",
            "6000/6000 - 1s - loss: 0.2570 - accuracy: 0.9038 - val_loss: 0.5008 - val_accuracy: 0.7723\n",
            "Epoch 12/15\n",
            "6000/6000 - 1s - loss: 0.2493 - accuracy: 0.9052 - val_loss: 0.5177 - val_accuracy: 0.7667\n",
            "Epoch 13/15\n",
            "6000/6000 - 1s - loss: 0.2442 - accuracy: 0.9077 - val_loss: 0.5364 - val_accuracy: 0.7550\n",
            "Epoch 14/15\n",
            "6000/6000 - 1s - loss: 0.2372 - accuracy: 0.9132 - val_loss: 0.5252 - val_accuracy: 0.7699\n",
            "Epoch 15/15\n",
            "6000/6000 - 1s - loss: 0.2328 - accuracy: 0.9158 - val_loss: 0.5384 - val_accuracy: 0.7599\n"
          ],
          "name": "stdout"
        }
      ]
    },
    {
      "cell_type": "code",
      "metadata": {
        "id": "qKPiDpLkvEqb",
        "colab_type": "code",
        "outputId": "f3b1de79-a64a-48a7-8d01-f4fc2a200f99",
        "colab": {
          "base_uri": "https://localhost:8080/",
          "height": 541
        }
      },
      "source": [
        "def plot_graphs(history, string):\n",
        "  plt.plot(history.history[string])\n",
        "  plt.plot(history.history['val_'+string])\n",
        "  plt.xlabel(\"Epochs\")\n",
        "  plt.ylabel(string)\n",
        "  plt.legend([string, 'val_'+string])\n",
        "  plt.show()\n",
        "  \n",
        "plot_graphs(history, \"accuracy\")\n",
        "plot_graphs(history, \"loss\")"
      ],
      "execution_count": 27,
      "outputs": [
        {
          "output_type": "display_data",
          "data": {
            "image/png": "[encoded data removed]",
            "text/plain": [
              "<Figure size 432x288 with 1 Axes>"
            ]
          },
          "metadata": {
            "tags": []
          }
        },
        {
          "output_type": "display_data",
          "data": {
            "image/png": "[encoded data removed]",
            "text/plain": [
              "<Figure size 432x288 with 1 Axes>"
            ]
          },
          "metadata": {
            "tags": []
          }
        }
      ]
    },
    {
      "cell_type": "code",
      "metadata": {
        "id": "hUv1OsUHvI27",
        "colab_type": "code",
        "outputId": "6d2f3957-26ab-4863-a5ff-b117bd131f29",
        "colab": {
          "base_uri": "https://localhost:8080/",
          "height": 72
        }
      },
      "source": [
        "reverse_word_index = dict([(value, key) for (key, value) in word_index.items()])\n",
        "\n",
        "def decode_sentence(text):\n",
        "    return ' '.join([reverse_word_index.get(i, '?') for i in text])\n",
        "\n",
        "print(decode_sentence(training_padded[0]))\n",
        "print(training_sentences[2])\n",
        "print(train_df.target[2])"
      ],
      "execution_count": 28,
      "outputs": [
        {
          "output_type": "stream",
          "text": [
            "our deeds are the reason of this earthquake may allah forgive us all ? ? ? ? ? ? ? ? ? ? ? ? ? ? ? ? ? ?\n",
            "all residents asked to shelter in place are being notified by officers no other evacuation or shelter in place orders are expected\n",
            "1\n"
          ],
          "name": "stdout"
        }
      ]
    },
    {
      "cell_type": "code",
      "metadata": {
        "id": "24CeiYrhvO30",
        "colab_type": "code",
        "outputId": "9b4ffc08-7356-42b0-c188-6047675e151d",
        "colab": {
          "base_uri": "https://localhost:8080/",
          "height": 72
        }
      },
      "source": [
        "sentence = [\"granny starting to fear spiders in the garden might be real\", \"coronavirus is spreading in my neighborhood\",\"Coronavirus is love\"]\n",
        "sequences = tokenizer.texts_to_sequences(sentence)\n",
        "padded = pad_sequences(sequences, padding='post')\n",
        "print(model_embed.predict(padded))"
      ],
      "execution_count": 30,
      "outputs": [
        {
          "output_type": "stream",
          "text": [
            "[[0.01664534]\n",
            " [0.9292239 ]\n",
            " [0.03206021]]\n"
          ],
          "name": "stdout"
        }
      ]
    },
    {
      "cell_type": "markdown",
      "metadata": {
        "id": "V_tGKAkfCsRL",
        "colab_type": "text"
      },
      "source": [
        "### **RNN - Tensorflow/Keras** (Part - 2)\n",
        "\n",
        "GloVe for Embedding - Global vectors for word representation. It is a unsupervised learning algorithm developed by standford for generating word embedding by aggregating global word-word co-occurance matrix"
      ]
    },
    {
      "cell_type": "code",
      "metadata": {
        "id": "8qG9Ygqllqyr",
        "colab_type": "code",
        "colab": {}
      },
      "source": [
        "train_complete = [ i for i in train_df.text]\n",
        "\n",
        "training_sentences = [ i for i in train_df.text[:6000]]\n",
        "test_sentences = [i for i in train_df.text[6000:]]\n",
        "                  \n",
        "training_labels = [ i for i in train_df.target[:6000]]\n",
        "test_labels = [i for i in train_df.target[6000:]]"
      ],
      "execution_count": 0,
      "outputs": []
    },
    {
      "cell_type": "code",
      "metadata": {
        "id": "FrUFA8lHlq9N",
        "colab_type": "code",
        "colab": {}
      },
      "source": [
        "embedding_dict={}\n",
        "with open('glove.6B.100d.txt','r') as f:\n",
        "    for line in f:\n",
        "        values=line.split()\n",
        "        word=values[0]\n",
        "        vectors=np.asarray(values[1:],'float32')\n",
        "        embedding_dict[word]=vectors\n",
        "f.close()"
      ],
      "execution_count": 0,
      "outputs": []
    },
    {
      "cell_type": "code",
      "metadata": {
        "id": "q3G1IT71lrHb",
        "colab_type": "code",
        "colab": {}
      },
      "source": [
        "MAX_LEN=50\n",
        "tokenizer_obj=Tokenizer()\n",
        "tokenizer_obj.fit_on_texts(train_complete)\n",
        "\n",
        "training_sequences=tokenizer_obj.texts_to_sequences(training_sentences)\n",
        "training_padded=pad_sequences(training_sequences,maxlen=MAX_LEN,truncating='post',padding='post')\n",
        "\n",
        "test_sequences=tokenizer_obj.texts_to_sequences(test_sentences)\n",
        "test_padded=pad_sequences(test_sequences,maxlen=MAX_LEN,truncating='post',padding='post')"
      ],
      "execution_count": 0,
      "outputs": []
    },
    {
      "cell_type": "code",
      "metadata": {
        "id": "8vUlS4u0nvxJ",
        "colab_type": "code",
        "outputId": "b44418fb-2cb0-44eb-c0a5-1615831ea21a",
        "colab": {
          "base_uri": "https://localhost:8080/",
          "height": 35
        }
      },
      "source": [
        "word_index=tokenizer_obj.word_index\n",
        "print('Number of unique words:',len(word_index))"
      ],
      "execution_count": 28,
      "outputs": [
        {
          "output_type": "stream",
          "text": [
            "Number of unique words: 16833\n"
          ],
          "name": "stdout"
        }
      ]
    },
    {
      "cell_type": "code",
      "metadata": {
        "id": "evWVjLXpnMaN",
        "colab_type": "code",
        "outputId": "9d0b6de1-117c-4de5-deab-2c1e1d051716",
        "colab": {
          "base_uri": "https://localhost:8080/",
          "height": 35
        }
      },
      "source": [
        "num_words=len(word_index)+1\n",
        "embedding_matrix=np.zeros((num_words,100))\n",
        "\n",
        "for word,i in tqdm(word_index.items()):\n",
        "    if i > num_words:\n",
        "        continue\n",
        "    \n",
        "    emb_vec=embedding_dict.get(word)\n",
        "    if emb_vec is not None:\n",
        "        embedding_matrix[i]=emb_vec"
      ],
      "execution_count": 29,
      "outputs": [
        {
          "output_type": "stream",
          "text": [
            "100%|██████████| 16833/16833 [00:00<00:00, 551351.14it/s]\n"
          ],
          "name": "stderr"
        }
      ]
    },
    {
      "cell_type": "code",
      "metadata": {
        "id": "nn5Mu1evpaOX",
        "colab_type": "code",
        "colab": {}
      },
      "source": [
        "training_padded = np.array(training_padded)\n",
        "training_labels = np.array(training_labels)\n",
        "\n",
        "test_padded = np.array(test_padded)\n",
        "test_labels = np.array(test_labels)"
      ],
      "execution_count": 0,
      "outputs": []
    },
    {
      "cell_type": "code",
      "metadata": {
        "id": "gqPcOyJFoYVJ",
        "colab_type": "code",
        "colab": {}
      },
      "source": [
        "model = tf.keras.Sequential([\n",
        "    tf.keras.layers.Embedding(num_words,100,embeddings_initializer=Constant(embedding_matrix),\n",
        "                   input_length=MAX_LEN,trainable=False),\n",
        "    tf.keras.layers.SpatialDropout1D(0.2),\n",
        "    tf.keras.layers.LSTM(64, dropout=0.2, recurrent_dropout=0.2),\n",
        "    tf.keras.layers.Dense(1, activation='sigmoid')\n",
        "])\n",
        "\n",
        "model.compile(loss=tf.keras.losses.BinaryCrossentropy(from_logits=True),\n",
        "              optimizer=tf.keras.optimizers.Adam(1e-5),\n",
        "              metrics=['accuracy'])"
      ],
      "execution_count": 0,
      "outputs": []
    },
    {
      "cell_type": "code",
      "metadata": {
        "id": "rGOFvoGToYSr",
        "colab_type": "code",
        "outputId": "d697329b-d35c-4094-b7dd-d45260eadedc",
        "colab": {
          "base_uri": "https://localhost:8080/",
          "height": 308
        }
      },
      "source": [
        "model.summary()"
      ],
      "execution_count": 32,
      "outputs": [
        {
          "output_type": "stream",
          "text": [
            "Model: \"sequential_1\"\n",
            "_________________________________________________________________\n",
            "Layer (type)                 Output Shape              Param #   \n",
            "=================================================================\n",
            "embedding_1 (Embedding)      (None, 50, 100)           1683400   \n",
            "_________________________________________________________________\n",
            "spatial_dropout1d_1 (Spatial (None, 50, 100)           0         \n",
            "_________________________________________________________________\n",
            "lstm_1 (LSTM)                (None, 64)                42240     \n",
            "_________________________________________________________________\n",
            "dense_1 (Dense)              (None, 1)                 65        \n",
            "=================================================================\n",
            "Total params: 1,725,705\n",
            "Trainable params: 42,305\n",
            "Non-trainable params: 1,683,400\n",
            "_________________________________________________________________\n"
          ],
          "name": "stdout"
        }
      ]
    },
    {
      "cell_type": "code",
      "metadata": {
        "id": "NZU0ne4moYQG",
        "colab_type": "code",
        "outputId": "b010b6d6-8d45-4f35-9c0a-a5f72949c289",
        "colab": {
          "base_uri": "https://localhost:8080/",
          "height": 581
        }
      },
      "source": [
        "history=model.fit(training_padded,training_labels,batch_size=4,epochs=15,validation_data=(test_padded,test_labels),verbose=2)"
      ],
      "execution_count": 33,
      "outputs": [
        {
          "output_type": "stream",
          "text": [
            "Train on 6000 samples, validate on 1612 samples\n",
            "Epoch 1/15\n",
            "6000/6000 - 103s - loss: 0.6838 - accuracy: 0.6528 - val_loss: 0.6248 - val_accuracy: 0.7636\n",
            "Epoch 2/15\n",
            "6000/6000 - 102s - loss: 0.6540 - accuracy: 0.7225 - val_loss: 0.6191 - val_accuracy: 0.7506\n",
            "Epoch 3/15\n",
            "6000/6000 - 103s - loss: 0.6515 - accuracy: 0.7190 - val_loss: 0.6135 - val_accuracy: 0.7643\n",
            "Epoch 4/15\n",
            "6000/6000 - 104s - loss: 0.6463 - accuracy: 0.7390 - val_loss: 0.6111 - val_accuracy: 0.7773\n",
            "Epoch 5/15\n",
            "6000/6000 - 104s - loss: 0.6436 - accuracy: 0.7407 - val_loss: 0.6103 - val_accuracy: 0.7667\n",
            "Epoch 6/15\n",
            "6000/6000 - 103s - loss: 0.6439 - accuracy: 0.7390 - val_loss: 0.6137 - val_accuracy: 0.7779\n",
            "Epoch 7/15\n",
            "6000/6000 - 103s - loss: 0.6424 - accuracy: 0.7505 - val_loss: 0.6111 - val_accuracy: 0.7667\n",
            "Epoch 8/15\n",
            "6000/6000 - 103s - loss: 0.6434 - accuracy: 0.7455 - val_loss: 0.6060 - val_accuracy: 0.7792\n",
            "Epoch 9/15\n",
            "6000/6000 - 103s - loss: 0.6410 - accuracy: 0.7482 - val_loss: 0.6078 - val_accuracy: 0.7841\n",
            "Epoch 10/15\n",
            "6000/6000 - 103s - loss: 0.6385 - accuracy: 0.7555 - val_loss: 0.6074 - val_accuracy: 0.7872\n",
            "Epoch 11/15\n",
            "6000/6000 - 103s - loss: 0.6409 - accuracy: 0.7553 - val_loss: 0.6096 - val_accuracy: 0.7841\n",
            "Epoch 12/15\n",
            "6000/6000 - 104s - loss: 0.6408 - accuracy: 0.7430 - val_loss: 0.6054 - val_accuracy: 0.7878\n",
            "Epoch 13/15\n",
            "6000/6000 - 103s - loss: 0.6397 - accuracy: 0.7650 - val_loss: 0.6286 - val_accuracy: 0.7804\n",
            "Epoch 14/15\n",
            "6000/6000 - 104s - loss: 0.6438 - accuracy: 0.7568 - val_loss: 0.6065 - val_accuracy: 0.7754\n",
            "Epoch 15/15\n",
            "6000/6000 - 104s - loss: 0.6370 - accuracy: 0.7525 - val_loss: 0.6063 - val_accuracy: 0.7804\n"
          ],
          "name": "stdout"
        }
      ]
    },
    {
      "cell_type": "code",
      "metadata": {
        "id": "HtRw9eZQnoyc",
        "colab_type": "code",
        "colab": {
          "base_uri": "https://localhost:8080/",
          "height": 541
        },
        "outputId": "16cf5173-8428-454f-b05c-1252115a7f68"
      },
      "source": [
        "def plot_graphs(history, string):\n",
        "  plt.plot(history.history[string])\n",
        "  plt.plot(history.history['val_'+string])\n",
        "  plt.xlabel(\"Epochs\")\n",
        "  plt.ylabel(string)\n",
        "  plt.legend([string, 'val_'+string])\n",
        "  plt.show()\n",
        "  \n",
        "plot_graphs(history, \"accuracy\")\n",
        "plot_graphs(history, \"loss\")"
      ],
      "execution_count": 35,
      "outputs": [
        {
          "output_type": "display_data",
          "data": {
            "image/png": "[encoded data removed]",
            "text/plain": [
              "<Figure size 432x288 with 1 Axes>"
            ]
          },
          "metadata": {
            "tags": []
          }
        },
        {
          "output_type": "display_data",
          "data": {
            "image/png": "[encoded data removed]",
            "text/plain": [
              "<Figure size 432x288 with 1 Axes>"
            ]
          },
          "metadata": {
            "tags": []
          }
        }
      ]
    },
    {
      "cell_type": "markdown",
      "metadata": {
        "id": "gm41Azdgj4pG",
        "colab_type": "text"
      },
      "source": [
        "**Results**: Reduce overfitting for better results and also boosted test accuracy from 75% to 78%"
      ]
    },
    {
      "cell_type": "code",
      "metadata": {
        "id": "3H3OhNnxLsk6",
        "colab_type": "code",
        "colab": {}
      },
      "source": [
        ""
      ],
      "execution_count": 0,
      "outputs": []
    }
  ]
}