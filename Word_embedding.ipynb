{
  "nbformat": 4,
  "nbformat_minor": 0,
  "metadata": {
    "colab": {
      "name": "Word_embedding.ipynb",
      "provenance": [],
      "authorship_tag": "ABX9TyOPEN2yVsKSOWqm+C4kAo7k",
      "include_colab_link": true
    },
    "kernelspec": {
      "name": "python3",
      "display_name": "Python 3"
    }
  },
  "cells": [
    {
      "cell_type": "markdown",
      "metadata": {
        "id": "view-in-github",
        "colab_type": "text"
      },
      "source": [
        "<a href=\"https://colab.research.google.com/github/Sagar401/Natural_Language_Processing/blob/master/Word_embedding.ipynb\" target=\"_parent\"><img src=\"https://colab.research.google.com/assets/colab-badge.svg\" alt=\"Open In Colab\"/></a>"
      ]
    },
    {
      "cell_type": "code",
      "metadata": {
        "id": "Q6xv7wvUzEu5",
        "colab_type": "code",
        "colab": {
          "base_uri": "https://localhost:8080/",
          "height": 34
        },
        "outputId": "72398df1-fa0f-449d-f9eb-e68d4c28561c"
      },
      "source": [
        "# Run this to ensure TensorFlow 2.x is used\n",
        "try:\n",
        "  # %tensorflow_version only exists in Colab.\n",
        "  %tensorflow_version 2.x\n",
        "except Exception:\n",
        "  pass"
      ],
      "execution_count": 1,
      "outputs": [
        {
          "output_type": "stream",
          "text": [
            "TensorFlow 2.x selected.\n"
          ],
          "name": "stdout"
        }
      ]
    },
    {
      "cell_type": "code",
      "metadata": {
        "id": "UZAPTRH8mW9N",
        "colab_type": "code",
        "colab": {}
      },
      "source": [
        "import tensorflow as tf\n",
        "from tensorflow import keras\n",
        "from tensorflow.keras.preprocessing.text import Tokenizer\n",
        "import pandas as pd\n",
        "from tensorflow.keras.preprocessing.sequence import pad_sequences"
      ],
      "execution_count": 0,
      "outputs": []
    },
    {
      "cell_type": "code",
      "metadata": {
        "id": "uO0lurGpmjhe",
        "colab_type": "code",
        "colab": {}
      },
      "source": [
        ""
      ],
      "execution_count": 0,
      "outputs": []
    },
    {
      "cell_type": "code",
      "metadata": {
        "id": "v2QTBu-jmjkg",
        "colab_type": "code",
        "colab": {}
      },
      "source": [
        "train_df = pd.read_csv(\"train.csv\")\n",
        "test_df = pd.read_csv(\"test.csv\")"
      ],
      "execution_count": 0,
      "outputs": []
    },
    {
      "cell_type": "code",
      "metadata": {
        "id": "nmbBVcetu-jp",
        "colab_type": "code",
        "colab": {
          "base_uri": "https://localhost:8080/",
          "height": 34
        },
        "outputId": "f771dd42-c9e8-4ba2-bc40-b44ccdced8f1"
      },
      "source": [
        "train_df.columns"
      ],
      "execution_count": 4,
      "outputs": [
        {
          "output_type": "execute_result",
          "data": {
            "text/plain": [
              "Index(['id', 'keyword', 'location', 'text', 'target'], dtype='object')"
            ]
          },
          "metadata": {
            "tags": []
          },
          "execution_count": 4
        }
      ]
    },
    {
      "cell_type": "code",
      "metadata": {
        "id": "LsRJmvyxmjgH",
        "colab_type": "code",
        "colab": {}
      },
      "source": [
        "training_sentences = [ i for i in train_df.text[:6000]]\n",
        "test_sentences = [i for i in train_df.text[6000:]]\n",
        "                  \n",
        "training_labels = [ i for i in train_df.target[:6000]]\n",
        "test_labels = [i for i in train_df.target[6000:]]\n"
      ],
      "execution_count": 0,
      "outputs": []
    },
    {
      "cell_type": "code",
      "metadata": {
        "id": "1VwlT5rlnCtn",
        "colab_type": "code",
        "colab": {}
      },
      "source": [
        ""
      ],
      "execution_count": 0,
      "outputs": []
    },
    {
      "cell_type": "code",
      "metadata": {
        "id": "8MwyXnVmmjcI",
        "colab_type": "code",
        "colab": {}
      },
      "source": [
        "tokenizer = Tokenizer(num_words=10000,oov_token=\"<OOV>\")\n",
        "tokenizer.fit_on_texts(training_sentences)\n",
        "word_index = tokenizer.word_index\n"
      ],
      "execution_count": 0,
      "outputs": []
    },
    {
      "cell_type": "code",
      "metadata": {
        "id": "xQtAlJfMnPLH",
        "colab_type": "code",
        "colab": {}
      },
      "source": [
        "training_sequences = tokenizer.texts_to_sequences(training_sentences)\n",
        "training_padded = pad_sequences(training_sequences,padding='post')\n",
        "\n",
        "test_sequences = tokenizer.texts_to_sequences(test_sentences)\n",
        "test_padded = pad_sequences(test_sequences,padding='post')\n"
      ],
      "execution_count": 0,
      "outputs": []
    },
    {
      "cell_type": "code",
      "metadata": {
        "id": "B3jspeMeyv5U",
        "colab_type": "code",
        "colab": {}
      },
      "source": [
        "import numpy as np\n",
        "\n",
        "training_padded = np.array(training_padded)\n",
        "training_labels = np.array(training_labels)\n",
        "\n",
        "test_padded = np.array(test_padded)\n",
        "test_labels = np.array(test_labels)"
      ],
      "execution_count": 0,
      "outputs": []
    },
    {
      "cell_type": "code",
      "metadata": {
        "id": "6BJ1iUFKtr_P",
        "colab_type": "code",
        "colab": {}
      },
      "source": [
        "model = tf.keras.Sequential([\n",
        "    tf.keras.layers.Embedding(10000, 32),\n",
        "    tf.keras.layers.GlobalAveragePooling1D(),\n",
        "    tf.keras.layers.Dense(32, activation='relu'),\n",
        "    tf.keras.layers.Dense(32,activation='relu'),\n",
        "    tf.keras.layers.Dense(1, activation='sigmoid')\n",
        "])\n",
        "model.compile(loss='binary_crossentropy',optimizer='adam',metrics=['accuracy'])"
      ],
      "execution_count": 0,
      "outputs": []
    },
    {
      "cell_type": "code",
      "metadata": {
        "id": "rQfzNJ7MuMQ4",
        "colab_type": "code",
        "colab": {
          "base_uri": "https://localhost:8080/",
          "height": 336
        },
        "outputId": "09229db2-c456-41eb-b205-5baa06c49cb2"
      },
      "source": [
        "model.summary()"
      ],
      "execution_count": 19,
      "outputs": [
        {
          "output_type": "stream",
          "text": [
            "Model: \"sequential_3\"\n",
            "_________________________________________________________________\n",
            "Layer (type)                 Output Shape              Param #   \n",
            "=================================================================\n",
            "embedding_3 (Embedding)      (None, None, 32)          320000    \n",
            "_________________________________________________________________\n",
            "global_average_pooling1d_3 ( (None, 32)                0         \n",
            "_________________________________________________________________\n",
            "dense_7 (Dense)              (None, 32)                1056      \n",
            "_________________________________________________________________\n",
            "dense_8 (Dense)              (None, 32)                1056      \n",
            "_________________________________________________________________\n",
            "dense_9 (Dense)              (None, 1)                 33        \n",
            "=================================================================\n",
            "Total params: 322,145\n",
            "Trainable params: 322,145\n",
            "Non-trainable params: 0\n",
            "_________________________________________________________________\n"
          ],
          "name": "stdout"
        }
      ]
    },
    {
      "cell_type": "code",
      "metadata": {
        "id": "WIcwx8IY0P6R",
        "colab_type": "code",
        "colab": {
          "base_uri": "https://localhost:8080/",
          "height": 1000
        },
        "outputId": "aa6d4637-2256-4513-91e9-e282144f37dc"
      },
      "source": [
        "num_epochs = 30\n",
        "history = model.fit(training_padded, training_labels, epochs=num_epochs, validation_data=(test_padded, test_labels), verbose=2)"
      ],
      "execution_count": 20,
      "outputs": [
        {
          "output_type": "stream",
          "text": [
            "Train on 6000 samples, validate on 1613 samples\n",
            "Epoch 1/30\n",
            "6000/6000 - 1s - loss: 0.6347 - accuracy: 0.6368 - val_loss: 0.5714 - val_accuracy: 0.7440\n",
            "Epoch 2/30\n",
            "6000/6000 - 1s - loss: 0.4223 - accuracy: 0.8367 - val_loss: 0.4728 - val_accuracy: 0.7886\n",
            "Epoch 3/30\n",
            "6000/6000 - 1s - loss: 0.2911 - accuracy: 0.8870 - val_loss: 0.4799 - val_accuracy: 0.7836\n",
            "Epoch 4/30\n",
            "6000/6000 - 1s - loss: 0.2218 - accuracy: 0.9173 - val_loss: 0.5409 - val_accuracy: 0.7675\n",
            "Epoch 5/30\n",
            "6000/6000 - 1s - loss: 0.1730 - accuracy: 0.9392 - val_loss: 0.6114 - val_accuracy: 0.7495\n",
            "Epoch 6/30\n",
            "6000/6000 - 1s - loss: 0.1394 - accuracy: 0.9478 - val_loss: 0.6422 - val_accuracy: 0.7669\n",
            "Epoch 7/30\n",
            "6000/6000 - 1s - loss: 0.1172 - accuracy: 0.9567 - val_loss: 0.7034 - val_accuracy: 0.7582\n",
            "Epoch 8/30\n",
            "6000/6000 - 1s - loss: 0.1004 - accuracy: 0.9660 - val_loss: 0.8277 - val_accuracy: 0.7607\n",
            "Epoch 9/30\n",
            "6000/6000 - 1s - loss: 0.0888 - accuracy: 0.9680 - val_loss: 0.8857 - val_accuracy: 0.7216\n",
            "Epoch 10/30\n",
            "6000/6000 - 1s - loss: 0.0838 - accuracy: 0.9698 - val_loss: 0.8882 - val_accuracy: 0.7340\n",
            "Epoch 11/30\n",
            "6000/6000 - 1s - loss: 0.0735 - accuracy: 0.9732 - val_loss: 0.9497 - val_accuracy: 0.7204\n",
            "Epoch 12/30\n",
            "6000/6000 - 1s - loss: 0.0713 - accuracy: 0.9737 - val_loss: 0.9512 - val_accuracy: 0.7433\n",
            "Epoch 13/30\n",
            "6000/6000 - 1s - loss: 0.0681 - accuracy: 0.9725 - val_loss: 0.9801 - val_accuracy: 0.7316\n",
            "Epoch 14/30\n",
            "6000/6000 - 1s - loss: 0.0617 - accuracy: 0.9777 - val_loss: 1.0219 - val_accuracy: 0.7353\n",
            "Epoch 15/30\n",
            "6000/6000 - 1s - loss: 0.0589 - accuracy: 0.9778 - val_loss: 1.0567 - val_accuracy: 0.7285\n",
            "Epoch 16/30\n",
            "6000/6000 - 1s - loss: 0.0603 - accuracy: 0.9785 - val_loss: 1.0722 - val_accuracy: 0.7266\n",
            "Epoch 17/30\n",
            "6000/6000 - 1s - loss: 0.0599 - accuracy: 0.9757 - val_loss: 1.1432 - val_accuracy: 0.7080\n",
            "Epoch 18/30\n",
            "6000/6000 - 1s - loss: 0.0586 - accuracy: 0.9757 - val_loss: 1.0861 - val_accuracy: 0.7266\n",
            "Epoch 19/30\n",
            "6000/6000 - 1s - loss: 0.0567 - accuracy: 0.9760 - val_loss: 1.0957 - val_accuracy: 0.7278\n",
            "Epoch 20/30\n",
            "6000/6000 - 1s - loss: 0.0572 - accuracy: 0.9762 - val_loss: 1.1159 - val_accuracy: 0.7328\n",
            "Epoch 21/30\n",
            "6000/6000 - 1s - loss: 0.0527 - accuracy: 0.9782 - val_loss: 1.1786 - val_accuracy: 0.7099\n",
            "Epoch 22/30\n",
            "6000/6000 - 1s - loss: 0.0555 - accuracy: 0.9773 - val_loss: 1.1766 - val_accuracy: 0.7303\n",
            "Epoch 23/30\n",
            "6000/6000 - 1s - loss: 0.0513 - accuracy: 0.9793 - val_loss: 1.2223 - val_accuracy: 0.7030\n",
            "Epoch 24/30\n",
            "6000/6000 - 1s - loss: 0.0521 - accuracy: 0.9787 - val_loss: 1.2387 - val_accuracy: 0.6999\n",
            "Epoch 25/30\n",
            "6000/6000 - 1s - loss: 0.0480 - accuracy: 0.9795 - val_loss: 1.2988 - val_accuracy: 0.7006\n",
            "Epoch 26/30\n",
            "6000/6000 - 1s - loss: 0.0494 - accuracy: 0.9787 - val_loss: 1.2284 - val_accuracy: 0.7198\n",
            "Epoch 27/30\n",
            "6000/6000 - 1s - loss: 0.0487 - accuracy: 0.9793 - val_loss: 1.2416 - val_accuracy: 0.7204\n",
            "Epoch 28/30\n",
            "6000/6000 - 1s - loss: 0.0482 - accuracy: 0.9793 - val_loss: 1.2555 - val_accuracy: 0.7111\n",
            "Epoch 29/30\n",
            "6000/6000 - 1s - loss: 0.0489 - accuracy: 0.9770 - val_loss: 1.2730 - val_accuracy: 0.7148\n",
            "Epoch 30/30\n",
            "6000/6000 - 1s - loss: 0.0455 - accuracy: 0.9802 - val_loss: 1.3082 - val_accuracy: 0.7241\n"
          ],
          "name": "stdout"
        }
      ]
    },
    {
      "cell_type": "code",
      "metadata": {
        "id": "ico0nlHA0VvX",
        "colab_type": "code",
        "colab": {}
      },
      "source": [
        "import matplotlib.pyplot as plt\n"
      ],
      "execution_count": 0,
      "outputs": []
    },
    {
      "cell_type": "code",
      "metadata": {
        "id": "Kj3nB5KA1GsC",
        "colab_type": "code",
        "colab": {
          "base_uri": "https://localhost:8080/",
          "height": 541
        },
        "outputId": "c60d1fec-d93d-4432-c283-7f93674fe26c"
      },
      "source": [
        "def plot_graphs(history, string):\n",
        "  plt.plot(history.history[string])\n",
        "  plt.plot(history.history['val_'+string])\n",
        "  plt.xlabel(\"Epochs\")\n",
        "  plt.ylabel(string)\n",
        "  plt.legend([string, 'val_'+string])\n",
        "  plt.show()\n",
        "  \n",
        "plot_graphs(history, \"accuracy\")\n",
        "plot_graphs(history, \"loss\")"
      ],
      "execution_count": 22,
      "outputs": [
        {
          "output_type": "display_data",
          "data": {
            "image/png": "[encoded data removed]",
            "text/plain": [
              "<Figure size 432x288 with 1 Axes>"
            ]
          },
          "metadata": {
            "tags": []
          }
        },
        {
          "output_type": "display_data",
          "data": {
            "image/png": "[encoded data removed]",
            "text/plain": [
              "<Figure size 432x288 with 1 Axes>"
            ]
          },
          "metadata": {
            "tags": []
          }
        }
      ]
    },
    {
      "cell_type": "code",
      "metadata": {
        "id": "v5E4wlbm1J6H",
        "colab_type": "code",
        "colab": {
          "base_uri": "https://localhost:8080/",
          "height": 70
        },
        "outputId": "0e65786c-64e8-449e-d76b-cdf5782dd7d9"
      },
      "source": [
        "reverse_word_index = dict([(value, key) for (key, value) in word_index.items()])\n",
        "\n",
        "def decode_sentence(text):\n",
        "    return ' '.join([reverse_word_index.get(i, '?') for i in text])\n",
        "\n",
        "print(decode_sentence(training_padded[0]))\n",
        "print(training_sentences[2])\n",
        "print(train_df.target[2])"
      ],
      "execution_count": 24,
      "outputs": [
        {
          "output_type": "stream",
          "text": [
            "our deeds are the reason of this earthquake may allah forgive us all ? ? ? ? ? ? ? ? ? ? ? ? ? ? ? ? ? ? ? ?\n",
            "All residents asked to 'shelter in place' are being notified by officers. No other evacuation or shelter in place orders are expected\n",
            "1\n"
          ],
          "name": "stdout"
        }
      ]
    },
    {
      "cell_type": "code",
      "metadata": {
        "id": "jQdh2bfe1bg3",
        "colab_type": "code",
        "colab": {
          "base_uri": "https://localhost:8080/",
          "height": 34
        },
        "outputId": "d8d74f39-9443-4af5-a771-6b6be377f71b"
      },
      "source": [
        "e = model.layers[0]\n",
        "weights = e.get_weights()[0]\n",
        "print(weights.shape) # shape: (vocab_size, embedding_dim)\n"
      ],
      "execution_count": 25,
      "outputs": [
        {
          "output_type": "stream",
          "text": [
            "(10000, 32)\n"
          ],
          "name": "stdout"
        }
      ]
    },
    {
      "cell_type": "code",
      "metadata": {
        "id": "nc_F6o8v2khP",
        "colab_type": "code",
        "colab": {
          "base_uri": "https://localhost:8080/",
          "height": 52
        },
        "outputId": "dde21fb4-beab-4a3f-ae4a-7a0cad479303"
      },
      "source": [
        "sentence = [\"granny starting to fear spiders in the garden might be real\", \"earthquake is in my neighborhood\"]\n",
        "sequences = tokenizer.texts_to_sequences(sentence)\n",
        "padded = pad_sequences(sequences, padding='post')\n",
        "print(model.predict(padded))"
      ],
      "execution_count": 39,
      "outputs": [
        {
          "output_type": "stream",
          "text": [
            "[[2.3510468e-06]\n",
            " [9.9975461e-01]]\n"
          ],
          "name": "stdout"
        }
      ]
    },
    {
      "cell_type": "code",
      "metadata": {
        "id": "4AKPkf343F9w",
        "colab_type": "code",
        "colab": {}
      },
      "source": [
        ""
      ],
      "execution_count": 0,
      "outputs": []
    }
  ]
}