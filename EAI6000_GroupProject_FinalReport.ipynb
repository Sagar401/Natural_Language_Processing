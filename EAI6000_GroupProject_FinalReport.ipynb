{
  "nbformat": 4,
  "nbformat_minor": 0,
  "metadata": {
    "colab": {
      "name": "EAI6000_Presentation_FinalProject.ipynb",
      "provenance": [],
      "collapsed_sections": [],
      "toc_visible": true,
      "include_colab_link": true
    },
    "kernelspec": {
      "name": "python3",
      "display_name": "Python 3"
    },
    "language_info": {
      "codemirror_mode": {
        "name": "ipython",
        "version": 3
      },
      "file_extension": ".py",
      "mimetype": "text/x-python",
      "name": "python",
      "nbconvert_exporter": "python",
      "pygments_lexer": "ipython3",
      "version": "3.7.6"
    },
    "accelerator": "GPU"
  },
  "cells": [
    {
      "cell_type": "markdown",
      "metadata": {
        "id": "view-in-github",
        "colab_type": "text"
      },
      "source": [
        "<a href=\"https://colab.research.google.com/github/Sagar401/Natural_Language_Processing/blob/master/EAI6000_GroupProject_FinalReport.ipynb\" target=\"_parent\"><img src=\"https://colab.research.google.com/assets/colab-badge.svg\" alt=\"Open In Colab\"/></a>"
      ]
    },
    {
      "cell_type": "markdown",
      "metadata": {
        "colab_type": "text",
        "id": "9Q-wKtTDUSol"
      },
      "source": [
        "# **Team: Sagar Daswani and Pimchanok Khaoputhai**\n",
        "# **EAI6000 - Foundations of AI**\n",
        "\n",
        "# Final Project"
      ]
    },
    {
      "cell_type": "markdown",
      "metadata": {
        "colab_type": "text",
        "id": "VR28ZsuStmN9"
      },
      "source": [
        "# **Real or Not? Binary Classification of Disaster Tweets**\n",
        "Kaggle Competition\n",
        "\n",
        "Nowadays, social media has become a part of our daily life. People are sharing their experience and communicate to the public through platform like Facebook and Twitter. Sometimes, these channels are used for sharing emergency matters and news. However, the problem relies on whether the message is real. If yes, then monitoring these posts will help increase people awareness in time of emergency. As a result, this project is focusing on detecting if a post on Twitter about a disaster is a real event. \n",
        "\n",
        "The dataset is callled *Real or Not? NLP with Disaster Tweet* downloaded from Kaggle as a csv file. There are 7613 rows with 5 columns in training set and 3263 rows with 4 columns in testing set. The features are id, keyword, location, text, and target. Target is the label for each sample indicating if the tweet is a real disaster tweet (1) and otherwise (0)\n",
        "\n",
        "\n",
        "The flow of the project are as follows:\n",
        "\n",
        "*   Text cleaning\n",
        "    * Remove special characters\n",
        "    * Remove emoji\n",
        "    * Spelling correction. We have written a code to perform correction but it is time consuming therefore we do not run the code and leave it as an option to do in the future.\n",
        "*   Text preprocessing\n",
        "    * Transform text into proper format to use in the models :\n",
        "      * Vectorization, one hot coding\n",
        "      * Word Embedding\n",
        "*   Modeling\n",
        "    * Linear Model\n",
        "    * Recurrent Neural Network\n",
        "        * LSTM\n",
        "\n",
        "**Work to date**\n",
        "\n",
        "As of March 24, 2020, we have discovered that word embedding works better than word vectoization. We also found a pre-trained embedding, GloVe developed by Standford. We are exploring the two different word embedding model one from keras and one from Glove. We built different models focusing more on RNN with different architecture. Below is the model development progress. We tried different model architecture to see which one gives more accuracy.\n",
        "\n",
        "- Logistic Regression = 0.59\n",
        "- RNN from scratch = 0.72\n",
        "- RNN LSTM increase dimensionality with GloVe = 0.53\n",
        "- RNN LSTM reduce dimensionality with GloVe = 0.78\n",
        "- RNN LSTM stack layer with GloVe = 0.76\n",
        "- RNN LSTM = 0.72\n",
        "\n",
        "For each model we only run 10 epochs as it is time consuming. Previously, we run 10 epochs for our baseline model which is NN with embeded features but it seems to overfit. Hence, the later model are built with some regularization to deal with overfitting. We build RNN LSTM successively with different architecture from expanding dimension to reducing and stacking to see which would work best.\n",
        "\n",
        "**Future Scope**\n",
        "- Stick to only a few models then play with hyper parameters to see if tuning help increase the accuracy more than chaning the architecture"
      ]
    },
    {
      "cell_type": "code",
      "metadata": {
        "colab_type": "code",
        "id": "SVe3Wea9W8Fe",
        "outputId": "b60257bf-fec4-47ef-f534-4eda4c96df81",
        "colab": {
          "base_uri": "https://localhost:8080/",
          "height": 34
        }
      },
      "source": [
        "# Run this to ensure TensorFlow 2.x is used\n",
        "try:\n",
        "  # %tensorflow_version only exists in Colab.\n",
        "  %tensorflow_version 2.x\n",
        "except Exception:\n",
        "  pass"
      ],
      "execution_count": 0,
      "outputs": [
        {
          "output_type": "stream",
          "text": [
            "TensorFlow 2.x selected.\n"
          ],
          "name": "stdout"
        }
      ]
    },
    {
      "cell_type": "code",
      "metadata": {
        "colab_type": "code",
        "id": "LjzRX-niUNyM",
        "outputId": "8d43066e-cafc-4034-b4c8-42231e792f6d",
        "colab": {
          "base_uri": "https://localhost:8080/",
          "height": 34
        }
      },
      "source": [
        "import pandas as pd\n",
        "import numpy as np\n",
        "import seaborn as sns\n",
        "import matplotlib.pyplot as plt\n",
        "\n",
        "from nltk.tokenize import word_tokenize\n",
        "import re\n",
        "import string\n",
        "import nltk\n",
        "from nltk.corpus import stopwords\n",
        "\n",
        "# sklearn \n",
        "from sklearn.feature_extraction.text import CountVectorizer,TfidfVectorizer\n",
        "from sklearn.linear_model import LogisticRegression\n",
        "from sklearn.metrics import f1_score\n",
        "from sklearn import preprocessing, decomposition, model_selection, metrics, pipeline\n",
        "from sklearn.model_selection import GridSearchCV, StratifiedKFold, RandomizedSearchCV, train_test_split, cross_validate\n",
        "\n",
        "import tensorflow as tf\n",
        "from tensorflow import keras\n",
        "from keras.preprocessing.text import Tokenizer\n",
        "from keras.preprocessing.sequence import pad_sequences\n",
        "from tqdm import tqdm\n",
        "from keras.models import Sequential\n",
        "from keras.layers import Embedding,LSTM,Dense,SpatialDropout1D, GlobalAveragePooling1D, Bidirectional, Dropout\n",
        "from keras.initializers import Constant\n",
        "from sklearn.model_selection import train_test_split\n",
        "from keras.optimizers import Adam\n",
        "  "
      ],
      "execution_count": 0,
      "outputs": [
        {
          "output_type": "stream",
          "text": [
            "Using TensorFlow backend.\n"
          ],
          "name": "stderr"
        }
      ]
    },
    {
      "cell_type": "markdown",
      "metadata": {
        "colab_type": "text",
        "id": "VMNsPQOe3696"
      },
      "source": [
        "## **Import Dataset**"
      ]
    },
    {
      "cell_type": "markdown",
      "metadata": {
        "id": "RHIE8Me8cblw",
        "colab_type": "text"
      },
      "source": [
        "### Set up Kaggle API"
      ]
    },
    {
      "cell_type": "code",
      "metadata": {
        "id": "lojjTVLebuhN",
        "colab_type": "code",
        "outputId": "e21dfdb4-7d42-419d-ff15-5e537e65e99e",
        "colab": {
          "base_uri": "https://localhost:8080/",
          "height": 34
        }
      },
      "source": [
        "! pip install -q kaggle\n",
        "! mkdir .kaggle"
      ],
      "execution_count": 0,
      "outputs": [
        {
          "output_type": "stream",
          "text": [
            "mkdir: cannot create directory ‘.kaggle’: File exists\n"
          ],
          "name": "stdout"
        }
      ]
    },
    {
      "cell_type": "code",
      "metadata": {
        "id": "i_KPpuG6bvug",
        "colab_type": "code",
        "outputId": "3f8c857b-1101-4a74-b6a3-222b398a822c",
        "colab": {
          "base_uri": "https://localhost:8080/",
          "height": 34
        }
      },
      "source": [
        "import json\n",
        "token = {\"username\":\"khaophuthaipkt\",\"key\":\"742f0323b5693f569538176eceaa4d80\"}\n",
        "with open(\"/content/.kaggle/kaggle.json\", \"w\") as file:\n",
        "    json.dump(token, file)\n",
        "\n",
        "! cp /content/.kaggle/kaggle.json ~/.kaggle/kaggle.json\n",
        "! kaggle config set -n path -v content\n",
        "! chmod 600 ~/.kaggle/kaggle.json"
      ],
      "execution_count": 0,
      "outputs": [
        {
          "output_type": "stream",
          "text": [
            "- path is now set to: content\n"
          ],
          "name": "stdout"
        }
      ]
    },
    {
      "cell_type": "code",
      "metadata": {
        "id": "F3MTpGKNcAxj",
        "colab_type": "code",
        "outputId": "d1c1a088-f9e4-4846-a5d8-74efc9c4503e",
        "colab": {
          "base_uri": "https://localhost:8080/",
          "height": 85
        }
      },
      "source": [
        "! kaggle competitions download -c nlp-getting-started"
      ],
      "execution_count": 0,
      "outputs": [
        {
          "output_type": "stream",
          "text": [
            "Warning: Looks like you're using an outdated API Version, please consider updating (server 1.5.6 / client 1.5.4)\n",
            "sample_submission.csv: Skipping, found more recently modified local copy (use --force to force download)\n",
            "train.csv: Skipping, found more recently modified local copy (use --force to force download)\n",
            "test.csv: Skipping, found more recently modified local copy (use --force to force download)\n"
          ],
          "name": "stdout"
        }
      ]
    },
    {
      "cell_type": "markdown",
      "metadata": {
        "id": "iMAAt_2Ncwip",
        "colab_type": "text"
      },
      "source": [
        "### Import the data"
      ]
    },
    {
      "cell_type": "code",
      "metadata": {
        "colab_type": "code",
        "id": "rilMQ9Aqt_W9",
        "colab": {}
      },
      "source": [
        "train_df = pd.read_csv(\"/content/content/competitions/nlp-getting-started/train.csv\")\n",
        "test_df = pd.read_csv(\"/content/content/competitions/nlp-getting-started/test.csv\")"
      ],
      "execution_count": 0,
      "outputs": []
    },
    {
      "cell_type": "code",
      "metadata": {
        "colab_type": "code",
        "id": "FmbBWFm9uBd0",
        "outputId": "d591bc8d-770e-417a-f0ed-f58a8d5bb5d1",
        "colab": {
          "base_uri": "https://localhost:8080/",
          "height": 204
        }
      },
      "source": [
        "#Looking at first few rows of dataset\n",
        "train_df.head()"
      ],
      "execution_count": 0,
      "outputs": [
        {
          "output_type": "execute_result",
          "data": {
            "text/html": [
              "<div>\n",
              "<style scoped>\n",
              "    .dataframe tbody tr th:only-of-type {\n",
              "        vertical-align: middle;\n",
              "    }\n",
              "\n",
              "    .dataframe tbody tr th {\n",
              "        vertical-align: top;\n",
              "    }\n",
              "\n",
              "    .dataframe thead th {\n",
              "        text-align: right;\n",
              "    }\n",
              "</style>\n",
              "<table border=\"1\" class=\"dataframe\">\n",
              "  <thead>\n",
              "    <tr style=\"text-align: right;\">\n",
              "      <th></th>\n",
              "      <th>id</th>\n",
              "      <th>keyword</th>\n",
              "      <th>location</th>\n",
              "      <th>text</th>\n",
              "      <th>target</th>\n",
              "    </tr>\n",
              "  </thead>\n",
              "  <tbody>\n",
              "    <tr>\n",
              "      <th>0</th>\n",
              "      <td>1</td>\n",
              "      <td>NaN</td>\n",
              "      <td>NaN</td>\n",
              "      <td>Our Deeds are the Reason of this #earthquake M...</td>\n",
              "      <td>1</td>\n",
              "    </tr>\n",
              "    <tr>\n",
              "      <th>1</th>\n",
              "      <td>4</td>\n",
              "      <td>NaN</td>\n",
              "      <td>NaN</td>\n",
              "      <td>Forest fire near La Ronge Sask. Canada</td>\n",
              "      <td>1</td>\n",
              "    </tr>\n",
              "    <tr>\n",
              "      <th>2</th>\n",
              "      <td>5</td>\n",
              "      <td>NaN</td>\n",
              "      <td>NaN</td>\n",
              "      <td>All residents asked to 'shelter in place' are ...</td>\n",
              "      <td>1</td>\n",
              "    </tr>\n",
              "    <tr>\n",
              "      <th>3</th>\n",
              "      <td>6</td>\n",
              "      <td>NaN</td>\n",
              "      <td>NaN</td>\n",
              "      <td>13,000 people receive #wildfires evacuation or...</td>\n",
              "      <td>1</td>\n",
              "    </tr>\n",
              "    <tr>\n",
              "      <th>4</th>\n",
              "      <td>7</td>\n",
              "      <td>NaN</td>\n",
              "      <td>NaN</td>\n",
              "      <td>Just got sent this photo from Ruby #Alaska as ...</td>\n",
              "      <td>1</td>\n",
              "    </tr>\n",
              "  </tbody>\n",
              "</table>\n",
              "</div>"
            ],
            "text/plain": [
              "   id keyword  ...                                               text target\n",
              "0   1     NaN  ...  Our Deeds are the Reason of this #earthquake M...      1\n",
              "1   4     NaN  ...             Forest fire near La Ronge Sask. Canada      1\n",
              "2   5     NaN  ...  All residents asked to 'shelter in place' are ...      1\n",
              "3   6     NaN  ...  13,000 people receive #wildfires evacuation or...      1\n",
              "4   7     NaN  ...  Just got sent this photo from Ruby #Alaska as ...      1\n",
              "\n",
              "[5 rows x 5 columns]"
            ]
          },
          "metadata": {
            "tags": []
          },
          "execution_count": 7
        }
      ]
    },
    {
      "cell_type": "markdown",
      "metadata": {
        "id": "ld5HWmdARyc-",
        "colab_type": "text"
      },
      "source": [
        "## **Data Exploration and visualization**"
      ]
    },
    {
      "cell_type": "code",
      "metadata": {
        "colab_type": "code",
        "id": "PMmLGqsDuDEU",
        "outputId": "3fdedee0-c938-446f-d7bd-167f46693b10",
        "colab": {
          "base_uri": "https://localhost:8080/",
          "height": 51
        }
      },
      "source": [
        "print(\"Training Dataset Size:\",train_df.shape)\n",
        "print(\"Test Dataset Size:\",test_df.shape)"
      ],
      "execution_count": 0,
      "outputs": [
        {
          "output_type": "stream",
          "text": [
            "Training Dataset Size: (7613, 5)\n",
            "Test Dataset Size: (3263, 4)\n"
          ],
          "name": "stdout"
        }
      ]
    },
    {
      "cell_type": "code",
      "metadata": {
        "id": "sm47diJTRydE",
        "colab_type": "code",
        "colab": {}
      },
      "source": [
        "#function to plot bar graph\n",
        "\n",
        "def plot_bar(x):\n",
        "  sns.barplot(x.index,x)\n",
        "  plt.gca().set_ylabel('samples')"
      ],
      "execution_count": 0,
      "outputs": []
    },
    {
      "cell_type": "code",
      "metadata": {
        "id": "bOkxEMHoRydI",
        "colab_type": "code",
        "outputId": "85ff3e29-d415-4bd3-ed34-e7bd5ca0a24a",
        "colab": {
          "base_uri": "https://localhost:8080/",
          "height": 265
        }
      },
      "source": [
        "#missing values in training dataset\n",
        "x = train_df.isnull().sum()\n",
        "plot_bar(x)"
      ],
      "execution_count": 0,
      "outputs": [
        {
          "output_type": "display_data",
          "data": {
            "image/png": "[encoded data removed]",
            "text/plain": [
              "<Figure size 432x288 with 1 Axes>"
            ]
          },
          "metadata": {
            "tags": []
          }
        }
      ]
    },
    {
      "cell_type": "markdown",
      "metadata": {
        "id": "bwJPSJqrRydL",
        "colab_type": "text"
      },
      "source": [
        "There are a lot of missing value in location column. However, as we are focusing on text, we would say there is no missing value as text and target has no missing value"
      ]
    },
    {
      "cell_type": "code",
      "metadata": {
        "colab_type": "code",
        "id": "_5puA8HnuFDU",
        "outputId": "c7a61dcf-8afc-417f-ca27-077e4069c5f4",
        "colab": {
          "base_uri": "https://localhost:8080/",
          "height": 265
        }
      },
      "source": [
        "##let's check the class distribution\n",
        "x = train_df['target'].value_counts()\n",
        "plot_bar(x)"
      ],
      "execution_count": 0,
      "outputs": [
        {
          "output_type": "display_data",
          "data": {
            "image/png": "[encoded data removed]",
            "text/plain": [
              "<Figure size 432x288 with 1 Axes>"
            ]
          },
          "metadata": {
            "tags": []
          }
        }
      ]
    },
    {
      "cell_type": "markdown",
      "metadata": {
        "id": "uEs4FOiRRydR",
        "colab_type": "text"
      },
      "source": [
        "The distribution between two classes are not perfectly balanced, but it is still practical to use."
      ]
    },
    {
      "cell_type": "code",
      "metadata": {
        "colab_type": "code",
        "id": "TzEnZKCguHLE",
        "outputId": "30f7dc6f-77e7-4f1c-8cb6-d7f7eaf43e2c",
        "colab": {
          "base_uri": "https://localhost:8080/",
          "height": 265
        }
      },
      "source": [
        "#exlporing top 5 locations \n",
        "x = train_df['location'].value_counts()[:5]\n",
        "plot_bar(x)"
      ],
      "execution_count": 0,
      "outputs": [
        {
          "output_type": "display_data",
          "data": {
            "image/png": "[encoded data removed]",
            "text/plain": [
              "<Figure size 432x288 with 1 Axes>"
            ]
          },
          "metadata": {
            "tags": []
          }
        }
      ]
    },
    {
      "cell_type": "markdown",
      "metadata": {
        "id": "r3IWx4yWRydV",
        "colab_type": "text"
      },
      "source": [
        "Most of the tweets are in the USA. The top 3 location are in the US with different name. Then a few from UK and canada"
      ]
    },
    {
      "cell_type": "markdown",
      "metadata": {
        "id": "BGHgtD71RydW",
        "colab_type": "text"
      },
      "source": [
        "### Hashtag Analysis"
      ]
    },
    {
      "cell_type": "code",
      "metadata": {
        "id": "yMMa_ggPRydX",
        "colab_type": "code",
        "colab": {}
      },
      "source": [
        "# function to collect hashtags\n",
        "def hashtag_extract(x):\n",
        "    hashtags = []\n",
        "    # Loop over the words in the tweet\n",
        "    for i in x:\n",
        "        ht = re.findall(r\"#(\\w+)\", i)\n",
        "        hashtags.append(ht)\n",
        "\n",
        "    return hashtags"
      ],
      "execution_count": 0,
      "outputs": []
    },
    {
      "cell_type": "code",
      "metadata": {
        "id": "9mRVDjSWRyde",
        "colab_type": "code",
        "colab": {}
      },
      "source": [
        "# extracting hashtags from non Disaster tweets\n",
        "Not_Disaster = hashtag_extract(train_df['text'][train_df['target'] == 0])\n",
        "\n",
        "# extracting hashtags from Disaster tweets\n",
        "Disaster = hashtag_extract(train_df['text'][train_df['target'] == 1])\n",
        "\n",
        "# unnesting list\n",
        "Not_Disaster = sum(Not_Disaster,[])\n",
        "Disaster = sum(Disaster,[])"
      ],
      "execution_count": 0,
      "outputs": []
    },
    {
      "cell_type": "code",
      "metadata": {
        "id": "3ZKL09xFRydh",
        "colab_type": "code",
        "outputId": "c42c3515-54c5-45b4-8f0c-f7b71d69125d",
        "colab": {
          "base_uri": "https://localhost:8080/",
          "height": 334
        }
      },
      "source": [
        "# Fake Disaster tweets\n",
        "a = nltk.FreqDist(Not_Disaster)\n",
        "nd = pd.DataFrame({'Hashtag': list(a.keys()),\n",
        "                  'Count': list(a.values())})\n",
        "# selecting top 10 most frequent hashtags     \n",
        "nd = nd.nlargest(columns=\"Count\", n = 10) \n",
        "plt.figure(figsize=(16,5))\n",
        "ax = sns.barplot(data=nd, x= \"Hashtag\", y = \"Count\")\n",
        "ax.set(ylabel = 'Count')\n",
        "plt.show()"
      ],
      "execution_count": 0,
      "outputs": [
        {
          "output_type": "display_data",
          "data": {
            "image/png": "[encoded data removed]",
            "text/plain": [
              "<Figure size 1152x360 with 1 Axes>"
            ]
          },
          "metadata": {
            "tags": []
          }
        }
      ]
    },
    {
      "cell_type": "code",
      "metadata": {
        "id": "dxMr1UzeRydl",
        "colab_type": "code",
        "outputId": "3092246e-2921-4f47-ce06-8eea3f166f1b",
        "colab": {
          "base_uri": "https://localhost:8080/",
          "height": 334
        }
      },
      "source": [
        "# True Disaster tweets\n",
        "b = nltk.FreqDist(Disaster)\n",
        "d = pd.DataFrame({'Hashtag': list(b.keys()), 'Count': list(b.values())})\n",
        "# selecting top 10 most frequent hashtags\n",
        "d = d.nlargest(columns=\"Count\", n = 10)   \n",
        "plt.figure(figsize=(16,5))\n",
        "ax = sns.barplot(data=d, x= \"Hashtag\", y = \"Count\")\n",
        "ax.set(ylabel = 'Count')\n",
        "plt.show()"
      ],
      "execution_count": 0,
      "outputs": [
        {
          "output_type": "display_data",
          "data": {
            "image/png": "[encoded data removed]",
            "text/plain": [
              "<Figure size 1152x360 with 1 Axes>"
            ]
          },
          "metadata": {
            "tags": []
          }
        }
      ]
    },
    {
      "cell_type": "markdown",
      "metadata": {
        "id": "eNzeqcYhRydq",
        "colab_type": "text"
      },
      "source": [
        "While different words can be detected in True diaster tweets, some of the hashtag like hot, best, and news appears in both categories. Therefore, Hashtag will be removed in data cleaning part."
      ]
    },
    {
      "cell_type": "markdown",
      "metadata": {
        "colab_type": "text",
        "id": "AJcyF8xIuOlq"
      },
      "source": [
        "## **Data Cleaning**\n",
        "\n",
        "*   Making all uppercase to lowercase\n",
        "*   Removing noise from tweets\n",
        "\n",
        "  *   URLs\n",
        "  *   HTML tags\n",
        "  *   emogis\n",
        "  *   Punctuation\n",
        "  *   New-Line\n",
        "  *   Removing Digits\n",
        "*   Spell-checker(optional)\n",
        "\n"
      ]
    },
    {
      "cell_type": "code",
      "metadata": {
        "colab_type": "code",
        "id": "nqTR5FZZuKwj",
        "colab": {}
      },
      "source": [
        "#function to remove noise from text\n",
        "def clean_text(text):\n",
        "    text = text.lower() #convert to lowercase to maintain standard flow between text\n",
        "    text = re.sub('\\[.*?\\]', '', text) #removing text in square brackets\n",
        "    text = re.sub('https?://\\S+|www\\.\\S+', '', text) #removing url\n",
        "    text = re.sub('<.*?>+', '', text) #removing html tags\n",
        "    text = re.sub('[%s]' % re.escape(string.punctuation), '', text) #removing puntuations\n",
        "    text = re.sub('\\n', '', text)#removing new line from the text field\n",
        "    text = re.sub('\\w*\\d\\w*', '', text) #removing digits from the string\n",
        "    return text\n",
        "\n",
        "train_df['text'] = train_df['text'].apply(lambda x : clean_text(x))\n",
        "test_df['text'] = test_df['text'].apply(lambda x : clean_text(x))"
      ],
      "execution_count": 0,
      "outputs": []
    },
    {
      "cell_type": "code",
      "metadata": {
        "colab_type": "code",
        "id": "t7pqPAZ0uTqU",
        "colab": {}
      },
      "source": [
        "#function to remove emoji's\n",
        "def remove_emoji(text):\n",
        "    emoji_pattern = re.compile(\"[\"\n",
        "                           u\"\\U0001F600-\\U0001F64F\"  # emoticons\n",
        "                           u\"\\U0001F300-\\U0001F5FF\"  # symbols & pictographs\n",
        "                           u\"\\U0001F680-\\U0001F6FF\"  # transport & map symbols\n",
        "                           u\"\\U0001F1E0-\\U0001F1FF\"  # flags (iOS)\n",
        "                           u\"\\U00002702-\\U000027B0\"\n",
        "                           u\"\\U000024C2-\\U0001F251\"\n",
        "                            \"]+\", flags=re.UNICODE)\n",
        "    return emoji_pattern.sub(r'', text)\n",
        "\n",
        "train_df['text']=train_df['text'].apply(lambda x: remove_emoji(x))\n",
        "test_df['text']=test_df['text'].apply(lambda x: remove_emoji(x))"
      ],
      "execution_count": 0,
      "outputs": []
    },
    {
      "cell_type": "code",
      "metadata": {
        "colab_type": "code",
        "id": "anhmAEpLuUjs",
        "colab": {}
      },
      "source": [
        "#adding new column with the count of words in a single row\n",
        "train_df['word_count'] = train_df['text'].str.split().map(len)\n",
        "\n",
        "#only using the rows with word count more than 0\n",
        "train_df = train_df[train_df['word_count'] > 0]\n",
        "\n",
        "#moving forward with 2 column from dataset , i.e., text and target\n",
        "train_df = train_df[[\"text\",\"target\"]]\n",
        "test_df = test_df[[\"text\"]]"
      ],
      "execution_count": 0,
      "outputs": []
    },
    {
      "cell_type": "code",
      "metadata": {
        "colab_type": "code",
        "id": "MCg5FiV9kSG4",
        "outputId": "3c34e0e7-bd64-4810-a9e3-275cb413433e",
        "colab": {
          "base_uri": "https://localhost:8080/",
          "height": 34
        }
      },
      "source": [
        "pip install pyspellchecker"
      ],
      "execution_count": 0,
      "outputs": [
        {
          "output_type": "stream",
          "text": [
            "Requirement already satisfied: pyspellchecker in /usr/local/lib/python3.6/dist-packages (0.5.4)\n"
          ],
          "name": "stdout"
        }
      ]
    },
    {
      "cell_type": "code",
      "metadata": {
        "id": "uPmqruZZRyd5",
        "colab_type": "code",
        "outputId": "81d57b77-6325-49c6-9662-a5e319686cdf",
        "colab": {
          "base_uri": "https://localhost:8080/",
          "height": 54
        }
      },
      "source": [
        "# optional remove ''' ''' to run spell checker\n",
        "'''\n",
        "from spellchecker import SpellChecker\n",
        "spell = SpellChecker()\n",
        "def correct_spellings(text):\n",
        "    corrected_text = []\n",
        "    misspelled_words = spell.unknown(text.split())\n",
        "    for word in text.split():\n",
        "        if word in misspelled_words:\n",
        "            corrected_text.append(spell.correction(word))\n",
        "        else:\n",
        "            corrected_text.append(word)\n",
        "    return \" \".join(corrected_text)\n",
        "\n",
        "train_df['text']=train_df['text'].apply(lambda x: correct_spellings(x))\n",
        "test_df['text']=test_df['text'].apply(lambda x: correct_spellings(x))\n",
        "        \n",
        "'''"
      ],
      "execution_count": 0,
      "outputs": [
        {
          "output_type": "execute_result",
          "data": {
            "text/plain": [
              "'\\nfrom spellchecker import SpellChecker\\nspell = SpellChecker()\\ndef correct_spellings(text):\\n    corrected_text = []\\n    misspelled_words = spell.unknown(text.split())\\n    for word in text.split():\\n        if word in misspelled_words:\\n            corrected_text.append(spell.correction(word))\\n        else:\\n            corrected_text.append(word)\\n    return \" \".join(corrected_text)\\n\\ntrain_df[\\'text\\']=train_df[\\'text\\'].apply(lambda x: correct_spellings(x))\\ntest_df[\\'text\\']=test_df[\\'text\\'].apply(lambda x: correct_spellings(x))\\n        \\n'"
            ]
          },
          "metadata": {
            "tags": []
          },
          "execution_count": 21
        }
      ]
    },
    {
      "cell_type": "code",
      "metadata": {
        "id": "VmZTpel5Ryd8",
        "colab_type": "code",
        "colab": {}
      },
      "source": [
        "#adding new column with the count of words in a single row\n",
        "train_df['word_count'] = train_df['text'].str.split().map(len)\n",
        "\n",
        "#only using the rows with word count more than 0\n",
        "train_df = train_df[train_df['word_count'] > 0]\n",
        "\n",
        "#moving forward with 2 column from dataset , i.e., text and target\n",
        "train_df = train_df[[\"text\",\"target\"]]\n",
        "test_df = test_df[[\"text\"]]"
      ],
      "execution_count": 0,
      "outputs": []
    },
    {
      "cell_type": "markdown",
      "metadata": {
        "colab_type": "text",
        "id": "P62iFHyaB8_2"
      },
      "source": [
        "## **Data Preprocessing**"
      ]
    },
    {
      "cell_type": "markdown",
      "metadata": {
        "colab_type": "text",
        "id": "NCCyc7b1ufdy"
      },
      "source": [
        "### Vectorized\n",
        "\n",
        "Text data is coded with strings and is not an appropriate input format in modelling. We want each unique word to be represented by integer and each tweet is represented by a vector of integer that can be mapped to a particular word."
      ]
    },
    {
      "cell_type": "code",
      "metadata": {
        "id": "raOpB0PbRyeB",
        "colab_type": "code",
        "colab": {}
      },
      "source": [
        "# Custom implementation of one-hot-encoding\n",
        "def vectorize_sequences(sequences, dimension=10000):\n",
        "    results = np.zeros((len(sequences), dimension))\n",
        "    for i, sequence in enumerate(sequences):\n",
        "        results[i, sequence] = 1.  # set specific indices of results[i] to 1s\n",
        "    return results"
      ],
      "execution_count": 0,
      "outputs": []
    },
    {
      "cell_type": "code",
      "metadata": {
        "id": "d5Tg_KcoRyeD",
        "colab_type": "code",
        "outputId": "93f5808d-3a88-476c-9e51-89776f45757a",
        "colab": {
          "base_uri": "https://localhost:8080/",
          "height": 34
        }
      },
      "source": [
        "# Split train dataset for cross validation and create token\n",
        "training_sentences = [ i for i in train_df.text[:6000]]\n",
        "test_sentences = [i for i in train_df.text[6000:]]\n",
        "\n",
        "training_labels = [ i for i in train_df.target[:6000]]\n",
        "test_labels = [i for i in train_df.target[6000:]]\n",
        "\n",
        "tokenizer = Tokenizer(num_words=10000,oov_token=\"<OOV>\")\n",
        "tokenizer.fit_on_texts(training_sentences)\n",
        "word_index = tokenizer.word_index\n",
        "print('Number of unique words:',len(word_index))\n",
        "\n",
        "# Encode sentences \n",
        "training_sequences = tokenizer.texts_to_sequences(training_sentences)\n",
        "test_sequences = tokenizer.texts_to_sequences(test_sentences)\n",
        "\n",
        "# Padding\n",
        "training_padded = pad_sequences(training_sequences,padding='post', maxlen = 100, truncating='post')\n",
        "test_padded = pad_sequences(test_sequences,padding='post', maxlen = 100, truncating='post')\n",
        "\n",
        "X_train = np.array(training_padded)\n",
        "y_train = np.array(training_labels)\n",
        "\n",
        "X_test = np.array(test_padded)\n",
        "y_test = np.array(test_labels)"
      ],
      "execution_count": 0,
      "outputs": [
        {
          "output_type": "stream",
          "text": [
            "Number of unique words: 14315\n"
          ],
          "name": "stdout"
        }
      ]
    },
    {
      "cell_type": "markdown",
      "metadata": {
        "id": "muvxUkzoe1Po",
        "colab_type": "text"
      },
      "source": [
        "There are 14315 unique words in our dataset."
      ]
    },
    {
      "cell_type": "code",
      "metadata": {
        "id": "rgkoOeBmRyeH",
        "colab_type": "code",
        "outputId": "64cfa9b5-ed9f-410b-e450-1ee0ac729a8b",
        "colab": {
          "base_uri": "https://localhost:8080/",
          "height": 85
        }
      },
      "source": [
        "print('Xtrain size:', X_train.shape)\n",
        "print('ytrain size:', y_train.shape)\n",
        "print('Xtest size:', X_test.shape)\n",
        "print('ytest size:', y_test.shape)"
      ],
      "execution_count": 0,
      "outputs": [
        {
          "output_type": "stream",
          "text": [
            "Xtrain size: (6000, 100)\n",
            "ytrain size: (6000,)\n",
            "Xtest size: (1612, 100)\n",
            "ytest size: (1612,)\n"
          ],
          "name": "stdout"
        }
      ]
    },
    {
      "cell_type": "markdown",
      "metadata": {
        "id": "mumcEwAUe6MO",
        "colab_type": "text"
      },
      "source": [
        "### Word Embedding\n",
        "This is a representation of text where similar words have a similar representation. In this project we will use two models of word embedding which are the one from keras layer and GloVe from standford. We will later compare which model is better for our dataset. Or if there are indifferent. This is also a good way to study how different embedding effects model performance\n",
        "\n"
      ]
    },
    {
      "cell_type": "markdown",
      "metadata": {
        "id": "FZEiCXPwilYl",
        "colab_type": "text"
      },
      "source": [
        "#### **Keras Embedding Layer**\n",
        "The layer initialized random weights and learn the embedding for all words in the dataset. The layer will be directly create when we create model. "
      ]
    },
    {
      "cell_type": "code",
      "metadata": {
        "id": "E8Y82Et1jQuC",
        "colab_type": "code",
        "colab": {}
      },
      "source": [
        "embedded_keras = tf.keras.layers.Embedding(len(word_index), 16)"
      ],
      "execution_count": 0,
      "outputs": []
    },
    {
      "cell_type": "markdown",
      "metadata": {
        "id": "Hqc1C3Lsh1Ga",
        "colab_type": "text"
      },
      "source": [
        "#### **GloVe Embedding Layer**\n",
        "\n",
        "GloVe or Global Vectors for Word Representation is a pretrained model which is an extension of word2vec. It creates a measure to indicate which words are more likely to appear in context of others. People have used GloVe with the reason that they believe it generalizes with the data and it contains a larger vocabulary set. The pretained GloVe can be downloaded from https://nlp.stanford.edu/projects/glove/"
      ]
    },
    {
      "cell_type": "code",
      "metadata": {
        "id": "u0w8OSzZiNGs",
        "colab_type": "code",
        "outputId": "a3defc5d-4aed-4304-8006-113eac0c27db",
        "colab": {
          "base_uri": "https://localhost:8080/",
          "height": 34
        }
      },
      "source": [
        "from google.colab import drive\n",
        "drive.mount('/content/drive')"
      ],
      "execution_count": 0,
      "outputs": [
        {
          "output_type": "stream",
          "text": [
            "Drive already mounted at /content/drive; to attempt to forcibly remount, call drive.mount(\"/content/drive\", force_remount=True).\n"
          ],
          "name": "stdout"
        }
      ]
    },
    {
      "cell_type": "code",
      "metadata": {
        "id": "qHMsktgVRyfb",
        "colab_type": "code",
        "colab": {}
      },
      "source": [
        "# load the whole embedding into memory\n",
        "# https://machinelearningmastery.com/use-word-embedding-layers-deep-learning-keras/\n",
        "# 100 dimensional version (embedding dimension)\n",
        "embeddings_index = dict()\n",
        "f = open('/content/drive/My Drive/Colab Notebooks/glove.twitter.27B.100d.txt')\n",
        "for line in f:\n",
        "    values = line.split()\n",
        "    word = values[0]\n",
        "    coefs = np.asarray(values[1:], dtype='float32')\n",
        "    embeddings_index[word] = coefs\n",
        "f.close()\n",
        "print('Loaded %s word vectors.' % len(embeddings_index))"
      ],
      "execution_count": 0,
      "outputs": []
    },
    {
      "cell_type": "markdown",
      "metadata": {
        "id": "CzYvHucEhuCv",
        "colab_type": "text"
      },
      "source": [
        "Embedding Matrix"
      ]
    },
    {
      "cell_type": "code",
      "metadata": {
        "id": "aXbWPxdOhsbD",
        "colab_type": "code",
        "colab": {}
      },
      "source": [
        "embedding_matrix = np.zeros((len(word_index)+1, 100))\n",
        "\n",
        "# Fill the weight in\n",
        "for word, i in tokenizer.word_index.items():\n",
        "    embedding_vec = embeddings_index.get(word)\n",
        "    if embedding_vec is not None:\n",
        "        #add to the matrix\n",
        "        embedding_matrix[i] = embedding_vec"
      ],
      "execution_count": 0,
      "outputs": []
    },
    {
      "cell_type": "markdown",
      "metadata": {
        "id": "Qy-WU0wbiBHF",
        "colab_type": "text"
      },
      "source": [
        "Embedding Layer"
      ]
    },
    {
      "cell_type": "code",
      "metadata": {
        "id": "LQs3VonEiAX5",
        "colab_type": "code",
        "colab": {}
      },
      "source": [
        "embedded = tf.keras.layers.Embedding(input_dim= len(word_index)+1, output_dim=100,\n",
        "                                    weights = [embedding_matrix], input_length=X_train.shape[1], trainable = False)"
      ],
      "execution_count": 0,
      "outputs": []
    },
    {
      "cell_type": "markdown",
      "metadata": {
        "colab_type": "text",
        "id": "lXfWhh4-AaFR"
      },
      "source": [
        "## **Linear Model**\n",
        "We presume that linear model is probably inappropriate for this dataset, however for out experiment, we would like to see how the data is explained by linear model."
      ]
    },
    {
      "cell_type": "code",
      "metadata": {
        "colab_type": "code",
        "id": "ONs1MeWLAi-i",
        "outputId": "413d02b4-a2bc-4a86-e605-8f6e3de32921",
        "scrolled": true,
        "colab": {
          "base_uri": "https://localhost:8080/",
          "height": 85
        }
      },
      "source": [
        "log_X = vectorize_sequences(training_sequences,dimension=len(word_index))\n",
        "log_y = np.asarray(training_labels).astype('float32')\n",
        "logreg = LogisticRegression()\n",
        "logreg_scores = cross_validate(logreg, log_X, log_y, cv=5, scoring=\"f1\", n_jobs=-1, return_train_score=True)\n",
        "logreg_scores"
      ],
      "execution_count": 0,
      "outputs": [
        {
          "output_type": "execute_result",
          "data": {
            "text/plain": [
              "{'fit_time': array([14.7415998 , 16.59960866, 15.05082655, 13.83539367,  8.68329477]),\n",
              " 'score_time': array([0.04654741, 0.04602957, 0.04626012, 0.05308867, 0.0257225 ]),\n",
              " 'test_score': array([0.63461538, 0.52548131, 0.57266811, 0.6       , 0.63255814]),\n",
              " 'train_score': array([0.93604951, 0.93555841, 0.93666323, 0.94374518, 0.93978991])}"
            ]
          },
          "metadata": {
            "tags": []
          },
          "execution_count": 33
        }
      ]
    },
    {
      "cell_type": "code",
      "metadata": {
        "colab_type": "code",
        "id": "g2GlZS_F8gC0",
        "outputId": "767efd7a-ba5b-41a3-e6ca-84a3b142a516",
        "colab": {
          "base_uri": "https://localhost:8080/",
          "height": 34
        }
      },
      "source": [
        "logreg_scores['test_score'].mean()"
      ],
      "execution_count": 0,
      "outputs": [
        {
          "output_type": "execute_result",
          "data": {
            "text/plain": [
              "0.5930645901303635"
            ]
          },
          "metadata": {
            "tags": []
          },
          "execution_count": 34
        }
      ]
    },
    {
      "cell_type": "markdown",
      "metadata": {
        "id": "4EVo6j-FRyeu",
        "colab_type": "text"
      },
      "source": [
        "## **Recurrent Neural Network**\n",
        "\n",
        "![Neural Network](https://drive.google.com/uc?id=1cBwZQMdIg9ybwr6D_VGbKaMsHIFBqGmS)\n",
        "\n",
        "**Why RNN? Why does not a simple neural network fit for this data?**\n",
        "\n",
        "* Inputs, outputs can be of different lengths in different examples\n",
        "* Doesn't share features learned across different position of text\n",
        "\n",
        "To overcome this we use Recurrent Neural Network, as it scans words from left to right, one drawback is that it only knows features from its left. Unlike feedforward network, RNN creates loops between each node in the neural network. It remembers the past or whatever it has learnt from prior input. This means it is able to learn the sequences of the data and generate a state that has information about what it has seen.\n"
      ]
    },
    {
      "cell_type": "markdown",
      "metadata": {
        "id": "XPzpom1sZMij",
        "colab_type": "text"
      },
      "source": [
        "### **Model 1: Vanilla RNN (RNN from Scratch) - Word Level**\n",
        "\n",
        "![alt text](https://drive.google.com/uc?id=1GASStj6K7826BPUBs0b_0aTR8nWD4PFX)\n",
        "\n",
        "The idea is to create a word level RNN in python/numpy that will provide a baseline model for more complex Neural Networks architecture, and also to gain low level understanding of the working of RNN (Sequence model)\n",
        "\n",
        "*Credits:*\n",
        "\n",
        "Andrej Karpathy https://gist.github.com/karpathy/d4dee566867f8291f086: Minimal character-level language model with a Vanilla Recurrent Neural Network, in Python/numpy. And the blog http://karpathy.github.io/2015/05/21/rnn-effectiveness/.\n",
        "\n",
        "The deep learning book by Michael Nielsen particularly http://neuralnetworksanddeeplearning.com/chap6.html\n",
        "\n",
        "Andrew ng Deep learning course (Course 5) on Coursera\n",
        "\n",
        "**Steps Taken:**\n",
        "\n",
        "1. Creating a vocabulary list of unique words from data to be later used in encoding each words into a one-hot vector using 1-k encoding. (k = len(vocab_list)\n",
        "2. Initialize the RNN model parameters\n",
        "3. Feedforward the training data(tweets) vectorized form into the network and calculate loss for that training example\n",
        "4. Backpropagate through time and obtain the gradient parameters.\n",
        "5. Gradient clipping to avoid exploding gradient problem\n",
        "6. Select/iterating over different learning rate and calculating new model paramters\n",
        "7. Repeating steps from 3-6 for some number of iterations that covers all training examples atleast 3 times"
      ]
    },
    {
      "cell_type": "code",
      "metadata": {
        "id": "Wi33lociRyev",
        "colab_type": "code",
        "outputId": "285f4fe4-5ffa-4895-eefe-0344f8454e8d",
        "colab": {}
      },
      "source": [
        "#creating vocabulary list which will have uniqe word list from training data\n",
        "vocab_list = list(train_df['text'].str.split(' ',expand=True).stack().unique())\n",
        "total_words = list(train_df['text'].str.split(' ',expand=True).stack())\n",
        "\n",
        "vocab_list_size = len(vocab_list)\n",
        "total_words_len = len(total_words)\n",
        "\n",
        "print(\"Vocab size : \",vocab_list_size)\n",
        "print(\"Total words in data : \", total_words_len)\n",
        "\n",
        "#creating a dictionary that has an index for each of the unique words\n",
        "words_idx = { word:i for i, word in enumerate(vocab_list) }"
      ],
      "execution_count": 0,
      "outputs": [
        {
          "output_type": "stream",
          "text": [
            "Vocab size :  16834\n",
            "Total words in data :  113521\n"
          ],
          "name": "stdout"
        }
      ]
    },
    {
      "cell_type": "code",
      "metadata": {
        "id": "ztJ5D7A8Ryey",
        "colab_type": "code",
        "outputId": "5dd0da61-25bc-45e8-d107-de16cec23edd",
        "colab": {}
      },
      "source": [
        "#converting a single training sample to retreive from dictionary\n",
        "temp = train_df['text'].str.split().values[1]\n",
        "inputs = [words_idx[i] for i in temp]\n",
        "output = train_df['target'].values[1]\n",
        "print(\"original text:\",temp)\n",
        "print(\"Wordlist index:\",inputs)\n",
        "print(\"Target label:\",output)"
      ],
      "execution_count": 0,
      "outputs": [
        {
          "output_type": "stream",
          "text": [
            "original text: ['forest', 'fire', 'near', 'la', 'ronge', 'sask', 'canada']\n",
            "Wordlist index: [13, 14, 15, 16, 17, 18, 19]\n",
            "Target label: 1\n"
          ],
          "name": "stdout"
        }
      ]
    },
    {
      "cell_type": "code",
      "metadata": {
        "id": "2j45viz1Rye1",
        "colab_type": "code",
        "outputId": "3fd6301a-3446-4c9c-87c6-51921a9e089b",
        "colab": {}
      },
      "source": [
        "#hyperparameters\n",
        "learning_rate = 0.005\n",
        "n_a = hidden_size = 100\n",
        "n_x = vocab_list_size \n",
        "n_y = 2\n",
        "\n",
        "#model_parameters\n",
        "Waa = np.random.randn(hidden_size,hidden_size)*0.1\n",
        "Wax = np.random.randn(hidden_size,vocab_list_size)*0.1\n",
        "Wya = np.random.randn(2,hidden_size)*0.1\n",
        "ba = np.zeros((n_a,1))\n",
        "by = np.zeros((n_y,1))\n",
        "\n",
        "#spliting into training and validation\n",
        "temp_df = train_df\n",
        "train = train_df.iloc[:7000]\n",
        "validation = temp_df.iloc[7000:]\n",
        "\n",
        "print('The training set examples: %d' %(len(train)))\n",
        "print('The validation set examples: %d' %(len(validation)))\n"
      ],
      "execution_count": 0,
      "outputs": [
        {
          "output_type": "stream",
          "text": [
            "The training set examples: 7000\n",
            "The validation set examples: 612\n"
          ],
          "name": "stdout"
        }
      ]
    },
    {
      "cell_type": "code",
      "metadata": {
        "id": "JPvMJAsKRye4",
        "colab_type": "code",
        "colab": {}
      },
      "source": [
        "#activation function\n",
        "def softmax(x):\n",
        "    e_x = np.exp(x - np.max(x))\n",
        "    return e_x / e_x.sum(axis=0)"
      ],
      "execution_count": 0,
      "outputs": []
    },
    {
      "cell_type": "markdown",
      "metadata": {
        "id": "CFNtYGIB8BPD",
        "colab_type": "text"
      },
      "source": [
        "![alt text](https://drive.google.com/uc?id=1MwD3M4EhqytzU0r_OJnNYxVDDi7d7obJ)"
      ]
    },
    {
      "cell_type": "code",
      "metadata": {
        "id": "XlNo1nnbRye6",
        "colab_type": "code",
        "colab": {}
      },
      "source": [
        "#feed-forward -- takes in the index of words in a example tweet and return the prediction\n",
        "def rnn_feedforward(input_data):\n",
        "  #initializing\n",
        "  xt,at = [], np.zeros((n_a,1))\n",
        "  for t in range(len(input_data)):\n",
        "    xt.append(np.zeros((n_x,1)))#encode in 1-k one hot-representation\n",
        "    xt[t][input_data[t]] = 1\n",
        "    at = np.tanh(np.dot(Waa,at)+np.dot(Wax,xt[t])+ba) #hidden state activation function\n",
        "    \n",
        "  yt = np.dot(Wya,at) + by \n",
        "  pred = softmax(yt) #softmax function for getting probability for binary classification\n",
        "  prediction = np.argmax(pred)\n",
        "  return prediction"
      ],
      "execution_count": 0,
      "outputs": []
    },
    {
      "cell_type": "code",
      "metadata": {
        "id": "FgLPr0pGRyfA",
        "colab_type": "code",
        "outputId": "e99594ae-93f9-4954-9b15-e9e4ea433b2f",
        "colab": {}
      },
      "source": [
        "num_iterations = 5\n",
        "\n",
        "#memory variables for Adagrad\n",
        "mWaa, mWya, mWax = np.zeros_like(Waa), np.zeros_like(Wya), np.zeros_like(Wax)\n",
        "mby, mba = np.zeros_like(by), np.zeros_like(ba)\n",
        "\n",
        "for i in range(num_iterations):\n",
        "  \n",
        "  idx = i%len(train)\n",
        "  example = train['text'].str.split().values[idx]\n",
        "  inputs = [words_idx[i] for i in example]\n",
        "  print(inputs)\n",
        "  targets = int(train['target'].values[idx])\n",
        "  \n",
        "  prediction = rnn_feedforward(inputs)"
      ],
      "execution_count": 0,
      "outputs": [
        {
          "output_type": "stream",
          "text": [
            "[0, 1, 2, 3, 4, 5, 6, 7, 8, 9, 10, 11, 12]\n",
            "[13, 14, 15, 16, 17, 18, 19]\n",
            "[12, 20, 21, 22, 23, 24, 25, 2, 26, 27, 28, 29, 30, 31, 32, 33, 23, 24, 25, 34, 2, 35]\n",
            "[37, 38, 39, 32, 34, 24, 40]\n",
            "[41, 42, 43, 6, 44, 45, 46, 47, 48, 49, 45, 39, 50, 51, 52, 53]\n"
          ],
          "name": "stdout"
        }
      ]
    },
    {
      "cell_type": "markdown",
      "metadata": {
        "id": "tCW0KUcCRyfD",
        "colab_type": "text"
      },
      "source": [
        "Function that takes input as one row with text and target value, feedforward the network, calculates the cost which is loss of predicted vs actual Y/target.\n",
        "\n",
        "Then performs backpropagation and updates the gradient of all the parameters and returns it.\n",
        "\n",
        "![alt text](https://drive.google.com/uc?id=1LxlNKbu037x2KrAoz5DMKf_BLLEprnTA)"
      ]
    },
    {
      "cell_type": "code",
      "metadata": {
        "id": "Un8m05-ARyfE",
        "colab_type": "code",
        "colab": {}
      },
      "source": [
        "#feedforward and backpropagation\n",
        "def rnn_model(input_data,targets):\n",
        "  \n",
        "  xt,at = [],[]\n",
        "  at.append(np.zeros((n_a,1)))\n",
        "  loss = 0\n",
        "  \n",
        "  #feed forward\n",
        "  for t in range(len(input_data)):\n",
        "    xt.append(np.zeros((n_x,1)))\n",
        "    xt[t][input_data[t]] = 1\n",
        "    \n",
        "    at.append(np.tanh(np.dot(Waa,at[t])+np.dot(Wax,xt[t])+ba))\n",
        "    \n",
        "  yt = np.dot(Wya,at[-1]) + by\n",
        "  pred = np.exp(yt) / np.sum(np.exp(yt),axis=0)\n",
        "  \n",
        "  prediction = np.argmax(pred)\n",
        "  \n",
        "  #loss-cost\n",
        "  \n",
        "  y = np.zeros((2,1))\n",
        "  y[targets] = 1\n",
        "  loss = -np.log(np.sum(pred*y,axis = 0)) #cross-entropy loss\n",
        "  \n",
        "  #backpropagation through time\n",
        "  dWaa, dWya, dWax = np.zeros_like(Waa), np.zeros_like(Wya), np.zeros_like(Wax)\n",
        "  dby, dba = np.zeros_like(by), np.zeros_like(ba)\n",
        "  \n",
        "  dy = pred - y\n",
        "  dWya = np.dot(dy,at[-1].transpose())\n",
        "  dby = np.copy(dy)\n",
        "  \n",
        "  dat = np.dot(Wya.transpose(),dy)\n",
        "  dtanh = (1-at[-1]*at[-1]) * dat\n",
        "  \n",
        "  dWax = np.dot(dtanh, xt[-1].transpose())\n",
        "  dWaa = np.dot(dtanh, at[-2].transpose())\n",
        "  dba = np.copy(dtanh)\n",
        "  da_next = np.dot(Waa.transpose(),dtanh)\n",
        "  for t in reversed(range(len(input_data)-2)):\n",
        "    \n",
        "    dat = np.copy(da_next)\n",
        "    dtanh = (1- at[t+1] * at[t+1]) * dat\n",
        "    \n",
        "    dWax += np.dot(dtanh, xt[t].transpose())\n",
        "    dWaa += np.dot(dtanh, at[t].transpose())\n",
        "    dba += np.copy(dtanh)\n",
        "    da_next = np.dot(Waa.transpose(),dtanh)\n",
        "    \n",
        "  for dparams in [dWaa,dWax,dba,dby,dWya]:\n",
        "    np.clip(dparams,-5,5,out=dparams)\n",
        "    \n",
        "  return loss, dWaa, dWax, dba, dby, dWya"
      ],
      "execution_count": 0,
      "outputs": []
    },
    {
      "cell_type": "markdown",
      "metadata": {
        "id": "ulhP6x5LRyfH",
        "colab_type": "text"
      },
      "source": [
        "Feeding training data into the network to retrieve the gradient and using Adagrad optimizer to perform the gradient descent. \n",
        "\n",
        "And we repeat this process for all the training examples and for n epochs\n",
        "\n",
        "**Adagrad Optimizer** : Adaptively scales the learning rate with respect to the accumulated square gradient at each iteration in each dimention"
      ]
    },
    {
      "cell_type": "code",
      "metadata": {
        "id": "__jN6EgJRyfI",
        "colab_type": "code",
        "outputId": "f0e2f466-3d1b-4001-aec6-0e42985baf68",
        "colab": {}
      },
      "source": [
        "#select any number of iteration for start\n",
        "num_iterations = 15000\n",
        "test_scores = []\n",
        "#memory variables for Adagrad optimizer - backprop\n",
        "mWaa, mWya, mWax = np.zeros_like(Waa), np.zeros_like(Wya), np.zeros_like(Wax)\n",
        "mby, mba = np.zeros_like(by), np.zeros_like(ba)\n",
        "\n",
        "for i in range(num_iterations):\n",
        "  idx = i%len(train)\n",
        "  example = train['text'].str.split().values[idx]\n",
        "  inputs = [words_idx[i] for i in example]\n",
        "  targets = int(train['target'].values[idx])\n",
        "  \n",
        "  #prediction = rnn_feedforward(inputs,targets)\n",
        "  loss,dWaa, dWax, dba, dby, dWya = rnn_model(inputs,targets)\n",
        "  \n",
        "  #Adagrad optimizer\n",
        "  #performing paramete update with Adagrad\n",
        "  for param, dparam, mem in zip([Waa, Wax, Wya, ba, by],\n",
        "                                [dWaa, dWax, dWya, dba, dby],\n",
        "                                [mWaa, mWax, mWya, mba, mby]):\n",
        "    mem += dparam * dparam\n",
        "    param += -learning_rate * dparam / np.sqrt(mem+1e-8) #adagrad update\n",
        "  \n",
        "  # validation accuracy\n",
        "  # using for loop instead of vectorization\n",
        "  if i % 700 == 0:\n",
        "    predictions = []\n",
        "    count=0\n",
        "    actual_targets= validation['target'].tolist()\n",
        "    for j in range(len(validation)):\n",
        "        example = validation['text'].str.split().values[j]\n",
        "        inputs = [words_idx[l] for l in example]\n",
        "        predictions.append(rnn_feedforward(inputs))\n",
        "          \n",
        "    for y, y_hat in zip(actual_targets, predictions):\n",
        "        if y==y_hat:\n",
        "            count+=1\n",
        "    print('The validation_accuracy after iterations:%d is %d'%(i,(count/len(validation))*100))\n",
        "    test_scores.append((count/len(validation))*100)"
      ],
      "execution_count": 0,
      "outputs": [
        {
          "output_type": "stream",
          "text": [
            "The validation_accuracy after iterations:0 is 54\n",
            "The validation_accuracy after iterations:700 is 47\n",
            "The validation_accuracy after iterations:1400 is 55\n",
            "The validation_accuracy after iterations:2100 is 47\n",
            "The validation_accuracy after iterations:2800 is 54\n",
            "The validation_accuracy after iterations:3500 is 59\n",
            "The validation_accuracy after iterations:4200 is 59\n",
            "The validation_accuracy after iterations:4900 is 64\n",
            "The validation_accuracy after iterations:5600 is 66\n",
            "The validation_accuracy after iterations:6300 is 63\n",
            "The validation_accuracy after iterations:7000 is 65\n",
            "The validation_accuracy after iterations:7700 is 62\n",
            "The validation_accuracy after iterations:8400 is 67\n",
            "The validation_accuracy after iterations:9100 is 69\n",
            "The validation_accuracy after iterations:9800 is 71\n",
            "The validation_accuracy after iterations:10500 is 71\n",
            "The validation_accuracy after iterations:11200 is 72\n",
            "The validation_accuracy after iterations:11900 is 70\n",
            "The validation_accuracy after iterations:12600 is 71\n",
            "The validation_accuracy after iterations:13300 is 72\n",
            "The validation_accuracy after iterations:14000 is 73\n",
            "The validation_accuracy after iterations:14700 is 72\n"
          ],
          "name": "stdout"
        }
      ]
    },
    {
      "cell_type": "code",
      "metadata": {
        "id": "n4lE6hVURyfM",
        "colab_type": "code",
        "outputId": "1431bc0f-b457-4bdd-d259-3702b55d4c6b",
        "colab": {}
      },
      "source": [
        "plt.plot(test_scores)\n",
        "plt.xlabel(\"epochs\")\n",
        "plt.ylabel(\"score in %\")\n",
        "plt.title(\"Validation Score\")\n",
        "plt.show()"
      ],
      "execution_count": 0,
      "outputs": [
        {
          "output_type": "display_data",
          "data": {
            "image/png": "[encoded data removed]",
            "text/plain": [
              "<Figure size 432x288 with 1 Axes>"
            ]
          },
          "metadata": {
            "tags": [],
            "needs_background": "light"
          }
        }
      ]
    },
    {
      "cell_type": "markdown",
      "metadata": {
        "id": "NPgjO9ZjRyfQ",
        "colab_type": "text"
      },
      "source": [
        "**Results Summary:**\n",
        "\n",
        "The validation accuracy arrives closely to 72% (better than randomly guessing). Tried 2 sets of learning rate values with 0.001 accuracy was 70% whereas with learning rate 0.005 accuracy boosted to 72%. \n",
        "\n",
        "We have not experimented with other hyperparameters or tried any high level/complex data cleaning. Still, it seems that my RNN is learning association between words that helps to classify the tweets.\n",
        "\n",
        "**Future scope:**\n",
        "we can try different network architectures \n",
        "training model for longer iterations"
      ]
    },
    {
      "cell_type": "code",
      "metadata": {
        "id": "hoZVpx7zRyfR",
        "colab_type": "code",
        "colab": {}
      },
      "source": [
        "#saving matrix values for parameters which includes weights and biases for later use to predict test data\n",
        "# saving the model\n",
        "import pickle\n",
        "filename = 'rnn_model_v1.pkl'\n",
        "with open(filename, \"wb\") as f:\n",
        "    pickle.dump((Waa, Wax, ba, by, Wya ), f)"
      ],
      "execution_count": 0,
      "outputs": []
    },
    {
      "cell_type": "code",
      "metadata": {
        "id": "KhdtYLXTRyfU",
        "colab_type": "code",
        "colab": {}
      },
      "source": [
        "#loading the saved model\n",
        "import pickle\n",
        "filename = 'rnn_model_v1.pkl'\n",
        "with open(filename, \"rb\") as f:\n",
        "    Waa, Wax, ba, by, Wya  = pickle.load(f)"
      ],
      "execution_count": 0,
      "outputs": []
    },
    {
      "cell_type": "code",
      "metadata": {
        "id": "zvkS9qdgRyfX",
        "colab_type": "code",
        "outputId": "4ded7f94-55f5-49c0-e63d-86ffb73f5b4b",
        "colab": {}
      },
      "source": [
        "#checking if parameters loaded in correctly\n",
        "#using loaded model\n",
        "count = 0\n",
        "for j in range(len(validation)):\n",
        "  \n",
        "  example = validation['text'].str.split().values[j]\n",
        "  inputs = [words_idx[l] for l in example]\n",
        "  predictions.append(rnn_feedforward(inputs))\n",
        "          \n",
        "for y, y_hat in zip(actual_targets, predictions):\n",
        "  if y==y_hat:\n",
        "    count+=1\n",
        "print(\"Correctly Predicted:\",count)\n",
        "print(\"Total Data in validation set:\",len(validation))\n",
        "print('The validation_accuracy is',(count/len(validation))*100)"
      ],
      "execution_count": 0,
      "outputs": [
        {
          "output_type": "stream",
          "text": [
            "Correctly Predicted: 445\n",
            "Total Data in validation set: 612\n",
            "The validation_accuracy is 72.7124183006536\n"
          ],
          "name": "stdout"
        }
      ]
    },
    {
      "cell_type": "markdown",
      "metadata": {
        "id": "HLSimOxmRyfl",
        "colab_type": "text"
      },
      "source": [
        "### Model 2: LSTM model with regularization, increase dimensionality"
      ]
    },
    {
      "cell_type": "code",
      "metadata": {
        "id": "C02IGLWcRyfl",
        "colab_type": "code",
        "outputId": "8e7db5e8-fea1-4c7a-faa7-5348f2e6ee48",
        "colab": {
          "base_uri": "https://localhost:8080/",
          "height": 255
        }
      },
      "source": [
        "lstm_m1 = tf.keras.models.Sequential([\n",
        "    embedded,\n",
        "    tf.keras.layers.LSTM(256, dropout=0.2, recurrent_dropout=0.5),\n",
        "    tf.keras.layers.Dense(1, activation='sigmoid')\n",
        "])\n",
        "\n",
        "lstm_m1.compile(optimizer = 'rmsprop', loss='binary_crossentropy', metrics = ['accuracy'])\n",
        "lstm_m1.summary()"
      ],
      "execution_count": 0,
      "outputs": [
        {
          "output_type": "stream",
          "text": [
            "Model: \"sequential\"\n",
            "_________________________________________________________________\n",
            "Layer (type)                 Output Shape              Param #   \n",
            "=================================================================\n",
            "embedding_1 (Embedding)      (None, 100, 100)          1431600   \n",
            "_________________________________________________________________\n",
            "lstm (LSTM)                  (None, 256)               365568    \n",
            "_________________________________________________________________\n",
            "dense (Dense)                (None, 1)                 257       \n",
            "=================================================================\n",
            "Total params: 1,797,425\n",
            "Trainable params: 365,825\n",
            "Non-trainable params: 1,431,600\n",
            "_________________________________________________________________\n"
          ],
          "name": "stdout"
        }
      ]
    },
    {
      "cell_type": "code",
      "metadata": {
        "id": "LSqurs2BRyfo",
        "colab_type": "code",
        "outputId": "16de0191-1dfb-49bd-cfee-19c42f18cca2",
        "colab": {
          "base_uri": "https://localhost:8080/",
          "height": 714
        }
      },
      "source": [
        "with tf.device('/device:GPU:0'):\n",
        "  hist_m1 = lstm_m1.fit(X_train, y_train, epochs = 20, batch_size = 256, validation_data= (X_test, y_test))"
      ],
      "execution_count": 0,
      "outputs": [
        {
          "output_type": "stream",
          "text": [
            "Train on 6000 samples, validate on 1612 samples\n",
            "Epoch 1/20\n",
            "6000/6000 [==============================] - 11s 2ms/sample - loss: 0.6906 - accuracy: 0.5768 - val_loss: 0.6922 - val_accuracy: 0.5323\n",
            "Epoch 2/20\n",
            "6000/6000 [==============================] - 7s 1ms/sample - loss: 0.6808 - accuracy: 0.5805 - val_loss: 0.6927 - val_accuracy: 0.5323\n",
            "Epoch 3/20\n",
            "6000/6000 [==============================] - 7s 1ms/sample - loss: 0.6812 - accuracy: 0.5805 - val_loss: 0.6932 - val_accuracy: 0.5323\n",
            "Epoch 4/20\n",
            "6000/6000 [==============================] - 7s 1ms/sample - loss: 0.6632 - accuracy: 0.6090 - val_loss: 0.5803 - val_accuracy: 0.7016\n",
            "Epoch 5/20\n",
            "6000/6000 [==============================] - 7s 1ms/sample - loss: 0.6020 - accuracy: 0.6948 - val_loss: 0.5510 - val_accuracy: 0.7543\n",
            "Epoch 6/20\n",
            "6000/6000 [==============================] - 7s 1ms/sample - loss: 0.6118 - accuracy: 0.6420 - val_loss: 0.5901 - val_accuracy: 0.7295\n",
            "Epoch 7/20\n",
            "6000/6000 [==============================] - 7s 1ms/sample - loss: 0.6445 - accuracy: 0.5727 - val_loss: 0.6822 - val_accuracy: 0.5323\n",
            "Epoch 8/20\n",
            "6000/6000 [==============================] - 7s 1ms/sample - loss: 0.6631 - accuracy: 0.5638 - val_loss: 0.7047 - val_accuracy: 0.5323\n",
            "Epoch 9/20\n",
            "6000/6000 [==============================] - 7s 1ms/sample - loss: 0.6683 - accuracy: 0.5760 - val_loss: 0.6834 - val_accuracy: 0.5323\n",
            "Epoch 10/20\n",
            "6000/6000 [==============================] - 7s 1ms/sample - loss: 0.6600 - accuracy: 0.5778 - val_loss: 0.6867 - val_accuracy: 0.5323\n",
            "Epoch 11/20\n",
            "6000/6000 [==============================] - 7s 1ms/sample - loss: 0.6595 - accuracy: 0.5685 - val_loss: 0.6016 - val_accuracy: 0.5323\n",
            "Epoch 12/20\n",
            "6000/6000 [==============================] - 7s 1ms/sample - loss: 0.6042 - accuracy: 0.6787 - val_loss: 0.5701 - val_accuracy: 0.7562\n",
            "Epoch 13/20\n",
            "6000/6000 [==============================] - 7s 1ms/sample - loss: 0.5902 - accuracy: 0.7040 - val_loss: 0.5720 - val_accuracy: 0.7463\n",
            "Epoch 14/20\n",
            "6000/6000 [==============================] - 7s 1ms/sample - loss: 0.5955 - accuracy: 0.6962 - val_loss: 0.5888 - val_accuracy: 0.7177\n",
            "Epoch 15/20\n",
            "6000/6000 [==============================] - 7s 1ms/sample - loss: 0.5901 - accuracy: 0.7000 - val_loss: 0.5684 - val_accuracy: 0.7475\n",
            "Epoch 16/20\n",
            "6000/6000 [==============================] - 7s 1ms/sample - loss: 0.5815 - accuracy: 0.7248 - val_loss: 0.5657 - val_accuracy: 0.7599\n",
            "Epoch 17/20\n",
            "6000/6000 [==============================] - 7s 1ms/sample - loss: 0.5799 - accuracy: 0.7297 - val_loss: 0.5587 - val_accuracy: 0.7605\n",
            "Epoch 18/20\n",
            "6000/6000 [==============================] - 7s 1ms/sample - loss: 0.5886 - accuracy: 0.7168 - val_loss: 0.5761 - val_accuracy: 0.7593\n",
            "Epoch 19/20\n",
            "6000/6000 [==============================] - 7s 1ms/sample - loss: 0.5888 - accuracy: 0.7170 - val_loss: 0.5642 - val_accuracy: 0.7438\n",
            "Epoch 20/20\n",
            "6000/6000 [==============================] - 7s 1ms/sample - loss: 0.5973 - accuracy: 0.6653 - val_loss: 0.6054 - val_accuracy: 0.6861\n"
          ],
          "name": "stdout"
        }
      ]
    },
    {
      "cell_type": "code",
      "metadata": {
        "id": "z4-iUiSWRyfq",
        "colab_type": "code",
        "outputId": "85586358-4c68-4826-a62b-db900fb5f257",
        "colab": {
          "base_uri": "https://localhost:8080/",
          "height": 541
        }
      },
      "source": [
        "def plot_graphs(history, string):\n",
        "  plt.plot(history.history[string])\n",
        "  plt.plot(history.history['val_'+string])\n",
        "  plt.xlabel(\"Epochs\")\n",
        "  plt.ylabel(string)\n",
        "  plt.legend([string , 'val_'+string])\n",
        "  plt.show()\n",
        "  \n",
        "plot_graphs(hist_m1, \"accuracy\")\n",
        "plot_graphs(hist_m1, \"loss\")"
      ],
      "execution_count": 0,
      "outputs": [
        {
          "output_type": "display_data",
          "data": {
            "image/png": "[encoded data removed]",
            "text/plain": [
              "<Figure size 432x288 with 1 Axes>"
            ]
          },
          "metadata": {
            "tags": []
          }
        },
        {
          "output_type": "display_data",
          "data": {
            "image/png": "[encoded data removed]",
            "text/plain": [
              "<Figure size 432x288 with 1 Axes>"
            ]
          },
          "metadata": {
            "tags": []
          }
        }
      ]
    },
    {
      "cell_type": "code",
      "metadata": {
        "id": "6gaF6JdDRyft",
        "colab_type": "code",
        "outputId": "eea1159d-b33a-471c-f083-ef2e43b21d7f",
        "colab": {
          "base_uri": "https://localhost:8080/",
          "height": 51
        }
      },
      "source": [
        "# Find train and test accuracy\n",
        "loss, accuracy = lstm_m1.evaluate(X_train, y_train, verbose=False)\n",
        "print(\"Training Accuracy: {:.4f}\".format(accuracy))\n",
        "loss, accuracy = lstm_m1.evaluate(X_test, y_test, verbose=False)\n",
        "print(\"Testing Accuracy:  {:.4f}\".format(accuracy))"
      ],
      "execution_count": 0,
      "outputs": [
        {
          "output_type": "stream",
          "text": [
            "Training Accuracy: 0.6570\n",
            "Testing Accuracy:  0.6861\n"
          ],
          "name": "stdout"
        }
      ]
    },
    {
      "cell_type": "markdown",
      "metadata": {
        "id": "YuFbBTrmRyfv",
        "colab_type": "text"
      },
      "source": [
        "### Model 3: LSTM with regularization, reduce dimensionality"
      ]
    },
    {
      "cell_type": "code",
      "metadata": {
        "id": "TZiLrfYlRyfv",
        "colab_type": "code",
        "outputId": "69567688-25f5-4d6f-d00b-9d4c9790c5f1",
        "colab": {
          "base_uri": "https://localhost:8080/",
          "height": 255
        }
      },
      "source": [
        "lstm_m2 = tf.keras.models.Sequential([\n",
        "    embedded,\n",
        "    tf.keras.layers.LSTM(64, dropout=0.2, recurrent_dropout=0.5),\n",
        "    tf.keras.layers.Dense(1, activation='sigmoid')\n",
        "])\n",
        "\n",
        "lstm_m2.compile(optimizer = 'rmsprop', loss='binary_crossentropy', metrics = ['accuracy'])\n",
        "lstm_m2.summary()"
      ],
      "execution_count": 0,
      "outputs": [
        {
          "output_type": "stream",
          "text": [
            "Model: \"sequential_1\"\n",
            "_________________________________________________________________\n",
            "Layer (type)                 Output Shape              Param #   \n",
            "=================================================================\n",
            "embedding_1 (Embedding)      (None, 100, 100)          1431600   \n",
            "_________________________________________________________________\n",
            "lstm_1 (LSTM)                (None, 64)                42240     \n",
            "_________________________________________________________________\n",
            "dense_1 (Dense)              (None, 1)                 65        \n",
            "=================================================================\n",
            "Total params: 1,473,905\n",
            "Trainable params: 42,305\n",
            "Non-trainable params: 1,431,600\n",
            "_________________________________________________________________\n"
          ],
          "name": "stdout"
        }
      ]
    },
    {
      "cell_type": "code",
      "metadata": {
        "id": "vGmpWAg_Ryfy",
        "colab_type": "code",
        "outputId": "d3262bad-27be-4d44-c7ab-4e39a26d5831",
        "colab": {
          "base_uri": "https://localhost:8080/",
          "height": 714
        }
      },
      "source": [
        "with tf.device('/device:GPU:0'):\n",
        "  hist_m2 = lstm_m2.fit(X_train, y_train, epochs = 20, batch_size = 256, validation_data= (X_test, y_test))"
      ],
      "execution_count": 0,
      "outputs": [
        {
          "output_type": "stream",
          "text": [
            "Train on 6000 samples, validate on 1612 samples\n",
            "Epoch 1/20\n",
            "6000/6000 [==============================] - 10s 2ms/sample - loss: 0.6836 - accuracy: 0.5777 - val_loss: 0.6944 - val_accuracy: 0.5323\n",
            "Epoch 2/20\n",
            "6000/6000 [==============================] - 6s 1ms/sample - loss: 0.6565 - accuracy: 0.6253 - val_loss: 0.5600 - val_accuracy: 0.7785\n",
            "Epoch 3/20\n",
            "6000/6000 [==============================] - 7s 1ms/sample - loss: 0.6183 - accuracy: 0.6833 - val_loss: 0.5450 - val_accuracy: 0.7723\n",
            "Epoch 4/20\n",
            "6000/6000 [==============================] - 7s 1ms/sample - loss: 0.6011 - accuracy: 0.7092 - val_loss: 0.5566 - val_accuracy: 0.7655\n",
            "Epoch 5/20\n",
            "6000/6000 [==============================] - 7s 1ms/sample - loss: 0.6018 - accuracy: 0.6928 - val_loss: 0.5638 - val_accuracy: 0.7661\n",
            "Epoch 6/20\n",
            "6000/6000 [==============================] - 6s 1ms/sample - loss: 0.5888 - accuracy: 0.7073 - val_loss: 0.5590 - val_accuracy: 0.7692\n",
            "Epoch 7/20\n",
            "6000/6000 [==============================] - 7s 1ms/sample - loss: 0.5815 - accuracy: 0.7243 - val_loss: 0.5496 - val_accuracy: 0.7730\n",
            "Epoch 8/20\n",
            "6000/6000 [==============================] - 6s 1ms/sample - loss: 0.5912 - accuracy: 0.7117 - val_loss: 0.5594 - val_accuracy: 0.7717\n",
            "Epoch 9/20\n",
            "6000/6000 [==============================] - 6s 1ms/sample - loss: 0.5864 - accuracy: 0.7202 - val_loss: 0.5572 - val_accuracy: 0.7711\n",
            "Epoch 10/20\n",
            "6000/6000 [==============================] - 7s 1ms/sample - loss: 0.5889 - accuracy: 0.7197 - val_loss: 0.5440 - val_accuracy: 0.7742\n",
            "Epoch 11/20\n",
            "6000/6000 [==============================] - 7s 1ms/sample - loss: 0.5862 - accuracy: 0.7233 - val_loss: 0.5523 - val_accuracy: 0.7723\n",
            "Epoch 12/20\n",
            "6000/6000 [==============================] - 6s 1ms/sample - loss: 0.5823 - accuracy: 0.7298 - val_loss: 0.5489 - val_accuracy: 0.7674\n",
            "Epoch 13/20\n",
            "6000/6000 [==============================] - 7s 1ms/sample - loss: 0.5810 - accuracy: 0.7232 - val_loss: 0.5452 - val_accuracy: 0.7705\n",
            "Epoch 14/20\n",
            "6000/6000 [==============================] - 6s 1ms/sample - loss: 0.5861 - accuracy: 0.7152 - val_loss: 0.5643 - val_accuracy: 0.7649\n",
            "Epoch 15/20\n",
            "6000/6000 [==============================] - 6s 1ms/sample - loss: 0.5915 - accuracy: 0.7025 - val_loss: 0.5573 - val_accuracy: 0.7605\n",
            "Epoch 16/20\n",
            "6000/6000 [==============================] - 6s 1ms/sample - loss: 0.5836 - accuracy: 0.7092 - val_loss: 0.5547 - val_accuracy: 0.7618\n",
            "Epoch 17/20\n",
            "6000/6000 [==============================] - 6s 1ms/sample - loss: 0.5954 - accuracy: 0.7018 - val_loss: 0.5567 - val_accuracy: 0.7692\n",
            "Epoch 18/20\n",
            "6000/6000 [==============================] - 7s 1ms/sample - loss: 0.5860 - accuracy: 0.7148 - val_loss: 0.5561 - val_accuracy: 0.7667\n",
            "Epoch 19/20\n",
            "6000/6000 [==============================] - 7s 1ms/sample - loss: 0.5875 - accuracy: 0.7177 - val_loss: 0.5614 - val_accuracy: 0.7674\n",
            "Epoch 20/20\n",
            "6000/6000 [==============================] - 6s 1ms/sample - loss: 0.5923 - accuracy: 0.7133 - val_loss: 0.5498 - val_accuracy: 0.7674\n"
          ],
          "name": "stdout"
        }
      ]
    },
    {
      "cell_type": "code",
      "metadata": {
        "id": "VoFSFrVpRyf0",
        "colab_type": "code",
        "outputId": "77396fc0-8fa9-4d16-e223-a489c70c1166",
        "colab": {
          "base_uri": "https://localhost:8080/",
          "height": 543
        }
      },
      "source": [
        "plot_graphs(hist_m2, \"accuracy\")\n",
        "plot_graphs(hist_m2, \"loss\")"
      ],
      "execution_count": 0,
      "outputs": [
        {
          "output_type": "display_data",
          "data": {
            "image/png": "[encoded data removed]",
            "text/plain": [
              "<Figure size 432x288 with 1 Axes>"
            ]
          },
          "metadata": {
            "tags": []
          }
        },
        {
          "output_type": "display_data",
          "data": {
            "image/png": "[encoded data removed]",
            "text/plain": [
              "<Figure size 432x288 with 1 Axes>"
            ]
          },
          "metadata": {
            "tags": []
          }
        }
      ]
    },
    {
      "cell_type": "code",
      "metadata": {
        "id": "lZli_-I6Ryf4",
        "colab_type": "code",
        "outputId": "6c26b63a-0daf-4f12-c2bb-45aaab6565f7",
        "colab": {
          "base_uri": "https://localhost:8080/",
          "height": 51
        }
      },
      "source": [
        "# Find train and test accuracy\n",
        "loss, accuracy = lstm_m2.evaluate(X_train, y_train, verbose=False)\n",
        "print(\"Training Accuracy: {:.4f}\".format(accuracy))\n",
        "loss, accuracy = lstm_m2.evaluate(X_test, y_test, verbose=False)\n",
        "print(\"Testing Accuracy:  {:.4f}\".format(accuracy))"
      ],
      "execution_count": 0,
      "outputs": [
        {
          "output_type": "stream",
          "text": [
            "Training Accuracy: 0.7428\n",
            "Testing Accuracy:  0.7674\n"
          ],
          "name": "stdout"
        }
      ]
    },
    {
      "cell_type": "markdown",
      "metadata": {
        "id": "Og7_F4HpRyf7",
        "colab_type": "text"
      },
      "source": [
        "### Model 4: LSTM Layer Stacking "
      ]
    },
    {
      "cell_type": "code",
      "metadata": {
        "id": "zkPctAyqRyf7",
        "colab_type": "code",
        "outputId": "3286a6da-b083-4fca-e6d4-01ee69bd8a8a",
        "colab": {
          "base_uri": "https://localhost:8080/",
          "height": 289
        }
      },
      "source": [
        "lstm_m3 = tf.keras.models.Sequential([\n",
        "    embedded,\n",
        "    tf.keras.layers.LSTM(128, dropout=0.2, recurrent_dropout=0.5, return_sequences = True),\n",
        "    tf.keras.layers.LSTM(64, dropout=0.2, recurrent_dropout=0.5),\n",
        "    tf.keras.layers.Dense(1, activation='sigmoid')\n",
        "])\n",
        "\n",
        "lstm_m3.compile(optimizer = 'rmsprop', loss='binary_crossentropy', metrics = ['accuracy'])\n",
        "lstm_m3.summary()"
      ],
      "execution_count": 0,
      "outputs": [
        {
          "output_type": "stream",
          "text": [
            "Model: \"sequential_2\"\n",
            "_________________________________________________________________\n",
            "Layer (type)                 Output Shape              Param #   \n",
            "=================================================================\n",
            "embedding_1 (Embedding)      (None, 100, 100)          1431600   \n",
            "_________________________________________________________________\n",
            "lstm_2 (LSTM)                (None, 100, 128)          117248    \n",
            "_________________________________________________________________\n",
            "lstm_3 (LSTM)                (None, 64)                49408     \n",
            "_________________________________________________________________\n",
            "dense_2 (Dense)              (None, 1)                 65        \n",
            "=================================================================\n",
            "Total params: 1,598,321\n",
            "Trainable params: 166,721\n",
            "Non-trainable params: 1,431,600\n",
            "_________________________________________________________________\n"
          ],
          "name": "stdout"
        }
      ]
    },
    {
      "cell_type": "code",
      "metadata": {
        "id": "lvmlNdE2Ryf-",
        "colab_type": "code",
        "outputId": "3c576fd3-4eb4-4fb8-a46e-59c5551a5f67",
        "colab": {
          "base_uri": "https://localhost:8080/",
          "height": 714
        }
      },
      "source": [
        "with tf.device('/device:GPU:0'):\n",
        "  hist_m3 = lstm_m3.fit(X_train, y_train, epochs = 20, batch_size = 256, validation_data= (X_test, y_test))"
      ],
      "execution_count": 0,
      "outputs": [
        {
          "output_type": "stream",
          "text": [
            "Train on 6000 samples, validate on 1612 samples\n",
            "Epoch 1/20\n",
            "6000/6000 [==============================] - 18s 3ms/sample - loss: 0.6836 - accuracy: 0.5757 - val_loss: 0.6939 - val_accuracy: 0.5323\n",
            "Epoch 2/20\n",
            "6000/6000 [==============================] - 13s 2ms/sample - loss: 0.6810 - accuracy: 0.5803 - val_loss: 0.6921 - val_accuracy: 0.5323\n",
            "Epoch 3/20\n",
            "6000/6000 [==============================] - 13s 2ms/sample - loss: 0.6156 - accuracy: 0.6898 - val_loss: 0.5515 - val_accuracy: 0.7612\n",
            "Epoch 4/20\n",
            "6000/6000 [==============================] - 12s 2ms/sample - loss: 0.5960 - accuracy: 0.6925 - val_loss: 0.5537 - val_accuracy: 0.7562\n",
            "Epoch 5/20\n",
            "6000/6000 [==============================] - 13s 2ms/sample - loss: 0.5948 - accuracy: 0.6920 - val_loss: 0.5554 - val_accuracy: 0.7705\n",
            "Epoch 6/20\n",
            "6000/6000 [==============================] - 13s 2ms/sample - loss: 0.5950 - accuracy: 0.7173 - val_loss: 0.5426 - val_accuracy: 0.7686\n",
            "Epoch 7/20\n",
            "6000/6000 [==============================] - 12s 2ms/sample - loss: 0.5877 - accuracy: 0.6980 - val_loss: 0.5713 - val_accuracy: 0.7450\n",
            "Epoch 8/20\n",
            "6000/6000 [==============================] - 13s 2ms/sample - loss: 0.5988 - accuracy: 0.6623 - val_loss: 0.6021 - val_accuracy: 0.6811\n",
            "Epoch 9/20\n",
            "6000/6000 [==============================] - 12s 2ms/sample - loss: 0.6249 - accuracy: 0.5928 - val_loss: 0.6076 - val_accuracy: 0.6582\n",
            "Epoch 10/20\n",
            "6000/6000 [==============================] - 13s 2ms/sample - loss: 0.6115 - accuracy: 0.6218 - val_loss: 0.6502 - val_accuracy: 0.5316\n",
            "Epoch 11/20\n",
            "6000/6000 [==============================] - 13s 2ms/sample - loss: 0.6117 - accuracy: 0.6153 - val_loss: 0.6402 - val_accuracy: 0.5323\n",
            "Epoch 12/20\n",
            "6000/6000 [==============================] - 12s 2ms/sample - loss: 0.5936 - accuracy: 0.6797 - val_loss: 0.5775 - val_accuracy: 0.7699\n",
            "Epoch 13/20\n",
            "6000/6000 [==============================] - 13s 2ms/sample - loss: 0.5803 - accuracy: 0.7197 - val_loss: 0.5610 - val_accuracy: 0.7742\n",
            "Epoch 14/20\n",
            "6000/6000 [==============================] - 13s 2ms/sample - loss: 0.5851 - accuracy: 0.7273 - val_loss: 0.5643 - val_accuracy: 0.7500\n",
            "Epoch 15/20\n",
            "6000/6000 [==============================] - 12s 2ms/sample - loss: 0.5863 - accuracy: 0.7282 - val_loss: 0.5502 - val_accuracy: 0.7556\n",
            "Epoch 16/20\n",
            "6000/6000 [==============================] - 12s 2ms/sample - loss: 0.5861 - accuracy: 0.7270 - val_loss: 0.5672 - val_accuracy: 0.7419\n",
            "Epoch 17/20\n",
            "6000/6000 [==============================] - 12s 2ms/sample - loss: 0.5695 - accuracy: 0.7455 - val_loss: 0.5581 - val_accuracy: 0.7574\n",
            "Epoch 18/20\n",
            "6000/6000 [==============================] - 13s 2ms/sample - loss: 0.5752 - accuracy: 0.7395 - val_loss: 0.5586 - val_accuracy: 0.7457\n",
            "Epoch 19/20\n",
            "6000/6000 [==============================] - 13s 2ms/sample - loss: 0.5724 - accuracy: 0.7407 - val_loss: 0.5567 - val_accuracy: 0.7426\n",
            "Epoch 20/20\n",
            "6000/6000 [==============================] - 13s 2ms/sample - loss: 0.5684 - accuracy: 0.7447 - val_loss: 0.5603 - val_accuracy: 0.7568\n"
          ],
          "name": "stdout"
        }
      ]
    },
    {
      "cell_type": "code",
      "metadata": {
        "id": "IB-46LZgRygA",
        "colab_type": "code",
        "outputId": "55e851bf-63d2-4b95-ab94-04473e57d485",
        "colab": {
          "base_uri": "https://localhost:8080/",
          "height": 543
        }
      },
      "source": [
        "plot_graphs(hist_m3, \"accuracy\")\n",
        "plot_graphs(hist_m3, \"loss\")"
      ],
      "execution_count": 0,
      "outputs": [
        {
          "output_type": "display_data",
          "data": {
            "image/png": "[encoded data removed]",
            "text/plain": [
              "<Figure size 432x288 with 1 Axes>"
            ]
          },
          "metadata": {
            "tags": []
          }
        },
        {
          "output_type": "display_data",
          "data": {
            "image/png": "[encoded data removed]",
            "text/plain": [
              "<Figure size 432x288 with 1 Axes>"
            ]
          },
          "metadata": {
            "tags": []
          }
        }
      ]
    },
    {
      "cell_type": "code",
      "metadata": {
        "id": "U0dZZoKdRygC",
        "colab_type": "code",
        "outputId": "3a2e9628-872a-45e7-a442-c593f68cc377",
        "colab": {
          "base_uri": "https://localhost:8080/",
          "height": 51
        }
      },
      "source": [
        "# Find train and test accuracy\n",
        "loss, accuracy = lstm_m3.evaluate(X_train, y_train, verbose=False)\n",
        "print(\"Training Accuracy: {:.4f}\".format(accuracy))\n",
        "loss, accuracy = lstm_m3.evaluate(X_test, y_test, verbose=False)\n",
        "print(\"Testing Accuracy:  {:.4f}\".format(accuracy))"
      ],
      "execution_count": 0,
      "outputs": [
        {
          "output_type": "stream",
          "text": [
            "Training Accuracy: 0.7563\n",
            "Testing Accuracy:  0.7568\n"
          ],
          "name": "stdout"
        }
      ]
    },
    {
      "cell_type": "markdown",
      "metadata": {
        "id": "8_SSUzSlRygE",
        "colab_type": "text"
      },
      "source": [
        "### Model 5: LSTM with SpatialDropout"
      ]
    },
    {
      "cell_type": "code",
      "metadata": {
        "id": "GGnIInCXRygF",
        "colab_type": "code",
        "colab": {}
      },
      "source": [
        "lstm_m5 = tf.keras.models.Sequential([\n",
        "    embedded,\n",
        "    tf.keras.layers.SpatialDropout1D(0.2),\n",
        "    tf.keras.layers.LSTM(64, dropout=0.2, recurrent_dropout=0.2),\n",
        "    tf.keras.layers.Dense(1, activation='sigmoid')\n",
        "])\n",
        "\n",
        "lstm_m5.compile(optimizer = 'rmsprop', loss='binary_crossentropy', metrics = ['accuracy'])"
      ],
      "execution_count": 0,
      "outputs": []
    },
    {
      "cell_type": "code",
      "metadata": {
        "id": "TGs2sqljRygJ",
        "colab_type": "code",
        "outputId": "9f11c8a2-3196-4937-a49b-18b9bcb29c02",
        "colab": {
          "base_uri": "https://localhost:8080/",
          "height": 289
        }
      },
      "source": [
        "lstm_m5.summary()"
      ],
      "execution_count": 0,
      "outputs": [
        {
          "output_type": "stream",
          "text": [
            "Model: \"sequential_10\"\n",
            "_________________________________________________________________\n",
            "Layer (type)                 Output Shape              Param #   \n",
            "=================================================================\n",
            "embedding_1 (Embedding)      (None, 100, 100)          1431600   \n",
            "_________________________________________________________________\n",
            "spatial_dropout1d_4 (Spatial (None, 100, 100)          0         \n",
            "_________________________________________________________________\n",
            "lstm_11 (LSTM)               (None, 64)                42240     \n",
            "_________________________________________________________________\n",
            "dense_10 (Dense)             (None, 1)                 65        \n",
            "=================================================================\n",
            "Total params: 1,473,905\n",
            "Trainable params: 42,305\n",
            "Non-trainable params: 1,431,600\n",
            "_________________________________________________________________\n"
          ],
          "name": "stdout"
        }
      ]
    },
    {
      "cell_type": "code",
      "metadata": {
        "id": "xWzj9gVGRygM",
        "colab_type": "code",
        "outputId": "7589ac41-9c7f-4cfd-804b-4b02353ef22a",
        "colab": {
          "base_uri": "https://localhost:8080/",
          "height": 714
        }
      },
      "source": [
        "with tf.device('/device:GPU:0'):\n",
        "  hist_m5 = lstm_m5.fit(X_train, y_train , batch_size=256, epochs=20,validation_data=(X_test, y_test))"
      ],
      "execution_count": 0,
      "outputs": [
        {
          "output_type": "stream",
          "text": [
            "Train on 6000 samples, validate on 1612 samples\n",
            "Epoch 1/20\n",
            "6000/6000 [==============================] - 10s 2ms/sample - loss: 0.6842 - accuracy: 0.5773 - val_loss: 0.6974 - val_accuracy: 0.5323\n",
            "Epoch 2/20\n",
            "6000/6000 [==============================] - 7s 1ms/sample - loss: 0.6810 - accuracy: 0.5805 - val_loss: 0.6962 - val_accuracy: 0.5323\n",
            "Epoch 3/20\n",
            "6000/6000 [==============================] - 7s 1ms/sample - loss: 0.6184 - accuracy: 0.6607 - val_loss: 0.5473 - val_accuracy: 0.7730\n",
            "Epoch 4/20\n",
            "6000/6000 [==============================] - 7s 1ms/sample - loss: 0.5775 - accuracy: 0.7270 - val_loss: 0.5459 - val_accuracy: 0.7568\n",
            "Epoch 5/20\n",
            "6000/6000 [==============================] - 7s 1ms/sample - loss: 0.5895 - accuracy: 0.6940 - val_loss: 0.5971 - val_accuracy: 0.6731\n",
            "Epoch 6/20\n",
            "6000/6000 [==============================] - 7s 1ms/sample - loss: 0.6015 - accuracy: 0.6673 - val_loss: 0.5664 - val_accuracy: 0.7767\n",
            "Epoch 7/20\n",
            "6000/6000 [==============================] - 6s 1ms/sample - loss: 0.5826 - accuracy: 0.7102 - val_loss: 0.5607 - val_accuracy: 0.7475\n",
            "Epoch 8/20\n",
            "6000/6000 [==============================] - 6s 1ms/sample - loss: 0.5773 - accuracy: 0.7113 - val_loss: 0.5469 - val_accuracy: 0.7649\n",
            "Epoch 9/20\n",
            "6000/6000 [==============================] - 6s 1ms/sample - loss: 0.5741 - accuracy: 0.7147 - val_loss: 0.5621 - val_accuracy: 0.7475\n",
            "Epoch 10/20\n",
            "6000/6000 [==============================] - 6s 1ms/sample - loss: 0.5746 - accuracy: 0.7160 - val_loss: 0.5552 - val_accuracy: 0.7624\n",
            "Epoch 11/20\n",
            "6000/6000 [==============================] - 7s 1ms/sample - loss: 0.5657 - accuracy: 0.7483 - val_loss: 0.5262 - val_accuracy: 0.7761\n",
            "Epoch 12/20\n",
            "6000/6000 [==============================] - 7s 1ms/sample - loss: 0.5611 - accuracy: 0.7477 - val_loss: 0.5407 - val_accuracy: 0.7736\n",
            "Epoch 13/20\n",
            "6000/6000 [==============================] - 7s 1ms/sample - loss: 0.5610 - accuracy: 0.7517 - val_loss: 0.5254 - val_accuracy: 0.7854\n",
            "Epoch 14/20\n",
            "6000/6000 [==============================] - 6s 1ms/sample - loss: 0.5572 - accuracy: 0.7535 - val_loss: 0.5460 - val_accuracy: 0.7748\n",
            "Epoch 15/20\n",
            "6000/6000 [==============================] - 6s 1ms/sample - loss: 0.5717 - accuracy: 0.7433 - val_loss: 0.5593 - val_accuracy: 0.7667\n",
            "Epoch 16/20\n",
            "6000/6000 [==============================] - 6s 1ms/sample - loss: 0.5741 - accuracy: 0.7398 - val_loss: 0.5355 - val_accuracy: 0.7680\n",
            "Epoch 17/20\n",
            "6000/6000 [==============================] - 7s 1ms/sample - loss: 0.5716 - accuracy: 0.7390 - val_loss: 0.5264 - val_accuracy: 0.7717\n",
            "Epoch 18/20\n",
            "6000/6000 [==============================] - 7s 1ms/sample - loss: 0.5668 - accuracy: 0.7457 - val_loss: 0.5238 - val_accuracy: 0.7742\n",
            "Epoch 19/20\n",
            "6000/6000 [==============================] - 7s 1ms/sample - loss: 0.5676 - accuracy: 0.7455 - val_loss: 0.5285 - val_accuracy: 0.7754\n",
            "Epoch 20/20\n",
            "6000/6000 [==============================] - 7s 1ms/sample - loss: 0.5706 - accuracy: 0.7415 - val_loss: 0.5307 - val_accuracy: 0.7699\n"
          ],
          "name": "stdout"
        }
      ]
    },
    {
      "cell_type": "code",
      "metadata": {
        "id": "_cYh0M6SRygO",
        "colab_type": "code",
        "outputId": "07bd872b-0289-45f9-8f91-071e074d54c9",
        "colab": {
          "base_uri": "https://localhost:8080/",
          "height": 51
        }
      },
      "source": [
        "# Find train and test accuracy\n",
        "loss, accuracy = lstm_m5.evaluate(X_train, y_train, verbose=False)\n",
        "print(\"Training Accuracy: {:.4f}\".format(accuracy))\n",
        "loss, accuracy = lstm_m5.evaluate(X_test, y_test, verbose=False)\n",
        "print(\"Testing Accuracy:  {:.4f}\".format(accuracy))"
      ],
      "execution_count": 0,
      "outputs": [
        {
          "output_type": "stream",
          "text": [
            "Training Accuracy: 0.7607\n",
            "Testing Accuracy:  0.7699\n"
          ],
          "name": "stdout"
        }
      ]
    },
    {
      "cell_type": "code",
      "metadata": {
        "id": "QHkkyv00RygR",
        "colab_type": "code",
        "outputId": "17f04576-e4c9-44c9-a0ea-e3359a07cfef",
        "colab": {
          "base_uri": "https://localhost:8080/",
          "height": 541
        }
      },
      "source": [
        "plot_graphs(hist_m5, \"accuracy\")\n",
        "plot_graphs(hist_m5, \"loss\")"
      ],
      "execution_count": 0,
      "outputs": [
        {
          "output_type": "display_data",
          "data": {
            "image/png": "[encoded data removed]",
            "text/plain": [
              "<Figure size 432x288 with 1 Axes>"
            ]
          },
          "metadata": {
            "tags": []
          }
        },
        {
          "output_type": "display_data",
          "data": {
            "image/png": "[encoded data removed]",
            "text/plain": [
              "<Figure size 432x288 with 1 Axes>"
            ]
          },
          "metadata": {
            "tags": []
          }
        }
      ]
    },
    {
      "cell_type": "markdown",
      "metadata": {
        "id": "nCtvrHu8230D",
        "colab_type": "text"
      },
      "source": [
        "### Model 6: Bidirectional RNN"
      ]
    },
    {
      "cell_type": "code",
      "metadata": {
        "id": "KgyTWDFOzrOL",
        "colab_type": "code",
        "outputId": "06e05c5d-4aa8-4c8f-addf-9497590d830d",
        "colab": {
          "base_uri": "https://localhost:8080/",
          "height": 255
        }
      },
      "source": [
        "bi_m6 = tf.keras.models.Sequential([\n",
        "                                    embedded,\n",
        "                                    tf.keras.layers.Bidirectional(tf.keras.layers.LSTM(64, dropout=0.2, recurrent_dropout=0.5)),\n",
        "                                    tf.keras.layers.Dense(1)\n",
        "])\n",
        "\n",
        "bi_m6.compile(optimizer = 'rmsprop', loss='binary_crossentropy', metrics = ['accuracy'])\n",
        "bi_m6.summary()"
      ],
      "execution_count": 0,
      "outputs": [
        {
          "output_type": "stream",
          "text": [
            "Model: \"sequential_11\"\n",
            "_________________________________________________________________\n",
            "Layer (type)                 Output Shape              Param #   \n",
            "=================================================================\n",
            "embedding_1 (Embedding)      (None, 100, 100)          1431600   \n",
            "_________________________________________________________________\n",
            "bidirectional_3 (Bidirection (None, 128)               84480     \n",
            "_________________________________________________________________\n",
            "dense_11 (Dense)             (None, 1)                 129       \n",
            "=================================================================\n",
            "Total params: 1,516,209\n",
            "Trainable params: 84,609\n",
            "Non-trainable params: 1,431,600\n",
            "_________________________________________________________________\n"
          ],
          "name": "stdout"
        }
      ]
    },
    {
      "cell_type": "code",
      "metadata": {
        "id": "EEMJ9URPzoTe",
        "colab_type": "code",
        "outputId": "48d41181-852c-4e9a-c879-87aa7ecddb01",
        "colab": {
          "base_uri": "https://localhost:8080/",
          "height": 714
        }
      },
      "source": [
        "with tf.device('/device:GPU:0'):\n",
        "  hist_m6 = bi_m6.fit(X_train, y_train , batch_size=256, epochs=20,validation_data=(X_test, y_test))"
      ],
      "execution_count": 0,
      "outputs": [
        {
          "output_type": "stream",
          "text": [
            "Train on 6000 samples, validate on 1612 samples\n",
            "Epoch 1/20\n",
            "6000/6000 [==============================] - 19s 3ms/sample - loss: 0.7502 - accuracy: 0.6752 - val_loss: 0.5356 - val_accuracy: 0.7239\n",
            "Epoch 2/20\n",
            "6000/6000 [==============================] - 13s 2ms/sample - loss: 0.5879 - accuracy: 0.7410 - val_loss: 0.5133 - val_accuracy: 0.7593\n",
            "Epoch 3/20\n",
            "6000/6000 [==============================] - 13s 2ms/sample - loss: 0.5424 - accuracy: 0.7582 - val_loss: 0.4945 - val_accuracy: 0.7823\n",
            "Epoch 4/20\n",
            "6000/6000 [==============================] - 13s 2ms/sample - loss: 0.5459 - accuracy: 0.7647 - val_loss: 0.4828 - val_accuracy: 0.7804\n",
            "Epoch 5/20\n",
            "6000/6000 [==============================] - 13s 2ms/sample - loss: 0.5276 - accuracy: 0.7725 - val_loss: 0.4742 - val_accuracy: 0.7872\n",
            "Epoch 6/20\n",
            "6000/6000 [==============================] - 13s 2ms/sample - loss: 0.5145 - accuracy: 0.7792 - val_loss: 0.4937 - val_accuracy: 0.7785\n",
            "Epoch 7/20\n",
            "6000/6000 [==============================] - 13s 2ms/sample - loss: 0.5045 - accuracy: 0.7812 - val_loss: 0.5700 - val_accuracy: 0.7475\n",
            "Epoch 8/20\n",
            "6000/6000 [==============================] - 13s 2ms/sample - loss: 0.5129 - accuracy: 0.7818 - val_loss: 0.5458 - val_accuracy: 0.7785\n",
            "Epoch 9/20\n",
            "6000/6000 [==============================] - 13s 2ms/sample - loss: 0.5248 - accuracy: 0.7885 - val_loss: 0.4664 - val_accuracy: 0.7885\n",
            "Epoch 10/20\n",
            "6000/6000 [==============================] - 13s 2ms/sample - loss: 0.5023 - accuracy: 0.7907 - val_loss: 0.4644 - val_accuracy: 0.7953\n",
            "Epoch 11/20\n",
            "6000/6000 [==============================] - 13s 2ms/sample - loss: 0.4963 - accuracy: 0.7925 - val_loss: 0.4558 - val_accuracy: 0.8033\n",
            "Epoch 12/20\n",
            "6000/6000 [==============================] - 13s 2ms/sample - loss: 0.4888 - accuracy: 0.7963 - val_loss: 0.4817 - val_accuracy: 0.7872\n",
            "Epoch 13/20\n",
            "6000/6000 [==============================] - 13s 2ms/sample - loss: 0.4650 - accuracy: 0.7952 - val_loss: 0.5216 - val_accuracy: 0.7636\n",
            "Epoch 14/20\n",
            "6000/6000 [==============================] - 13s 2ms/sample - loss: 0.4716 - accuracy: 0.7923 - val_loss: 0.4667 - val_accuracy: 0.7953\n",
            "Epoch 15/20\n",
            "6000/6000 [==============================] - 13s 2ms/sample - loss: 0.4588 - accuracy: 0.8007 - val_loss: 0.4564 - val_accuracy: 0.7996\n",
            "Epoch 16/20\n",
            "6000/6000 [==============================] - 13s 2ms/sample - loss: 0.4674 - accuracy: 0.8015 - val_loss: 0.4522 - val_accuracy: 0.8021\n",
            "Epoch 17/20\n",
            "6000/6000 [==============================] - 13s 2ms/sample - loss: 0.4872 - accuracy: 0.8032 - val_loss: 0.4561 - val_accuracy: 0.8015\n",
            "Epoch 18/20\n",
            "6000/6000 [==============================] - 13s 2ms/sample - loss: 0.4848 - accuracy: 0.8018 - val_loss: 0.4664 - val_accuracy: 0.7996\n",
            "Epoch 19/20\n",
            "6000/6000 [==============================] - 13s 2ms/sample - loss: 0.4605 - accuracy: 0.8020 - val_loss: 0.4822 - val_accuracy: 0.7984\n",
            "Epoch 20/20\n",
            "6000/6000 [==============================] - 13s 2ms/sample - loss: 0.4710 - accuracy: 0.8038 - val_loss: 0.4618 - val_accuracy: 0.7971\n"
          ],
          "name": "stdout"
        }
      ]
    },
    {
      "cell_type": "code",
      "metadata": {
        "id": "nCPx0ZdI2tdJ",
        "colab_type": "code",
        "outputId": "451c5455-e35c-45f4-d52f-1308bda708ef",
        "colab": {
          "base_uri": "https://localhost:8080/",
          "height": 541
        }
      },
      "source": [
        "plot_graphs(hist_m5, \"accuracy\")\n",
        "plot_graphs(hist_m5, \"loss\")"
      ],
      "execution_count": 0,
      "outputs": [
        {
          "output_type": "display_data",
          "data": {
            "image/png": "[encoded data removed]",
            "text/plain": [
              "<Figure size 432x288 with 1 Axes>"
            ]
          },
          "metadata": {
            "tags": []
          }
        },
        {
          "output_type": "display_data",
          "data": {
            "image/png": "[encoded data removed]",
            "text/plain": [
              "<Figure size 432x288 with 1 Axes>"
            ]
          },
          "metadata": {
            "tags": []
          }
        }
      ]
    },
    {
      "cell_type": "code",
      "metadata": {
        "id": "tIxsuf_e2xI8",
        "colab_type": "code",
        "outputId": "814d9e85-a74e-4099-e3bc-fe55ab71e5d0",
        "colab": {
          "base_uri": "https://localhost:8080/",
          "height": 51
        }
      },
      "source": [
        "# Find train and test accuracy\n",
        "loss, accuracy = bi_m6.evaluate(X_train, y_train, verbose=False)\n",
        "print(\"Training Accuracy: {:.4f}\".format(accuracy))\n",
        "loss, accuracy = bi_m6.evaluate(X_test, y_test, verbose=False)\n",
        "print(\"Testing Accuracy:  {:.4f}\".format(accuracy))"
      ],
      "execution_count": 0,
      "outputs": [
        {
          "output_type": "stream",
          "text": [
            "Training Accuracy: 0.8228\n",
            "Testing Accuracy:  0.7971\n"
          ],
          "name": "stdout"
        }
      ]
    },
    {
      "cell_type": "markdown",
      "metadata": {
        "id": "drVnd0aPRygT",
        "colab_type": "text"
      },
      "source": [
        "## Accuracy Comparison"
      ]
    },
    {
      "cell_type": "code",
      "metadata": {
        "id": "2hb77ESNRygT",
        "colab_type": "code",
        "outputId": "5c2d92ee-719d-429b-e4b9-78a1c10ec062",
        "colab": {
          "base_uri": "https://localhost:8080/",
          "height": 266
        }
      },
      "source": [
        "accuracylog = logreg_scores['test_score'].mean()\n",
        "print(\"Testing Accuracy:  {:.4f}\".format(accuracylog))\n",
        "\n",
        "Vanilla_acc = (count/len(validation))\n",
        "\n",
        "loss, accuracym1 = lstm_m1.evaluate(X_test, y_test, verbose=False)\n",
        "print(\"Testing Accuracy:  {:.4f}\".format(accuracym0))\n",
        "\n",
        "loss, accuracym2 = lstm_m2.evaluate(X_test, y_test, verbose=False)\n",
        "print(\"Testing Accuracy:  {:.4f}\".format(accuracym1))\n",
        "\n",
        "loss, accuracym3 = lstm_m3.evaluate(X_test, y_test, verbose=False)\n",
        "print(\"Testing Accuracy:  {:.4f}\".format(accuracym2))\n",
        "\n",
        "loss, accuracym4 = lstm_m4.evaluate(X_test, y_test, verbose=False)\n",
        "print(\"Testing Accuracy:  {:.4f}\".format(accuracym3))\n",
        "\n",
        "loss, accuracym5 = lstm_m5.evaluate(X_test, y_test, verbose=False)\n",
        "print(\"Testing Accuracy:  {:.4f}\".format(accuracym4))\n",
        "\n",
        "loss, accuracym6 = bi_m6.evaluate(X_test, y_test, verbose=False)\n",
        "print(\"Testing Accuracy:  {:.4f}\".format(accuracym4))"
      ],
      "execution_count": 0,
      "outputs": [
        {
          "output_type": "stream",
          "text": [
            "Testing Accuracy:  0.5931\n",
            "ERROR! Session/line number was not unique in database. History logging moved to new session 62\n"
          ],
          "name": "stdout"
        },
        {
          "output_type": "error",
          "ename": "NameError",
          "evalue": "ignored",
          "traceback": [
            "\u001b[0;31m---------------------------------------------------------------------------\u001b[0m",
            "\u001b[0;31mNameError\u001b[0m                                 Traceback (most recent call last)",
            "\u001b[0;32m<ipython-input-77-764857c78c60>\u001b[0m in \u001b[0;36m<module>\u001b[0;34m()\u001b[0m\n\u001b[1;32m      2\u001b[0m \u001b[0mprint\u001b[0m\u001b[0;34m(\u001b[0m\u001b[0;34m\"Testing Accuracy:  {:.4f}\"\u001b[0m\u001b[0;34m.\u001b[0m\u001b[0mformat\u001b[0m\u001b[0;34m(\u001b[0m\u001b[0maccuracylog\u001b[0m\u001b[0;34m)\u001b[0m\u001b[0;34m)\u001b[0m\u001b[0;34m\u001b[0m\u001b[0;34m\u001b[0m\u001b[0m\n\u001b[1;32m      3\u001b[0m \u001b[0;34m\u001b[0m\u001b[0m\n\u001b[0;32m----> 4\u001b[0;31m \u001b[0mVanilla_acc\u001b[0m \u001b[0;34m=\u001b[0m \u001b[0;34m(\u001b[0m\u001b[0mcount\u001b[0m\u001b[0;34m/\u001b[0m\u001b[0mlen\u001b[0m\u001b[0;34m(\u001b[0m\u001b[0mvalidation\u001b[0m\u001b[0;34m)\u001b[0m\u001b[0;34m)\u001b[0m\u001b[0;34m\u001b[0m\u001b[0;34m\u001b[0m\u001b[0m\n\u001b[0m\u001b[1;32m      5\u001b[0m \u001b[0;34m\u001b[0m\u001b[0m\n\u001b[1;32m      6\u001b[0m \u001b[0mloss\u001b[0m\u001b[0;34m,\u001b[0m \u001b[0maccuracym1\u001b[0m \u001b[0;34m=\u001b[0m \u001b[0mlstm_m1\u001b[0m\u001b[0;34m.\u001b[0m\u001b[0mevaluate\u001b[0m\u001b[0;34m(\u001b[0m\u001b[0mX_test\u001b[0m\u001b[0;34m,\u001b[0m \u001b[0my_test\u001b[0m\u001b[0;34m,\u001b[0m \u001b[0mverbose\u001b[0m\u001b[0;34m=\u001b[0m\u001b[0;32mFalse\u001b[0m\u001b[0;34m)\u001b[0m\u001b[0;34m\u001b[0m\u001b[0;34m\u001b[0m\u001b[0m\n",
            "\u001b[0;31mNameError\u001b[0m: name 'count' is not defined"
          ]
        }
      ]
    },
    {
      "cell_type": "code",
      "metadata": {
        "id": "Tkr19QNaRygW",
        "colab_type": "code",
        "colab": {}
      },
      "source": [
        "acc = [accuracylog,accuracym0,accuracym1,accuracym2,accuracym3,accuracym4]\n",
        "Methods = ['Logistic', 'Vanila', 'LSTM1','LSTM2','LSTM3','LSTM4','LSTM5','BIDIRECT']\n",
        "Accuracy_pos = np.arange(len(Methods))"
      ],
      "execution_count": 0,
      "outputs": []
    },
    {
      "cell_type": "code",
      "metadata": {
        "id": "NZg5dvg6RygY",
        "colab_type": "code",
        "outputId": "b05aa9b7-ac74-4e12-e748-696299c6765b",
        "colab": {}
      },
      "source": [
        "plt.bar(Accuracy_pos, acc)\n",
        "plt.xticks(Accuracy_pos, Methods)\n",
        "plt.title('comparing the accuracy of each model')\n",
        "plt.show()"
      ],
      "execution_count": 0,
      "outputs": [
        {
          "output_type": "display_data",
          "data": {
            "image/png": "[encoded data removed]",
            "text/plain": [
              "<Figure size 432x288 with 1 Axes>"
            ]
          },
          "metadata": {
            "tags": [],
            "needs_background": "light"
          }
        }
      ]
    },
    {
      "cell_type": "markdown",
      "metadata": {
        "id": "n-dkTx36Ryga",
        "colab_type": "text"
      },
      "source": [
        "LSTM2 (reduce dimensionality) seems to work better than the rest, therefore we will keep working on LSTM model."
      ]
    }
  ]
}